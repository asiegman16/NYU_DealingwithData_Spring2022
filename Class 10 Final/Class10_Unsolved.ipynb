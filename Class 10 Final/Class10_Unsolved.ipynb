{
  "cells": [
    {
      "cell_type": "markdown",
      "metadata": {
        "id": "26-geGMoP0uk"
      },
      "source": [
        "# Dealing with Data Spring 2022 – Class 10"
      ]
    },
    {
      "cell_type": "markdown",
      "metadata": {
        "id": "_fNPnNnfP0uu"
      },
      "source": [
        "---"
      ]
    },
    {
      "cell_type": "code",
      "source": [
        "import sqlite3 # this is how we will import the sqlite3 functionality needed to proceed"
      ],
      "metadata": {
        "id": "WJlBVjqsQCrn"
      },
      "execution_count": null,
      "outputs": []
    },
    {
      "cell_type": "code",
      "source": [
        "con = sqlite3.connect('class10_data.db') # this is how we are going to create our database, \n",
        "                                         # calling it 'class9_data.db'\n",
        "\n",
        "                                         # note that if the db doesn't exist, this will create it; Otherwise, it will connect\n",
        "\n",
        "# \"con\" stands for \"connection\" – this is telling SQLite what database to use\n"
      ],
      "metadata": {
        "id": "uh6iwm4hQDUL"
      },
      "execution_count": null,
      "outputs": []
    },
    {
      "cell_type": "code",
      "source": [
        "import pandas as pd\n",
        "\n",
        "irs_agi_map = pd.read_csv(\"./irs_agi_map.csv\")\n",
        "irs_nyc_tax_returns = pd.read_csv(\"./irs_nyc_tax_returns.csv\")\n",
        "nyc_census_data = pd.read_csv(\"./nyc_census_data.csv\")\n",
        "nyc_film_permits = pd.read_csv(\"./nyc_film_permits.csv\")"
      ],
      "metadata": {
        "id": "cnckH2MMjPmg"
      },
      "execution_count": null,
      "outputs": []
    },
    {
      "cell_type": "code",
      "source": [
        ""
      ],
      "metadata": {
        "id": "DRWL5-IpNu07"
      },
      "execution_count": null,
      "outputs": []
    },
    {
      "cell_type": "markdown",
      "metadata": {
        "id": "r7FjJ01vsxAU"
      },
      "source": [
        "---"
      ]
    },
    {
      "cell_type": "markdown",
      "source": [
        "# ⭕ **QUESTIONS?**"
      ],
      "metadata": {
        "id": "KVi6I4Z5sxAU"
      }
    },
    {
      "cell_type": "markdown",
      "metadata": {
        "id": "A4JfrYo9sxAU"
      },
      "source": [
        "---"
      ]
    },
    {
      "cell_type": "markdown",
      "metadata": {
        "id": "W-STFxVcP0us"
      },
      "source": [
        "# GROUP BY"
      ]
    },
    {
      "cell_type": "markdown",
      "metadata": {
        "id": "I1XU8xhmP0ut"
      },
      "source": [
        "```sql\n",
        "SELECT A1, Aggregation Function [count(*), sum(*), avg(*), min, etc.]\n",
        "FROM T1, T2, ... Tm\n",
        "WHERE condition\n",
        "GROUP BY A1\n",
        "```"
      ]
    },
    {
      "cell_type": "markdown",
      "metadata": {
        "id": "Riiyu9UDP0ut"
      },
      "source": [
        "`count(*)` counts the number of rows in the group <br> \n",
        "`count(attr)` counts the number of rows in the group with non-null values for the attribute <br> \n",
        "`count(DISTINCT attr)` counts the number of distinct, non-null values for the attributes in the group <br> \n",
        "`max(attr)` row with maximum attribute value in the group <br>\n",
        "`min(attr)` row with minimum value in the group <br>\n",
        "`sum(attr)` sum values of selected rows in the group <br>\n",
        "`avg(attr)` estimates the average attribute in the group"
      ]
    },
    {
      "cell_type": "markdown",
      "metadata": {
        "id": "jKwNfyjDP0uu"
      },
      "source": [
        "# Exercise 1: \n",
        "\n",
        "> Find the most popular Category for NYC filming permits."
      ]
    },
    {
      "cell_type": "code",
      "execution_count": null,
      "metadata": {
        "id": "0o6t6gLTP0uv"
      },
      "outputs": [],
      "source": [
        "# your code here"
      ]
    },
    {
      "cell_type": "markdown",
      "metadata": {
        "id": "2VPi88gqP0uw"
      },
      "source": [
        "# Solution"
      ]
    },
    {
      "cell_type": "code",
      "source": [
        ""
      ],
      "metadata": {
        "id": "Lujz6wVSQRg1"
      },
      "execution_count": null,
      "outputs": []
    },
    {
      "cell_type": "markdown",
      "metadata": {
        "id": "vi08ssLFP0ux"
      },
      "source": [
        "# Exercise 2: \n",
        "\n",
        ">  Find the most popular Borough by Category for NYC filming permits."
      ]
    },
    {
      "cell_type": "code",
      "execution_count": null,
      "metadata": {
        "id": "ytN6X287P0ux"
      },
      "outputs": [],
      "source": [
        "# your code here"
      ]
    },
    {
      "cell_type": "markdown",
      "metadata": {
        "id": "hkdeDnN1P0ux"
      },
      "source": [
        "# Solution"
      ]
    },
    {
      "cell_type": "code",
      "source": [
        ""
      ],
      "metadata": {
        "id": "X_7AXUXOQr1A"
      },
      "execution_count": null,
      "outputs": []
    },
    {
      "cell_type": "markdown",
      "metadata": {
        "id": "ulVlO2jaP0uy"
      },
      "source": [
        "# Exercise 3: \n",
        "\n",
        "> Find the year and zipcode with the most tax returns in NYC"
      ]
    },
    {
      "cell_type": "code",
      "source": [
        "# your code here"
      ],
      "metadata": {
        "id": "5rKoeLaRQ9WW"
      },
      "execution_count": null,
      "outputs": []
    },
    {
      "cell_type": "markdown",
      "metadata": {
        "id": "1CZqZXI-P0uz"
      },
      "source": [
        "# Solution"
      ]
    },
    {
      "cell_type": "code",
      "source": [
        ""
      ],
      "metadata": {
        "id": "SNC-CvGGQ-mC"
      },
      "execution_count": null,
      "outputs": []
    },
    {
      "cell_type": "markdown",
      "metadata": {
        "id": "0Ca3Kdl5Q9ld"
      },
      "source": [
        "---"
      ]
    },
    {
      "cell_type": "markdown",
      "source": [
        "# ⭕ **QUESTIONS?**"
      ],
      "metadata": {
        "id": "Qyp708q3Q9ll"
      }
    },
    {
      "cell_type": "markdown",
      "metadata": {
        "id": "9t-5fEh7Q9lm"
      },
      "source": [
        "---"
      ]
    },
    {
      "cell_type": "markdown",
      "metadata": {
        "id": "zsj-8xo3P0uz"
      },
      "source": [
        "# HAVING"
      ]
    },
    {
      "cell_type": "markdown",
      "metadata": {
        "id": "ct8RNiSKP0uz"
      },
      "source": [
        "```sql \n",
        "SELECT A1, Aggregation Function\n",
        "FROM T1, T2, ... Tm\n",
        "WHERE condition\n",
        "GROUP BY A1\n",
        "HAVING Aggregation Function Condition\n",
        "```\n",
        "<br>\n",
        "\n",
        "`WHERE` applies to rows _before_ computing the aggregate <br>\n",
        "`HAVING` applies to the aggregate value only\n",
        "\n",
        "`AKA, the WHERE clause applies the condition to individual rows before they are summarized into groups by the GROUP BY clause. HAVING, meanwhile, applies the condition to the group after the rows are grouped into groups.`"
      ]
    },
    {
      "cell_type": "markdown",
      "metadata": {
        "id": "QuAcQCxrRKV_"
      },
      "source": [
        "---"
      ]
    },
    {
      "cell_type": "markdown",
      "source": [
        "# ⭕ **QUESTIONS?**"
      ],
      "metadata": {
        "id": "rxvtAGdhRKWI"
      }
    },
    {
      "cell_type": "markdown",
      "metadata": {
        "id": "vbv5qh1jRKWI"
      },
      "source": [
        "---"
      ]
    },
    {
      "cell_type": "markdown",
      "metadata": {
        "id": "YmexAzptP0u0"
      },
      "source": [
        "# Exercise 6: \n",
        "\n",
        "> Find the subcategories with more than 5,000 NYC filming permits in the database."
      ]
    },
    {
      "cell_type": "code",
      "execution_count": null,
      "metadata": {
        "id": "popMtlMiP0u0"
      },
      "outputs": [],
      "source": [
        "# your code here"
      ]
    },
    {
      "cell_type": "markdown",
      "metadata": {
        "id": "Kmyfl00_P0u0"
      },
      "source": [
        "# Solution"
      ]
    },
    {
      "cell_type": "code",
      "source": [
        ""
      ],
      "metadata": {
        "id": "crn9LVHZROyB"
      },
      "execution_count": null,
      "outputs": []
    },
    {
      "cell_type": "markdown",
      "metadata": {
        "id": "oxa8mCd3P0u1"
      },
      "source": [
        "# Exercise 7: \n",
        "\n",
        "> Find the year where \"Commercials\" had fewer than 700 filming permits.\n",
        "\n"
      ]
    },
    {
      "cell_type": "code",
      "execution_count": null,
      "metadata": {
        "id": "kdzQxfpMP0u1"
      },
      "outputs": [],
      "source": [
        "# your code here"
      ]
    },
    {
      "cell_type": "markdown",
      "metadata": {
        "id": "YfWJIfZ8P0u1"
      },
      "source": [
        "# Solution"
      ]
    },
    {
      "cell_type": "code",
      "source": [
        ""
      ],
      "metadata": {
        "id": "A0R-P4FYSLby"
      },
      "execution_count": null,
      "outputs": []
    },
    {
      "cell_type": "markdown",
      "metadata": {
        "id": "Wl-jXv5XP0u1"
      },
      "source": [
        "---"
      ]
    },
    {
      "cell_type": "markdown",
      "metadata": {
        "id": "oHapLcHLP0u1"
      },
      "source": [
        "# Conditional Construction: CASE"
      ]
    },
    {
      "cell_type": "markdown",
      "metadata": {
        "id": "09X5ZIkpP0u2"
      },
      "source": [
        "# Exercise 8:\n",
        "\n",
        "> Map each zipcode and year's return counts to a \"return count\" bucket"
      ]
    },
    {
      "cell_type": "code",
      "execution_count": null,
      "metadata": {
        "id": "jpNR3EbLP0u2"
      },
      "outputs": [],
      "source": [
        "# your code here"
      ]
    },
    {
      "cell_type": "markdown",
      "metadata": {
        "id": "457zq6FPP0u2"
      },
      "source": [
        "# Solution"
      ]
    },
    {
      "cell_type": "code",
      "source": [
        ""
      ],
      "metadata": {
        "id": "SVQXOP54RUMV"
      },
      "execution_count": null,
      "outputs": []
    },
    {
      "cell_type": "markdown",
      "metadata": {
        "id": "M-GV05qBP0u3"
      },
      "source": [
        "# Exercise 9: \n",
        "\n",
        "> Make the results more human friendly by giving a short name for the agi_map_id field results."
      ]
    },
    {
      "cell_type": "code",
      "execution_count": null,
      "metadata": {
        "id": "cKdS52gXP0u3"
      },
      "outputs": [],
      "source": [
        "# your code here"
      ]
    },
    {
      "cell_type": "markdown",
      "metadata": {
        "id": "F-LutIbAP0u3"
      },
      "source": [
        "# Solution"
      ]
    },
    {
      "cell_type": "code",
      "source": [
        ""
      ],
      "metadata": {
        "id": "yGaGC9HTSwWH"
      },
      "execution_count": null,
      "outputs": []
    },
    {
      "cell_type": "markdown",
      "metadata": {
        "id": "1-JY28FvTbYa"
      },
      "source": [
        "---"
      ]
    },
    {
      "cell_type": "markdown",
      "source": [
        "# ⭕ **QUESTIONS?**"
      ],
      "metadata": {
        "id": "cXYtr1XtTbYb"
      }
    },
    {
      "cell_type": "markdown",
      "metadata": {
        "id": "2JoTEyqNTfMW"
      },
      "source": [
        "---"
      ]
    }
  ],
  "metadata": {
    "kernelspec": {
      "display_name": "Python 3",
      "language": "python",
      "name": "python3"
    },
    "language_info": {
      "codemirror_mode": {
        "name": "ipython",
        "version": 3
      },
      "file_extension": ".py",
      "mimetype": "text/x-python",
      "name": "python",
      "nbconvert_exporter": "python",
      "pygments_lexer": "ipython3",
      "version": "3.7.3"
    },
    "colab": {
      "name": "Class10_Unsolved.ipynb",
      "provenance": []
    }
  },
  "nbformat": 4,
  "nbformat_minor": 0
}