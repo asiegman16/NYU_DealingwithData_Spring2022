{
  "cells": [
    {
      "cell_type": "markdown",
      "source": [
        "# Deaing with Data Spring 2022 – Class 6"
      ],
      "metadata": {
        "id": "c80T3JxBYpcd"
      }
    },
    {
      "cell_type": "markdown",
      "source": [
        "------"
      ],
      "metadata": {
        "id": "8JcLWKljYvra"
      }
    },
    {
      "cell_type": "markdown",
      "metadata": {
        "id": "xSD_qJvkYhvv"
      },
      "source": [
        "Regular Expressions\n",
        "-------------------\n",
        "\n",
        "Regular expressions (aka 'regexes') constitute an extremely powerful, flexible and concise language for matching elements in text ranging from a few characters to complex patterns. While mastering the syntax of the regular expression language does require climbing a learning curve, this learning curve is not particularly steep, and a newcomer can find themself performing useful tasks with regular expressions almost immediately. Efforts spent learning regular expressions quickly pay off--tasks that are well suited for regular expressions abound. Indeed, regular expressions are one of the most useful computer skills, and an absolutely critical tool for data scientists. "
      ]
    },
    {
      "cell_type": "markdown",
      "metadata": {
        "id": "5-02HF6RYhv0"
      },
      "source": [
        "This document will present basic regular expression syntax and cover common use cases for regular expressions: pattern matching, filtering, data extraction, and string replacement. We will present examples using grep - a Unix command to find lines of a text file with a given string in them. We create a Python version of grep to work with.\n",
        "\n",
        "_Please note that while you should be familiar with the concept of UDFs (user defined functions) at this point you are not expected to understand everything happening within this function (yet)._"
      ]
    },
    {
      "cell_type": "code",
      "execution_count": null,
      "metadata": {
        "id": "3OFWXwf8Yhv1"
      },
      "outputs": [],
      "source": [
        "import re # https://docs.python.org/3/library/re.html\n",
        "\n",
        "def printMatches(text, regex_expression):\n",
        "    BACKGROUND_YELLOW = '\\x1b[43m'\n",
        "    COLOR_RESET  = \"\\x1b[0m\"\n",
        "    regex= re.compile(regex_expression)\n",
        "    matches = regex.finditer(text)\n",
        "    for m in matches:\n",
        "        highlighted  = text[:m.start()] # the string before the regex match\n",
        "        highlighted += BACKGROUND_YELLOW + text[m.start():m.end()] + COLOR_RESET \n",
        "        highlighted += text[m.end():] # the string after the regex match\n",
        "        print(highlighted)\n",
        "        print('\\n')\n",
        "\n",
        "def grep(regex_expression, file_name):\n",
        "    f = open(file_name, \"r\")\n",
        "    content = f.read()\n",
        "    f.close()\n",
        "    for line in content.split(\"\\n\"):\n",
        "        printMatches(line, regex_expression)"
      ]
    },
    {
      "cell_type": "markdown",
      "metadata": {
        "id": "J1b23JbYYhv2"
      },
      "source": [
        "\n",
        "\n",
        "For today's class, we'll be taking a look at a [transcript from Tesla's Q4 2019 Earnings Call, published by Motley Fool and copied to a .txt file](https://www.fool.com/earnings/call-transcripts/2020/01/30/tesla-inc-tsla-q4-2019-earnings-call-transcript.aspx)\n",
        "\n",
        "One of the first things you may want to do is search for a literal – simply match the exact text in the document in question. \n",
        "\n",
        "_Note that we have uploaded our \"TSLA2019_EarningsTranscript.txt\" file directly into our Colab instance so that we can search it._ "
      ]
    },
    {
      "cell_type": "markdown",
      "metadata": {
        "id": "xcH7h9wiYhv3"
      },
      "source": [
        "---"
      ]
    },
    {
      "cell_type": "markdown",
      "source": [
        "You can see in the syntax below that we pass through two inputs to our grep function: the regular expression (in this case, a literal string match) and the file we want to search."
      ],
      "metadata": {
        "id": "jYZn5AD-Zm9l"
      }
    },
    {
      "cell_type": "code",
      "execution_count": null,
      "metadata": {
        "id": "xKFHLW2wYhv3"
      },
      "outputs": [],
      "source": [
        "grep('guidance', './TSLA2019_EarningsTranscript.txt') "
      ]
    },
    {
      "cell_type": "code",
      "execution_count": null,
      "metadata": {
        "id": "Qsq8flTjYhv4"
      },
      "outputs": [],
      "source": [
        "grep('Model 3', './TSLA2019_EarningsTranscript.txt')"
      ]
    },
    {
      "cell_type": "code",
      "execution_count": null,
      "metadata": {
        "scrolled": true,
        "id": "ivqaTeK_Yhv4"
      },
      "outputs": [],
      "source": [
        "grep('Cybertruck', './TSLA2019_EarningsTranscript.txt')"
      ]
    },
    {
      "cell_type": "markdown",
      "source": [
        "Please note that it is not regular expressions themselves that are highlighting the match in yellow – that is what our grep function is doing. The regular expression is, however, identifying the match (more on that later)."
      ],
      "metadata": {
        "id": "AmYvaWKUZuXY"
      }
    },
    {
      "cell_type": "markdown",
      "metadata": {
        "id": "2-PjnPOTZ2YG"
      },
      "source": [
        "---"
      ]
    },
    {
      "cell_type": "markdown",
      "source": [
        "# ⭕ **QUESTIONS?**"
      ],
      "metadata": {
        "id": "IwqUwZvmZ2YG"
      }
    },
    {
      "cell_type": "markdown",
      "metadata": {
        "id": "mTH3bX4EZ2YG"
      },
      "source": [
        "---"
      ]
    },
    {
      "cell_type": "markdown",
      "metadata": {
        "id": "JwdTuNG3Yhv5"
      },
      "source": [
        "## The dot (.) atom \n",
        "\n",
        "`Matches any single character other than \\n (newline)`"
      ]
    },
    {
      "cell_type": "code",
      "execution_count": null,
      "metadata": {
        "scrolled": true,
        "id": "8IVET2CAYhv6"
      },
      "outputs": [],
      "source": [
        "grep('orders .', './TSLA2019_EarningsTranscript.txt') \n",
        "\n",
        "# matching the word 'orders' followed by a space, followed by any charcter"
      ]
    },
    {
      "cell_type": "markdown",
      "metadata": {
        "id": "UAmpwH90Yhv6"
      },
      "source": [
        "## The bracket [ ] expression \n",
        "\n",
        "`Defines a set of characters of which only one needs to be matched`"
      ]
    },
    {
      "cell_type": "code",
      "execution_count": null,
      "metadata": {
        "id": "c-VtseG9Yhv7"
      },
      "outputs": [],
      "source": [
        "grep('[Gg]rowth', './TSLA2019_EarningsTranscript.txt')\n",
        "\n",
        "# matching either Growth or growth"
      ]
    },
    {
      "cell_type": "code",
      "execution_count": null,
      "metadata": {
        "id": "DlRd2jenYhv7"
      },
      "outputs": [],
      "source": [
        "grep('Model [Y3]', './TSLA2019_EarningsTranscript.txt')\n",
        "\n",
        "# matching Model, followed by a space, followed by either 'Y' or '3'"
      ]
    },
    {
      "cell_type": "markdown",
      "metadata": {
        "id": "L1kgyf_6Yhv7"
      },
      "source": [
        "You can also incorporate ranges into your brackets. For instance, we want some double-digit number followed by the word \"percent\"."
      ]
    },
    {
      "cell_type": "code",
      "execution_count": null,
      "metadata": {
        "id": "--wQo2HiYhv8"
      },
      "outputs": [],
      "source": [
        "grep('[0-9][0-9]%', './TSLA2019_EarningsTranscript.txt')\n",
        "\n",
        "# matching any two-digit number followed by a % sign"
      ]
    },
    {
      "cell_type": "code",
      "execution_count": null,
      "metadata": {
        "scrolled": true,
        "id": "u3GrDFnUYhv8"
      },
      "outputs": [],
      "source": [
        "grep('[0-9][0-9][0-9]%', './TSLA2019_EarningsTranscript.txt')\n",
        "\n",
        "# matching any three-digit number followed by a % sign"
      ]
    },
    {
      "cell_type": "markdown",
      "metadata": {
        "id": "PFILdLUWYhv8"
      },
      "source": [
        "^ It looks like there are no three-digit percentages mentioned in the file."
      ]
    },
    {
      "cell_type": "markdown",
      "metadata": {
        "id": "Uy06siIeGRZM"
      },
      "source": [
        "---"
      ]
    },
    {
      "cell_type": "markdown",
      "source": [
        "# ⭕ **QUESTIONS?**"
      ],
      "metadata": {
        "id": "4GZojYnLW3O4"
      }
    },
    {
      "cell_type": "markdown",
      "metadata": {
        "id": "Bv9DsLKxUy5i"
      },
      "source": [
        "---"
      ]
    },
    {
      "cell_type": "markdown",
      "metadata": {
        "id": "YtQKVtkAYhv9"
      },
      "source": [
        "## Metacharacters \n",
        "\n",
        "Include \"  \\ ^ $ . | ? * + ( ) [ ] and \\\n",
        "\n",
        "These metacharacters help us match various, non-literal components of a sentence. In order to 'escape' them (aka, to search for that symbol itself) you need to proceed it with a backslash (\\)"
      ]
    },
    {
      "cell_type": "markdown",
      "metadata": {
        "id": "jPCszq7QYhv9"
      },
      "source": [
        "`.` Matches any single character. With bracket expressions, the dot character matches a literal dot. For example, a.c matches \"abc\", but [a.c] matches only \"a\", \".\", or \"c\".\n",
        "\n",
        "`[]` Matches a single character that is contained within the brackets. For example, [abc] matches \"a\", \"b\", or \"c\". [a-z] specifies a range which matches any lowercase letter from \"a\" to \"z\".\n",
        "\n",
        "`[^ ]` Matches a single character that is not contained within the brackets. For example, [^abc] matches any character other than \"a\", \"b\", or \"c\".\n",
        "\n",
        "`^` Matches the starting position within the string.\n",
        "\n",
        "`$` Matches the ending position of the string or the position just before a string-ending newline.\n",
        "\n",
        "`()` Defines a marked subexpression.\n",
        "\n",
        "`*` Matches the preceding element zero or more times.\n",
        "\n",
        "`{m,n}` Matches the preceding element at least m and not more than n times.\n",
        "\n",
        "`?` Matches the preceding element zero or one time.\n",
        "\n",
        "`+` Matches the preceding element one or more times.\n",
        "\n",
        "`|` The alternation operator matches either the expression before or the expression after the operator"
      ]
    },
    {
      "cell_type": "markdown",
      "metadata": {
        "id": "l2iRiUX2Yhv-"
      },
      "source": [
        "---"
      ]
    },
    {
      "cell_type": "markdown",
      "metadata": {
        "id": "hxcTEXoCYhv-"
      },
      "source": [
        "`[^ ]` Matches a single character that is not contained within the brackets. For example, [^abc] matches any character other than \"a\", \"b\", or \"c\".\n"
      ]
    },
    {
      "cell_type": "code",
      "execution_count": null,
      "metadata": {
        "id": "eOyzHKBOYhv-"
      },
      "outputs": [],
      "source": [
        "grep('[0-9][0-9][0-9][0-9][^%]', './TSLA2019_EarningsTranscript.txt')\n",
        "# match a four-digit number followed by anything other than a % sign."
      ]
    },
    {
      "cell_type": "markdown",
      "metadata": {
        "id": "gyXKYAJXYhv_"
      },
      "source": [
        "`^` Matches the starting position within the string."
      ]
    },
    {
      "cell_type": "code",
      "execution_count": null,
      "metadata": {
        "id": "w6DMuP6cYhv_"
      },
      "outputs": [],
      "source": [
        "grep('^No', './TSLA2019_EarningsTranscript.txt')\n",
        "# match any line that starts with 'No'"
      ]
    },
    {
      "cell_type": "code",
      "execution_count": null,
      "metadata": {
        "id": "GMYHb5sNYhv_"
      },
      "outputs": [],
      "source": [
        "grep('^Yes', './TSLA2019_EarningsTranscript.txt')\n",
        "# match any line that starts with 'Yes'"
      ]
    },
    {
      "cell_type": "markdown",
      "metadata": {
        "id": "MVzsC_uMYhv_"
      },
      "source": [
        "`$` Matches the ending position of the string or the position just before a string-ending newline."
      ]
    },
    {
      "cell_type": "code",
      "execution_count": null,
      "metadata": {
        "id": "vsn0nCZBYhv_"
      },
      "outputs": [],
      "source": [
        "grep('\\?$', './TSLA2019_EarningsTranscript.txt')\n",
        "# match any line that ends with a question mark\n",
        "# notice that we have to 'escape' the ? with a backslash in order to search for a literal '?' symbol"
      ]
    },
    {
      "cell_type": "markdown",
      "metadata": {
        "id": "zCco_H17YhwA"
      },
      "source": [
        "`{m,n}` Matches the preceding element at least m and not more than n times."
      ]
    },
    {
      "cell_type": "code",
      "execution_count": null,
      "metadata": {
        "id": "3Exhg3ZuYhwA"
      },
      "outputs": [],
      "source": [
        "grep('[0-9]{2,4}', './TSLA2019_EarningsTranscript.txt')\n",
        "# match any two- or three-digit number"
      ]
    },
    {
      "cell_type": "markdown",
      "metadata": {
        "id": "HKl97JLjYhwA"
      },
      "source": [
        "`*` Matches the preceding element zero or more times.\n"
      ]
    },
    {
      "cell_type": "code",
      "execution_count": null,
      "metadata": {
        "id": "ox6UP6PCYhwB"
      },
      "outputs": [],
      "source": [
        "grep('I .*$', './TSLA2019_EarningsTranscript.txt')\n",
        "# match 'I' followed by any character, any number of times, until the end of the line"
      ]
    },
    {
      "cell_type": "markdown",
      "metadata": {
        "id": "wGrnrgGLYhwB"
      },
      "source": [
        "`?` Matches the preceding element zero or one time."
      ]
    },
    {
      "cell_type": "code",
      "execution_count": null,
      "metadata": {
        "id": "MMRRAMKwYhwB"
      },
      "outputs": [],
      "source": [
        "grep('Model 3?', './TSLA2019_EarningsTranscript.txt')\n",
        "# match 'Model 3' or 'Model '"
      ]
    },
    {
      "cell_type": "markdown",
      "metadata": {
        "id": "ktqfOveEYhwB"
      },
      "source": [
        "`+` Matches the preceding element one or more times."
      ]
    },
    {
      "cell_type": "code",
      "execution_count": null,
      "metadata": {
        "id": "FEnhpv1jYhwB"
      },
      "outputs": [],
      "source": [
        "grep('[0-9]+%', './TSLA2019_EarningsTranscript.txt')\n",
        "# match any single-digit or greater number followed by a % sign"
      ]
    },
    {
      "cell_type": "markdown",
      "metadata": {
        "id": "EeqSPQThYhwC"
      },
      "source": [
        "`|` The alternation operator matches either the expression before or the expression after the operator"
      ]
    },
    {
      "cell_type": "code",
      "execution_count": null,
      "metadata": {
        "id": "Xxycdg9LYhwC"
      },
      "outputs": [],
      "source": [
        "grep('Model Y|3', './TSLA2019_EarningsTranscript.txt')\n",
        "# match 'Model Y' or 'Model 3'"
      ]
    },
    {
      "cell_type": "markdown",
      "metadata": {
        "id": "_W3Z-8djhfiB"
      },
      "source": [
        "---"
      ]
    },
    {
      "cell_type": "markdown",
      "source": [
        "# ⭕ **QUESTIONS?**"
      ],
      "metadata": {
        "id": "mGJ8r40rhfiK"
      }
    },
    {
      "cell_type": "markdown",
      "metadata": {
        "id": "FLz3MikehfiK"
      },
      "source": [
        "---"
      ]
    },
    {
      "cell_type": "markdown",
      "metadata": {
        "id": "1VrlCAulYhwC"
      },
      "source": [
        "# Exercise 1: \n",
        "\n",
        "> How would you search for the term \"[Indecipherable]\" in the transcript, including the square brackets? "
      ]
    },
    {
      "cell_type": "code",
      "source": [
        "# your code here"
      ],
      "metadata": {
        "id": "GxNHtlj0hjUq"
      },
      "execution_count": null,
      "outputs": []
    },
    {
      "cell_type": "markdown",
      "metadata": {
        "id": "hGgtaECPYhwC"
      },
      "source": [
        "# Solution"
      ]
    },
    {
      "cell_type": "code",
      "execution_count": null,
      "metadata": {
        "id": "BVaDa6pgYhwC"
      },
      "outputs": [],
      "source": [
        "grep('\\[Indecipherable\\]\\.', './TSLA2019_EarningsTranscript.txt')"
      ]
    },
    {
      "cell_type": "markdown",
      "metadata": {
        "id": "FL8UH_jgYhwC"
      },
      "source": [
        "---"
      ]
    },
    {
      "cell_type": "markdown",
      "metadata": {
        "id": "8eIJpRNnYhwC"
      },
      "source": [
        "# Exercise 2: \n",
        "\n",
        "> How would you find any matches for the phrase, \"produced in [year]\", not including the square brackets in this case? "
      ]
    },
    {
      "cell_type": "markdown",
      "metadata": {
        "id": "s4a4etjLYhwD"
      },
      "source": [
        "# Solution"
      ]
    },
    {
      "cell_type": "code",
      "execution_count": null,
      "metadata": {
        "id": "WPNm4HZiYhwD"
      },
      "outputs": [],
      "source": [
        "grep('.*produced in [0-9]{4}.', './TSLA2019_EarningsTranscript.txt')"
      ]
    },
    {
      "cell_type": "markdown",
      "metadata": {
        "id": "JSy09m6AhqjJ"
      },
      "source": [
        "---"
      ]
    },
    {
      "cell_type": "markdown",
      "source": [
        "# ⭕ **QUESTIONS?**"
      ],
      "metadata": {
        "id": "RmvwRouIhqjQ"
      }
    },
    {
      "cell_type": "markdown",
      "metadata": {
        "id": "oXy33aVghqjQ"
      },
      "source": [
        "---"
      ]
    },
    {
      "cell_type": "markdown",
      "metadata": {
        "id": "scD9oUqzYhwD"
      },
      "source": [
        "To gain insight into what your regular expression is doing at any time, I highly recommend using regexper.com (https://regexper.com/) which will allow you to see exactly what a given search is doing. \n",
        "\n",
        "For instance, check out https://regexper.com/#%5EMy%0A to see what we just did with '^My'\n",
        "\n",
        "Here is a good cheat sheet for all the special characters, too, From Emma Wedekind: https://dev.to/emmawedekind/regex-cheat-sheet-2j2a\n",
        "\n",
        "Finally, I'd also recommend RegEx101, a handy debugger for regular expressions: https://regex101.com/"
      ]
    },
    {
      "cell_type": "markdown",
      "metadata": {
        "id": "9vilDMQYYhwD"
      },
      "source": [
        "---"
      ]
    },
    {
      "cell_type": "markdown",
      "metadata": {
        "id": "skYDye_nYhwD"
      },
      "source": [
        "## Shortcuts: \n",
        "\n",
        "`\\d` Matches digits 0-9 <br>\n",
        "`\\D` Matches anything but \\d <br>\n",
        "`\\w` Matches any alphanumeric character plus underscore <br>\n",
        "`\\W` Matches anything but \\w <br>\n",
        "`\\s` Matches any \"whitespace character (space, tab, newline) <br>\n",
        "`\\S` Matches anything but \\s"
      ]
    },
    {
      "cell_type": "code",
      "execution_count": null,
      "metadata": {
        "id": "eov7RD6bYhwE"
      },
      "outputs": [],
      "source": [
        "grep('.*produced in [\\d]{4}.', './TSLA2019_EarningsTranscript.txt')\n",
        "# match any character, any number of times, followed by 'produced in' followed by any four-digit number, followed by any character"
      ]
    },
    {
      "cell_type": "markdown",
      "metadata": {
        "id": "qhaFGcodYhwE"
      },
      "source": [
        "---"
      ]
    },
    {
      "cell_type": "markdown",
      "metadata": {
        "id": "4jHEgtdyYhwE"
      },
      "source": [
        "# [Python's re Regular Expression Library](https://docs.python.org/3/library/re.html)\n",
        "\n",
        "We are going to move away from using Panos's Grep function now and focus on Python's Regular Expression Library (re). To be clear, the regular expressions remain the same, but how we call for them and summon them is different. \n",
        "\n",
        "A quick note on match groups, too. [_Documentation_](https://docs.python.org/2/library/re.html)\n",
        "\n",
        "`group([group1, ...]) returns one or more subgroups of the match. If there is a single argument, the result is a single string; if there are multiple arguments, the result is a tuple with one item per argument. Without arguments, group1 defaults to zero (the whole match is returned). If a groupN argument is zero, the corresponding return value is the entire matching string; if it is in the inclusive range [1..99], it is the string matching the corresponding parenthesized group. If a group number is negative or larger than the number of groups defined in the pattern, an IndexError exception is raised. If a group is contained in a part of the pattern that did not match, the corresponding result is None. If a group is contained in a part of the pattern that matched multiple times, the last match is returned.`\n",
        "\n",
        "For example: \n",
        "```python \n",
        ">>> m = re.match(r\"(\\w+) (\\w+)\", \"Isaac Newton, physicist\")\n",
        ">>> m.group(0)       # The entire match\n",
        "'Isaac Newton'\n",
        ">>> m.group(1)       # The first parenthesized subgroup.\n",
        "'Isaac'\n",
        ">>> m.group(2)       # The second parenthesized subgroup.\n",
        "'Newton'\n",
        ">>> m.group(1, 2)    # Multiple arguments give us a tuple.\n",
        "('Isaac', 'Newton')\n",
        "```"
      ]
    },
    {
      "cell_type": "markdown",
      "metadata": {
        "id": "2m1Ovmd8YhwE"
      },
      "source": [
        "# Exercise 3: Imagine you have a file with telephone numbers in different formats: \n",
        "\n",
        "- 679-397-5255\n",
        "- 2126660921\n",
        "- 212-998-0902\n",
        "- 888-888-2222\n",
        "- 800-555-1211\n",
        "- 800 555 1212\n",
        "- 800.555.1213\n",
        "- (800) 555-1214\n",
        "- 1-800-555-1215\n",
        "- 1(800)555-1216\n",
        "- 800-555-1212-1234\n",
        "- 800-555-1212x1234\n",
        "- 800-555-1212 ext. 1234\n",
        "- work 1-(800) 555.1212 #1234\n",
        "\n",
        "# Your goal is to standardize everything in the form (xxx)-xxx-xxx.\n",
        "\n",
        "To make the process interactive, go to http://regex101.com/?#python, copy and paste the numbers above in the text area called \"Text String\", and then try to write the regular expression above. (Remember to put the \"g\" character in the small text field next to the regex: this has the same meaning as in sed, and it means \"find globally\" the regex, not just the first occurence)."
      ]
    },
    {
      "cell_type": "code",
      "execution_count": null,
      "metadata": {
        "id": "9HCF4LoLYhwE"
      },
      "outputs": [],
      "source": [
        "TextString = \"\"\"\n",
        "\n",
        "679-397-5255\n",
        "2126660921\n",
        "212-998-0902\n",
        "888-888-2222\n",
        "800-555-1211\n",
        "800 555 1212\n",
        "800.555.1213\n",
        "(800) 555-1214\n",
        "1-800-555-1215\n",
        "1(800)555-1216\n",
        "800-555-1212-1234\n",
        "800-555-1212x1234\n",
        "800-555-1212 ext. 1234\n",
        "work 1-(800) 555.1212 #1234\n",
        "\n",
        "\"\"\"\n",
        "\n",
        "# your code here"
      ]
    },
    {
      "cell_type": "markdown",
      "metadata": {
        "id": "YdJxGolzYhwF"
      },
      "source": [
        "# Solution"
      ]
    },
    {
      "cell_type": "code",
      "execution_count": null,
      "metadata": {
        "id": "B2G-Qan7YhwF"
      },
      "outputs": [],
      "source": [
        "TextString = \"\"\"\n",
        "\n",
        "679-397-5255\n",
        "2126660921\n",
        "212-998-0902\n",
        "888-888-2222\n",
        "800-555-1211\n",
        "800 555 1212\n",
        "800.555.1213\n",
        "(800) 555-1214\n",
        "1-800-555-1215\n",
        "1(800)555-1216\n",
        "800-555-1212-1234\n",
        "800-555-1212x1234\n",
        "800-555-1212 ext. 1234\n",
        "work 1-(800) 555.1212 #1234\n",
        "\n",
        "\"\"\"\n",
        "\n",
        "# Notice now that each part of the phone is included in parentheses allowing us to grab individual part of the \n",
        "# phone number\n",
        "\n",
        "regex = re.compile(r'([2-9]\\d{2})\\D*(\\d{3})\\D*(\\d{4})')\n",
        "matches = regex.finditer(TextString)\n",
        "\n",
        "phones = list()\n",
        "for m in matches:\n",
        "    area_code = m.group(1)\n",
        "    first_three_digits = m.group(2)\n",
        "    last_four_digits =  m.group(3)\n",
        "    \n",
        "    phone = \"(\" + area_code + \")\" + first_three_digits + \"-\" + last_four_digits\n",
        "            \n",
        "    phones.append(phone)\n",
        "\n",
        "# Notice that our list does not include numbers with invalid area codes (e.g., 124, 125)\n",
        "phones"
      ]
    },
    {
      "cell_type": "markdown",
      "metadata": {
        "id": "5bZ-nMDQYhwF"
      },
      "source": [
        "---"
      ]
    },
    {
      "cell_type": "code",
      "execution_count": null,
      "metadata": {
        "id": "QNzg-QH4YhwF"
      },
      "outputs": [],
      "source": [
        "text = \"Hello, my name is Alex Siegman. Please call me back at 212 555-9583 or email me at as13815@nyu.edu at your \\\n",
        "earliest convenience. Thank you.\""
      ]
    },
    {
      "cell_type": "code",
      "execution_count": null,
      "metadata": {
        "id": "ZnmKuFWaYhwF"
      },
      "outputs": [],
      "source": [
        "import re\n",
        "from re import search "
      ]
    },
    {
      "cell_type": "code",
      "execution_count": null,
      "metadata": {
        "id": "QatCC2hUYhwG"
      },
      "outputs": [],
      "source": [
        "regex = re.compile(r'[Aa]lex')\n",
        "matches = regex.finditer(text)\n",
        "\n",
        "for match in matches: \n",
        "    print(match.group())"
      ]
    },
    {
      "cell_type": "markdown",
      "metadata": {
        "id": "2Aq95qSgYhwG"
      },
      "source": [
        "Let's try and match for an email address:"
      ]
    },
    {
      "cell_type": "code",
      "execution_count": null,
      "metadata": {
        "id": "_H7jwi9aYhwG"
      },
      "outputs": [],
      "source": [
        "regex = re.compile(r'\\w+@\\w+\\..{3}')\n",
        "\n",
        "matches = regex.finditer(text)\n",
        "\n",
        "for match in matches: \n",
        "    print(match.group())                 "
      ]
    },
    {
      "cell_type": "markdown",
      "metadata": {
        "id": "Ba-9XQmPYhwG"
      },
      "source": [
        "How about for a phone number? "
      ]
    },
    {
      "cell_type": "code",
      "execution_count": null,
      "metadata": {
        "id": "GZKrz_OPYhwG"
      },
      "outputs": [],
      "source": [
        "regex = re.compile(r'\\d{3} \\d{3}-\\d{4}')\n",
        "\n",
        "matches = regex.finditer(text)\n",
        "\n",
        "for match in matches: \n",
        "    print(match.group()) "
      ]
    },
    {
      "cell_type": "markdown",
      "metadata": {
        "id": "ZFAEhBJXYhwG"
      },
      "source": [
        "And what if you have multiple matches in the same string? "
      ]
    },
    {
      "cell_type": "code",
      "execution_count": null,
      "metadata": {
        "id": "mixDSPSZYhwG"
      },
      "outputs": [],
      "source": [
        "text = \"Hello, my name is Alex Siegman. Please call me back at 212 555-9583 or 314 935-9981 or email me at as13815@nyu.edu at your \\\n",
        "earliest convenience. Thank you.\""
      ]
    },
    {
      "cell_type": "code",
      "execution_count": null,
      "metadata": {
        "id": "WXjUkNgxYhwH"
      },
      "outputs": [],
      "source": [
        "# we can use 'finditer' that returns a collection of MatchObject items\n",
        "\n",
        "regex = re.compile(r'\\d{3} \\d{3}-\\d{4}')\n",
        "\n",
        "matches = regex.finditer(text)\n",
        "for i, match in enumerate(matches):\n",
        "    print(i+1, \"==>\", match.group())\n",
        "    \n",
        "# FYI the 'search' term only returns the first MatchObject item"
      ]
    },
    {
      "cell_type": "markdown",
      "metadata": {
        "id": "8reM4ECoiEVp"
      },
      "source": [
        "---"
      ]
    },
    {
      "cell_type": "markdown",
      "source": [
        "# ⭕ **QUESTIONS?**"
      ],
      "metadata": {
        "id": "agDDdRhpiEVw"
      }
    },
    {
      "cell_type": "markdown",
      "metadata": {
        "id": "W9VFT6EtiEVw"
      },
      "source": [
        "---"
      ]
    },
    {
      "cell_type": "markdown",
      "metadata": {
        "id": "_ia926dhYhwH"
      },
      "source": [
        "## Data Extraction \n",
        "\n",
        "It's awesome that we can return our matches here in our notebook, but what we really want to do is select the strings that match our regex and return them to a program to be processed. For example: "
      ]
    },
    {
      "cell_type": "code",
      "execution_count": null,
      "metadata": {
        "id": "7RCEIpbqYhwI"
      },
      "outputs": [],
      "source": [
        "regex = re.compile(r\"\"\"(\\d{3}) # the area code\n",
        "                       \\D* # zero or more non-digits\n",
        "                       (\\d{3}) # three digits\n",
        "                       \\D* # zero or more non-digits\n",
        "                       (\\d{4}) # four digits\n",
        "                    \"\"\", re.VERBOSE)\n",
        "\n",
        "matches = regex.finditer(text)\n",
        "for match in matches:\n",
        "    print(match.group())\n",
        "    print(\"Formatted:\", match.group(1),\"-\", match.group(2), \"-\", match.group(3))\n",
        "    print(\"===========\")"
      ]
    },
    {
      "cell_type": "markdown",
      "metadata": {
        "id": "kUmRz-mBYhwJ"
      },
      "source": [
        "What about our large 'file' of ill-formatted phone numbers from earlier? "
      ]
    },
    {
      "cell_type": "code",
      "execution_count": null,
      "metadata": {
        "id": "hJKxE_zhYhwJ"
      },
      "outputs": [],
      "source": [
        "TextString = \"\"\"\n",
        "\n",
        "679-397-5255\n",
        "2126660921\n",
        "212-998-0902\n",
        "888-888-2222\n",
        "800-555-1211\n",
        "800 555 1212\n",
        "800.555.1213\n",
        "(800) 555-1214\n",
        "1-800-555-1215\n",
        "1(800)555-1216\n",
        "800-555-1212-1234\n",
        "800-555-1212x1234\n",
        "800-555-1212 ext. 1234\n",
        "work 1-(800) 555.1212 #1234\n",
        "\n",
        "\"\"\""
      ]
    },
    {
      "cell_type": "code",
      "execution_count": null,
      "metadata": {
        "id": "uIdFQPcoYhwJ"
      },
      "outputs": [],
      "source": [
        "regex = re.compile(r'(\\d{3})\\D*(\\d{3})\\D*(\\d{4})')\n",
        "matches = regex.finditer(TextString)\n",
        "\n",
        "phones = list()\n",
        "\n",
        "for m in matches:\n",
        "    area_code = m.group(1)\n",
        "    first_three_digits = m.group(2)\n",
        "    last_four_digits =  m.group(3)\n",
        "    \n",
        "    phone = \"(\" + area_code + \")\" + first_three_digits + \"-\" + last_four_digits\n",
        "            \n",
        "    phones.append(phone)\n",
        "\n",
        "phones"
      ]
    },
    {
      "cell_type": "markdown",
      "metadata": {
        "id": "ZNE0Yv8sYhwJ"
      },
      "source": [
        "## String Replacement\n",
        "\n",
        "String Replacement (.sub()) allows us to return a version of our text where all instances that matched have been substituted with a replacement. For instance, if we want to mask phone numbers in a document: "
      ]
    },
    {
      "cell_type": "code",
      "execution_count": null,
      "metadata": {
        "id": "1CIEjl_UYhwJ"
      },
      "outputs": [],
      "source": [
        "regex = re.compile('(\\d{3})\\D*(\\d{3})\\D*(\\d{4})')\n",
        "\n",
        "newstring = re.sub(regex, \"XXX-XXX-XXXX\", TextString)\n",
        "\n",
        "print(newstring)"
      ]
    },
    {
      "cell_type": "markdown",
      "metadata": {
        "id": "s-IGn4wFYhwJ"
      },
      "source": [
        "---"
      ]
    },
    {
      "cell_type": "markdown",
      "metadata": {
        "id": "PEApQc38YhwJ"
      },
      "source": [
        "## [`Requests`](https://requests.readthedocs.io/en/master/)"
      ]
    },
    {
      "cell_type": "markdown",
      "source": [
        "Last but not least, a quick note on the requests library that will allow us to leverage our regular expressions to run over HTML from any site."
      ],
      "metadata": {
        "id": "MJshCiQGiI4F"
      }
    },
    {
      "cell_type": "code",
      "execution_count": null,
      "metadata": {
        "id": "VXF1GSSWYhwK"
      },
      "outputs": [],
      "source": [
        "import requests\n",
        "url = 'http://www.stern.nyu.edu/faculty/search_name_form'\n",
        "\n",
        "html = requests.get(url).text"
      ]
    },
    {
      "cell_type": "code",
      "execution_count": null,
      "metadata": {
        "id": "xL9OUr9_YhwK"
      },
      "outputs": [],
      "source": [
        "html"
      ]
    }
  ],
  "metadata": {
    "kernelspec": {
      "display_name": "Python 3",
      "language": "python",
      "name": "python3"
    },
    "language_info": {
      "codemirror_mode": {
        "name": "ipython",
        "version": 3
      },
      "file_extension": ".py",
      "mimetype": "text/x-python",
      "name": "python",
      "nbconvert_exporter": "python",
      "pygments_lexer": "ipython3",
      "version": "3.7.3"
    },
    "colab": {
      "name": "Class6_Solved.ipynb",
      "provenance": []
    }
  },
  "nbformat": 4,
  "nbformat_minor": 0
}