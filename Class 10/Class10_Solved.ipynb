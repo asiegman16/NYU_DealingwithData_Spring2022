{
  "cells": [
    {
      "cell_type": "markdown",
      "metadata": {
        "id": "26-geGMoP0uk"
      },
      "source": [
        "# Dealing with Data Spring 2020 – Class 10"
      ]
    },
    {
      "cell_type": "markdown",
      "metadata": {
        "id": "vwZfansWP0us"
      },
      "source": [
        "---"
      ]
    },
    {
      "cell_type": "markdown",
      "metadata": {
        "id": "_fNPnNnfP0uu"
      },
      "source": [
        "---"
      ]
    },
    {
      "cell_type": "code",
      "source": [
        "import sqlite3 # this is how we will import the sqlite3 functionality needed to proceed"
      ],
      "metadata": {
        "id": "WJlBVjqsQCrn"
      },
      "execution_count": 1,
      "outputs": []
    },
    {
      "cell_type": "code",
      "source": [
        "con = sqlite3.connect('class10_data.db') # this is how we are going to create our database, \n",
        "                                         # calling it 'class9_data.db'\n",
        "\n",
        "                                         # note that if the db doesn't exist, this will create it; Otherwise, it will connect\n",
        "\n",
        "# \"con\" stands for \"connection\" – this is telling SQLite what database to use\n"
      ],
      "metadata": {
        "id": "uh6iwm4hQDUL"
      },
      "execution_count": 3,
      "outputs": []
    },
    {
      "cell_type": "code",
      "source": [
        "import pandas as pd\n",
        "\n",
        "irs_agi_map = pd.read_csv(\"./irs_agi_map.csv\")\n",
        "irs_nyc_tax_returns = pd.read_csv(\"./irs_nyc_tax_returns.csv\")\n",
        "nyc_census_data = pd.read_csv(\"./nyc_census_data.csv\")\n",
        "nyc_film_permits = pd.read_csv(\"./nyc_film_permits.csv\")"
      ],
      "metadata": {
        "id": "cnckH2MMjPmg"
      },
      "execution_count": 5,
      "outputs": []
    },
    {
      "cell_type": "code",
      "source": [
        "irs_agi_map.head()"
      ],
      "metadata": {
        "id": "DzwWT9L4j9hT",
        "colab": {
          "base_uri": "https://localhost:8080/",
          "height": 206
        },
        "outputId": "dd1f21ae-9c2b-4354-cc2e-060033e9ea17"
      },
      "execution_count": 6,
      "outputs": [
        {
          "output_type": "execute_result",
          "data": {
            "text/plain": [
              "   agi_map_id               agi_descrp\n",
              "0           1         $1 under $25,000\n",
              "1           2    $25,000 under $50,000\n",
              "2           3    $50,000 under $75,000\n",
              "3           4   $75,000 under $100,000\n",
              "4           5  $100,000 under $200,000"
            ],
            "text/html": [
              "\n",
              "  <div id=\"df-4aa025f7-5c23-4c20-b98d-e5f53703c0d0\">\n",
              "    <div class=\"colab-df-container\">\n",
              "      <div>\n",
              "<style scoped>\n",
              "    .dataframe tbody tr th:only-of-type {\n",
              "        vertical-align: middle;\n",
              "    }\n",
              "\n",
              "    .dataframe tbody tr th {\n",
              "        vertical-align: top;\n",
              "    }\n",
              "\n",
              "    .dataframe thead th {\n",
              "        text-align: right;\n",
              "    }\n",
              "</style>\n",
              "<table border=\"1\" class=\"dataframe\">\n",
              "  <thead>\n",
              "    <tr style=\"text-align: right;\">\n",
              "      <th></th>\n",
              "      <th>agi_map_id</th>\n",
              "      <th>agi_descrp</th>\n",
              "    </tr>\n",
              "  </thead>\n",
              "  <tbody>\n",
              "    <tr>\n",
              "      <th>0</th>\n",
              "      <td>1</td>\n",
              "      <td>$1 under $25,000</td>\n",
              "    </tr>\n",
              "    <tr>\n",
              "      <th>1</th>\n",
              "      <td>2</td>\n",
              "      <td>$25,000 under $50,000</td>\n",
              "    </tr>\n",
              "    <tr>\n",
              "      <th>2</th>\n",
              "      <td>3</td>\n",
              "      <td>$50,000 under $75,000</td>\n",
              "    </tr>\n",
              "    <tr>\n",
              "      <th>3</th>\n",
              "      <td>4</td>\n",
              "      <td>$75,000 under $100,000</td>\n",
              "    </tr>\n",
              "    <tr>\n",
              "      <th>4</th>\n",
              "      <td>5</td>\n",
              "      <td>$100,000 under $200,000</td>\n",
              "    </tr>\n",
              "  </tbody>\n",
              "</table>\n",
              "</div>\n",
              "      <button class=\"colab-df-convert\" onclick=\"convertToInteractive('df-4aa025f7-5c23-4c20-b98d-e5f53703c0d0')\"\n",
              "              title=\"Convert this dataframe to an interactive table.\"\n",
              "              style=\"display:none;\">\n",
              "        \n",
              "  <svg xmlns=\"http://www.w3.org/2000/svg\" height=\"24px\"viewBox=\"0 0 24 24\"\n",
              "       width=\"24px\">\n",
              "    <path d=\"M0 0h24v24H0V0z\" fill=\"none\"/>\n",
              "    <path d=\"M18.56 5.44l.94 2.06.94-2.06 2.06-.94-2.06-.94-.94-2.06-.94 2.06-2.06.94zm-11 1L8.5 8.5l.94-2.06 2.06-.94-2.06-.94L8.5 2.5l-.94 2.06-2.06.94zm10 10l.94 2.06.94-2.06 2.06-.94-2.06-.94-.94-2.06-.94 2.06-2.06.94z\"/><path d=\"M17.41 7.96l-1.37-1.37c-.4-.4-.92-.59-1.43-.59-.52 0-1.04.2-1.43.59L10.3 9.45l-7.72 7.72c-.78.78-.78 2.05 0 2.83L4 21.41c.39.39.9.59 1.41.59.51 0 1.02-.2 1.41-.59l7.78-7.78 2.81-2.81c.8-.78.8-2.07 0-2.86zM5.41 20L4 18.59l7.72-7.72 1.47 1.35L5.41 20z\"/>\n",
              "  </svg>\n",
              "      </button>\n",
              "      \n",
              "  <style>\n",
              "    .colab-df-container {\n",
              "      display:flex;\n",
              "      flex-wrap:wrap;\n",
              "      gap: 12px;\n",
              "    }\n",
              "\n",
              "    .colab-df-convert {\n",
              "      background-color: #E8F0FE;\n",
              "      border: none;\n",
              "      border-radius: 50%;\n",
              "      cursor: pointer;\n",
              "      display: none;\n",
              "      fill: #1967D2;\n",
              "      height: 32px;\n",
              "      padding: 0 0 0 0;\n",
              "      width: 32px;\n",
              "    }\n",
              "\n",
              "    .colab-df-convert:hover {\n",
              "      background-color: #E2EBFA;\n",
              "      box-shadow: 0px 1px 2px rgba(60, 64, 67, 0.3), 0px 1px 3px 1px rgba(60, 64, 67, 0.15);\n",
              "      fill: #174EA6;\n",
              "    }\n",
              "\n",
              "    [theme=dark] .colab-df-convert {\n",
              "      background-color: #3B4455;\n",
              "      fill: #D2E3FC;\n",
              "    }\n",
              "\n",
              "    [theme=dark] .colab-df-convert:hover {\n",
              "      background-color: #434B5C;\n",
              "      box-shadow: 0px 1px 3px 1px rgba(0, 0, 0, 0.15);\n",
              "      filter: drop-shadow(0px 1px 2px rgba(0, 0, 0, 0.3));\n",
              "      fill: #FFFFFF;\n",
              "    }\n",
              "  </style>\n",
              "\n",
              "      <script>\n",
              "        const buttonEl =\n",
              "          document.querySelector('#df-4aa025f7-5c23-4c20-b98d-e5f53703c0d0 button.colab-df-convert');\n",
              "        buttonEl.style.display =\n",
              "          google.colab.kernel.accessAllowed ? 'block' : 'none';\n",
              "\n",
              "        async function convertToInteractive(key) {\n",
              "          const element = document.querySelector('#df-4aa025f7-5c23-4c20-b98d-e5f53703c0d0');\n",
              "          const dataTable =\n",
              "            await google.colab.kernel.invokeFunction('convertToInteractive',\n",
              "                                                     [key], {});\n",
              "          if (!dataTable) return;\n",
              "\n",
              "          const docLinkHtml = 'Like what you see? Visit the ' +\n",
              "            '<a target=\"_blank\" href=https://colab.research.google.com/notebooks/data_table.ipynb>data table notebook</a>'\n",
              "            + ' to learn more about interactive tables.';\n",
              "          element.innerHTML = '';\n",
              "          dataTable['output_type'] = 'display_data';\n",
              "          await google.colab.output.renderOutput(dataTable, element);\n",
              "          const docLink = document.createElement('div');\n",
              "          docLink.innerHTML = docLinkHtml;\n",
              "          element.appendChild(docLink);\n",
              "        }\n",
              "      </script>\n",
              "    </div>\n",
              "  </div>\n",
              "  "
            ]
          },
          "metadata": {},
          "execution_count": 6
        }
      ]
    },
    {
      "cell_type": "code",
      "source": [
        "irs_nyc_tax_returns.head()"
      ],
      "metadata": {
        "id": "Ga9TAvOnj9kJ",
        "colab": {
          "base_uri": "https://localhost:8080/",
          "height": 206
        },
        "outputId": "bd8d3e90-fce4-45c9-9b03-04f19ad76285"
      },
      "execution_count": 7,
      "outputs": [
        {
          "output_type": "execute_result",
          "data": {
            "text/plain": [
              "   year state  zipcode  agi_map_id  return_count\n",
              "0  2012    NY    10001           1          4080\n",
              "1  2012    NY    10001           2          2520\n",
              "2  2012    NY    10001           3          1790\n",
              "3  2012    NY    10001           4          1230\n",
              "4  2012    NY    10001           5          2030"
            ],
            "text/html": [
              "\n",
              "  <div id=\"df-761db758-62f9-4eac-9a06-3fc8d7394279\">\n",
              "    <div class=\"colab-df-container\">\n",
              "      <div>\n",
              "<style scoped>\n",
              "    .dataframe tbody tr th:only-of-type {\n",
              "        vertical-align: middle;\n",
              "    }\n",
              "\n",
              "    .dataframe tbody tr th {\n",
              "        vertical-align: top;\n",
              "    }\n",
              "\n",
              "    .dataframe thead th {\n",
              "        text-align: right;\n",
              "    }\n",
              "</style>\n",
              "<table border=\"1\" class=\"dataframe\">\n",
              "  <thead>\n",
              "    <tr style=\"text-align: right;\">\n",
              "      <th></th>\n",
              "      <th>year</th>\n",
              "      <th>state</th>\n",
              "      <th>zipcode</th>\n",
              "      <th>agi_map_id</th>\n",
              "      <th>return_count</th>\n",
              "    </tr>\n",
              "  </thead>\n",
              "  <tbody>\n",
              "    <tr>\n",
              "      <th>0</th>\n",
              "      <td>2012</td>\n",
              "      <td>NY</td>\n",
              "      <td>10001</td>\n",
              "      <td>1</td>\n",
              "      <td>4080</td>\n",
              "    </tr>\n",
              "    <tr>\n",
              "      <th>1</th>\n",
              "      <td>2012</td>\n",
              "      <td>NY</td>\n",
              "      <td>10001</td>\n",
              "      <td>2</td>\n",
              "      <td>2520</td>\n",
              "    </tr>\n",
              "    <tr>\n",
              "      <th>2</th>\n",
              "      <td>2012</td>\n",
              "      <td>NY</td>\n",
              "      <td>10001</td>\n",
              "      <td>3</td>\n",
              "      <td>1790</td>\n",
              "    </tr>\n",
              "    <tr>\n",
              "      <th>3</th>\n",
              "      <td>2012</td>\n",
              "      <td>NY</td>\n",
              "      <td>10001</td>\n",
              "      <td>4</td>\n",
              "      <td>1230</td>\n",
              "    </tr>\n",
              "    <tr>\n",
              "      <th>4</th>\n",
              "      <td>2012</td>\n",
              "      <td>NY</td>\n",
              "      <td>10001</td>\n",
              "      <td>5</td>\n",
              "      <td>2030</td>\n",
              "    </tr>\n",
              "  </tbody>\n",
              "</table>\n",
              "</div>\n",
              "      <button class=\"colab-df-convert\" onclick=\"convertToInteractive('df-761db758-62f9-4eac-9a06-3fc8d7394279')\"\n",
              "              title=\"Convert this dataframe to an interactive table.\"\n",
              "              style=\"display:none;\">\n",
              "        \n",
              "  <svg xmlns=\"http://www.w3.org/2000/svg\" height=\"24px\"viewBox=\"0 0 24 24\"\n",
              "       width=\"24px\">\n",
              "    <path d=\"M0 0h24v24H0V0z\" fill=\"none\"/>\n",
              "    <path d=\"M18.56 5.44l.94 2.06.94-2.06 2.06-.94-2.06-.94-.94-2.06-.94 2.06-2.06.94zm-11 1L8.5 8.5l.94-2.06 2.06-.94-2.06-.94L8.5 2.5l-.94 2.06-2.06.94zm10 10l.94 2.06.94-2.06 2.06-.94-2.06-.94-.94-2.06-.94 2.06-2.06.94z\"/><path d=\"M17.41 7.96l-1.37-1.37c-.4-.4-.92-.59-1.43-.59-.52 0-1.04.2-1.43.59L10.3 9.45l-7.72 7.72c-.78.78-.78 2.05 0 2.83L4 21.41c.39.39.9.59 1.41.59.51 0 1.02-.2 1.41-.59l7.78-7.78 2.81-2.81c.8-.78.8-2.07 0-2.86zM5.41 20L4 18.59l7.72-7.72 1.47 1.35L5.41 20z\"/>\n",
              "  </svg>\n",
              "      </button>\n",
              "      \n",
              "  <style>\n",
              "    .colab-df-container {\n",
              "      display:flex;\n",
              "      flex-wrap:wrap;\n",
              "      gap: 12px;\n",
              "    }\n",
              "\n",
              "    .colab-df-convert {\n",
              "      background-color: #E8F0FE;\n",
              "      border: none;\n",
              "      border-radius: 50%;\n",
              "      cursor: pointer;\n",
              "      display: none;\n",
              "      fill: #1967D2;\n",
              "      height: 32px;\n",
              "      padding: 0 0 0 0;\n",
              "      width: 32px;\n",
              "    }\n",
              "\n",
              "    .colab-df-convert:hover {\n",
              "      background-color: #E2EBFA;\n",
              "      box-shadow: 0px 1px 2px rgba(60, 64, 67, 0.3), 0px 1px 3px 1px rgba(60, 64, 67, 0.15);\n",
              "      fill: #174EA6;\n",
              "    }\n",
              "\n",
              "    [theme=dark] .colab-df-convert {\n",
              "      background-color: #3B4455;\n",
              "      fill: #D2E3FC;\n",
              "    }\n",
              "\n",
              "    [theme=dark] .colab-df-convert:hover {\n",
              "      background-color: #434B5C;\n",
              "      box-shadow: 0px 1px 3px 1px rgba(0, 0, 0, 0.15);\n",
              "      filter: drop-shadow(0px 1px 2px rgba(0, 0, 0, 0.3));\n",
              "      fill: #FFFFFF;\n",
              "    }\n",
              "  </style>\n",
              "\n",
              "      <script>\n",
              "        const buttonEl =\n",
              "          document.querySelector('#df-761db758-62f9-4eac-9a06-3fc8d7394279 button.colab-df-convert');\n",
              "        buttonEl.style.display =\n",
              "          google.colab.kernel.accessAllowed ? 'block' : 'none';\n",
              "\n",
              "        async function convertToInteractive(key) {\n",
              "          const element = document.querySelector('#df-761db758-62f9-4eac-9a06-3fc8d7394279');\n",
              "          const dataTable =\n",
              "            await google.colab.kernel.invokeFunction('convertToInteractive',\n",
              "                                                     [key], {});\n",
              "          if (!dataTable) return;\n",
              "\n",
              "          const docLinkHtml = 'Like what you see? Visit the ' +\n",
              "            '<a target=\"_blank\" href=https://colab.research.google.com/notebooks/data_table.ipynb>data table notebook</a>'\n",
              "            + ' to learn more about interactive tables.';\n",
              "          element.innerHTML = '';\n",
              "          dataTable['output_type'] = 'display_data';\n",
              "          await google.colab.output.renderOutput(dataTable, element);\n",
              "          const docLink = document.createElement('div');\n",
              "          docLink.innerHTML = docLinkHtml;\n",
              "          element.appendChild(docLink);\n",
              "        }\n",
              "      </script>\n",
              "    </div>\n",
              "  </div>\n",
              "  "
            ]
          },
          "metadata": {},
          "execution_count": 7
        }
      ]
    },
    {
      "cell_type": "code",
      "source": [
        "nyc_census_data.head()"
      ],
      "metadata": {
        "id": "9OC-aqivj9ms",
        "colab": {
          "base_uri": "https://localhost:8080/",
          "height": 236
        },
        "outputId": "3b7049cc-b8fb-4631-d913-eeef95f0a40c"
      },
      "execution_count": 8,
      "outputs": [
        {
          "output_type": "execute_result",
          "data": {
            "text/plain": [
              "   ZipCode  Age_all  Age_under5  Age_5to9  Age_10to14  Age_15to19  Age_20to24  \\\n",
              "0     6390      236           6         9          16          11           7   \n",
              "1    10001    21102         624       458         488        1376        2632   \n",
              "2    10002    81410        3620      3663        3660        4098        6349   \n",
              "3    10003    56024        1405       902         737        5982        7969   \n",
              "4    10004     3089         202       101          54          59         318   \n",
              "\n",
              "   Age_25to29  Age_30to34  Age_35to39  ...  Age_over84  Gender_Male  \\\n",
              "0           7           7          13  ...           3          118   \n",
              "1        2741        2095        1636  ...         429        10184   \n",
              "2        7458        6498        5711  ...        2318        38570   \n",
              "3        8235        6251        4309  ...         763        26750   \n",
              "4         567         508         368  ...           5         1610   \n",
              "\n",
              "   Gender_Female  Ethnicity_White  Ethnicity_AfricanAmerican  \\\n",
              "0            118              231                          2   \n",
              "1          10918            14351                       2227   \n",
              "2          42840            27453                       7851   \n",
              "3          29274            44362                       2430   \n",
              "4           1479             2264                        131   \n",
              "\n",
              "   Ethnicity_NativeAmerican  Ethnicity_Asian  Ethnicity_PacificIslander  \\\n",
              "0                         1                2                          0   \n",
              "1                       191             3843                         36   \n",
              "2                       876            38893                        172   \n",
              "3                       329             9180                        103   \n",
              "4                        15              732                          4   \n",
              "\n",
              "   Ethnicity_Other  Ethnicity_All_HispancLatino_Descent  \n",
              "0                4                                    2  \n",
              "1             1315                                 3648  \n",
              "2             9176                                20619  \n",
              "3             1569                                 4489  \n",
              "4               63                                  189  \n",
              "\n",
              "[5 rows x 29 columns]"
            ],
            "text/html": [
              "\n",
              "  <div id=\"df-b19c9583-0cff-40d6-abfc-363f6eaa977e\">\n",
              "    <div class=\"colab-df-container\">\n",
              "      <div>\n",
              "<style scoped>\n",
              "    .dataframe tbody tr th:only-of-type {\n",
              "        vertical-align: middle;\n",
              "    }\n",
              "\n",
              "    .dataframe tbody tr th {\n",
              "        vertical-align: top;\n",
              "    }\n",
              "\n",
              "    .dataframe thead th {\n",
              "        text-align: right;\n",
              "    }\n",
              "</style>\n",
              "<table border=\"1\" class=\"dataframe\">\n",
              "  <thead>\n",
              "    <tr style=\"text-align: right;\">\n",
              "      <th></th>\n",
              "      <th>ZipCode</th>\n",
              "      <th>Age_all</th>\n",
              "      <th>Age_under5</th>\n",
              "      <th>Age_5to9</th>\n",
              "      <th>Age_10to14</th>\n",
              "      <th>Age_15to19</th>\n",
              "      <th>Age_20to24</th>\n",
              "      <th>Age_25to29</th>\n",
              "      <th>Age_30to34</th>\n",
              "      <th>Age_35to39</th>\n",
              "      <th>...</th>\n",
              "      <th>Age_over84</th>\n",
              "      <th>Gender_Male</th>\n",
              "      <th>Gender_Female</th>\n",
              "      <th>Ethnicity_White</th>\n",
              "      <th>Ethnicity_AfricanAmerican</th>\n",
              "      <th>Ethnicity_NativeAmerican</th>\n",
              "      <th>Ethnicity_Asian</th>\n",
              "      <th>Ethnicity_PacificIslander</th>\n",
              "      <th>Ethnicity_Other</th>\n",
              "      <th>Ethnicity_All_HispancLatino_Descent</th>\n",
              "    </tr>\n",
              "  </thead>\n",
              "  <tbody>\n",
              "    <tr>\n",
              "      <th>0</th>\n",
              "      <td>6390</td>\n",
              "      <td>236</td>\n",
              "      <td>6</td>\n",
              "      <td>9</td>\n",
              "      <td>16</td>\n",
              "      <td>11</td>\n",
              "      <td>7</td>\n",
              "      <td>7</td>\n",
              "      <td>7</td>\n",
              "      <td>13</td>\n",
              "      <td>...</td>\n",
              "      <td>3</td>\n",
              "      <td>118</td>\n",
              "      <td>118</td>\n",
              "      <td>231</td>\n",
              "      <td>2</td>\n",
              "      <td>1</td>\n",
              "      <td>2</td>\n",
              "      <td>0</td>\n",
              "      <td>4</td>\n",
              "      <td>2</td>\n",
              "    </tr>\n",
              "    <tr>\n",
              "      <th>1</th>\n",
              "      <td>10001</td>\n",
              "      <td>21102</td>\n",
              "      <td>624</td>\n",
              "      <td>458</td>\n",
              "      <td>488</td>\n",
              "      <td>1376</td>\n",
              "      <td>2632</td>\n",
              "      <td>2741</td>\n",
              "      <td>2095</td>\n",
              "      <td>1636</td>\n",
              "      <td>...</td>\n",
              "      <td>429</td>\n",
              "      <td>10184</td>\n",
              "      <td>10918</td>\n",
              "      <td>14351</td>\n",
              "      <td>2227</td>\n",
              "      <td>191</td>\n",
              "      <td>3843</td>\n",
              "      <td>36</td>\n",
              "      <td>1315</td>\n",
              "      <td>3648</td>\n",
              "    </tr>\n",
              "    <tr>\n",
              "      <th>2</th>\n",
              "      <td>10002</td>\n",
              "      <td>81410</td>\n",
              "      <td>3620</td>\n",
              "      <td>3663</td>\n",
              "      <td>3660</td>\n",
              "      <td>4098</td>\n",
              "      <td>6349</td>\n",
              "      <td>7458</td>\n",
              "      <td>6498</td>\n",
              "      <td>5711</td>\n",
              "      <td>...</td>\n",
              "      <td>2318</td>\n",
              "      <td>38570</td>\n",
              "      <td>42840</td>\n",
              "      <td>27453</td>\n",
              "      <td>7851</td>\n",
              "      <td>876</td>\n",
              "      <td>38893</td>\n",
              "      <td>172</td>\n",
              "      <td>9176</td>\n",
              "      <td>20619</td>\n",
              "    </tr>\n",
              "    <tr>\n",
              "      <th>3</th>\n",
              "      <td>10003</td>\n",
              "      <td>56024</td>\n",
              "      <td>1405</td>\n",
              "      <td>902</td>\n",
              "      <td>737</td>\n",
              "      <td>5982</td>\n",
              "      <td>7969</td>\n",
              "      <td>8235</td>\n",
              "      <td>6251</td>\n",
              "      <td>4309</td>\n",
              "      <td>...</td>\n",
              "      <td>763</td>\n",
              "      <td>26750</td>\n",
              "      <td>29274</td>\n",
              "      <td>44362</td>\n",
              "      <td>2430</td>\n",
              "      <td>329</td>\n",
              "      <td>9180</td>\n",
              "      <td>103</td>\n",
              "      <td>1569</td>\n",
              "      <td>4489</td>\n",
              "    </tr>\n",
              "    <tr>\n",
              "      <th>4</th>\n",
              "      <td>10004</td>\n",
              "      <td>3089</td>\n",
              "      <td>202</td>\n",
              "      <td>101</td>\n",
              "      <td>54</td>\n",
              "      <td>59</td>\n",
              "      <td>318</td>\n",
              "      <td>567</td>\n",
              "      <td>508</td>\n",
              "      <td>368</td>\n",
              "      <td>...</td>\n",
              "      <td>5</td>\n",
              "      <td>1610</td>\n",
              "      <td>1479</td>\n",
              "      <td>2264</td>\n",
              "      <td>131</td>\n",
              "      <td>15</td>\n",
              "      <td>732</td>\n",
              "      <td>4</td>\n",
              "      <td>63</td>\n",
              "      <td>189</td>\n",
              "    </tr>\n",
              "  </tbody>\n",
              "</table>\n",
              "<p>5 rows × 29 columns</p>\n",
              "</div>\n",
              "      <button class=\"colab-df-convert\" onclick=\"convertToInteractive('df-b19c9583-0cff-40d6-abfc-363f6eaa977e')\"\n",
              "              title=\"Convert this dataframe to an interactive table.\"\n",
              "              style=\"display:none;\">\n",
              "        \n",
              "  <svg xmlns=\"http://www.w3.org/2000/svg\" height=\"24px\"viewBox=\"0 0 24 24\"\n",
              "       width=\"24px\">\n",
              "    <path d=\"M0 0h24v24H0V0z\" fill=\"none\"/>\n",
              "    <path d=\"M18.56 5.44l.94 2.06.94-2.06 2.06-.94-2.06-.94-.94-2.06-.94 2.06-2.06.94zm-11 1L8.5 8.5l.94-2.06 2.06-.94-2.06-.94L8.5 2.5l-.94 2.06-2.06.94zm10 10l.94 2.06.94-2.06 2.06-.94-2.06-.94-.94-2.06-.94 2.06-2.06.94z\"/><path d=\"M17.41 7.96l-1.37-1.37c-.4-.4-.92-.59-1.43-.59-.52 0-1.04.2-1.43.59L10.3 9.45l-7.72 7.72c-.78.78-.78 2.05 0 2.83L4 21.41c.39.39.9.59 1.41.59.51 0 1.02-.2 1.41-.59l7.78-7.78 2.81-2.81c.8-.78.8-2.07 0-2.86zM5.41 20L4 18.59l7.72-7.72 1.47 1.35L5.41 20z\"/>\n",
              "  </svg>\n",
              "      </button>\n",
              "      \n",
              "  <style>\n",
              "    .colab-df-container {\n",
              "      display:flex;\n",
              "      flex-wrap:wrap;\n",
              "      gap: 12px;\n",
              "    }\n",
              "\n",
              "    .colab-df-convert {\n",
              "      background-color: #E8F0FE;\n",
              "      border: none;\n",
              "      border-radius: 50%;\n",
              "      cursor: pointer;\n",
              "      display: none;\n",
              "      fill: #1967D2;\n",
              "      height: 32px;\n",
              "      padding: 0 0 0 0;\n",
              "      width: 32px;\n",
              "    }\n",
              "\n",
              "    .colab-df-convert:hover {\n",
              "      background-color: #E2EBFA;\n",
              "      box-shadow: 0px 1px 2px rgba(60, 64, 67, 0.3), 0px 1px 3px 1px rgba(60, 64, 67, 0.15);\n",
              "      fill: #174EA6;\n",
              "    }\n",
              "\n",
              "    [theme=dark] .colab-df-convert {\n",
              "      background-color: #3B4455;\n",
              "      fill: #D2E3FC;\n",
              "    }\n",
              "\n",
              "    [theme=dark] .colab-df-convert:hover {\n",
              "      background-color: #434B5C;\n",
              "      box-shadow: 0px 1px 3px 1px rgba(0, 0, 0, 0.15);\n",
              "      filter: drop-shadow(0px 1px 2px rgba(0, 0, 0, 0.3));\n",
              "      fill: #FFFFFF;\n",
              "    }\n",
              "  </style>\n",
              "\n",
              "      <script>\n",
              "        const buttonEl =\n",
              "          document.querySelector('#df-b19c9583-0cff-40d6-abfc-363f6eaa977e button.colab-df-convert');\n",
              "        buttonEl.style.display =\n",
              "          google.colab.kernel.accessAllowed ? 'block' : 'none';\n",
              "\n",
              "        async function convertToInteractive(key) {\n",
              "          const element = document.querySelector('#df-b19c9583-0cff-40d6-abfc-363f6eaa977e');\n",
              "          const dataTable =\n",
              "            await google.colab.kernel.invokeFunction('convertToInteractive',\n",
              "                                                     [key], {});\n",
              "          if (!dataTable) return;\n",
              "\n",
              "          const docLinkHtml = 'Like what you see? Visit the ' +\n",
              "            '<a target=\"_blank\" href=https://colab.research.google.com/notebooks/data_table.ipynb>data table notebook</a>'\n",
              "            + ' to learn more about interactive tables.';\n",
              "          element.innerHTML = '';\n",
              "          dataTable['output_type'] = 'display_data';\n",
              "          await google.colab.output.renderOutput(dataTable, element);\n",
              "          const docLink = document.createElement('div');\n",
              "          docLink.innerHTML = docLinkHtml;\n",
              "          element.appendChild(docLink);\n",
              "        }\n",
              "      </script>\n",
              "    </div>\n",
              "  </div>\n",
              "  "
            ]
          },
          "metadata": {},
          "execution_count": 8
        }
      ]
    },
    {
      "cell_type": "code",
      "source": [
        "nyc_film_permits.head()"
      ],
      "metadata": {
        "id": "NnQd41dAj9pk",
        "colab": {
          "base_uri": "https://localhost:8080/",
          "height": 206
        },
        "outputId": "026bab45-0b2e-4c6c-dd6a-70add1a2c1a5"
      },
      "execution_count": 9,
      "outputs": [
        {
          "output_type": "execute_result",
          "data": {
            "text/plain": [
              "   EventID        EventType     StartDateTime       EndDateTime    Borough  \\\n",
              "0   455325  Shooting Permit  2018-12-09 07:00  2018-12-09 10:30     Queens   \n",
              "1   455325  Shooting Permit  2018-12-09 07:00  2018-12-09 10:30     Queens   \n",
              "2   455325  Shooting Permit  2018-12-09 07:00  2018-12-09 10:30     Queens   \n",
              "3   455325  Shooting Permit  2018-12-09 07:00  2018-12-09 10:30     Queens   \n",
              "4   455286  Shooting Permit  2018-12-07 04:00  2018-12-07 11:00  Manhattan   \n",
              "\n",
              "     Category SubCategoryName  ZipCode  ZipCode_5  \n",
              "0         WEB  Not Applicable  10004.0        NaN  \n",
              "1         WEB  Not Applicable  10280.0        NaN  \n",
              "2         WEB  Not Applicable  11413.0        NaN  \n",
              "3         WEB  Not Applicable  11432.0        NaN  \n",
              "4  Television            News  10036.0        NaN  "
            ],
            "text/html": [
              "\n",
              "  <div id=\"df-42dfda31-a40b-4106-b4ee-a3be0644f6f7\">\n",
              "    <div class=\"colab-df-container\">\n",
              "      <div>\n",
              "<style scoped>\n",
              "    .dataframe tbody tr th:only-of-type {\n",
              "        vertical-align: middle;\n",
              "    }\n",
              "\n",
              "    .dataframe tbody tr th {\n",
              "        vertical-align: top;\n",
              "    }\n",
              "\n",
              "    .dataframe thead th {\n",
              "        text-align: right;\n",
              "    }\n",
              "</style>\n",
              "<table border=\"1\" class=\"dataframe\">\n",
              "  <thead>\n",
              "    <tr style=\"text-align: right;\">\n",
              "      <th></th>\n",
              "      <th>EventID</th>\n",
              "      <th>EventType</th>\n",
              "      <th>StartDateTime</th>\n",
              "      <th>EndDateTime</th>\n",
              "      <th>Borough</th>\n",
              "      <th>Category</th>\n",
              "      <th>SubCategoryName</th>\n",
              "      <th>ZipCode</th>\n",
              "      <th>ZipCode_5</th>\n",
              "    </tr>\n",
              "  </thead>\n",
              "  <tbody>\n",
              "    <tr>\n",
              "      <th>0</th>\n",
              "      <td>455325</td>\n",
              "      <td>Shooting Permit</td>\n",
              "      <td>2018-12-09 07:00</td>\n",
              "      <td>2018-12-09 10:30</td>\n",
              "      <td>Queens</td>\n",
              "      <td>WEB</td>\n",
              "      <td>Not Applicable</td>\n",
              "      <td>10004.0</td>\n",
              "      <td>NaN</td>\n",
              "    </tr>\n",
              "    <tr>\n",
              "      <th>1</th>\n",
              "      <td>455325</td>\n",
              "      <td>Shooting Permit</td>\n",
              "      <td>2018-12-09 07:00</td>\n",
              "      <td>2018-12-09 10:30</td>\n",
              "      <td>Queens</td>\n",
              "      <td>WEB</td>\n",
              "      <td>Not Applicable</td>\n",
              "      <td>10280.0</td>\n",
              "      <td>NaN</td>\n",
              "    </tr>\n",
              "    <tr>\n",
              "      <th>2</th>\n",
              "      <td>455325</td>\n",
              "      <td>Shooting Permit</td>\n",
              "      <td>2018-12-09 07:00</td>\n",
              "      <td>2018-12-09 10:30</td>\n",
              "      <td>Queens</td>\n",
              "      <td>WEB</td>\n",
              "      <td>Not Applicable</td>\n",
              "      <td>11413.0</td>\n",
              "      <td>NaN</td>\n",
              "    </tr>\n",
              "    <tr>\n",
              "      <th>3</th>\n",
              "      <td>455325</td>\n",
              "      <td>Shooting Permit</td>\n",
              "      <td>2018-12-09 07:00</td>\n",
              "      <td>2018-12-09 10:30</td>\n",
              "      <td>Queens</td>\n",
              "      <td>WEB</td>\n",
              "      <td>Not Applicable</td>\n",
              "      <td>11432.0</td>\n",
              "      <td>NaN</td>\n",
              "    </tr>\n",
              "    <tr>\n",
              "      <th>4</th>\n",
              "      <td>455286</td>\n",
              "      <td>Shooting Permit</td>\n",
              "      <td>2018-12-07 04:00</td>\n",
              "      <td>2018-12-07 11:00</td>\n",
              "      <td>Manhattan</td>\n",
              "      <td>Television</td>\n",
              "      <td>News</td>\n",
              "      <td>10036.0</td>\n",
              "      <td>NaN</td>\n",
              "    </tr>\n",
              "  </tbody>\n",
              "</table>\n",
              "</div>\n",
              "      <button class=\"colab-df-convert\" onclick=\"convertToInteractive('df-42dfda31-a40b-4106-b4ee-a3be0644f6f7')\"\n",
              "              title=\"Convert this dataframe to an interactive table.\"\n",
              "              style=\"display:none;\">\n",
              "        \n",
              "  <svg xmlns=\"http://www.w3.org/2000/svg\" height=\"24px\"viewBox=\"0 0 24 24\"\n",
              "       width=\"24px\">\n",
              "    <path d=\"M0 0h24v24H0V0z\" fill=\"none\"/>\n",
              "    <path d=\"M18.56 5.44l.94 2.06.94-2.06 2.06-.94-2.06-.94-.94-2.06-.94 2.06-2.06.94zm-11 1L8.5 8.5l.94-2.06 2.06-.94-2.06-.94L8.5 2.5l-.94 2.06-2.06.94zm10 10l.94 2.06.94-2.06 2.06-.94-2.06-.94-.94-2.06-.94 2.06-2.06.94z\"/><path d=\"M17.41 7.96l-1.37-1.37c-.4-.4-.92-.59-1.43-.59-.52 0-1.04.2-1.43.59L10.3 9.45l-7.72 7.72c-.78.78-.78 2.05 0 2.83L4 21.41c.39.39.9.59 1.41.59.51 0 1.02-.2 1.41-.59l7.78-7.78 2.81-2.81c.8-.78.8-2.07 0-2.86zM5.41 20L4 18.59l7.72-7.72 1.47 1.35L5.41 20z\"/>\n",
              "  </svg>\n",
              "      </button>\n",
              "      \n",
              "  <style>\n",
              "    .colab-df-container {\n",
              "      display:flex;\n",
              "      flex-wrap:wrap;\n",
              "      gap: 12px;\n",
              "    }\n",
              "\n",
              "    .colab-df-convert {\n",
              "      background-color: #E8F0FE;\n",
              "      border: none;\n",
              "      border-radius: 50%;\n",
              "      cursor: pointer;\n",
              "      display: none;\n",
              "      fill: #1967D2;\n",
              "      height: 32px;\n",
              "      padding: 0 0 0 0;\n",
              "      width: 32px;\n",
              "    }\n",
              "\n",
              "    .colab-df-convert:hover {\n",
              "      background-color: #E2EBFA;\n",
              "      box-shadow: 0px 1px 2px rgba(60, 64, 67, 0.3), 0px 1px 3px 1px rgba(60, 64, 67, 0.15);\n",
              "      fill: #174EA6;\n",
              "    }\n",
              "\n",
              "    [theme=dark] .colab-df-convert {\n",
              "      background-color: #3B4455;\n",
              "      fill: #D2E3FC;\n",
              "    }\n",
              "\n",
              "    [theme=dark] .colab-df-convert:hover {\n",
              "      background-color: #434B5C;\n",
              "      box-shadow: 0px 1px 3px 1px rgba(0, 0, 0, 0.15);\n",
              "      filter: drop-shadow(0px 1px 2px rgba(0, 0, 0, 0.3));\n",
              "      fill: #FFFFFF;\n",
              "    }\n",
              "  </style>\n",
              "\n",
              "      <script>\n",
              "        const buttonEl =\n",
              "          document.querySelector('#df-42dfda31-a40b-4106-b4ee-a3be0644f6f7 button.colab-df-convert');\n",
              "        buttonEl.style.display =\n",
              "          google.colab.kernel.accessAllowed ? 'block' : 'none';\n",
              "\n",
              "        async function convertToInteractive(key) {\n",
              "          const element = document.querySelector('#df-42dfda31-a40b-4106-b4ee-a3be0644f6f7');\n",
              "          const dataTable =\n",
              "            await google.colab.kernel.invokeFunction('convertToInteractive',\n",
              "                                                     [key], {});\n",
              "          if (!dataTable) return;\n",
              "\n",
              "          const docLinkHtml = 'Like what you see? Visit the ' +\n",
              "            '<a target=\"_blank\" href=https://colab.research.google.com/notebooks/data_table.ipynb>data table notebook</a>'\n",
              "            + ' to learn more about interactive tables.';\n",
              "          element.innerHTML = '';\n",
              "          dataTable['output_type'] = 'display_data';\n",
              "          await google.colab.output.renderOutput(dataTable, element);\n",
              "          const docLink = document.createElement('div');\n",
              "          docLink.innerHTML = docLinkHtml;\n",
              "          element.appendChild(docLink);\n",
              "        }\n",
              "      </script>\n",
              "    </div>\n",
              "  </div>\n",
              "  "
            ]
          },
          "metadata": {},
          "execution_count": 9
        }
      ]
    },
    {
      "cell_type": "code",
      "source": [
        "irs_agi_map.to_sql(name='irs_agi_map',con=con)"
      ],
      "metadata": {
        "id": "OtbFEPdMoUgD"
      },
      "execution_count": 10,
      "outputs": []
    },
    {
      "cell_type": "code",
      "source": [
        "check = pd.read_sql(\"SELECT * FROM irs_agi_map LIMIT 3\", con=con)\n",
        "check"
      ],
      "metadata": {
        "id": "lWwpQ3YToUif",
        "colab": {
          "base_uri": "https://localhost:8080/",
          "height": 143
        },
        "outputId": "1847cfed-108b-4792-b7c4-a2fd9ee510ae"
      },
      "execution_count": 11,
      "outputs": [
        {
          "output_type": "execute_result",
          "data": {
            "text/plain": [
              "   index  agi_map_id             agi_descrp\n",
              "0      0           1       $1 under $25,000\n",
              "1      1           2  $25,000 under $50,000\n",
              "2      2           3  $50,000 under $75,000"
            ],
            "text/html": [
              "\n",
              "  <div id=\"df-f666b852-e1e5-4b14-a6c9-2293cd606a8e\">\n",
              "    <div class=\"colab-df-container\">\n",
              "      <div>\n",
              "<style scoped>\n",
              "    .dataframe tbody tr th:only-of-type {\n",
              "        vertical-align: middle;\n",
              "    }\n",
              "\n",
              "    .dataframe tbody tr th {\n",
              "        vertical-align: top;\n",
              "    }\n",
              "\n",
              "    .dataframe thead th {\n",
              "        text-align: right;\n",
              "    }\n",
              "</style>\n",
              "<table border=\"1\" class=\"dataframe\">\n",
              "  <thead>\n",
              "    <tr style=\"text-align: right;\">\n",
              "      <th></th>\n",
              "      <th>index</th>\n",
              "      <th>agi_map_id</th>\n",
              "      <th>agi_descrp</th>\n",
              "    </tr>\n",
              "  </thead>\n",
              "  <tbody>\n",
              "    <tr>\n",
              "      <th>0</th>\n",
              "      <td>0</td>\n",
              "      <td>1</td>\n",
              "      <td>$1 under $25,000</td>\n",
              "    </tr>\n",
              "    <tr>\n",
              "      <th>1</th>\n",
              "      <td>1</td>\n",
              "      <td>2</td>\n",
              "      <td>$25,000 under $50,000</td>\n",
              "    </tr>\n",
              "    <tr>\n",
              "      <th>2</th>\n",
              "      <td>2</td>\n",
              "      <td>3</td>\n",
              "      <td>$50,000 under $75,000</td>\n",
              "    </tr>\n",
              "  </tbody>\n",
              "</table>\n",
              "</div>\n",
              "      <button class=\"colab-df-convert\" onclick=\"convertToInteractive('df-f666b852-e1e5-4b14-a6c9-2293cd606a8e')\"\n",
              "              title=\"Convert this dataframe to an interactive table.\"\n",
              "              style=\"display:none;\">\n",
              "        \n",
              "  <svg xmlns=\"http://www.w3.org/2000/svg\" height=\"24px\"viewBox=\"0 0 24 24\"\n",
              "       width=\"24px\">\n",
              "    <path d=\"M0 0h24v24H0V0z\" fill=\"none\"/>\n",
              "    <path d=\"M18.56 5.44l.94 2.06.94-2.06 2.06-.94-2.06-.94-.94-2.06-.94 2.06-2.06.94zm-11 1L8.5 8.5l.94-2.06 2.06-.94-2.06-.94L8.5 2.5l-.94 2.06-2.06.94zm10 10l.94 2.06.94-2.06 2.06-.94-2.06-.94-.94-2.06-.94 2.06-2.06.94z\"/><path d=\"M17.41 7.96l-1.37-1.37c-.4-.4-.92-.59-1.43-.59-.52 0-1.04.2-1.43.59L10.3 9.45l-7.72 7.72c-.78.78-.78 2.05 0 2.83L4 21.41c.39.39.9.59 1.41.59.51 0 1.02-.2 1.41-.59l7.78-7.78 2.81-2.81c.8-.78.8-2.07 0-2.86zM5.41 20L4 18.59l7.72-7.72 1.47 1.35L5.41 20z\"/>\n",
              "  </svg>\n",
              "      </button>\n",
              "      \n",
              "  <style>\n",
              "    .colab-df-container {\n",
              "      display:flex;\n",
              "      flex-wrap:wrap;\n",
              "      gap: 12px;\n",
              "    }\n",
              "\n",
              "    .colab-df-convert {\n",
              "      background-color: #E8F0FE;\n",
              "      border: none;\n",
              "      border-radius: 50%;\n",
              "      cursor: pointer;\n",
              "      display: none;\n",
              "      fill: #1967D2;\n",
              "      height: 32px;\n",
              "      padding: 0 0 0 0;\n",
              "      width: 32px;\n",
              "    }\n",
              "\n",
              "    .colab-df-convert:hover {\n",
              "      background-color: #E2EBFA;\n",
              "      box-shadow: 0px 1px 2px rgba(60, 64, 67, 0.3), 0px 1px 3px 1px rgba(60, 64, 67, 0.15);\n",
              "      fill: #174EA6;\n",
              "    }\n",
              "\n",
              "    [theme=dark] .colab-df-convert {\n",
              "      background-color: #3B4455;\n",
              "      fill: #D2E3FC;\n",
              "    }\n",
              "\n",
              "    [theme=dark] .colab-df-convert:hover {\n",
              "      background-color: #434B5C;\n",
              "      box-shadow: 0px 1px 3px 1px rgba(0, 0, 0, 0.15);\n",
              "      filter: drop-shadow(0px 1px 2px rgba(0, 0, 0, 0.3));\n",
              "      fill: #FFFFFF;\n",
              "    }\n",
              "  </style>\n",
              "\n",
              "      <script>\n",
              "        const buttonEl =\n",
              "          document.querySelector('#df-f666b852-e1e5-4b14-a6c9-2293cd606a8e button.colab-df-convert');\n",
              "        buttonEl.style.display =\n",
              "          google.colab.kernel.accessAllowed ? 'block' : 'none';\n",
              "\n",
              "        async function convertToInteractive(key) {\n",
              "          const element = document.querySelector('#df-f666b852-e1e5-4b14-a6c9-2293cd606a8e');\n",
              "          const dataTable =\n",
              "            await google.colab.kernel.invokeFunction('convertToInteractive',\n",
              "                                                     [key], {});\n",
              "          if (!dataTable) return;\n",
              "\n",
              "          const docLinkHtml = 'Like what you see? Visit the ' +\n",
              "            '<a target=\"_blank\" href=https://colab.research.google.com/notebooks/data_table.ipynb>data table notebook</a>'\n",
              "            + ' to learn more about interactive tables.';\n",
              "          element.innerHTML = '';\n",
              "          dataTable['output_type'] = 'display_data';\n",
              "          await google.colab.output.renderOutput(dataTable, element);\n",
              "          const docLink = document.createElement('div');\n",
              "          docLink.innerHTML = docLinkHtml;\n",
              "          element.appendChild(docLink);\n",
              "        }\n",
              "      </script>\n",
              "    </div>\n",
              "  </div>\n",
              "  "
            ]
          },
          "metadata": {},
          "execution_count": 11
        }
      ]
    },
    {
      "cell_type": "code",
      "source": [
        "irs_nyc_tax_returns.to_sql(name='irs_nyc_tax_returns',con=con)"
      ],
      "metadata": {
        "id": "1NybK9MSoUlF"
      },
      "execution_count": 12,
      "outputs": []
    },
    {
      "cell_type": "code",
      "source": [
        "check = pd.read_sql(\"SELECT * FROM irs_nyc_tax_returns LIMIT 3\", con=con)\n",
        "check"
      ],
      "metadata": {
        "id": "Id1SOoHYNmPW",
        "colab": {
          "base_uri": "https://localhost:8080/",
          "height": 143
        },
        "outputId": "59c9859b-0d65-4e1a-8533-e3f6474254e1"
      },
      "execution_count": 13,
      "outputs": [
        {
          "output_type": "execute_result",
          "data": {
            "text/plain": [
              "   index  year state  zipcode  agi_map_id  return_count\n",
              "0      0  2012    NY    10001           1          4080\n",
              "1      1  2012    NY    10001           2          2520\n",
              "2      2  2012    NY    10001           3          1790"
            ],
            "text/html": [
              "\n",
              "  <div id=\"df-ef3c33ff-2b75-456b-aa12-4d7e0afa6cad\">\n",
              "    <div class=\"colab-df-container\">\n",
              "      <div>\n",
              "<style scoped>\n",
              "    .dataframe tbody tr th:only-of-type {\n",
              "        vertical-align: middle;\n",
              "    }\n",
              "\n",
              "    .dataframe tbody tr th {\n",
              "        vertical-align: top;\n",
              "    }\n",
              "\n",
              "    .dataframe thead th {\n",
              "        text-align: right;\n",
              "    }\n",
              "</style>\n",
              "<table border=\"1\" class=\"dataframe\">\n",
              "  <thead>\n",
              "    <tr style=\"text-align: right;\">\n",
              "      <th></th>\n",
              "      <th>index</th>\n",
              "      <th>year</th>\n",
              "      <th>state</th>\n",
              "      <th>zipcode</th>\n",
              "      <th>agi_map_id</th>\n",
              "      <th>return_count</th>\n",
              "    </tr>\n",
              "  </thead>\n",
              "  <tbody>\n",
              "    <tr>\n",
              "      <th>0</th>\n",
              "      <td>0</td>\n",
              "      <td>2012</td>\n",
              "      <td>NY</td>\n",
              "      <td>10001</td>\n",
              "      <td>1</td>\n",
              "      <td>4080</td>\n",
              "    </tr>\n",
              "    <tr>\n",
              "      <th>1</th>\n",
              "      <td>1</td>\n",
              "      <td>2012</td>\n",
              "      <td>NY</td>\n",
              "      <td>10001</td>\n",
              "      <td>2</td>\n",
              "      <td>2520</td>\n",
              "    </tr>\n",
              "    <tr>\n",
              "      <th>2</th>\n",
              "      <td>2</td>\n",
              "      <td>2012</td>\n",
              "      <td>NY</td>\n",
              "      <td>10001</td>\n",
              "      <td>3</td>\n",
              "      <td>1790</td>\n",
              "    </tr>\n",
              "  </tbody>\n",
              "</table>\n",
              "</div>\n",
              "      <button class=\"colab-df-convert\" onclick=\"convertToInteractive('df-ef3c33ff-2b75-456b-aa12-4d7e0afa6cad')\"\n",
              "              title=\"Convert this dataframe to an interactive table.\"\n",
              "              style=\"display:none;\">\n",
              "        \n",
              "  <svg xmlns=\"http://www.w3.org/2000/svg\" height=\"24px\"viewBox=\"0 0 24 24\"\n",
              "       width=\"24px\">\n",
              "    <path d=\"M0 0h24v24H0V0z\" fill=\"none\"/>\n",
              "    <path d=\"M18.56 5.44l.94 2.06.94-2.06 2.06-.94-2.06-.94-.94-2.06-.94 2.06-2.06.94zm-11 1L8.5 8.5l.94-2.06 2.06-.94-2.06-.94L8.5 2.5l-.94 2.06-2.06.94zm10 10l.94 2.06.94-2.06 2.06-.94-2.06-.94-.94-2.06-.94 2.06-2.06.94z\"/><path d=\"M17.41 7.96l-1.37-1.37c-.4-.4-.92-.59-1.43-.59-.52 0-1.04.2-1.43.59L10.3 9.45l-7.72 7.72c-.78.78-.78 2.05 0 2.83L4 21.41c.39.39.9.59 1.41.59.51 0 1.02-.2 1.41-.59l7.78-7.78 2.81-2.81c.8-.78.8-2.07 0-2.86zM5.41 20L4 18.59l7.72-7.72 1.47 1.35L5.41 20z\"/>\n",
              "  </svg>\n",
              "      </button>\n",
              "      \n",
              "  <style>\n",
              "    .colab-df-container {\n",
              "      display:flex;\n",
              "      flex-wrap:wrap;\n",
              "      gap: 12px;\n",
              "    }\n",
              "\n",
              "    .colab-df-convert {\n",
              "      background-color: #E8F0FE;\n",
              "      border: none;\n",
              "      border-radius: 50%;\n",
              "      cursor: pointer;\n",
              "      display: none;\n",
              "      fill: #1967D2;\n",
              "      height: 32px;\n",
              "      padding: 0 0 0 0;\n",
              "      width: 32px;\n",
              "    }\n",
              "\n",
              "    .colab-df-convert:hover {\n",
              "      background-color: #E2EBFA;\n",
              "      box-shadow: 0px 1px 2px rgba(60, 64, 67, 0.3), 0px 1px 3px 1px rgba(60, 64, 67, 0.15);\n",
              "      fill: #174EA6;\n",
              "    }\n",
              "\n",
              "    [theme=dark] .colab-df-convert {\n",
              "      background-color: #3B4455;\n",
              "      fill: #D2E3FC;\n",
              "    }\n",
              "\n",
              "    [theme=dark] .colab-df-convert:hover {\n",
              "      background-color: #434B5C;\n",
              "      box-shadow: 0px 1px 3px 1px rgba(0, 0, 0, 0.15);\n",
              "      filter: drop-shadow(0px 1px 2px rgba(0, 0, 0, 0.3));\n",
              "      fill: #FFFFFF;\n",
              "    }\n",
              "  </style>\n",
              "\n",
              "      <script>\n",
              "        const buttonEl =\n",
              "          document.querySelector('#df-ef3c33ff-2b75-456b-aa12-4d7e0afa6cad button.colab-df-convert');\n",
              "        buttonEl.style.display =\n",
              "          google.colab.kernel.accessAllowed ? 'block' : 'none';\n",
              "\n",
              "        async function convertToInteractive(key) {\n",
              "          const element = document.querySelector('#df-ef3c33ff-2b75-456b-aa12-4d7e0afa6cad');\n",
              "          const dataTable =\n",
              "            await google.colab.kernel.invokeFunction('convertToInteractive',\n",
              "                                                     [key], {});\n",
              "          if (!dataTable) return;\n",
              "\n",
              "          const docLinkHtml = 'Like what you see? Visit the ' +\n",
              "            '<a target=\"_blank\" href=https://colab.research.google.com/notebooks/data_table.ipynb>data table notebook</a>'\n",
              "            + ' to learn more about interactive tables.';\n",
              "          element.innerHTML = '';\n",
              "          dataTable['output_type'] = 'display_data';\n",
              "          await google.colab.output.renderOutput(dataTable, element);\n",
              "          const docLink = document.createElement('div');\n",
              "          docLink.innerHTML = docLinkHtml;\n",
              "          element.appendChild(docLink);\n",
              "        }\n",
              "      </script>\n",
              "    </div>\n",
              "  </div>\n",
              "  "
            ]
          },
          "metadata": {},
          "execution_count": 13
        }
      ]
    },
    {
      "cell_type": "code",
      "source": [
        "nyc_census_data.to_sql(name='nyc_census_data',con=con)"
      ],
      "metadata": {
        "id": "LRgy3sgtpgp6"
      },
      "execution_count": 14,
      "outputs": []
    },
    {
      "cell_type": "code",
      "source": [
        "check = pd.read_sql(\"SELECT * FROM nyc_census_data LIMIT 3\", con=con)\n",
        "check"
      ],
      "metadata": {
        "id": "8zeNL-7iNrfY",
        "colab": {
          "base_uri": "https://localhost:8080/",
          "height": 173
        },
        "outputId": "091fa031-9e22-4fcc-fe47-0cc8a73e3ef0"
      },
      "execution_count": 15,
      "outputs": [
        {
          "output_type": "execute_result",
          "data": {
            "text/plain": [
              "   index  ZipCode  Age_all  Age_under5  Age_5to9  Age_10to14  Age_15to19  \\\n",
              "0      0     6390      236           6         9          16          11   \n",
              "1      1    10001    21102         624       458         488        1376   \n",
              "2      2    10002    81410        3620      3663        3660        4098   \n",
              "\n",
              "   Age_20to24  Age_25to29  Age_30to34  ...  Age_over84  Gender_Male  \\\n",
              "0           7           7           7  ...           3          118   \n",
              "1        2632        2741        2095  ...         429        10184   \n",
              "2        6349        7458        6498  ...        2318        38570   \n",
              "\n",
              "   Gender_Female  Ethnicity_White  Ethnicity_AfricanAmerican  \\\n",
              "0            118              231                          2   \n",
              "1          10918            14351                       2227   \n",
              "2          42840            27453                       7851   \n",
              "\n",
              "   Ethnicity_NativeAmerican  Ethnicity_Asian  Ethnicity_PacificIslander  \\\n",
              "0                         1                2                          0   \n",
              "1                       191             3843                         36   \n",
              "2                       876            38893                        172   \n",
              "\n",
              "   Ethnicity_Other  Ethnicity_All_HispancLatino_Descent  \n",
              "0                4                                    2  \n",
              "1             1315                                 3648  \n",
              "2             9176                                20619  \n",
              "\n",
              "[3 rows x 30 columns]"
            ],
            "text/html": [
              "\n",
              "  <div id=\"df-3a21f845-1859-4c67-8425-f01742afd7bb\">\n",
              "    <div class=\"colab-df-container\">\n",
              "      <div>\n",
              "<style scoped>\n",
              "    .dataframe tbody tr th:only-of-type {\n",
              "        vertical-align: middle;\n",
              "    }\n",
              "\n",
              "    .dataframe tbody tr th {\n",
              "        vertical-align: top;\n",
              "    }\n",
              "\n",
              "    .dataframe thead th {\n",
              "        text-align: right;\n",
              "    }\n",
              "</style>\n",
              "<table border=\"1\" class=\"dataframe\">\n",
              "  <thead>\n",
              "    <tr style=\"text-align: right;\">\n",
              "      <th></th>\n",
              "      <th>index</th>\n",
              "      <th>ZipCode</th>\n",
              "      <th>Age_all</th>\n",
              "      <th>Age_under5</th>\n",
              "      <th>Age_5to9</th>\n",
              "      <th>Age_10to14</th>\n",
              "      <th>Age_15to19</th>\n",
              "      <th>Age_20to24</th>\n",
              "      <th>Age_25to29</th>\n",
              "      <th>Age_30to34</th>\n",
              "      <th>...</th>\n",
              "      <th>Age_over84</th>\n",
              "      <th>Gender_Male</th>\n",
              "      <th>Gender_Female</th>\n",
              "      <th>Ethnicity_White</th>\n",
              "      <th>Ethnicity_AfricanAmerican</th>\n",
              "      <th>Ethnicity_NativeAmerican</th>\n",
              "      <th>Ethnicity_Asian</th>\n",
              "      <th>Ethnicity_PacificIslander</th>\n",
              "      <th>Ethnicity_Other</th>\n",
              "      <th>Ethnicity_All_HispancLatino_Descent</th>\n",
              "    </tr>\n",
              "  </thead>\n",
              "  <tbody>\n",
              "    <tr>\n",
              "      <th>0</th>\n",
              "      <td>0</td>\n",
              "      <td>6390</td>\n",
              "      <td>236</td>\n",
              "      <td>6</td>\n",
              "      <td>9</td>\n",
              "      <td>16</td>\n",
              "      <td>11</td>\n",
              "      <td>7</td>\n",
              "      <td>7</td>\n",
              "      <td>7</td>\n",
              "      <td>...</td>\n",
              "      <td>3</td>\n",
              "      <td>118</td>\n",
              "      <td>118</td>\n",
              "      <td>231</td>\n",
              "      <td>2</td>\n",
              "      <td>1</td>\n",
              "      <td>2</td>\n",
              "      <td>0</td>\n",
              "      <td>4</td>\n",
              "      <td>2</td>\n",
              "    </tr>\n",
              "    <tr>\n",
              "      <th>1</th>\n",
              "      <td>1</td>\n",
              "      <td>10001</td>\n",
              "      <td>21102</td>\n",
              "      <td>624</td>\n",
              "      <td>458</td>\n",
              "      <td>488</td>\n",
              "      <td>1376</td>\n",
              "      <td>2632</td>\n",
              "      <td>2741</td>\n",
              "      <td>2095</td>\n",
              "      <td>...</td>\n",
              "      <td>429</td>\n",
              "      <td>10184</td>\n",
              "      <td>10918</td>\n",
              "      <td>14351</td>\n",
              "      <td>2227</td>\n",
              "      <td>191</td>\n",
              "      <td>3843</td>\n",
              "      <td>36</td>\n",
              "      <td>1315</td>\n",
              "      <td>3648</td>\n",
              "    </tr>\n",
              "    <tr>\n",
              "      <th>2</th>\n",
              "      <td>2</td>\n",
              "      <td>10002</td>\n",
              "      <td>81410</td>\n",
              "      <td>3620</td>\n",
              "      <td>3663</td>\n",
              "      <td>3660</td>\n",
              "      <td>4098</td>\n",
              "      <td>6349</td>\n",
              "      <td>7458</td>\n",
              "      <td>6498</td>\n",
              "      <td>...</td>\n",
              "      <td>2318</td>\n",
              "      <td>38570</td>\n",
              "      <td>42840</td>\n",
              "      <td>27453</td>\n",
              "      <td>7851</td>\n",
              "      <td>876</td>\n",
              "      <td>38893</td>\n",
              "      <td>172</td>\n",
              "      <td>9176</td>\n",
              "      <td>20619</td>\n",
              "    </tr>\n",
              "  </tbody>\n",
              "</table>\n",
              "<p>3 rows × 30 columns</p>\n",
              "</div>\n",
              "      <button class=\"colab-df-convert\" onclick=\"convertToInteractive('df-3a21f845-1859-4c67-8425-f01742afd7bb')\"\n",
              "              title=\"Convert this dataframe to an interactive table.\"\n",
              "              style=\"display:none;\">\n",
              "        \n",
              "  <svg xmlns=\"http://www.w3.org/2000/svg\" height=\"24px\"viewBox=\"0 0 24 24\"\n",
              "       width=\"24px\">\n",
              "    <path d=\"M0 0h24v24H0V0z\" fill=\"none\"/>\n",
              "    <path d=\"M18.56 5.44l.94 2.06.94-2.06 2.06-.94-2.06-.94-.94-2.06-.94 2.06-2.06.94zm-11 1L8.5 8.5l.94-2.06 2.06-.94-2.06-.94L8.5 2.5l-.94 2.06-2.06.94zm10 10l.94 2.06.94-2.06 2.06-.94-2.06-.94-.94-2.06-.94 2.06-2.06.94z\"/><path d=\"M17.41 7.96l-1.37-1.37c-.4-.4-.92-.59-1.43-.59-.52 0-1.04.2-1.43.59L10.3 9.45l-7.72 7.72c-.78.78-.78 2.05 0 2.83L4 21.41c.39.39.9.59 1.41.59.51 0 1.02-.2 1.41-.59l7.78-7.78 2.81-2.81c.8-.78.8-2.07 0-2.86zM5.41 20L4 18.59l7.72-7.72 1.47 1.35L5.41 20z\"/>\n",
              "  </svg>\n",
              "      </button>\n",
              "      \n",
              "  <style>\n",
              "    .colab-df-container {\n",
              "      display:flex;\n",
              "      flex-wrap:wrap;\n",
              "      gap: 12px;\n",
              "    }\n",
              "\n",
              "    .colab-df-convert {\n",
              "      background-color: #E8F0FE;\n",
              "      border: none;\n",
              "      border-radius: 50%;\n",
              "      cursor: pointer;\n",
              "      display: none;\n",
              "      fill: #1967D2;\n",
              "      height: 32px;\n",
              "      padding: 0 0 0 0;\n",
              "      width: 32px;\n",
              "    }\n",
              "\n",
              "    .colab-df-convert:hover {\n",
              "      background-color: #E2EBFA;\n",
              "      box-shadow: 0px 1px 2px rgba(60, 64, 67, 0.3), 0px 1px 3px 1px rgba(60, 64, 67, 0.15);\n",
              "      fill: #174EA6;\n",
              "    }\n",
              "\n",
              "    [theme=dark] .colab-df-convert {\n",
              "      background-color: #3B4455;\n",
              "      fill: #D2E3FC;\n",
              "    }\n",
              "\n",
              "    [theme=dark] .colab-df-convert:hover {\n",
              "      background-color: #434B5C;\n",
              "      box-shadow: 0px 1px 3px 1px rgba(0, 0, 0, 0.15);\n",
              "      filter: drop-shadow(0px 1px 2px rgba(0, 0, 0, 0.3));\n",
              "      fill: #FFFFFF;\n",
              "    }\n",
              "  </style>\n",
              "\n",
              "      <script>\n",
              "        const buttonEl =\n",
              "          document.querySelector('#df-3a21f845-1859-4c67-8425-f01742afd7bb button.colab-df-convert');\n",
              "        buttonEl.style.display =\n",
              "          google.colab.kernel.accessAllowed ? 'block' : 'none';\n",
              "\n",
              "        async function convertToInteractive(key) {\n",
              "          const element = document.querySelector('#df-3a21f845-1859-4c67-8425-f01742afd7bb');\n",
              "          const dataTable =\n",
              "            await google.colab.kernel.invokeFunction('convertToInteractive',\n",
              "                                                     [key], {});\n",
              "          if (!dataTable) return;\n",
              "\n",
              "          const docLinkHtml = 'Like what you see? Visit the ' +\n",
              "            '<a target=\"_blank\" href=https://colab.research.google.com/notebooks/data_table.ipynb>data table notebook</a>'\n",
              "            + ' to learn more about interactive tables.';\n",
              "          element.innerHTML = '';\n",
              "          dataTable['output_type'] = 'display_data';\n",
              "          await google.colab.output.renderOutput(dataTable, element);\n",
              "          const docLink = document.createElement('div');\n",
              "          docLink.innerHTML = docLinkHtml;\n",
              "          element.appendChild(docLink);\n",
              "        }\n",
              "      </script>\n",
              "    </div>\n",
              "  </div>\n",
              "  "
            ]
          },
          "metadata": {},
          "execution_count": 15
        }
      ]
    },
    {
      "cell_type": "code",
      "source": [
        "nyc_film_permits.to_sql(name='nyc_film_permits',con=con)"
      ],
      "metadata": {
        "id": "9cedwyzfpgv5"
      },
      "execution_count": 16,
      "outputs": []
    },
    {
      "cell_type": "code",
      "source": [
        "check = pd.read_sql(\"SELECT * FROM nyc_film_permits LIMIT 3\", con=con)\n",
        "check"
      ],
      "metadata": {
        "id": "DRWL5-IpNu07",
        "colab": {
          "base_uri": "https://localhost:8080/",
          "height": 143
        },
        "outputId": "b4b06cf1-01e8-4886-aaec-7ac8371a1831"
      },
      "execution_count": 17,
      "outputs": [
        {
          "output_type": "execute_result",
          "data": {
            "text/plain": [
              "   index  EventID        EventType     StartDateTime       EndDateTime  \\\n",
              "0      0   455325  Shooting Permit  2018-12-09 07:00  2018-12-09 10:30   \n",
              "1      1   455325  Shooting Permit  2018-12-09 07:00  2018-12-09 10:30   \n",
              "2      2   455325  Shooting Permit  2018-12-09 07:00  2018-12-09 10:30   \n",
              "\n",
              "  Borough Category SubCategoryName  ZipCode ZipCode_5  \n",
              "0  Queens      WEB  Not Applicable  10004.0      None  \n",
              "1  Queens      WEB  Not Applicable  10280.0      None  \n",
              "2  Queens      WEB  Not Applicable  11413.0      None  "
            ],
            "text/html": [
              "\n",
              "  <div id=\"df-5bc4a14c-cff3-493b-8af3-f1218303451a\">\n",
              "    <div class=\"colab-df-container\">\n",
              "      <div>\n",
              "<style scoped>\n",
              "    .dataframe tbody tr th:only-of-type {\n",
              "        vertical-align: middle;\n",
              "    }\n",
              "\n",
              "    .dataframe tbody tr th {\n",
              "        vertical-align: top;\n",
              "    }\n",
              "\n",
              "    .dataframe thead th {\n",
              "        text-align: right;\n",
              "    }\n",
              "</style>\n",
              "<table border=\"1\" class=\"dataframe\">\n",
              "  <thead>\n",
              "    <tr style=\"text-align: right;\">\n",
              "      <th></th>\n",
              "      <th>index</th>\n",
              "      <th>EventID</th>\n",
              "      <th>EventType</th>\n",
              "      <th>StartDateTime</th>\n",
              "      <th>EndDateTime</th>\n",
              "      <th>Borough</th>\n",
              "      <th>Category</th>\n",
              "      <th>SubCategoryName</th>\n",
              "      <th>ZipCode</th>\n",
              "      <th>ZipCode_5</th>\n",
              "    </tr>\n",
              "  </thead>\n",
              "  <tbody>\n",
              "    <tr>\n",
              "      <th>0</th>\n",
              "      <td>0</td>\n",
              "      <td>455325</td>\n",
              "      <td>Shooting Permit</td>\n",
              "      <td>2018-12-09 07:00</td>\n",
              "      <td>2018-12-09 10:30</td>\n",
              "      <td>Queens</td>\n",
              "      <td>WEB</td>\n",
              "      <td>Not Applicable</td>\n",
              "      <td>10004.0</td>\n",
              "      <td>None</td>\n",
              "    </tr>\n",
              "    <tr>\n",
              "      <th>1</th>\n",
              "      <td>1</td>\n",
              "      <td>455325</td>\n",
              "      <td>Shooting Permit</td>\n",
              "      <td>2018-12-09 07:00</td>\n",
              "      <td>2018-12-09 10:30</td>\n",
              "      <td>Queens</td>\n",
              "      <td>WEB</td>\n",
              "      <td>Not Applicable</td>\n",
              "      <td>10280.0</td>\n",
              "      <td>None</td>\n",
              "    </tr>\n",
              "    <tr>\n",
              "      <th>2</th>\n",
              "      <td>2</td>\n",
              "      <td>455325</td>\n",
              "      <td>Shooting Permit</td>\n",
              "      <td>2018-12-09 07:00</td>\n",
              "      <td>2018-12-09 10:30</td>\n",
              "      <td>Queens</td>\n",
              "      <td>WEB</td>\n",
              "      <td>Not Applicable</td>\n",
              "      <td>11413.0</td>\n",
              "      <td>None</td>\n",
              "    </tr>\n",
              "  </tbody>\n",
              "</table>\n",
              "</div>\n",
              "      <button class=\"colab-df-convert\" onclick=\"convertToInteractive('df-5bc4a14c-cff3-493b-8af3-f1218303451a')\"\n",
              "              title=\"Convert this dataframe to an interactive table.\"\n",
              "              style=\"display:none;\">\n",
              "        \n",
              "  <svg xmlns=\"http://www.w3.org/2000/svg\" height=\"24px\"viewBox=\"0 0 24 24\"\n",
              "       width=\"24px\">\n",
              "    <path d=\"M0 0h24v24H0V0z\" fill=\"none\"/>\n",
              "    <path d=\"M18.56 5.44l.94 2.06.94-2.06 2.06-.94-2.06-.94-.94-2.06-.94 2.06-2.06.94zm-11 1L8.5 8.5l.94-2.06 2.06-.94-2.06-.94L8.5 2.5l-.94 2.06-2.06.94zm10 10l.94 2.06.94-2.06 2.06-.94-2.06-.94-.94-2.06-.94 2.06-2.06.94z\"/><path d=\"M17.41 7.96l-1.37-1.37c-.4-.4-.92-.59-1.43-.59-.52 0-1.04.2-1.43.59L10.3 9.45l-7.72 7.72c-.78.78-.78 2.05 0 2.83L4 21.41c.39.39.9.59 1.41.59.51 0 1.02-.2 1.41-.59l7.78-7.78 2.81-2.81c.8-.78.8-2.07 0-2.86zM5.41 20L4 18.59l7.72-7.72 1.47 1.35L5.41 20z\"/>\n",
              "  </svg>\n",
              "      </button>\n",
              "      \n",
              "  <style>\n",
              "    .colab-df-container {\n",
              "      display:flex;\n",
              "      flex-wrap:wrap;\n",
              "      gap: 12px;\n",
              "    }\n",
              "\n",
              "    .colab-df-convert {\n",
              "      background-color: #E8F0FE;\n",
              "      border: none;\n",
              "      border-radius: 50%;\n",
              "      cursor: pointer;\n",
              "      display: none;\n",
              "      fill: #1967D2;\n",
              "      height: 32px;\n",
              "      padding: 0 0 0 0;\n",
              "      width: 32px;\n",
              "    }\n",
              "\n",
              "    .colab-df-convert:hover {\n",
              "      background-color: #E2EBFA;\n",
              "      box-shadow: 0px 1px 2px rgba(60, 64, 67, 0.3), 0px 1px 3px 1px rgba(60, 64, 67, 0.15);\n",
              "      fill: #174EA6;\n",
              "    }\n",
              "\n",
              "    [theme=dark] .colab-df-convert {\n",
              "      background-color: #3B4455;\n",
              "      fill: #D2E3FC;\n",
              "    }\n",
              "\n",
              "    [theme=dark] .colab-df-convert:hover {\n",
              "      background-color: #434B5C;\n",
              "      box-shadow: 0px 1px 3px 1px rgba(0, 0, 0, 0.15);\n",
              "      filter: drop-shadow(0px 1px 2px rgba(0, 0, 0, 0.3));\n",
              "      fill: #FFFFFF;\n",
              "    }\n",
              "  </style>\n",
              "\n",
              "      <script>\n",
              "        const buttonEl =\n",
              "          document.querySelector('#df-5bc4a14c-cff3-493b-8af3-f1218303451a button.colab-df-convert');\n",
              "        buttonEl.style.display =\n",
              "          google.colab.kernel.accessAllowed ? 'block' : 'none';\n",
              "\n",
              "        async function convertToInteractive(key) {\n",
              "          const element = document.querySelector('#df-5bc4a14c-cff3-493b-8af3-f1218303451a');\n",
              "          const dataTable =\n",
              "            await google.colab.kernel.invokeFunction('convertToInteractive',\n",
              "                                                     [key], {});\n",
              "          if (!dataTable) return;\n",
              "\n",
              "          const docLinkHtml = 'Like what you see? Visit the ' +\n",
              "            '<a target=\"_blank\" href=https://colab.research.google.com/notebooks/data_table.ipynb>data table notebook</a>'\n",
              "            + ' to learn more about interactive tables.';\n",
              "          element.innerHTML = '';\n",
              "          dataTable['output_type'] = 'display_data';\n",
              "          await google.colab.output.renderOutput(dataTable, element);\n",
              "          const docLink = document.createElement('div');\n",
              "          docLink.innerHTML = docLinkHtml;\n",
              "          element.appendChild(docLink);\n",
              "        }\n",
              "      </script>\n",
              "    </div>\n",
              "  </div>\n",
              "  "
            ]
          },
          "metadata": {},
          "execution_count": 17
        }
      ]
    },
    {
      "cell_type": "markdown",
      "metadata": {
        "id": "r7FjJ01vsxAU"
      },
      "source": [
        "---"
      ]
    },
    {
      "cell_type": "markdown",
      "source": [
        "# ⭕ **QUESTIONS?**"
      ],
      "metadata": {
        "id": "KVi6I4Z5sxAU"
      }
    },
    {
      "cell_type": "markdown",
      "metadata": {
        "id": "A4JfrYo9sxAU"
      },
      "source": [
        "---"
      ]
    },
    {
      "cell_type": "markdown",
      "metadata": {
        "id": "W-STFxVcP0us"
      },
      "source": [
        "# GROUP BY"
      ]
    },
    {
      "cell_type": "markdown",
      "metadata": {
        "id": "I1XU8xhmP0ut"
      },
      "source": [
        "```sql\n",
        "SELECT A1, Aggregation Function [count(*), sum(*), avg(*), min, etc.]\n",
        "FROM T1, T2, ... Tm\n",
        "WHERE condition\n",
        "GROUP BY A1\n",
        "```"
      ]
    },
    {
      "cell_type": "markdown",
      "metadata": {
        "id": "Riiyu9UDP0ut"
      },
      "source": [
        "`count(*)` counts the number of rows in the group <br> \n",
        "`count(attr)` counts the number of rows in the group with non-null values for the attribute <br> \n",
        "`count(DISTINCT attr)` counts the number of distinct, non-null values for the attributes in the group <br> \n",
        "`max(attr)` row with maximum attribute value in the group <br>\n",
        "`min(attr)` row with minimum value in the group <br>\n",
        "`sum(attr)` sum values of selected rows in the group <br>\n",
        "`avg(attr)` estimates the average attribute in the group"
      ]
    },
    {
      "cell_type": "markdown",
      "metadata": {
        "id": "jKwNfyjDP0uu"
      },
      "source": [
        "# Exercise 1: \n",
        "\n",
        "> Find the most popular Category for NYC filming permits."
      ]
    },
    {
      "cell_type": "code",
      "execution_count": 18,
      "metadata": {
        "id": "0o6t6gLTP0uv"
      },
      "outputs": [],
      "source": [
        "# your code here"
      ]
    },
    {
      "cell_type": "markdown",
      "metadata": {
        "id": "2VPi88gqP0uw"
      },
      "source": [
        "# Solution"
      ]
    },
    {
      "cell_type": "code",
      "source": [
        "check = pd.read_sql(\"SELECT Category, COUNT(DISTINCT EventID) as film_permits FROM nyc_film_permits GROUP BY Category ORDER BY film_permits DESC\", con=con)\n",
        "check"
      ],
      "metadata": {
        "colab": {
          "base_uri": "https://localhost:8080/",
          "height": 363
        },
        "id": "Lujz6wVSQRg1",
        "outputId": "4b0cac04-48fb-457b-e3ea-de2c5ad37582"
      },
      "execution_count": 19,
      "outputs": [
        {
          "output_type": "execute_result",
          "data": {
            "text/plain": [
              "            Category  film_permits\n",
              "0         Television          8154\n",
              "1               Film          2220\n",
              "2            Theater          1384\n",
              "3         Commercial          1020\n",
              "4  Still Photography           903\n",
              "5                WEB           584\n",
              "6            Student            72\n",
              "7        Documentary            63\n",
              "8        Music Video            53\n",
              "9               None             1"
            ],
            "text/html": [
              "\n",
              "  <div id=\"df-bc9bcd14-70b8-4135-9e1b-19738fa7e11e\">\n",
              "    <div class=\"colab-df-container\">\n",
              "      <div>\n",
              "<style scoped>\n",
              "    .dataframe tbody tr th:only-of-type {\n",
              "        vertical-align: middle;\n",
              "    }\n",
              "\n",
              "    .dataframe tbody tr th {\n",
              "        vertical-align: top;\n",
              "    }\n",
              "\n",
              "    .dataframe thead th {\n",
              "        text-align: right;\n",
              "    }\n",
              "</style>\n",
              "<table border=\"1\" class=\"dataframe\">\n",
              "  <thead>\n",
              "    <tr style=\"text-align: right;\">\n",
              "      <th></th>\n",
              "      <th>Category</th>\n",
              "      <th>film_permits</th>\n",
              "    </tr>\n",
              "  </thead>\n",
              "  <tbody>\n",
              "    <tr>\n",
              "      <th>0</th>\n",
              "      <td>Television</td>\n",
              "      <td>8154</td>\n",
              "    </tr>\n",
              "    <tr>\n",
              "      <th>1</th>\n",
              "      <td>Film</td>\n",
              "      <td>2220</td>\n",
              "    </tr>\n",
              "    <tr>\n",
              "      <th>2</th>\n",
              "      <td>Theater</td>\n",
              "      <td>1384</td>\n",
              "    </tr>\n",
              "    <tr>\n",
              "      <th>3</th>\n",
              "      <td>Commercial</td>\n",
              "      <td>1020</td>\n",
              "    </tr>\n",
              "    <tr>\n",
              "      <th>4</th>\n",
              "      <td>Still Photography</td>\n",
              "      <td>903</td>\n",
              "    </tr>\n",
              "    <tr>\n",
              "      <th>5</th>\n",
              "      <td>WEB</td>\n",
              "      <td>584</td>\n",
              "    </tr>\n",
              "    <tr>\n",
              "      <th>6</th>\n",
              "      <td>Student</td>\n",
              "      <td>72</td>\n",
              "    </tr>\n",
              "    <tr>\n",
              "      <th>7</th>\n",
              "      <td>Documentary</td>\n",
              "      <td>63</td>\n",
              "    </tr>\n",
              "    <tr>\n",
              "      <th>8</th>\n",
              "      <td>Music Video</td>\n",
              "      <td>53</td>\n",
              "    </tr>\n",
              "    <tr>\n",
              "      <th>9</th>\n",
              "      <td>None</td>\n",
              "      <td>1</td>\n",
              "    </tr>\n",
              "  </tbody>\n",
              "</table>\n",
              "</div>\n",
              "      <button class=\"colab-df-convert\" onclick=\"convertToInteractive('df-bc9bcd14-70b8-4135-9e1b-19738fa7e11e')\"\n",
              "              title=\"Convert this dataframe to an interactive table.\"\n",
              "              style=\"display:none;\">\n",
              "        \n",
              "  <svg xmlns=\"http://www.w3.org/2000/svg\" height=\"24px\"viewBox=\"0 0 24 24\"\n",
              "       width=\"24px\">\n",
              "    <path d=\"M0 0h24v24H0V0z\" fill=\"none\"/>\n",
              "    <path d=\"M18.56 5.44l.94 2.06.94-2.06 2.06-.94-2.06-.94-.94-2.06-.94 2.06-2.06.94zm-11 1L8.5 8.5l.94-2.06 2.06-.94-2.06-.94L8.5 2.5l-.94 2.06-2.06.94zm10 10l.94 2.06.94-2.06 2.06-.94-2.06-.94-.94-2.06-.94 2.06-2.06.94z\"/><path d=\"M17.41 7.96l-1.37-1.37c-.4-.4-.92-.59-1.43-.59-.52 0-1.04.2-1.43.59L10.3 9.45l-7.72 7.72c-.78.78-.78 2.05 0 2.83L4 21.41c.39.39.9.59 1.41.59.51 0 1.02-.2 1.41-.59l7.78-7.78 2.81-2.81c.8-.78.8-2.07 0-2.86zM5.41 20L4 18.59l7.72-7.72 1.47 1.35L5.41 20z\"/>\n",
              "  </svg>\n",
              "      </button>\n",
              "      \n",
              "  <style>\n",
              "    .colab-df-container {\n",
              "      display:flex;\n",
              "      flex-wrap:wrap;\n",
              "      gap: 12px;\n",
              "    }\n",
              "\n",
              "    .colab-df-convert {\n",
              "      background-color: #E8F0FE;\n",
              "      border: none;\n",
              "      border-radius: 50%;\n",
              "      cursor: pointer;\n",
              "      display: none;\n",
              "      fill: #1967D2;\n",
              "      height: 32px;\n",
              "      padding: 0 0 0 0;\n",
              "      width: 32px;\n",
              "    }\n",
              "\n",
              "    .colab-df-convert:hover {\n",
              "      background-color: #E2EBFA;\n",
              "      box-shadow: 0px 1px 2px rgba(60, 64, 67, 0.3), 0px 1px 3px 1px rgba(60, 64, 67, 0.15);\n",
              "      fill: #174EA6;\n",
              "    }\n",
              "\n",
              "    [theme=dark] .colab-df-convert {\n",
              "      background-color: #3B4455;\n",
              "      fill: #D2E3FC;\n",
              "    }\n",
              "\n",
              "    [theme=dark] .colab-df-convert:hover {\n",
              "      background-color: #434B5C;\n",
              "      box-shadow: 0px 1px 3px 1px rgba(0, 0, 0, 0.15);\n",
              "      filter: drop-shadow(0px 1px 2px rgba(0, 0, 0, 0.3));\n",
              "      fill: #FFFFFF;\n",
              "    }\n",
              "  </style>\n",
              "\n",
              "      <script>\n",
              "        const buttonEl =\n",
              "          document.querySelector('#df-bc9bcd14-70b8-4135-9e1b-19738fa7e11e button.colab-df-convert');\n",
              "        buttonEl.style.display =\n",
              "          google.colab.kernel.accessAllowed ? 'block' : 'none';\n",
              "\n",
              "        async function convertToInteractive(key) {\n",
              "          const element = document.querySelector('#df-bc9bcd14-70b8-4135-9e1b-19738fa7e11e');\n",
              "          const dataTable =\n",
              "            await google.colab.kernel.invokeFunction('convertToInteractive',\n",
              "                                                     [key], {});\n",
              "          if (!dataTable) return;\n",
              "\n",
              "          const docLinkHtml = 'Like what you see? Visit the ' +\n",
              "            '<a target=\"_blank\" href=https://colab.research.google.com/notebooks/data_table.ipynb>data table notebook</a>'\n",
              "            + ' to learn more about interactive tables.';\n",
              "          element.innerHTML = '';\n",
              "          dataTable['output_type'] = 'display_data';\n",
              "          await google.colab.output.renderOutput(dataTable, element);\n",
              "          const docLink = document.createElement('div');\n",
              "          docLink.innerHTML = docLinkHtml;\n",
              "          element.appendChild(docLink);\n",
              "        }\n",
              "      </script>\n",
              "    </div>\n",
              "  </div>\n",
              "  "
            ]
          },
          "metadata": {},
          "execution_count": 19
        }
      ]
    },
    {
      "cell_type": "markdown",
      "metadata": {
        "id": "Hhqh-ayOP0ux"
      },
      "source": [
        "---"
      ]
    },
    {
      "cell_type": "markdown",
      "metadata": {
        "id": "vi08ssLFP0ux"
      },
      "source": [
        "# Exercise 2: \n",
        "\n",
        ">  Find the most popular Borough by Category for NYC filming permits."
      ]
    },
    {
      "cell_type": "code",
      "execution_count": null,
      "metadata": {
        "id": "ytN6X287P0ux"
      },
      "outputs": [],
      "source": [
        "# your code here"
      ]
    },
    {
      "cell_type": "markdown",
      "metadata": {
        "id": "hkdeDnN1P0ux"
      },
      "source": [
        "# Solution"
      ]
    },
    {
      "cell_type": "code",
      "source": [
        "check = pd.read_sql(\"SELECT Category, Borough, COUNT(DISTINCT EventID) as film_permits FROM nyc_film_permits GROUP BY Category, Borough ORDER BY Category ASC, film_permits DESC\", con=con)\n",
        "check"
      ],
      "metadata": {
        "colab": {
          "base_uri": "https://localhost:8080/",
          "height": 1000
        },
        "id": "X_7AXUXOQr1A",
        "outputId": "2b13f681-3b47-4970-db38-2a61b2e46c33"
      },
      "execution_count": 22,
      "outputs": [
        {
          "output_type": "execute_result",
          "data": {
            "text/plain": [
              "             Category        Borough  film_permits\n",
              "0                None           None             1\n",
              "1          Commercial      Manhattan           576\n",
              "2          Commercial       Brooklyn           346\n",
              "3          Commercial         Queens            64\n",
              "4          Commercial          Bronx            28\n",
              "5          Commercial  Staten Island             6\n",
              "6         Documentary      Manhattan            34\n",
              "7         Documentary       Brooklyn            17\n",
              "8         Documentary         Queens             7\n",
              "9         Documentary          Bronx             4\n",
              "10        Documentary  Staten Island             1\n",
              "11               Film      Manhattan           982\n",
              "12               Film       Brooklyn           798\n",
              "13               Film         Queens           235\n",
              "14               Film          Bronx           125\n",
              "15               Film  Staten Island            80\n",
              "16        Music Video       Brooklyn            27\n",
              "17        Music Video      Manhattan            19\n",
              "18        Music Video         Queens             4\n",
              "19        Music Video          Bronx             2\n",
              "20        Music Video  Staten Island             1\n",
              "21  Still Photography      Manhattan           574\n",
              "22  Still Photography       Brooklyn           295\n",
              "23  Still Photography         Queens            25\n",
              "24  Still Photography          Bronx             9\n",
              "25            Student      Manhattan            53\n",
              "26            Student       Brooklyn            10\n",
              "27            Student  Staten Island             4\n",
              "28            Student         Queens             3\n",
              "29            Student          Bronx             2\n",
              "30         Television      Manhattan          3000\n",
              "31         Television       Brooklyn          2605\n",
              "32         Television         Queens          2067\n",
              "33         Television          Bronx           384\n",
              "34         Television  Staten Island            98\n",
              "35            Theater      Manhattan          1074\n",
              "36            Theater       Brooklyn           302\n",
              "37            Theater         Queens             7\n",
              "38            Theater          Bronx             1\n",
              "39                WEB      Manhattan           323\n",
              "40                WEB       Brooklyn           189\n",
              "41                WEB         Queens            63\n",
              "42                WEB          Bronx             6\n",
              "43                WEB  Staten Island             3"
            ],
            "text/html": [
              "\n",
              "  <div id=\"df-2407c070-b07b-47e3-97c7-927e0d72f9af\">\n",
              "    <div class=\"colab-df-container\">\n",
              "      <div>\n",
              "<style scoped>\n",
              "    .dataframe tbody tr th:only-of-type {\n",
              "        vertical-align: middle;\n",
              "    }\n",
              "\n",
              "    .dataframe tbody tr th {\n",
              "        vertical-align: top;\n",
              "    }\n",
              "\n",
              "    .dataframe thead th {\n",
              "        text-align: right;\n",
              "    }\n",
              "</style>\n",
              "<table border=\"1\" class=\"dataframe\">\n",
              "  <thead>\n",
              "    <tr style=\"text-align: right;\">\n",
              "      <th></th>\n",
              "      <th>Category</th>\n",
              "      <th>Borough</th>\n",
              "      <th>film_permits</th>\n",
              "    </tr>\n",
              "  </thead>\n",
              "  <tbody>\n",
              "    <tr>\n",
              "      <th>0</th>\n",
              "      <td>None</td>\n",
              "      <td>None</td>\n",
              "      <td>1</td>\n",
              "    </tr>\n",
              "    <tr>\n",
              "      <th>1</th>\n",
              "      <td>Commercial</td>\n",
              "      <td>Manhattan</td>\n",
              "      <td>576</td>\n",
              "    </tr>\n",
              "    <tr>\n",
              "      <th>2</th>\n",
              "      <td>Commercial</td>\n",
              "      <td>Brooklyn</td>\n",
              "      <td>346</td>\n",
              "    </tr>\n",
              "    <tr>\n",
              "      <th>3</th>\n",
              "      <td>Commercial</td>\n",
              "      <td>Queens</td>\n",
              "      <td>64</td>\n",
              "    </tr>\n",
              "    <tr>\n",
              "      <th>4</th>\n",
              "      <td>Commercial</td>\n",
              "      <td>Bronx</td>\n",
              "      <td>28</td>\n",
              "    </tr>\n",
              "    <tr>\n",
              "      <th>5</th>\n",
              "      <td>Commercial</td>\n",
              "      <td>Staten Island</td>\n",
              "      <td>6</td>\n",
              "    </tr>\n",
              "    <tr>\n",
              "      <th>6</th>\n",
              "      <td>Documentary</td>\n",
              "      <td>Manhattan</td>\n",
              "      <td>34</td>\n",
              "    </tr>\n",
              "    <tr>\n",
              "      <th>7</th>\n",
              "      <td>Documentary</td>\n",
              "      <td>Brooklyn</td>\n",
              "      <td>17</td>\n",
              "    </tr>\n",
              "    <tr>\n",
              "      <th>8</th>\n",
              "      <td>Documentary</td>\n",
              "      <td>Queens</td>\n",
              "      <td>7</td>\n",
              "    </tr>\n",
              "    <tr>\n",
              "      <th>9</th>\n",
              "      <td>Documentary</td>\n",
              "      <td>Bronx</td>\n",
              "      <td>4</td>\n",
              "    </tr>\n",
              "    <tr>\n",
              "      <th>10</th>\n",
              "      <td>Documentary</td>\n",
              "      <td>Staten Island</td>\n",
              "      <td>1</td>\n",
              "    </tr>\n",
              "    <tr>\n",
              "      <th>11</th>\n",
              "      <td>Film</td>\n",
              "      <td>Manhattan</td>\n",
              "      <td>982</td>\n",
              "    </tr>\n",
              "    <tr>\n",
              "      <th>12</th>\n",
              "      <td>Film</td>\n",
              "      <td>Brooklyn</td>\n",
              "      <td>798</td>\n",
              "    </tr>\n",
              "    <tr>\n",
              "      <th>13</th>\n",
              "      <td>Film</td>\n",
              "      <td>Queens</td>\n",
              "      <td>235</td>\n",
              "    </tr>\n",
              "    <tr>\n",
              "      <th>14</th>\n",
              "      <td>Film</td>\n",
              "      <td>Bronx</td>\n",
              "      <td>125</td>\n",
              "    </tr>\n",
              "    <tr>\n",
              "      <th>15</th>\n",
              "      <td>Film</td>\n",
              "      <td>Staten Island</td>\n",
              "      <td>80</td>\n",
              "    </tr>\n",
              "    <tr>\n",
              "      <th>16</th>\n",
              "      <td>Music Video</td>\n",
              "      <td>Brooklyn</td>\n",
              "      <td>27</td>\n",
              "    </tr>\n",
              "    <tr>\n",
              "      <th>17</th>\n",
              "      <td>Music Video</td>\n",
              "      <td>Manhattan</td>\n",
              "      <td>19</td>\n",
              "    </tr>\n",
              "    <tr>\n",
              "      <th>18</th>\n",
              "      <td>Music Video</td>\n",
              "      <td>Queens</td>\n",
              "      <td>4</td>\n",
              "    </tr>\n",
              "    <tr>\n",
              "      <th>19</th>\n",
              "      <td>Music Video</td>\n",
              "      <td>Bronx</td>\n",
              "      <td>2</td>\n",
              "    </tr>\n",
              "    <tr>\n",
              "      <th>20</th>\n",
              "      <td>Music Video</td>\n",
              "      <td>Staten Island</td>\n",
              "      <td>1</td>\n",
              "    </tr>\n",
              "    <tr>\n",
              "      <th>21</th>\n",
              "      <td>Still Photography</td>\n",
              "      <td>Manhattan</td>\n",
              "      <td>574</td>\n",
              "    </tr>\n",
              "    <tr>\n",
              "      <th>22</th>\n",
              "      <td>Still Photography</td>\n",
              "      <td>Brooklyn</td>\n",
              "      <td>295</td>\n",
              "    </tr>\n",
              "    <tr>\n",
              "      <th>23</th>\n",
              "      <td>Still Photography</td>\n",
              "      <td>Queens</td>\n",
              "      <td>25</td>\n",
              "    </tr>\n",
              "    <tr>\n",
              "      <th>24</th>\n",
              "      <td>Still Photography</td>\n",
              "      <td>Bronx</td>\n",
              "      <td>9</td>\n",
              "    </tr>\n",
              "    <tr>\n",
              "      <th>25</th>\n",
              "      <td>Student</td>\n",
              "      <td>Manhattan</td>\n",
              "      <td>53</td>\n",
              "    </tr>\n",
              "    <tr>\n",
              "      <th>26</th>\n",
              "      <td>Student</td>\n",
              "      <td>Brooklyn</td>\n",
              "      <td>10</td>\n",
              "    </tr>\n",
              "    <tr>\n",
              "      <th>27</th>\n",
              "      <td>Student</td>\n",
              "      <td>Staten Island</td>\n",
              "      <td>4</td>\n",
              "    </tr>\n",
              "    <tr>\n",
              "      <th>28</th>\n",
              "      <td>Student</td>\n",
              "      <td>Queens</td>\n",
              "      <td>3</td>\n",
              "    </tr>\n",
              "    <tr>\n",
              "      <th>29</th>\n",
              "      <td>Student</td>\n",
              "      <td>Bronx</td>\n",
              "      <td>2</td>\n",
              "    </tr>\n",
              "    <tr>\n",
              "      <th>30</th>\n",
              "      <td>Television</td>\n",
              "      <td>Manhattan</td>\n",
              "      <td>3000</td>\n",
              "    </tr>\n",
              "    <tr>\n",
              "      <th>31</th>\n",
              "      <td>Television</td>\n",
              "      <td>Brooklyn</td>\n",
              "      <td>2605</td>\n",
              "    </tr>\n",
              "    <tr>\n",
              "      <th>32</th>\n",
              "      <td>Television</td>\n",
              "      <td>Queens</td>\n",
              "      <td>2067</td>\n",
              "    </tr>\n",
              "    <tr>\n",
              "      <th>33</th>\n",
              "      <td>Television</td>\n",
              "      <td>Bronx</td>\n",
              "      <td>384</td>\n",
              "    </tr>\n",
              "    <tr>\n",
              "      <th>34</th>\n",
              "      <td>Television</td>\n",
              "      <td>Staten Island</td>\n",
              "      <td>98</td>\n",
              "    </tr>\n",
              "    <tr>\n",
              "      <th>35</th>\n",
              "      <td>Theater</td>\n",
              "      <td>Manhattan</td>\n",
              "      <td>1074</td>\n",
              "    </tr>\n",
              "    <tr>\n",
              "      <th>36</th>\n",
              "      <td>Theater</td>\n",
              "      <td>Brooklyn</td>\n",
              "      <td>302</td>\n",
              "    </tr>\n",
              "    <tr>\n",
              "      <th>37</th>\n",
              "      <td>Theater</td>\n",
              "      <td>Queens</td>\n",
              "      <td>7</td>\n",
              "    </tr>\n",
              "    <tr>\n",
              "      <th>38</th>\n",
              "      <td>Theater</td>\n",
              "      <td>Bronx</td>\n",
              "      <td>1</td>\n",
              "    </tr>\n",
              "    <tr>\n",
              "      <th>39</th>\n",
              "      <td>WEB</td>\n",
              "      <td>Manhattan</td>\n",
              "      <td>323</td>\n",
              "    </tr>\n",
              "    <tr>\n",
              "      <th>40</th>\n",
              "      <td>WEB</td>\n",
              "      <td>Brooklyn</td>\n",
              "      <td>189</td>\n",
              "    </tr>\n",
              "    <tr>\n",
              "      <th>41</th>\n",
              "      <td>WEB</td>\n",
              "      <td>Queens</td>\n",
              "      <td>63</td>\n",
              "    </tr>\n",
              "    <tr>\n",
              "      <th>42</th>\n",
              "      <td>WEB</td>\n",
              "      <td>Bronx</td>\n",
              "      <td>6</td>\n",
              "    </tr>\n",
              "    <tr>\n",
              "      <th>43</th>\n",
              "      <td>WEB</td>\n",
              "      <td>Staten Island</td>\n",
              "      <td>3</td>\n",
              "    </tr>\n",
              "  </tbody>\n",
              "</table>\n",
              "</div>\n",
              "      <button class=\"colab-df-convert\" onclick=\"convertToInteractive('df-2407c070-b07b-47e3-97c7-927e0d72f9af')\"\n",
              "              title=\"Convert this dataframe to an interactive table.\"\n",
              "              style=\"display:none;\">\n",
              "        \n",
              "  <svg xmlns=\"http://www.w3.org/2000/svg\" height=\"24px\"viewBox=\"0 0 24 24\"\n",
              "       width=\"24px\">\n",
              "    <path d=\"M0 0h24v24H0V0z\" fill=\"none\"/>\n",
              "    <path d=\"M18.56 5.44l.94 2.06.94-2.06 2.06-.94-2.06-.94-.94-2.06-.94 2.06-2.06.94zm-11 1L8.5 8.5l.94-2.06 2.06-.94-2.06-.94L8.5 2.5l-.94 2.06-2.06.94zm10 10l.94 2.06.94-2.06 2.06-.94-2.06-.94-.94-2.06-.94 2.06-2.06.94z\"/><path d=\"M17.41 7.96l-1.37-1.37c-.4-.4-.92-.59-1.43-.59-.52 0-1.04.2-1.43.59L10.3 9.45l-7.72 7.72c-.78.78-.78 2.05 0 2.83L4 21.41c.39.39.9.59 1.41.59.51 0 1.02-.2 1.41-.59l7.78-7.78 2.81-2.81c.8-.78.8-2.07 0-2.86zM5.41 20L4 18.59l7.72-7.72 1.47 1.35L5.41 20z\"/>\n",
              "  </svg>\n",
              "      </button>\n",
              "      \n",
              "  <style>\n",
              "    .colab-df-container {\n",
              "      display:flex;\n",
              "      flex-wrap:wrap;\n",
              "      gap: 12px;\n",
              "    }\n",
              "\n",
              "    .colab-df-convert {\n",
              "      background-color: #E8F0FE;\n",
              "      border: none;\n",
              "      border-radius: 50%;\n",
              "      cursor: pointer;\n",
              "      display: none;\n",
              "      fill: #1967D2;\n",
              "      height: 32px;\n",
              "      padding: 0 0 0 0;\n",
              "      width: 32px;\n",
              "    }\n",
              "\n",
              "    .colab-df-convert:hover {\n",
              "      background-color: #E2EBFA;\n",
              "      box-shadow: 0px 1px 2px rgba(60, 64, 67, 0.3), 0px 1px 3px 1px rgba(60, 64, 67, 0.15);\n",
              "      fill: #174EA6;\n",
              "    }\n",
              "\n",
              "    [theme=dark] .colab-df-convert {\n",
              "      background-color: #3B4455;\n",
              "      fill: #D2E3FC;\n",
              "    }\n",
              "\n",
              "    [theme=dark] .colab-df-convert:hover {\n",
              "      background-color: #434B5C;\n",
              "      box-shadow: 0px 1px 3px 1px rgba(0, 0, 0, 0.15);\n",
              "      filter: drop-shadow(0px 1px 2px rgba(0, 0, 0, 0.3));\n",
              "      fill: #FFFFFF;\n",
              "    }\n",
              "  </style>\n",
              "\n",
              "      <script>\n",
              "        const buttonEl =\n",
              "          document.querySelector('#df-2407c070-b07b-47e3-97c7-927e0d72f9af button.colab-df-convert');\n",
              "        buttonEl.style.display =\n",
              "          google.colab.kernel.accessAllowed ? 'block' : 'none';\n",
              "\n",
              "        async function convertToInteractive(key) {\n",
              "          const element = document.querySelector('#df-2407c070-b07b-47e3-97c7-927e0d72f9af');\n",
              "          const dataTable =\n",
              "            await google.colab.kernel.invokeFunction('convertToInteractive',\n",
              "                                                     [key], {});\n",
              "          if (!dataTable) return;\n",
              "\n",
              "          const docLinkHtml = 'Like what you see? Visit the ' +\n",
              "            '<a target=\"_blank\" href=https://colab.research.google.com/notebooks/data_table.ipynb>data table notebook</a>'\n",
              "            + ' to learn more about interactive tables.';\n",
              "          element.innerHTML = '';\n",
              "          dataTable['output_type'] = 'display_data';\n",
              "          await google.colab.output.renderOutput(dataTable, element);\n",
              "          const docLink = document.createElement('div');\n",
              "          docLink.innerHTML = docLinkHtml;\n",
              "          element.appendChild(docLink);\n",
              "        }\n",
              "      </script>\n",
              "    </div>\n",
              "  </div>\n",
              "  "
            ]
          },
          "metadata": {},
          "execution_count": 22
        }
      ]
    },
    {
      "cell_type": "markdown",
      "metadata": {
        "id": "SCHNNiycP0uy"
      },
      "source": [
        "---"
      ]
    },
    {
      "cell_type": "markdown",
      "metadata": {
        "id": "ulVlO2jaP0uy"
      },
      "source": [
        "# Exercise 3: \n",
        "\n",
        "> Find the year and zipcode with the most tax returns in NYC"
      ]
    },
    {
      "cell_type": "code",
      "source": [
        "# your code here"
      ],
      "metadata": {
        "id": "5rKoeLaRQ9WW"
      },
      "execution_count": null,
      "outputs": []
    },
    {
      "cell_type": "markdown",
      "metadata": {
        "id": "1CZqZXI-P0uz"
      },
      "source": [
        "# Solution"
      ]
    },
    {
      "cell_type": "code",
      "source": [
        "check = pd.read_sql(\"SELECT zipcode, year, SUM(return_count) as total_returns FROM irs_nyc_tax_returns GROUP BY zipcode, year ORDER BY total_returns DESC\", con=con)\n",
        "check"
      ],
      "metadata": {
        "colab": {
          "base_uri": "https://localhost:8080/",
          "height": 424
        },
        "id": "SNC-CvGGQ-mC",
        "outputId": "d644aa1e-14df-4f7e-c954-de1d52613208"
      },
      "execution_count": 23,
      "outputs": [
        {
          "output_type": "execute_result",
          "data": {
            "text/plain": [
              "      zipcode  year  total_returns\n",
              "0       11220  2015          54270\n",
              "1       11220  2016          53900\n",
              "2       11220  2014          53370\n",
              "3       11226  2015          52270\n",
              "4       11226  2016          52070\n",
              "...       ...   ...            ...\n",
              "7820    14721  2016            100\n",
              "7821    14752  2016            100\n",
              "7822    14774  2016            100\n",
              "7823    14874  2016            100\n",
              "7824    12176  2012             90\n",
              "\n",
              "[7825 rows x 3 columns]"
            ],
            "text/html": [
              "\n",
              "  <div id=\"df-32dd8229-3be2-435c-a7b4-528bfcc3d1e5\">\n",
              "    <div class=\"colab-df-container\">\n",
              "      <div>\n",
              "<style scoped>\n",
              "    .dataframe tbody tr th:only-of-type {\n",
              "        vertical-align: middle;\n",
              "    }\n",
              "\n",
              "    .dataframe tbody tr th {\n",
              "        vertical-align: top;\n",
              "    }\n",
              "\n",
              "    .dataframe thead th {\n",
              "        text-align: right;\n",
              "    }\n",
              "</style>\n",
              "<table border=\"1\" class=\"dataframe\">\n",
              "  <thead>\n",
              "    <tr style=\"text-align: right;\">\n",
              "      <th></th>\n",
              "      <th>zipcode</th>\n",
              "      <th>year</th>\n",
              "      <th>total_returns</th>\n",
              "    </tr>\n",
              "  </thead>\n",
              "  <tbody>\n",
              "    <tr>\n",
              "      <th>0</th>\n",
              "      <td>11220</td>\n",
              "      <td>2015</td>\n",
              "      <td>54270</td>\n",
              "    </tr>\n",
              "    <tr>\n",
              "      <th>1</th>\n",
              "      <td>11220</td>\n",
              "      <td>2016</td>\n",
              "      <td>53900</td>\n",
              "    </tr>\n",
              "    <tr>\n",
              "      <th>2</th>\n",
              "      <td>11220</td>\n",
              "      <td>2014</td>\n",
              "      <td>53370</td>\n",
              "    </tr>\n",
              "    <tr>\n",
              "      <th>3</th>\n",
              "      <td>11226</td>\n",
              "      <td>2015</td>\n",
              "      <td>52270</td>\n",
              "    </tr>\n",
              "    <tr>\n",
              "      <th>4</th>\n",
              "      <td>11226</td>\n",
              "      <td>2016</td>\n",
              "      <td>52070</td>\n",
              "    </tr>\n",
              "    <tr>\n",
              "      <th>...</th>\n",
              "      <td>...</td>\n",
              "      <td>...</td>\n",
              "      <td>...</td>\n",
              "    </tr>\n",
              "    <tr>\n",
              "      <th>7820</th>\n",
              "      <td>14721</td>\n",
              "      <td>2016</td>\n",
              "      <td>100</td>\n",
              "    </tr>\n",
              "    <tr>\n",
              "      <th>7821</th>\n",
              "      <td>14752</td>\n",
              "      <td>2016</td>\n",
              "      <td>100</td>\n",
              "    </tr>\n",
              "    <tr>\n",
              "      <th>7822</th>\n",
              "      <td>14774</td>\n",
              "      <td>2016</td>\n",
              "      <td>100</td>\n",
              "    </tr>\n",
              "    <tr>\n",
              "      <th>7823</th>\n",
              "      <td>14874</td>\n",
              "      <td>2016</td>\n",
              "      <td>100</td>\n",
              "    </tr>\n",
              "    <tr>\n",
              "      <th>7824</th>\n",
              "      <td>12176</td>\n",
              "      <td>2012</td>\n",
              "      <td>90</td>\n",
              "    </tr>\n",
              "  </tbody>\n",
              "</table>\n",
              "<p>7825 rows × 3 columns</p>\n",
              "</div>\n",
              "      <button class=\"colab-df-convert\" onclick=\"convertToInteractive('df-32dd8229-3be2-435c-a7b4-528bfcc3d1e5')\"\n",
              "              title=\"Convert this dataframe to an interactive table.\"\n",
              "              style=\"display:none;\">\n",
              "        \n",
              "  <svg xmlns=\"http://www.w3.org/2000/svg\" height=\"24px\"viewBox=\"0 0 24 24\"\n",
              "       width=\"24px\">\n",
              "    <path d=\"M0 0h24v24H0V0z\" fill=\"none\"/>\n",
              "    <path d=\"M18.56 5.44l.94 2.06.94-2.06 2.06-.94-2.06-.94-.94-2.06-.94 2.06-2.06.94zm-11 1L8.5 8.5l.94-2.06 2.06-.94-2.06-.94L8.5 2.5l-.94 2.06-2.06.94zm10 10l.94 2.06.94-2.06 2.06-.94-2.06-.94-.94-2.06-.94 2.06-2.06.94z\"/><path d=\"M17.41 7.96l-1.37-1.37c-.4-.4-.92-.59-1.43-.59-.52 0-1.04.2-1.43.59L10.3 9.45l-7.72 7.72c-.78.78-.78 2.05 0 2.83L4 21.41c.39.39.9.59 1.41.59.51 0 1.02-.2 1.41-.59l7.78-7.78 2.81-2.81c.8-.78.8-2.07 0-2.86zM5.41 20L4 18.59l7.72-7.72 1.47 1.35L5.41 20z\"/>\n",
              "  </svg>\n",
              "      </button>\n",
              "      \n",
              "  <style>\n",
              "    .colab-df-container {\n",
              "      display:flex;\n",
              "      flex-wrap:wrap;\n",
              "      gap: 12px;\n",
              "    }\n",
              "\n",
              "    .colab-df-convert {\n",
              "      background-color: #E8F0FE;\n",
              "      border: none;\n",
              "      border-radius: 50%;\n",
              "      cursor: pointer;\n",
              "      display: none;\n",
              "      fill: #1967D2;\n",
              "      height: 32px;\n",
              "      padding: 0 0 0 0;\n",
              "      width: 32px;\n",
              "    }\n",
              "\n",
              "    .colab-df-convert:hover {\n",
              "      background-color: #E2EBFA;\n",
              "      box-shadow: 0px 1px 2px rgba(60, 64, 67, 0.3), 0px 1px 3px 1px rgba(60, 64, 67, 0.15);\n",
              "      fill: #174EA6;\n",
              "    }\n",
              "\n",
              "    [theme=dark] .colab-df-convert {\n",
              "      background-color: #3B4455;\n",
              "      fill: #D2E3FC;\n",
              "    }\n",
              "\n",
              "    [theme=dark] .colab-df-convert:hover {\n",
              "      background-color: #434B5C;\n",
              "      box-shadow: 0px 1px 3px 1px rgba(0, 0, 0, 0.15);\n",
              "      filter: drop-shadow(0px 1px 2px rgba(0, 0, 0, 0.3));\n",
              "      fill: #FFFFFF;\n",
              "    }\n",
              "  </style>\n",
              "\n",
              "      <script>\n",
              "        const buttonEl =\n",
              "          document.querySelector('#df-32dd8229-3be2-435c-a7b4-528bfcc3d1e5 button.colab-df-convert');\n",
              "        buttonEl.style.display =\n",
              "          google.colab.kernel.accessAllowed ? 'block' : 'none';\n",
              "\n",
              "        async function convertToInteractive(key) {\n",
              "          const element = document.querySelector('#df-32dd8229-3be2-435c-a7b4-528bfcc3d1e5');\n",
              "          const dataTable =\n",
              "            await google.colab.kernel.invokeFunction('convertToInteractive',\n",
              "                                                     [key], {});\n",
              "          if (!dataTable) return;\n",
              "\n",
              "          const docLinkHtml = 'Like what you see? Visit the ' +\n",
              "            '<a target=\"_blank\" href=https://colab.research.google.com/notebooks/data_table.ipynb>data table notebook</a>'\n",
              "            + ' to learn more about interactive tables.';\n",
              "          element.innerHTML = '';\n",
              "          dataTable['output_type'] = 'display_data';\n",
              "          await google.colab.output.renderOutput(dataTable, element);\n",
              "          const docLink = document.createElement('div');\n",
              "          docLink.innerHTML = docLinkHtml;\n",
              "          element.appendChild(docLink);\n",
              "        }\n",
              "      </script>\n",
              "    </div>\n",
              "  </div>\n",
              "  "
            ]
          },
          "metadata": {},
          "execution_count": 23
        }
      ]
    },
    {
      "cell_type": "markdown",
      "metadata": {
        "id": "FcH0Jnx1P0uz"
      },
      "source": [
        "---"
      ]
    },
    {
      "cell_type": "markdown",
      "metadata": {
        "id": "zsj-8xo3P0uz"
      },
      "source": [
        "# HAVING"
      ]
    },
    {
      "cell_type": "markdown",
      "metadata": {
        "id": "ct8RNiSKP0uz"
      },
      "source": [
        "```sql \n",
        "SELECT A1, Aggregation Function\n",
        "FROM T1, T2, ... Tm\n",
        "WHERE condition\n",
        "GROUP BY A1\n",
        "HAVING Aggregation Function Condition\n",
        "```\n",
        "<br>\n",
        "\n",
        "`WHERE` applies to rows _before_ computing the aggregate <br>\n",
        "`HAVING` applies to the aggregate value only\n",
        "\n",
        "`AKA, the WHERE clause applies the condition to individual rows before they are summarized into groups by the GROUP BY clause. HAVING, meanwhile, applies the condition to the group after the rows are grouped into groups.`"
      ]
    },
    {
      "cell_type": "markdown",
      "metadata": {
        "id": "UEgonEPXP0u0"
      },
      "source": [
        "---"
      ]
    },
    {
      "cell_type": "markdown",
      "metadata": {
        "id": "YmexAzptP0u0"
      },
      "source": [
        "# Exercise 6: \n",
        "\n",
        "> Find the subcategories with more than 5,000 NYC filming permits in the database."
      ]
    },
    {
      "cell_type": "code",
      "execution_count": null,
      "metadata": {
        "id": "popMtlMiP0u0"
      },
      "outputs": [],
      "source": [
        "# your code here"
      ]
    },
    {
      "cell_type": "markdown",
      "metadata": {
        "id": "Kmyfl00_P0u0"
      },
      "source": [
        "# Solution"
      ]
    },
    {
      "cell_type": "markdown",
      "metadata": {
        "id": "l2QClunAP0u0"
      },
      "source": [
        "```SQL \n",
        "SELECT Category, SubCategoryName, COUNT(DISTINCT EventID) as permit_count\n",
        "FROM nyc_film_permits\n",
        "GROUP BY Category, SubCategoryName\n",
        "HAVING permit_count > 5000\n",
        "ORDER BY permit_count DESC;\n",
        "```"
      ]
    },
    {
      "cell_type": "markdown",
      "metadata": {
        "id": "ZfRZ0yK3P0u0"
      },
      "source": [
        "---"
      ]
    },
    {
      "cell_type": "markdown",
      "metadata": {
        "id": "oxa8mCd3P0u1"
      },
      "source": [
        "# Exercise 7: \n",
        "\n",
        "> Find the year where \"Commercials\" had fewer than 700 filming permits.\n",
        "\n"
      ]
    },
    {
      "cell_type": "code",
      "execution_count": null,
      "metadata": {
        "id": "kdzQxfpMP0u1"
      },
      "outputs": [],
      "source": [
        "# your code here"
      ]
    },
    {
      "cell_type": "markdown",
      "metadata": {
        "id": "YfWJIfZ8P0u1"
      },
      "source": [
        "# Solution"
      ]
    },
    {
      "cell_type": "markdown",
      "metadata": {
        "id": "YTl1gENtP0u1"
      },
      "source": [
        "```SQL \n",
        "SELECT STRFTIME('%Y',StartDateTime) as permit_year, COUNT(DISTINCT EventID) as permit_count\n",
        "FROM nyc_film_permits\n",
        "WHERE LOWER(Category) = \"commercial\" \n",
        "GROUP BY permit_year\n",
        "HAVING permit_count < 700\n",
        "ORDER BY permit_count DESC;\n",
        "```"
      ]
    },
    {
      "cell_type": "markdown",
      "metadata": {
        "id": "Wl-jXv5XP0u1"
      },
      "source": [
        "---"
      ]
    },
    {
      "cell_type": "markdown",
      "metadata": {
        "id": "oHapLcHLP0u1"
      },
      "source": [
        "# Conditional Construction: CASE"
      ]
    },
    {
      "cell_type": "markdown",
      "metadata": {
        "id": "tkCMcputP0u2"
      },
      "source": [
        "```SQL\n",
        "CASE\n",
        "    WHEN condition THEN result\n",
        "    WHEN condition2 THEN result2\n",
        "    ELSE result\n",
        "END\n",
        "```"
      ]
    },
    {
      "cell_type": "markdown",
      "metadata": {
        "id": "MK8CXmYzP0u2"
      },
      "source": [
        "---"
      ]
    },
    {
      "cell_type": "markdown",
      "metadata": {
        "id": "09X5ZIkpP0u2"
      },
      "source": [
        "# Exercise 8:\n",
        "\n",
        "> Map each zipcode and year's return counts to a \"return count\" bucket"
      ]
    },
    {
      "cell_type": "code",
      "execution_count": null,
      "metadata": {
        "id": "jpNR3EbLP0u2"
      },
      "outputs": [],
      "source": [
        "# your code here"
      ]
    },
    {
      "cell_type": "markdown",
      "metadata": {
        "id": "457zq6FPP0u2"
      },
      "source": [
        "# Solution"
      ]
    },
    {
      "cell_type": "markdown",
      "metadata": {
        "id": "TZxAm2LwP0u2"
      },
      "source": [
        "```SQL \n",
        "SELECT year, zipcode, \n",
        "    CASE\n",
        "        WHEN SUM(return_count) < 5000 THEN \"under 5k returns\" \n",
        "        WHEN SUM(return_count) < 1000 THEN \"5k to 10k returns\" \n",
        "        WHEN SUM(return_count) < 25000 THEN \"10k to 25k returns\" \n",
        "        WHEN SUM(return_count) < 50000 THEN \"25k to 50k returns\" \n",
        "        WHEN SUM(return_count) < 100000 THEN \"50k to 100k returns\" \n",
        "        ELSE \"over 100k returns\" \n",
        "    END AS return_count_bucket\n",
        "FROM irs_nyc_tax_returns\n",
        "GROUP BY year, zipcode;\n",
        "```"
      ]
    },
    {
      "cell_type": "markdown",
      "metadata": {
        "id": "QAUkp7QVP0u2"
      },
      "source": [
        "---"
      ]
    },
    {
      "cell_type": "markdown",
      "metadata": {
        "id": "M-GV05qBP0u3"
      },
      "source": [
        "# Exercise 9: \n",
        "\n",
        "> Make the results more human friendly by giving a short name for the agi_map_id field results."
      ]
    },
    {
      "cell_type": "code",
      "execution_count": null,
      "metadata": {
        "id": "cKdS52gXP0u3"
      },
      "outputs": [],
      "source": [
        "# your code here"
      ]
    },
    {
      "cell_type": "markdown",
      "metadata": {
        "id": "F-LutIbAP0u3"
      },
      "source": [
        "# Solution"
      ]
    },
    {
      "cell_type": "markdown",
      "metadata": {
        "id": "Db3CQ2DdP0u3"
      },
      "source": [
        "```SQL \n",
        "SELECT year, zipcode, \n",
        "    CASE agi_map_id\n",
        "        WHEN 1 THEN \"under 25k\" \n",
        "        WHEN 2 THEN \"25k to 50k\"\n",
        "        WHEN 3 THEN \"50k to 75k\" \n",
        "        WHEN 4 THEN \"75k to 100k\" \n",
        "        WHEN 5 THEN \"100k to 200k\" \n",
        "        ELSE \"over 200k\" \n",
        "    END AS income_level, return_count\n",
        "FROM irs_nyc_tax_returns\n",
        "WHERE zipcode = 10128 AND year = 2013;\n",
        "```"
      ]
    },
    {
      "cell_type": "markdown",
      "metadata": {
        "id": "cmP8qxdKP0u3"
      },
      "source": [
        "---"
      ]
    },
    {
      "cell_type": "markdown",
      "metadata": {
        "id": "Y6Y33g48P0u3"
      },
      "source": [
        "# Exercise 10: \n",
        "\n",
        "> Flatten the IRS database by putting the return_count in a seprate column for each agi_map_id."
      ]
    },
    {
      "cell_type": "code",
      "execution_count": null,
      "metadata": {
        "id": "uSWWzueEP0u3"
      },
      "outputs": [],
      "source": [
        "# your code here"
      ]
    },
    {
      "cell_type": "markdown",
      "metadata": {
        "id": "RS8XVpMRP0u4"
      },
      "source": [
        "# Solution"
      ]
    },
    {
      "cell_type": "markdown",
      "metadata": {
        "id": "r6a_aWVkP0u4"
      },
      "source": [
        "```SQL\n",
        "SELECT year, zipcode, \n",
        "    SUM(CASE WHEN agi_map_id = 1 THEN return_count ELSE NULL END) AS agi_under25k,\n",
        "    SUM(CASE WHEN agi_map_id = 2 THEN return_count ELSE NULL END) AS agi_25k_to_50k,\n",
        "    SUM(CASE WHEN agi_map_id = 3 THEN return_count ELSE NULL END) AS agi_50k_to_75k,\n",
        "    SUM(CASE WHEN agi_map_id = 4 THEN return_count ELSE NULL END) AS agi_75k_to_100k,\n",
        "    SUM(CASE WHEN agi_map_id = 5 THEN return_count ELSE NULL END) AS agi_100k_to_200k,\n",
        "    SUM(CASE WHEN agi_map_id = 6 THEN return_count ELSE NULL END) AS agi_over200k\n",
        "FROM irs_nyc_tax_returns\n",
        "GROUP BY year, zipcode;\n",
        "```"
      ]
    },
    {
      "cell_type": "markdown",
      "metadata": {
        "id": "zoXukco_P0u4"
      },
      "source": [
        "---"
      ]
    },
    {
      "cell_type": "markdown",
      "metadata": {
        "id": "tKMeL5JUP0u4"
      },
      "source": [
        "# SQL JOINS"
      ]
    },
    {
      "cell_type": "markdown",
      "metadata": {
        "id": "sNo8eEWbP0u4"
      },
      "source": [
        "First and foremost, any join requires a common data field found in both tables that enables the combination. However, those data fields don't need to share a common name, but they must be the same data type!\n",
        "\n",
        "NB: LEFT and RIGHT are determined by order after the FROM command! "
      ]
    },
    {
      "cell_type": "markdown",
      "metadata": {
        "id": "AT9T1FhNP0u4"
      },
      "source": [
        "<img src=\"https://i.stack.imgur.com/VQ5XP.png\">"
      ]
    },
    {
      "cell_type": "markdown",
      "metadata": {
        "id": "qG1xsZkUP0u4"
      },
      "source": [
        "# INNER JOIN\n",
        "\n",
        "> This is the default SQL JOIN, thus you don't even need to specify \"INNER\". <br> <br>\n",
        "\n",
        "1) A new table is created with the columns of both tables you're trying to combine, <br><br>\n",
        "2) It then looks to match values between the columns you specify in your 'ON' statement, <br><br>\n",
        "3) SQL will start with the first value of the specified column in the first table, then look through every value in the specified column of the second table for a match, <br><br>\n",
        "4) If there is a match, SQL will copy the data from both the row of the first table and the row of the second table and put it in the newly created table; It won't add any rows that didn't have a match\n",
        "\n",
        "<br>\n",
        "\n",
        "`AKA an INNER JOIN is going to return all rows when the comparisoin fields (in the \"ON\" statement\") are matching in BOTH tables.`"
      ]
    },
    {
      "cell_type": "code",
      "execution_count": null,
      "metadata": {
        "id": "66AQEeIrP0u4"
      },
      "outputs": [],
      "source": [
        "from IPython.display import HTML\n",
        "HTML('<img src=\"https://dataschool.com/assets/images/how-to-teach-people-sql/innerJoin/innerJoin_3.gif\">')"
      ]
    },
    {
      "cell_type": "markdown",
      "metadata": {
        "id": "qGZTzRMFP0u5"
      },
      "source": [
        "---"
      ]
    },
    {
      "cell_type": "markdown",
      "metadata": {
        "id": "ENfLDkjwP0u5"
      },
      "source": [
        "# Exercise 11: \n",
        "\n",
        "> Combine the IRS tax returns with the human-readable form of the income buckets."
      ]
    },
    {
      "cell_type": "code",
      "execution_count": null,
      "metadata": {
        "id": "zrihwls3P0u5"
      },
      "outputs": [],
      "source": [
        "# your code here"
      ]
    },
    {
      "cell_type": "markdown",
      "metadata": {
        "id": "JBwB07pXP0u5"
      },
      "source": [
        "# Solution"
      ]
    },
    {
      "cell_type": "markdown",
      "metadata": {
        "id": "O5AhAumuP0u5"
      },
      "source": [
        "![Class%20Exercise%20ERD-Exercise11.png](attachment:Class%20Exercise%20ERD-Exercise11.png)"
      ]
    },
    {
      "cell_type": "markdown",
      "metadata": {
        "id": "w6pzsadzP0u5"
      },
      "source": [
        "```SQL \n",
        "SELECT map.agi_descrp, SUM(return_count) AS total_returns\n",
        "FROM irs_nyc_tax_returns irs\n",
        "    INNER JOIN irs_agi_map map\n",
        "        ON irs.agi_map_id = map.agi_map_id\n",
        "GROUP BY map.agi_descrp\n",
        "ORDER BY irs.year ASC;\n",
        "```"
      ]
    },
    {
      "cell_type": "markdown",
      "metadata": {
        "id": "wqyhGljtP0u5"
      },
      "source": [
        "---"
      ]
    },
    {
      "cell_type": "markdown",
      "metadata": {
        "id": "1L2dodL4P0u6"
      },
      "source": [
        "# Exercise 12: \n",
        "\n",
        "> Find if there's a potential relationship between total filming permits and annual average tax returns for the top 10 zip codes for filming permits. "
      ]
    },
    {
      "cell_type": "code",
      "execution_count": null,
      "metadata": {
        "id": "iPHwN9bgP0u6"
      },
      "outputs": [],
      "source": [
        "# your code here"
      ]
    },
    {
      "cell_type": "markdown",
      "metadata": {
        "id": "e0RKm7RyP0u6"
      },
      "source": [
        "# Solution"
      ]
    },
    {
      "cell_type": "markdown",
      "metadata": {
        "id": "s854D7JtP0u6"
      },
      "source": [
        "![Class%20Exercise%20ERD-Exercise12.png](attachment:Class%20Exercise%20ERD-Exercise12.png)"
      ]
    },
    {
      "cell_type": "markdown",
      "metadata": {
        "id": "5QAweOliP0u6"
      },
      "source": [
        "```SQL \n",
        "SELECT irs.zipcode, ROUND(AVG(irs.return_count),0) as tax_returns, COUNT(DISTINCT nfp.EventID) as permit_count\n",
        "FROM nyc_film_permits nfp\n",
        "    INNER JOIN irs_nyc_tax_returns irs\n",
        "        ON (irs.zipcode = nfp.zipcode AND strftime('%Y',nfp.EndDateTime) = irs.year)\n",
        "GROUP BY irs.zipcode\n",
        "ORDER BY permit_count DESC\n",
        "LIMIT 10;\n",
        "```"
      ]
    },
    {
      "cell_type": "markdown",
      "metadata": {
        "id": "gljV_iygP0u6"
      },
      "source": [
        "---"
      ]
    },
    {
      "cell_type": "markdown",
      "metadata": {
        "id": "K9HsJczLP0u6"
      },
      "source": [
        "# LEFT JOIN\n",
        "\n",
        "> LEFT refers to the first table, or the table you'll be joining to. <br> <br>\n",
        "> For any rows in the LEFT table that don't have a match in the RIGHT table, it still adds that row to the next table but puts nulls for the missing columns\n",
        "\n",
        "<br> \n",
        "\n",
        "`AKA a LEFT JOIN is going to return all rows from the LEFT table with matching rows from the RIGHT table`"
      ]
    },
    {
      "cell_type": "code",
      "execution_count": null,
      "metadata": {
        "id": "j-DIWr29P0u6"
      },
      "outputs": [],
      "source": [
        "from IPython.display import HTML\n",
        "HTML('<img src=\"https://dataschool.com/assets/images/how-to-teach-people-sql/leftJoin/leftJoin_1.gif\">')"
      ]
    },
    {
      "cell_type": "markdown",
      "metadata": {
        "id": "qw0IuU-PP0u7"
      },
      "source": [
        "---"
      ]
    },
    {
      "cell_type": "markdown",
      "metadata": {
        "id": "xAxueCpdP0u7"
      },
      "source": [
        "# Exercise 13: \n",
        "\n",
        "> Find the bottom 20 zipcodes for filming permits."
      ]
    },
    {
      "cell_type": "code",
      "execution_count": null,
      "metadata": {
        "id": "mYR-RGJwP0u7"
      },
      "outputs": [],
      "source": [
        "# your code here"
      ]
    },
    {
      "cell_type": "markdown",
      "metadata": {
        "id": "emvhD1k7P0u7"
      },
      "source": [
        "# Solution"
      ]
    },
    {
      "cell_type": "markdown",
      "metadata": {
        "id": "BhGQC7sOP0u7"
      },
      "source": [
        "![Class%20Exercise%20ERD-Exercise13.png](attachment:Class%20Exercise%20ERD-Exercise13.png)"
      ]
    },
    {
      "cell_type": "markdown",
      "metadata": {
        "id": "xq9zpmZjP0u7"
      },
      "source": [
        "```SQL\n",
        "SELECT irs.zipcode, COUNT(DISTINCT nfp.EventID) as permit_count\n",
        "FROM irs_nyc_tax_returns irs\n",
        "    LEFT OUTER JOIN nyc_film_permits nfp\n",
        "        ON (irs.zipcode = nfp.zipcode AND strftime('%Y',nfp.EndDateTime) = irs.year) \n",
        "GROUP BY irs.zipcode\n",
        "ORDER BY permit_count ASC\n",
        "LIMIT 20;\n",
        "```"
      ]
    },
    {
      "cell_type": "markdown",
      "metadata": {
        "id": "H1fcCtRuP0u7"
      },
      "source": [
        "---"
      ]
    },
    {
      "cell_type": "markdown",
      "metadata": {
        "id": "LKQ-2ZLLP0u7"
      },
      "source": [
        "# Exercise 14: \n",
        "\n",
        "> Find the percentage of children living in the top 5 filming permit zipcodes over all years in the database."
      ]
    },
    {
      "cell_type": "code",
      "execution_count": null,
      "metadata": {
        "id": "cFlTVYcPP0u8"
      },
      "outputs": [],
      "source": [
        "# your code here"
      ]
    },
    {
      "cell_type": "markdown",
      "metadata": {
        "id": "Ep9umD7vP0u8"
      },
      "source": [
        "# Solution"
      ]
    },
    {
      "cell_type": "markdown",
      "metadata": {
        "id": "Z2Sl5M5MP0u8"
      },
      "source": [
        "![Class%20Exercise%20ERD-Exercise14.png](attachment:Class%20Exercise%20ERD-Exercise14.png)"
      ]
    },
    {
      "cell_type": "markdown",
      "metadata": {
        "id": "C17WMnSLP0u8"
      },
      "source": [
        "```SQL\n",
        "SELECT cen.zipcode, 100*(SUM(Age_under5) + SUM(Age_5to9) + SUM(Age_10to14) + SUM(Age_15to19)) / SUM(cen.age_all) as percent_children, \n",
        "COUNT(DISTINCT nfp.EventID) as permit_count\n",
        "FROM nyc_census_data cen\n",
        "    LEFT JOIN nyc_film_permits nfp\n",
        "          ON cen.zipcode = nfp.zipcode\n",
        "GROUP BY cen.zipcode                                                                                 \n",
        "ORDER BY permit_count DESC\n",
        "LIMIT 5;                                                                                \n",
        "```"
      ]
    },
    {
      "cell_type": "markdown",
      "metadata": {
        "id": "KWwNePXaP0u8"
      },
      "source": [
        "---"
      ]
    },
    {
      "cell_type": "markdown",
      "metadata": {
        "id": "OxJvCiAWP0u8"
      },
      "source": [
        "# RIGHT JOIN\n",
        "\n",
        "> RIGHT refers to the second table, or the table you'll be joining in. <br> <br>\n",
        "> A RIGHT JOIN can be re-written as a LEFT JOIN, and is thus much more rare in practice."
      ]
    },
    {
      "cell_type": "markdown",
      "metadata": {
        "id": "yAH8QpjuP0u8"
      },
      "source": [
        "---"
      ]
    },
    {
      "cell_type": "markdown",
      "metadata": {
        "id": "CRaw6GSqP0u8"
      },
      "source": [
        "# FULL OUTER JOIN\n",
        "\n",
        "> FULL OUTER refers to the first table, or the table you'll be joining to (in this case, the Facebook table since it comes before LinkedIn in the query). <br> <br>\n",
        "> After completing a LEFT join of the data, it basically perorms a RIGHT join – only checking ot see if each value is present in the joined table. If it is not, SQL will add this row to the new table and put nulls for the columns from the other table.\n",
        "\n",
        "`AKA, a FULL OUTER JOIN returns all rows in both tables that match the query's WHERE clause, and when the ON condition can't be satisfied, a NULL is put in for those unpopulated fields`"
      ]
    },
    {
      "cell_type": "code",
      "execution_count": null,
      "metadata": {
        "id": "vU5iBGa0P0u9"
      },
      "outputs": [],
      "source": [
        "from IPython.display import HTML\n",
        "HTML('<img src=\"https://dataschool.com/assets/images/how-to-teach-people-sql/fullOuter/fullOuter_1.gif\">')"
      ]
    },
    {
      "cell_type": "markdown",
      "metadata": {
        "id": "si8JG0QTP0u9"
      },
      "source": [
        "---"
      ]
    },
    {
      "cell_type": "markdown",
      "metadata": {
        "id": "b9n4p2fwP0u9"
      },
      "source": [
        "# UNION"
      ]
    },
    {
      "cell_type": "markdown",
      "metadata": {
        "id": "arYkPwTtP0u9"
      },
      "source": [
        "`UNION` is used to combine the result-set of two or more SELECT statements"
      ]
    },
    {
      "cell_type": "code",
      "execution_count": null,
      "metadata": {
        "scrolled": true,
        "id": "aSm9mepbP0u9"
      },
      "outputs": [],
      "source": [
        "from IPython.display import HTML\n",
        "HTML('<img src=\"https://dataschool.com/assets/images/how-to-teach-people-sql/union/union_2.gif\">')"
      ]
    },
    {
      "cell_type": "markdown",
      "metadata": {
        "id": "h60p2dmRP0u9"
      },
      "source": [
        "---"
      ]
    },
    {
      "cell_type": "markdown",
      "metadata": {
        "id": "_XfTzIruP0u9"
      },
      "source": [
        "# CROSS JOIN"
      ]
    },
    {
      "cell_type": "markdown",
      "metadata": {
        "id": "NhXaisI3P0u-"
      },
      "source": [
        "`CROSS JOIN` joins every row from Table 1 with every row from Table 1. \n",
        "\n",
        "`AKA, a CROSS JOIN returns all possible combinations of all rows.`"
      ]
    },
    {
      "cell_type": "code",
      "execution_count": null,
      "metadata": {
        "id": "q5ZwknM2P0u-"
      },
      "outputs": [],
      "source": [
        "from IPython.display import HTML\n",
        "HTML('<img src=\"https://dataschool.com/assets/images/how-to-teach-people-sql/crossJoin/crossJoin_1.gif\">')"
      ]
    },
    {
      "cell_type": "markdown",
      "metadata": {
        "id": "ezKt__ZhP0u-"
      },
      "source": [
        "---"
      ]
    },
    {
      "cell_type": "markdown",
      "metadata": {
        "id": "GMXyuWtvP0u-"
      },
      "source": [
        "# Subqueries / Nested Queries"
      ]
    },
    {
      "cell_type": "markdown",
      "metadata": {
        "id": "Sm07ACgxP0u-"
      },
      "source": [
        "Subqueries are temporary tables created with nested SELECT statements where a table should be that allow for deeper analysis with SQL."
      ]
    },
    {
      "cell_type": "markdown",
      "metadata": {
        "id": "5AEgz8O9P0u-"
      },
      "source": [
        "---"
      ]
    },
    {
      "cell_type": "markdown",
      "metadata": {
        "id": "MJ5Ic9seP0u-"
      },
      "source": [
        "> Find the top 10 zipcodes with the largest percentage of persons of Latino/Hispanic descent, and calculate the percentage of adults and percentage of six-figure income earners in those zipcodes. "
      ]
    },
    {
      "cell_type": "markdown",
      "metadata": {
        "id": "OTilPmuSP0u-"
      },
      "source": [
        "```SQL \n",
        "SELECT cen.zipcode, \n",
        "100*(SUM(Age_under5) + SUM(Age_5to9) + SUM(Age_10to14) + SUM(Age_15to19)) / SUM(cen.age_all) AS adult_pct, \n",
        "100*SUM(cen.Ethnicity_All_HispancLatino_Descent) / SUM(cen.Age_all) AS latino_pct,\n",
        "100*SUM(irs.agi_over200k) + SUM(irs.agi_100k_to_200k)) / SUM(total_returns) AS six_figure_income_pct                 FROM nyc_census_data cen\n",
        "     INNER JOIN( \n",
        "         SELECT \n",
        "             year, \n",
        "             zipcode, \n",
        "             SUM(CASE WHEN agi_map_id = 1 THEN return_count ELSE NULL END) AS agi_under25k,\n",
        "             SUM(CASE WHEN agi_map_id = 2 THEN return_count ELSE NULL END) AS agi_25k_to_50k,\n",
        "             SUM(CASE WHEN agi_map_id = 3 THEN return_count ELSE NULL END) AS agi_50k_to_75k,\n",
        "             SUM(CASE WHEN agi_map_id = 4 THEN return_count ELSE NULL END) AS agi_75k_to_100k,\n",
        "             SUM(CASE WHEN agi_map_id = 5 THEN return_count ELSE NULL END) AS agi_100k_to_200k,\n",
        "             SUM(CASE WHEN agi_map_id = 6 THEN return_count ELSE NULL END) AS agi_over200k,\n",
        "             SUM(return_count) AS total_returns\n",
        "        FROM irs_nyc_tax_returns\n",
        "        GROUP BY year, zipcode\n",
        "        ) irs ON cen.zipcode = irs.zipcode\n",
        "WHERE irs.year = 2012\n",
        "GROUP BY cen.zipcode\n",
        "ORDER BY latino_pct DESC\n",
        "LIMIT 10;                                                    \n",
        "```"
      ]
    },
    {
      "cell_type": "markdown",
      "metadata": {
        "id": "TMvbEnhmP0u_"
      },
      "source": [
        "---"
      ]
    },
    {
      "cell_type": "markdown",
      "metadata": {
        "id": "WrNkVjVWP0u_"
      },
      "source": [
        "# Exercise 15: \n",
        "\n",
        "> What year had the most return counts from the Borough of Brooklyn?"
      ]
    },
    {
      "cell_type": "code",
      "execution_count": null,
      "metadata": {
        "id": "MNwNg4EiP0u_"
      },
      "outputs": [],
      "source": [
        "# your code here"
      ]
    },
    {
      "cell_type": "markdown",
      "metadata": {
        "id": "bB_3-PNCP0u_"
      },
      "source": [
        "# Solution"
      ]
    },
    {
      "cell_type": "markdown",
      "metadata": {
        "id": "DreZbNjtP0u_"
      },
      "source": [
        "![Class%20Exercise%20ERD-Exercise15.png](attachment:Class%20Exercise%20ERD-Exercise15.png)"
      ]
    },
    {
      "cell_type": "markdown",
      "metadata": {
        "id": "N5V_QbGwP0u_"
      },
      "source": [
        "`INNER JOIN` OR `LEFT JOIN` <br>\n",
        "_(Pros/Cons)? .........  (Pros/Cons)?_\n",
        "\n",
        "```SQL\n",
        "SELECT irs.year, SUM(irs.return_count) as return_count\n",
        "FROM irs_nyc_tax_returns irs\n",
        "    LEFT OUTER JOIN (\n",
        "        SELECT ZipCode, Borough\n",
        "        FROM nyc_film_permits nfp\n",
        "        WHERE Borough = \"Brooklyn\"\n",
        "    ) nfp ON irs.zipcode = nfp.ZipCode\n",
        "GROUP BY irs.year         \n",
        "```"
      ]
    },
    {
      "cell_type": "markdown",
      "metadata": {
        "id": "Ax4bSfqlP0u_"
      },
      "source": [
        "---"
      ]
    },
    {
      "cell_type": "markdown",
      "metadata": {
        "id": "LgvsUm1-P0vA"
      },
      "source": [
        "# Exercise 16: \n",
        "\n",
        "> In zipcodes where the majority of film permits have the sub category \"Commerical\", what is the predominant age group?  "
      ]
    },
    {
      "cell_type": "code",
      "execution_count": null,
      "metadata": {
        "id": "gWGhod3kP0vA"
      },
      "outputs": [],
      "source": [
        "# your code here"
      ]
    },
    {
      "cell_type": "markdown",
      "metadata": {
        "id": "iilZ4lbNP0vA"
      },
      "source": [
        "# Solution"
      ]
    },
    {
      "cell_type": "markdown",
      "metadata": {
        "id": "OXChXW3JP0vA"
      },
      "source": [
        "![Class%20Exercise%20ERD-Exercise16.png](attachment:Class%20Exercise%20ERD-Exercise16.png)"
      ]
    },
    {
      "cell_type": "markdown",
      "metadata": {
        "id": "WFqnU0tmP0vA"
      },
      "source": [
        "`INNER JOIN` OR `LEFT JOIN` <br>\n",
        "_(Pros/Cons)? .........  (Pros/Cons)?_\n",
        "\n",
        "```SQL\n",
        "SELECT \n",
        "    cen.ZipCode,\n",
        "    SUM(Age_under5) + SUM(Age_5to9) + SUM(Age_10to14) + SUM(Age_15to19) as under19,\n",
        "    SUM(Age_20to24) + SUM(Age_25to29) + SUM(Age_30to34) as bw_20and34,\n",
        "    SUM(Age_40to44) + SUM(Age_45to49) + SUM(Age_50to54) + SUM(Age_55to59) as bw_40and59,\n",
        "    SUM(Age_60to64) + SUM(Age_65to69) + SUM(Age_70to74) + SUM(Age_75to79) as bw_60and79,\n",
        "    SUM(Age_80to84) + SUM(Age_over84) as over80,\n",
        "    nfp.zipcode\n",
        "FROM nyc_census_data cen \n",
        "    JOIN (\n",
        "        SELECT \n",
        "            nfp.zipcode\n",
        "        FROM nyc_film_permits nfp\n",
        "        WHERE nfp.SubCategoryName = \"Commercial\"\n",
        "   ) nfp ON cen.ZipCode = nfp.zipcode\n",
        "GROUP BY cen.ZipCode;\n",
        "```"
      ]
    },
    {
      "cell_type": "markdown",
      "metadata": {
        "id": "EUg79N3aP0vA"
      },
      "source": [
        "---"
      ]
    }
  ],
  "metadata": {
    "kernelspec": {
      "display_name": "Python 3",
      "language": "python",
      "name": "python3"
    },
    "language_info": {
      "codemirror_mode": {
        "name": "ipython",
        "version": 3
      },
      "file_extension": ".py",
      "mimetype": "text/x-python",
      "name": "python",
      "nbconvert_exporter": "python",
      "pygments_lexer": "ipython3",
      "version": "3.7.3"
    },
    "colab": {
      "name": "Class10_Solved.ipynb",
      "provenance": []
    }
  },
  "nbformat": 4,
  "nbformat_minor": 0
}