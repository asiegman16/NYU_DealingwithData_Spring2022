{
  "cells": [
    {
      "cell_type": "markdown",
      "metadata": {
        "id": "Oj-vStskfksv"
      },
      "source": [
        "# Dealing with Data Spring 2020 – Class 1"
      ]
    },
    {
      "cell_type": "markdown",
      "metadata": {
        "id": "8bSBbn0mfksx"
      },
      "source": [
        "---"
      ]
    },
    {
      "cell_type": "markdown",
      "metadata": {
        "id": "H_0g-6refksy"
      },
      "source": [
        "## Agenda:\n",
        "\n",
        "1. Introductions\n",
        "2. Laptop Setup\n",
        "3. Break\n",
        "4. First Steps\n"
      ]
    },
    {
      "cell_type": "markdown",
      "metadata": {
        "id": "zSI4B_gVfks2"
      },
      "source": [
        "## Course Goals: \n",
        "\n",
        "- Empower you with hands-on knowledge of `Python` and `SQL`,\n",
        "- Enable you to implement (basic) Databases and (small) Data Pipelines,\n",
        "- Enrich your resume with a practical data application project, and, \n",
        "- Expose you to Big Data concepts and technologies. "
      ]
    },
    {
      "cell_type": "markdown",
      "metadata": {
        "id": "FkPw9MaHfks2"
      },
      "source": [
        "## We Will _Not_ Cover:\n",
        "\n",
        "- R,\n",
        "- Pyton's 'Pandas' library, \n",
        "- Data analysis techniques, \n",
        "- Data visualization techniques, \n",
        "- Data science / machine learning algorithms, \n",
        "- Statistics"
      ]
    },
    {
      "cell_type": "markdown",
      "metadata": {
        "id": "kektY_6Tfks3"
      },
      "source": [
        "## You're Best Suited for this Class if: \n",
        "\n",
        "1. You have the time to invest in practicing your programming at home, \n",
        "2. You don't have any prior experience with a programming language. "
      ]
    },
    {
      "cell_type": "markdown",
      "metadata": {
        "id": "jq3EXNuFfks6"
      },
      "source": [
        "# Grading\n",
        "\n",
        "- 50% individual homework assignments\n",
        "- 10% in-class participation \n",
        "- 10% team-member ratings for your group project\n",
        "- 30% group project "
      ]
    },
    {
      "cell_type": "markdown",
      "metadata": {
        "id": "QNTHxeZEfks7"
      },
      "source": [
        "# Homework\n",
        "\n",
        "- 7 assignments over the course's duration (mix of coding and short essays) \n",
        "- Your 5 best *completed* assignments will count towards your final grade\n",
        "- Late assignments are subject to a 3% penalty each day; After 1 week you will receive a 0"
      ]
    },
    {
      "cell_type": "markdown",
      "metadata": {
        "id": "s4DqfsmVfks8"
      },
      "source": [
        "---"
      ]
    },
    {
      "cell_type": "markdown",
      "metadata": {
        "id": "P-wZPmAHfks9"
      },
      "source": [
        "# Laptop Setup\n",
        "\n",
        "## Brightspace\n",
        "\n",
        "Make sure you are able to access our course page on __Brightspace__. This is where I will be posting all of our course content (notebooks, datasets, homeworks, et. cetera). \n",
        "\n",
        "__This is also where all of your assignments will be posted, turned in, graded, and returned.__\n",
        "\n",
        "## Using Colab\n",
        "\n",
        "In order to standardize the way we all code, we are going to use [Google's Colab](https://colab.research.google.com/notebooks/welcome.ipynb).\n",
        "\n",
        "Think of using Colab as renting a computer via your web browser (I recommend Chrome) that you can use.\n",
        "\n",
        "For instance, if I want to open today's class notebook in Colab, I: \n",
        "\n",
        "<br>\n",
        "\n",
        "1. *Will go to https://colab.sandbox.google.com*\n",
        "\n",
        "2. *Will click \"Upload\" then \"Choose File\"* \n",
        "\n",
        "3. *Note that a Jupyter Notebook will always have a .ipynb extension. In Colab I can simply upload the notebook (that I have downloaded from Brightspace) to Colab.*\n",
        "\n",
        "4. *Once I click \"Open\" Colab should open the notebook, and voila!*"
      ]
    },
    {
      "cell_type": "markdown",
      "metadata": {
        "id": "nFWPISb2fks-"
      },
      "source": [
        "---"
      ]
    },
    {
      "cell_type": "markdown",
      "metadata": {
        "id": "G3XVb3G4fks-"
      },
      "source": [
        "# So, What is Programming? \n",
        "\n",
        "- Simple, written instructions that tell computers what to do, \n",
        "- These instructions (building blocks) can be used to build something more complex, useful, and beautiful. "
      ]
    },
    {
      "cell_type": "markdown",
      "metadata": {
        "id": "OI5Uxsdwfks_"
      },
      "source": [
        "---"
      ]
    },
    {
      "cell_type": "markdown",
      "source": [
        "# Using Colab\n",
        "\n",
        "## Cell Types\n",
        "\n",
        "There are two types of cells that you can use: \"Text\" and \"Code. \n",
        "\n",
        "*   _Text:_ Allows you to use [markdown](https://www.markdownguide.org/cheat-sheet/).\n",
        "*   _Code:_ Allows you to type code.\n",
        "\n",
        "\n",
        "For example, below is the same code in a text cell and then again in a code cell: "
      ],
      "metadata": {
        "id": "nsw7095TTeP7"
      }
    },
    {
      "cell_type": "code",
      "source": [
        "# Below is some code. Note that this is in a code cell, so in order to write text (we call this \"commenting\" I need to use the pound sign to \"comment out\" the text)\n",
        "\n",
        "print(\"Hello, World!\")"
      ],
      "metadata": {
        "id": "DHLHLysbU9zJ"
      },
      "execution_count": null,
      "outputs": []
    },
    {
      "cell_type": "code",
      "source": [
        "If I try to write text in a code cell without commenting it out, I will get an error..."
      ],
      "metadata": {
        "id": "HiQ4OuZVVYrQ"
      },
      "execution_count": null,
      "outputs": []
    },
    {
      "cell_type": "markdown",
      "source": [
        "## Saving\n",
        "\n",
        "Colab will automatically save changes. Under the \"File\" tab at the top-left of the window, you also have the option to save a copy to Google Drive or GitHub, and to download directly to your machine. \n",
        "\n",
        "## Collaborating\n",
        "\n",
        "You can easily share a notebook by clicking on \"Share\" at the top-right of the window and adding the email of your collaborator. \n",
        "\n",
        "## Commenting\n",
        "\n",
        "If you want to leave comments or action items for collaborators, you can use the \"Comment\" option at the top-right of the window, just as you would in Google Docs or Word. \n",
        "\n",
        "## \"Running\" A Cell\n",
        "\n",
        "In order to run (or, 'execute') a cell, you can hold down the shift key and hit \"return\" or \"enter\". You can also view additional options under the \"Runtime\" tab at the top-left of the window."
      ],
      "metadata": {
        "id": "elVkk2GUUeFt"
      }
    },
    {
      "cell_type": "markdown",
      "metadata": {
        "id": "Uy06siIeGRZM"
      },
      "source": [
        "---"
      ]
    },
    {
      "cell_type": "markdown",
      "source": [
        "# ⭕ **QUESTIONS?**"
      ],
      "metadata": {
        "id": "4GZojYnLW3O4"
      }
    },
    {
      "cell_type": "markdown",
      "metadata": {
        "id": "Bv9DsLKxUy5i"
      },
      "source": [
        "---"
      ]
    },
    {
      "cell_type": "markdown",
      "metadata": {
        "id": "ID89vgZMfktB"
      },
      "source": [
        "# Now, for a bit of background on Python! \n",
        "\n",
        "<br>\n",
        "\n",
        "Python is one of many programming languages, and just like other languages, it has its pros and cons. \n",
        "\n",
        "For more on Python, they have a handy site: https://www.python.org/about/gettingstarted/, but for now just know that it is what's called an object-oriented, high-level programming language (read as: versatile and fairly basic). \n",
        "\n",
        "<br>\n",
        "\n",
        "Python was released more than 25 years ago, in 1991, by a Guido van Rossum. In his own words:\n",
        "\n",
        "_\"...In December 1989, I was looking for a \"hobby\" programming project that would keep me occupied during the week around Christmas. My office ... would be closed, but I had a home computer, and not much else on my hands. I decided to write an interpreter for the new scripting language I had been thinking about lately: a descendant of ABC that would appeal to Unix/C hackers. I chose Python as a working title for the project, being in a slightly irreverent mood (and a big fan of Monty Python's Flying Circus)._\n",
        "\n",
        "<br>\n",
        "\n",
        "\n",
        "Finally, and perhaps most importantly, if you ever have any questions, you can ask me, or, visit https://stackoverflow.com/, quite possibly the most useful tool on the internet. Consider it the Google of coding questions. Input your search query (I.e., 'Convert string to integer') and you'll get hundreds if not thousands of answers!\n",
        "\n",
        "<br>\n",
        "\n",
        "P.S. You are most likely running Python 3.6.4, which is the latest vertsion (to check which version you are running, open your terminal and simply type \"python\"). Unfortunately, with each new update to Python there are some quirky changes. For instance, in previous Python versions, to print something you would say: \n",
        "\n",
        "    print \"Hello, my name is Alex\" \n",
        "\n",
        "Whereas in the latest version, you say: \n",
        "\n",
        "    print(\"Hello, my name is Alex\") \n",
        "\n",
        "It may seem trivial, but it's anything but when you can't figure out why the code you've spent all night writing won't execute. \n",
        "\n",
        "P.P.S. Perhaps most important of all, if you are in a 'Code' cell and want to type something non-code, just put a '#' before it (demonstrated below). "
      ]
    },
    {
      "cell_type": "code",
      "execution_count": null,
      "metadata": {
        "id": "d-OAviE5fktC"
      },
      "outputs": [],
      "source": [
        ""
      ]
    },
    {
      "cell_type": "markdown",
      "metadata": {
        "id": "uWTdL637fktE"
      },
      "source": [
        "---"
      ]
    },
    {
      "cell_type": "markdown",
      "metadata": {
        "id": "vOSI1lwifktE"
      },
      "source": [
        "# Exercise 1: Print your own message below:"
      ]
    },
    {
      "cell_type": "code",
      "execution_count": null,
      "metadata": {
        "id": "7ZFRYa0wfktF"
      },
      "outputs": [],
      "source": [
        ""
      ]
    },
    {
      "cell_type": "markdown",
      "metadata": {
        "id": "lBOAa72UfktH"
      },
      "source": [
        "---"
      ]
    },
    {
      "cell_type": "markdown",
      "metadata": {
        "id": "wufR7oDnfktH"
      },
      "source": [
        "# Comments\n",
        "\n",
        "You will have noticed in the cell above the line \n",
        "`# your code here` \n",
        "\n",
        "This is a _comment in the code_\n",
        "\n",
        "Comments are notes in your source code that aren't exectued when your code is run. These are useful for reminding yourself what your code does, and for notifying others to your intentions. "
      ]
    },
    {
      "cell_type": "code",
      "execution_count": null,
      "metadata": {
        "id": "TH68njmmfktI"
      },
      "outputs": [],
      "source": [
        ""
      ]
    },
    {
      "cell_type": "markdown",
      "metadata": {
        "id": "q9HqICrIfktK"
      },
      "source": [
        "You can also use a comment to \"disable\" or \"comment out\" a piece of code"
      ]
    },
    {
      "cell_type": "code",
      "execution_count": null,
      "metadata": {
        "id": "_ZzNUnvOfktK"
      },
      "outputs": [],
      "source": [
        ""
      ]
    },
    {
      "cell_type": "markdown",
      "metadata": {
        "id": "ATPTVfWkfktP"
      },
      "source": [
        "---"
      ]
    },
    {
      "cell_type": "markdown",
      "metadata": {
        "id": "oOP66WzffktP"
      },
      "source": [
        "# Markdown \n",
        "\n",
        "In notebooks, you can simply double click on a piece of text and then edit it. To restore it back, from edit mode, press \"Run\". Markdown is a very simple language for formatting text, and you can read further instructions by going to \"Help : Markdown\" from the menu, or checking the [online examples](http://jupyter-notebook.readthedocs.io/en/stable/examples/Notebook/Working%20With%20Markdown%20Cells.html)\n",
        "\n",
        "Below, we will see a few examples. (Double click on each cell below to see how it looks in Markdown)."
      ]
    },
    {
      "cell_type": "markdown",
      "metadata": {
        "id": "jk-ClBMPfktQ"
      },
      "source": [
        "# Big Header \n",
        "## Smaller Header\n",
        "### A little smaller header\n",
        "#### Getting smaller and smaller\n",
        "##### Very very small header\n",
        "###### I do not even know if this is a header anymore"
      ]
    },
    {
      "cell_type": "code",
      "metadata": {
        "id": "_ZOhDZQVfktR"
      },
      "source": [
        ""
      ],
      "execution_count": null,
      "outputs": []
    },
    {
      "cell_type": "markdown",
      "metadata": {
        "id": "En3FebQ_fktT"
      },
      "source": [
        ""
      ]
    },
    {
      "cell_type": "markdown",
      "metadata": {
        "id": "su7rWArgfktU"
      },
      "source": [
        "* You can also create bulleted lists: \n",
        "* ...\n",
        "* Learn Python\n",
        "* ...\n",
        "* Millions!"
      ]
    },
    {
      "cell_type": "markdown",
      "metadata": {
        "id": "nT3lM6JsfktW"
      },
      "source": [
        "And ordered lists:\n",
        "1. Learn Python\n",
        "2. Learn SQL\n",
        "3. ....\n",
        "4. Millions!"
      ]
    },
    {
      "cell_type": "markdown",
      "metadata": {
        "id": "E74EsgxpfktW"
      },
      "source": [
        "---"
      ]
    },
    {
      "cell_type": "markdown",
      "metadata": {
        "id": "HN18YRiQfktX"
      },
      "source": [
        "# Expressions, Data Types, and Variables"
      ]
    },
    {
      "cell_type": "markdown",
      "metadata": {
        "hidden": true,
        "id": "dDUHOXjRfktb"
      },
      "source": [
        "We will start first by dealing with numbers and see how we can do various math and logical operations with Python. Here are a few operators that we will be using:\n",
        "\n",
        "* `+` addition, add two numbers\n",
        "* `-` subtraction and negation\n",
        "* `*` multiplication, multiply two numbers\n",
        "* `/` divide first  with the outcome being decimal outcome\n",
        "* `//` division with the outcome being integer (return only the integer part of the outcome)\n",
        "* `%` modulo/division remainder, what is the remainder when the first number is divided by the second?\n",
        "* `**` power, raise the first number into a power given by the second number"
      ]
    },
    {
      "cell_type": "code",
      "execution_count": null,
      "metadata": {
        "id": "dRrCwbwifktb"
      },
      "outputs": [],
      "source": [
        ""
      ]
    },
    {
      "cell_type": "markdown",
      "metadata": {
        "id": "oRzzMUHWoH3h"
      },
      "source": [
        "---"
      ]
    },
    {
      "cell_type": "markdown",
      "source": [
        "# ⭕ **QUESTIONS?**"
      ],
      "metadata": {
        "id": "PiC0sFHYoH3h"
      }
    },
    {
      "cell_type": "markdown",
      "metadata": {
        "id": "ZtXllqpHoH3h"
      },
      "source": [
        "---"
      ]
    },
    {
      "cell_type": "markdown",
      "metadata": {
        "heading_collapsed": true,
        "id": "zfW4nX1Cfktw"
      },
      "source": [
        "# Exercise 2"
      ]
    },
    {
      "cell_type": "markdown",
      "metadata": {
        "hidden": true,
        "id": "AIR8-CAyfktx"
      },
      "source": [
        "Imagine you order $50 worth of food at a restaurant. Then you need to add the NY Sales Tax (8.875\\%) and add a tip (say, 20\\%). Write code that will print the total cost of your meal below:"
      ]
    },
    {
      "cell_type": "code",
      "execution_count": null,
      "metadata": {
        "id": "6P_9wIedfktz"
      },
      "outputs": [],
      "source": [
        ""
      ]
    },
    {
      "cell_type": "markdown",
      "metadata": {
        "id": "L5jcZzkBfkt3"
      },
      "source": [
        "# Solution"
      ]
    },
    {
      "cell_type": "code",
      "execution_count": null,
      "metadata": {
        "hidden": true,
        "id": "o6nzStcQfkt3",
        "solution2": "hidden"
      },
      "outputs": [],
      "source": [
        ""
      ]
    },
    {
      "cell_type": "markdown",
      "metadata": {
        "id": "8wlEBH-Efkt7"
      },
      "source": [
        "---"
      ]
    },
    {
      "cell_type": "markdown",
      "metadata": {
        "heading_collapsed": true,
        "id": "nmpovwU-fkt7"
      },
      "source": [
        "# Exercise 3"
      ]
    },
    {
      "cell_type": "markdown",
      "metadata": {
        "hidden": true,
        "id": "MlJKeM9cfkt8"
      },
      "source": [
        "Imagine you have stock that closed at 550 on Monday, and then closed at 560 on Tuesday. Calculate its daily return (defined as the difference in the closing prices, divided by the closing price the day before)."
      ]
    },
    {
      "cell_type": "code",
      "execution_count": null,
      "metadata": {
        "id": "U0dlhy8kfkt8"
      },
      "outputs": [],
      "source": [
        ""
      ]
    },
    {
      "cell_type": "markdown",
      "metadata": {
        "heading_collapsed": true,
        "hidden": true,
        "id": "MTqry_ZBfkt-",
        "solution2": "hidden",
        "solution2_first": true
      },
      "source": [
        "# Solution"
      ]
    },
    {
      "cell_type": "code",
      "execution_count": null,
      "metadata": {
        "id": "C9R2YSJ0fkuB"
      },
      "outputs": [],
      "source": [
        ""
      ]
    },
    {
      "cell_type": "markdown",
      "metadata": {
        "id": "yfWD2ddhfkuD"
      },
      "source": [
        "---"
      ]
    },
    {
      "cell_type": "markdown",
      "metadata": {
        "heading_collapsed": true,
        "id": "7w_w86pCfkuE"
      },
      "source": [
        "# Exercise 4\n"
      ]
    },
    {
      "cell_type": "markdown",
      "metadata": {
        "hidden": true,
        "id": "Dx6Cz0OTfkuE"
      },
      "source": [
        "Assume someone's height is 5 ft and 9 inches. Convert that height to centimeters. (Remember that one foot is 30.48 centimeters, and one inch is 2.54 centimeters)."
      ]
    },
    {
      "cell_type": "code",
      "execution_count": null,
      "metadata": {
        "id": "oYTH8BpEfkuF"
      },
      "outputs": [],
      "source": [
        ""
      ]
    },
    {
      "cell_type": "markdown",
      "metadata": {
        "id": "gAIYVen9fkuG"
      },
      "source": [
        "# Solution"
      ]
    },
    {
      "cell_type": "code",
      "execution_count": null,
      "metadata": {
        "id": "cweyZWxIfkuH"
      },
      "outputs": [],
      "source": [
        ""
      ]
    },
    {
      "cell_type": "markdown",
      "metadata": {
        "id": "Zc5gwj8vfkuI"
      },
      "source": [
        "---"
      ]
    },
    {
      "cell_type": "markdown",
      "metadata": {
        "heading_collapsed": true,
        "id": "OVC5yK7YfkuJ"
      },
      "source": [
        "# Exercise 5\n"
      ]
    },
    {
      "cell_type": "markdown",
      "metadata": {
        "hidden": true,
        "id": "zleOUy6gfkuJ"
      },
      "source": [
        "Write some code to compute the future value (5 years later) of a deposit with a a principal amount of 10,000 and rate of interest 3\\%. \n",
        "\n",
        "Remember that the value is: `$ Principal * (1+interest)^{years}$` and you will need to use the power operator  `**` for this calculation."
      ]
    },
    {
      "cell_type": "code",
      "execution_count": null,
      "metadata": {
        "id": "MZZxjAL2fkuK"
      },
      "outputs": [],
      "source": [
        ""
      ]
    },
    {
      "cell_type": "markdown",
      "metadata": {
        "heading_collapsed": true,
        "hidden": true,
        "id": "Cld4eFDCfkuM",
        "solution2": "hidden",
        "solution2_first": true
      },
      "source": [
        "# Solution"
      ]
    },
    {
      "cell_type": "code",
      "execution_count": null,
      "metadata": {
        "id": "4VaoMAHbfkuO"
      },
      "outputs": [],
      "source": [
        ""
      ]
    },
    {
      "cell_type": "markdown",
      "metadata": {
        "id": "jBgrRB2OfkuT"
      },
      "source": [
        "---"
      ]
    },
    {
      "cell_type": "markdown",
      "metadata": {
        "heading_collapsed": true,
        "id": "KiBLjRCffkuT"
      },
      "source": [
        "# Exercise 6"
      ]
    },
    {
      "cell_type": "markdown",
      "metadata": {
        "hidden": true,
        "id": "TYLu0KZ5fkuU"
      },
      "source": [
        "Assume someone's height is 180 centimeters. Convert that height into feet and inches. \n",
        "\n",
        "Remember that one foot is 30.48 centimeters, and one inch is 2.54 centimeters. \n",
        "\n",
        "You will need to use the modulo operator `%` for this conversion. Also, you can use the `int(...)` function to get the integer part of a division. \n",
        "\n",
        "Optionally, you can also use the `round(...)` function to get the rounded integer number from a decimal."
      ]
    },
    {
      "cell_type": "code",
      "execution_count": null,
      "metadata": {
        "id": "GIzbol2XfkuU"
      },
      "outputs": [],
      "source": [
        ""
      ]
    },
    {
      "cell_type": "markdown",
      "metadata": {
        "heading_collapsed": true,
        "hidden": true,
        "id": "Fn1KAXObfkuW",
        "solution2": "hidden",
        "solution2_first": true
      },
      "source": [
        "# Solution"
      ]
    },
    {
      "cell_type": "code",
      "execution_count": null,
      "metadata": {
        "id": "c1RcJHWEfkuc"
      },
      "outputs": [],
      "source": [
        ""
      ]
    },
    {
      "cell_type": "markdown",
      "metadata": {
        "id": "nxH4an4yoKZ6"
      },
      "source": [
        "---"
      ]
    },
    {
      "cell_type": "markdown",
      "source": [
        "# ⭕ **QUESTIONS?**"
      ],
      "metadata": {
        "id": "XHT1oAuKoKZ6"
      }
    },
    {
      "cell_type": "markdown",
      "metadata": {
        "id": "s-hYPe02oKZ6"
      },
      "source": [
        "---"
      ]
    },
    {
      "cell_type": "markdown",
      "metadata": {
        "id": "6kxwgEA6fkui"
      },
      "source": [
        "# Data Types"
      ]
    },
    {
      "cell_type": "markdown",
      "metadata": {
        "id": "Ku_GRImofkuj"
      },
      "source": [
        "Notice in the examples below, the different operations result in different types of outcomes."
      ]
    },
    {
      "cell_type": "code",
      "execution_count": null,
      "metadata": {
        "id": "0uuH-bnLfkup"
      },
      "outputs": [],
      "source": [
        ""
      ]
    },
    {
      "cell_type": "markdown",
      "metadata": {
        "id": "k4AKqKmLfkus"
      },
      "source": [
        "We will learn more about the different types of variables later, but for now, remember that you can use the `type` command to find out the type of an expression:"
      ]
    },
    {
      "cell_type": "code",
      "execution_count": null,
      "metadata": {
        "id": "-6cTXLyRfku5"
      },
      "outputs": [],
      "source": [
        ""
      ]
    },
    {
      "cell_type": "markdown",
      "metadata": {
        "id": "3w9B2Ghhfku6"
      },
      "source": [
        "**Lesson**: Notice the different data types above: `str` (string), `int` (integer), `float` (decimal numbers). One thing hat you will notice is that the outcome of the various operators (`+`, `*`, etc) can be different based on the data types involved."
      ]
    },
    {
      "cell_type": "markdown",
      "metadata": {
        "id": "uoHLAEDIfku7"
      },
      "source": [
        "---"
      ]
    },
    {
      "cell_type": "markdown",
      "metadata": {
        "id": "yGX1qZ3wfku8"
      },
      "source": [
        "# Exercise 7 \n",
        "\n",
        "What will the following program print out? Figure it our _before_ running the program."
      ]
    },
    {
      "cell_type": "code",
      "execution_count": null,
      "metadata": {
        "id": "5V7SEjrmfku8"
      },
      "outputs": [],
      "source": [
        "x = 41\n",
        "x = x + 1\n",
        "print(x)"
      ]
    },
    {
      "cell_type": "code",
      "execution_count": null,
      "metadata": {
        "id": "dGXbtTfFfku-"
      },
      "outputs": [],
      "source": [
        "x = \"41\"\n",
        "x = x + \"1\"\n",
        "print(x)"
      ]
    },
    {
      "cell_type": "markdown",
      "metadata": {
        "id": "J7KYqBT4fkvA"
      },
      "source": [
        "---"
      ]
    },
    {
      "cell_type": "markdown",
      "metadata": {
        "id": "jIYp4_aafkvB"
      },
      "source": [
        "# A Note About Stack Overflow \n",
        "\n",
        "Consider [Stack Overflow](https://stackoverflow.com/) your go-to (other than myself and your TA) for any questions you may have. It is a life-saver for even the most experienced programmer. To ask the best possible question on Stack Overflow: \n",
        "\n",
        "- Explain clearly what you're trying to do,\n",
        "- Identify the version of software you're using,\n",
        "- Provide an error message,\n",
        "- Explain what you've already tried to make it work"
      ]
    },
    {
      "cell_type": "markdown",
      "metadata": {
        "id": "o41Jqyb5oMIK"
      },
      "source": [
        "---"
      ]
    },
    {
      "cell_type": "markdown",
      "source": [
        "# ⭕ **QUESTIONS?**"
      ],
      "metadata": {
        "id": "ZSvuEbqRoMIL"
      }
    },
    {
      "cell_type": "markdown",
      "metadata": {
        "id": "BoBh9Y1WoMIL"
      },
      "source": [
        "---"
      ]
    },
    {
      "cell_type": "markdown",
      "metadata": {
        "id": "-KdvtLQ8fkvB"
      },
      "source": [
        "# Recommended Readings\n",
        "\n",
        "- [Paul Ford's \"What is Code\"](https://www.bloomberg.com/graphics/2015-paul-ford-what-is-code/)"
      ]
    },
    {
      "cell_type": "markdown",
      "metadata": {
        "id": "nwjWZRCknB9-"
      },
      "source": [
        "---"
      ]
    }
  ],
  "metadata": {
    "colab": {
      "collapsed_sections": [
        "oOP66WzffktP",
        "jk-ClBMPfktQ",
        "HN18YRiQfktX",
        "zfW4nX1Cfktw",
        "L5jcZzkBfkt3",
        "nmpovwU-fkt7",
        "MTqry_ZBfkt-",
        "7w_w86pCfkuE",
        "gAIYVen9fkuG",
        "OVC5yK7YfkuJ",
        "Cld4eFDCfkuM",
        "KiBLjRCffkuT",
        "Fn1KAXObfkuW",
        "6kxwgEA6fkui",
        "yGX1qZ3wfku8",
        "jIYp4_aafkvB",
        "-KdvtLQ8fkvB"
      ],
      "name": "Class1_unsolved.ipynb",
      "provenance": []
    },
    "kernelspec": {
      "display_name": "Python 3",
      "language": "python",
      "name": "python3"
    },
    "language_info": {
      "codemirror_mode": {
        "name": "ipython",
        "version": 3
      },
      "file_extension": ".py",
      "mimetype": "text/x-python",
      "name": "python",
      "nbconvert_exporter": "python",
      "pygments_lexer": "ipython3",
      "version": "3.7.3"
    }
  },
  "nbformat": 4,
  "nbformat_minor": 0
}