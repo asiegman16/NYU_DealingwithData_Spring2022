{
  "cells": [
    {
      "cell_type": "markdown",
      "metadata": {
        "id": "EPwMbLIRviu2"
      },
      "source": [
        "# Dealing with Data Spring 2020 – Class 9"
      ]
    },
    {
      "cell_type": "markdown",
      "metadata": {
        "id": "9F0CtfJZviu-"
      },
      "source": [
        "---"
      ]
    },
    {
      "cell_type": "markdown",
      "metadata": {
        "id": "MRJWJnhQqETT"
      },
      "source": [
        "### Why Databases?"
      ]
    },
    {
      "cell_type": "markdown",
      "metadata": {
        "id": "JjoI0krTqETT"
      },
      "source": [
        "> Size <br>\n",
        "> Scale <br>\n",
        "> Security <br>\n",
        "> Easy to Make Insertions, Deletions, and Updates"
      ]
    },
    {
      "cell_type": "markdown",
      "metadata": {
        "id": "dhjXPHPyjwAz"
      },
      "source": [
        "### Building a Data Pipeline – In-Class Example"
      ]
    },
    {
      "cell_type": "markdown",
      "metadata": {
        "id": "aBzPzuuDjwAz"
      },
      "source": [
        "**Users**\n",
        "\n",
        "Our users are the [Commissioner for NYC's Media & Entertainment Agency](https://www1.nyc.gov/site/mome/index.page)"
      ]
    },
    {
      "cell_type": "markdown",
      "metadata": {
        "id": "8cRPd1ZJjwAz"
      },
      "source": [
        "**Decision Problem**\n",
        "\n",
        "When making daily decisions around reviewing film permit requests in NYC, the office now needs to consider how to best create a balanced media representation of NYC's diversity. "
      ]
    },
    {
      "cell_type": "markdown",
      "metadata": {
        "id": "PC4IFW-cjwAz"
      },
      "source": [
        "**Data Assistance Requirements**\n",
        "\n",
        "Describe neighborhood characteristics of past film permits to best inform future decisions."
      ]
    },
    {
      "cell_type": "markdown",
      "metadata": {
        "id": "lRrEeZPEjwAz"
      },
      "source": [
        "**Application Type**\n",
        "\n",
        "`Descriptive`: the agency needs to start with an understanding of the neighborhoods shown in previously issued permits"
      ]
    },
    {
      "cell_type": "markdown",
      "metadata": {
        "id": "uHizKdeTjwAz"
      },
      "source": [
        "### Our Data"
      ]
    },
    {
      "cell_type": "markdown",
      "metadata": {
        "id": "bbw0uEdjjwA0"
      },
      "source": [
        "Our `nyc_film_permits.csv` originated from the City of New York [(link here)](https://data.cityofnewyork.us/City-Government/Film-Permits/tg4x-b46p) and was transformed for ease of use in our class. \n",
        "\n",
        "Our `irs_nyc_tax_returns.csv` originated from the IRS [(link here)](https://www.irs.gov/statistics/soi-tax-stats-individual-income-tax-statistics-zip-code-data-soi) and was transformed for ease of use in our class. \n",
        "\n",
        "Our `nyc_census_data.csv` originated from Census.gov [(link here)](https://factfinder.census.gov/faces/nav/jsf/pages/searchresults.xhtml?refresh=t) and was transformed for ease of use in our class. \n",
        "\n",
        "Our `irs_agi_map.csv` was produced manually by Guthrie Collin after reading IRS documentation. "
      ]
    },
    {
      "cell_type": "markdown",
      "source": [
        "### sqlite"
      ],
      "metadata": {
        "id": "IS8D9f3Zj0Qj"
      }
    },
    {
      "cell_type": "code",
      "metadata": {
        "id": "E0f86amjGRZP"
      },
      "source": [
        ""
      ],
      "execution_count": null,
      "outputs": []
    },
    {
      "cell_type": "markdown",
      "metadata": {
        "id": "Aa3Tfe4CGRZU"
      },
      "source": [
        "[SQLite](https://www.sqlite.org/index.html) is a library that allows us to create, populate, and call upon a SQL Database. It's also serverless, meaning we don't need to access a separate server where we're storing our data – instead, we can directly access our databse. We can even store that database as a file in our Colab environment and call upon it. "
      ]
    },
    {
      "cell_type": "code",
      "metadata": {
        "id": "a3zYnkWGGRZU"
      },
      "source": [
        ""
      ],
      "execution_count": null,
      "outputs": []
    },
    {
      "cell_type": "markdown",
      "source": [
        "It's important to note that the databse we just created was created _inside this Colab environment_ which will be reset when we log off. \n",
        "\n",
        "Thus, when you're done with your databse, I recommend downloading it directly to your machine. \n",
        "\n",
        "You can see the databse by clicking on the file icon on the far-left side of the window. "
      ],
      "metadata": {
        "id": "QRC3pkzbYJXi"
      }
    },
    {
      "cell_type": "code",
      "source": [
        ""
      ],
      "metadata": {
        "id": "cnckH2MMjPmg"
      },
      "execution_count": null,
      "outputs": []
    },
    {
      "cell_type": "markdown",
      "source": [
        "---"
      ],
      "metadata": {
        "id": "wpLzCuYQoAW_"
      }
    },
    {
      "cell_type": "code",
      "source": [
        ""
      ],
      "metadata": {
        "id": "OtbFEPdMoUgD"
      },
      "execution_count": null,
      "outputs": []
    },
    {
      "cell_type": "markdown",
      "metadata": {
        "id": "r7FjJ01vsxAU"
      },
      "source": [
        "---"
      ]
    },
    {
      "cell_type": "markdown",
      "source": [
        "# ⭕ **QUESTIONS?**"
      ],
      "metadata": {
        "id": "KVi6I4Z5sxAU"
      }
    },
    {
      "cell_type": "markdown",
      "metadata": {
        "id": "A4JfrYo9sxAU"
      },
      "source": [
        "---"
      ]
    },
    {
      "cell_type": "markdown",
      "metadata": {
        "id": "tBp7N-fglCAV"
      },
      "source": [
        "# SELECT and LIMIT"
      ]
    },
    {
      "cell_type": "code",
      "source": [
        ""
      ],
      "metadata": {
        "id": "_wEr9eQ_pqzd"
      },
      "execution_count": null,
      "outputs": []
    },
    {
      "cell_type": "markdown",
      "metadata": {
        "id": "FDrqZgFUsy_H"
      },
      "source": [
        "---"
      ]
    },
    {
      "cell_type": "markdown",
      "source": [
        "# ⭕ **QUESTIONS?**"
      ],
      "metadata": {
        "id": "YqBHQ4O9sy_I"
      }
    },
    {
      "cell_type": "markdown",
      "metadata": {
        "id": "_bU9QRDlsy_I"
      },
      "source": [
        "---"
      ]
    },
    {
      "cell_type": "markdown",
      "metadata": {
        "id": "egJx3PSflCAW"
      },
      "source": [
        "# AS\n",
        "\n",
        "Sometimes we want to rename a column to provide a more descriptive name in the results"
      ]
    },
    {
      "cell_type": "code",
      "source": [
        ""
      ],
      "metadata": {
        "id": "g1K66XlxpwjO"
      },
      "execution_count": null,
      "outputs": []
    },
    {
      "cell_type": "markdown",
      "metadata": {
        "id": "jrB5W_CflCAW"
      },
      "source": [
        "# ORDER BY \n",
        "\n",
        "Used to sort the result row based on attribute values"
      ]
    },
    {
      "cell_type": "code",
      "source": [
        ""
      ],
      "metadata": {
        "id": "lUw7elzNOWbl"
      },
      "execution_count": null,
      "outputs": []
    },
    {
      "cell_type": "markdown",
      "metadata": {
        "id": "L0AB2ztus0lo"
      },
      "source": [
        "---"
      ]
    },
    {
      "cell_type": "markdown",
      "source": [
        "# ⭕ **QUESTIONS?**"
      ],
      "metadata": {
        "id": "T9dJc_ygs0lo"
      }
    },
    {
      "cell_type": "markdown",
      "metadata": {
        "id": "lORW5y9ds0lp"
      },
      "source": [
        "---"
      ]
    },
    {
      "cell_type": "markdown",
      "metadata": {
        "id": "Re5G-ZuclCAX"
      },
      "source": [
        "# WHERE\n",
        "\n",
        "Defines which rows will appear in the results.\n",
        "\n",
        "`attr = 'text'/number` means 'attribute is equal to' (either a text value or numerical value) <br>\n",
        "`attr != value` or `attr <> value` means 'attribute is *not equal to* value' <br>\n",
        "`attr > value` means 'attribute is greater than value' <br>\n",
        "`attr < value` means 'attribute is less than value' <br>\n",
        "`attr >= value` means 'attribute is greater than or equal to value' <br>\n",
        "`attr <= value` means 'attribute is less than or equal to value' <br>\n",
        "`attr IN (x1,x2,x3,...)` means 'attribute value is either x1, x2, or x2, or ...' <br> \n",
        "`attr NOT IN (x1,x2,x3,...)` means 'attribute value is not x1, nor x2, nor x3,...' <br>\n",
        "`condition1 AND condition2` means 'both conditions should hold' <br>\n",
        "`condition1 OR condition1` means 'at least one of the conditions should hold' <br>\n"
      ]
    },
    {
      "cell_type": "code",
      "source": [
        ""
      ],
      "metadata": {
        "id": "mUpU8E5fp08K"
      },
      "execution_count": null,
      "outputs": []
    },
    {
      "cell_type": "markdown",
      "metadata": {
        "id": "duhWolZ7lCAY"
      },
      "source": [
        "# DISTINCT\n",
        "\n",
        "Used to eliminate duplicates in results"
      ]
    },
    {
      "cell_type": "code",
      "source": [
        ""
      ],
      "metadata": {
        "id": "GX-UxXO7p4eI"
      },
      "execution_count": null,
      "outputs": []
    },
    {
      "cell_type": "markdown",
      "metadata": {
        "id": "-s--a-PglCAY"
      },
      "source": [
        "# Other Operators\n",
        "\n",
        "`IS NULL` returns rows that have null values for a specified attribute <br>\n",
        "`IS NOT NULL` returns rows that do not have null values for a specified attribute <br>\n",
        "`BETWEEN` returns something like, 'between *this* value and *that* value'\n"
      ]
    },
    {
      "cell_type": "markdown",
      "metadata": {
        "id": "oj_cgiAMaAcB"
      },
      "source": [
        "---"
      ]
    },
    {
      "cell_type": "markdown",
      "source": [
        "# ⭕ **QUESTIONS?**"
      ],
      "metadata": {
        "id": "Mcd0z-tHaAcB"
      }
    },
    {
      "cell_type": "markdown",
      "metadata": {
        "id": "n9j7fmXYaAcB"
      },
      "source": [
        "---"
      ]
    }
  ],
  "metadata": {
    "kernelspec": {
      "display_name": "Python 3",
      "language": "python",
      "name": "python3"
    },
    "language_info": {
      "codemirror_mode": {
        "name": "ipython",
        "version": 3
      },
      "file_extension": ".py",
      "mimetype": "text/x-python",
      "name": "python",
      "nbconvert_exporter": "python",
      "pygments_lexer": "ipython3",
      "version": "3.7.3"
    },
    "colab": {
      "name": "Class9_Unsolved.ipynb",
      "provenance": [],
      "collapsed_sections": []
    }
  },
  "nbformat": 4,
  "nbformat_minor": 0
}