{
  "cells": [
    {
      "cell_type": "markdown",
      "metadata": {
        "id": "EPwMbLIRviu2"
      },
      "source": [
        "# Dealing with Data Spring 2022 – Class 9"
      ]
    },
    {
      "cell_type": "markdown",
      "metadata": {
        "id": "9F0CtfJZviu-"
      },
      "source": [
        "---"
      ]
    },
    {
      "cell_type": "markdown",
      "metadata": {
        "id": "MRJWJnhQqETT"
      },
      "source": [
        "### Why Databases?"
      ]
    },
    {
      "cell_type": "markdown",
      "metadata": {
        "id": "JjoI0krTqETT"
      },
      "source": [
        "> Size <br>\n",
        "> Scale <br>\n",
        "> Security <br>\n",
        "> Easy to Make Insertions, Deletions, and Updates"
      ]
    },
    {
      "cell_type": "markdown",
      "metadata": {
        "id": "dhjXPHPyjwAz"
      },
      "source": [
        "### Building a Data Pipeline – In-Class Example"
      ]
    },
    {
      "cell_type": "markdown",
      "metadata": {
        "id": "aBzPzuuDjwAz"
      },
      "source": [
        "**Users**\n",
        "\n",
        "Our users are the [Commissioner for NYC's Media & Entertainment Agency](https://www1.nyc.gov/site/mome/index.page)"
      ]
    },
    {
      "cell_type": "markdown",
      "metadata": {
        "id": "8cRPd1ZJjwAz"
      },
      "source": [
        "**Decision Problem**\n",
        "\n",
        "When making daily decisions around reviewing film permit requests in NYC, the office now needs to consider how to best create a balanced media representation of NYC's diversity. "
      ]
    },
    {
      "cell_type": "markdown",
      "metadata": {
        "id": "PC4IFW-cjwAz"
      },
      "source": [
        "**Data Assistance Requirements**\n",
        "\n",
        "Describe neighborhood characteristics of past film permits to best inform future decisions."
      ]
    },
    {
      "cell_type": "markdown",
      "metadata": {
        "id": "lRrEeZPEjwAz"
      },
      "source": [
        "**Application Type**\n",
        "\n",
        "`Descriptive`: the agency needs to start with an understanding of the neighborhoods shown in previously issued permits"
      ]
    },
    {
      "cell_type": "markdown",
      "metadata": {
        "id": "uHizKdeTjwAz"
      },
      "source": [
        "### Our Data"
      ]
    },
    {
      "cell_type": "markdown",
      "metadata": {
        "id": "bbw0uEdjjwA0"
      },
      "source": [
        "Our `nyc_film_permits.csv` originated from the City of New York [(link here)](https://data.cityofnewyork.us/City-Government/Film-Permits/tg4x-b46p) and was transformed for ease of use in our class. \n",
        "\n",
        "Our `irs_nyc_tax_returns.csv` originated from the IRS [(link here)](https://www.irs.gov/statistics/soi-tax-stats-individual-income-tax-statistics-zip-code-data-soi) and was transformed for ease of use in our class. \n",
        "\n",
        "Our `nyc_census_data.csv` originated from Census.gov [(link here)](https://factfinder.census.gov/faces/nav/jsf/pages/searchresults.xhtml?refresh=t) and was transformed for ease of use in our class. \n",
        "\n",
        "Our `irs_agi_map.csv` was produced manually by Guthrie Collin after reading IRS documentation. "
      ]
    },
    {
      "cell_type": "markdown",
      "source": [
        "### sqlite"
      ],
      "metadata": {
        "id": "IS8D9f3Zj0Qj"
      }
    },
    {
      "cell_type": "code",
      "metadata": {
        "id": "E0f86amjGRZP"
      },
      "source": [
        "import sqlite3 # this is how we will import the sqlite3 functionality needed to proceed"
      ],
      "execution_count": null,
      "outputs": []
    },
    {
      "cell_type": "markdown",
      "metadata": {
        "id": "Aa3Tfe4CGRZU"
      },
      "source": [
        "[SQLite](https://www.sqlite.org/index.html) is a library that allows us to create, populate, and call upon a SQL Database. It's also serverless, meaning we don't need to access a separate server where we're storing our data – instead, we can directly access our databse. We can even store that database as a file in our Colab environment and call upon it. "
      ]
    },
    {
      "cell_type": "code",
      "metadata": {
        "id": "a3zYnkWGGRZU"
      },
      "source": [
        "con = sqlite3.connect('class9_data.db') # this is how we are going to create our database, \n",
        "                                         # calling it 'class9_data.db'\n",
        "\n",
        "                                         # note that if the db doesn't exist, this will create it; Otherwise, it will connect\n",
        "\n",
        "# \"con\" stands for \"connection\" – this is telling SQLite what database to use\n"
      ],
      "execution_count": null,
      "outputs": []
    },
    {
      "cell_type": "markdown",
      "source": [
        "It's important to note that the databse we just created was created _inside this Colab environment_ which will be reset when we log off. \n",
        "\n",
        "Thus, when you're done with your databse, I recommend downloading it directly to your machine. \n",
        "\n",
        "You can see the databse by clicking on the file icon on the far-left side of the window. "
      ],
      "metadata": {
        "id": "QRC3pkzbYJXi"
      }
    },
    {
      "cell_type": "code",
      "source": [
        "import pandas as pd\n",
        "\n",
        "irs_agi_map = pd.read_csv(\"./irs_agi_map.csv\")\n",
        "irs_nyc_tax_returns = pd.read_csv(\"./irs_nyc_tax_returns.csv\")\n",
        "nyc_census_data = pd.read_csv(\"./nyc_census_data.csv\")\n",
        "nyc_film_permits = pd.read_csv(\"./nyc_film_permits.csv\")"
      ],
      "metadata": {
        "id": "cnckH2MMjPmg"
      },
      "execution_count": null,
      "outputs": []
    },
    {
      "cell_type": "code",
      "source": [
        "irs_agi_map.head()"
      ],
      "metadata": {
        "id": "DzwWT9L4j9hT"
      },
      "execution_count": null,
      "outputs": []
    },
    {
      "cell_type": "code",
      "source": [
        "irs_nyc_tax_returns.head()"
      ],
      "metadata": {
        "id": "Ga9TAvOnj9kJ"
      },
      "execution_count": null,
      "outputs": []
    },
    {
      "cell_type": "code",
      "source": [
        "nyc_census_data.head()"
      ],
      "metadata": {
        "id": "9OC-aqivj9ms"
      },
      "execution_count": null,
      "outputs": []
    },
    {
      "cell_type": "code",
      "source": [
        "nyc_film_permits.head()"
      ],
      "metadata": {
        "id": "NnQd41dAj9pk"
      },
      "execution_count": null,
      "outputs": []
    },
    {
      "cell_type": "markdown",
      "source": [
        "---"
      ],
      "metadata": {
        "id": "wpLzCuYQoAW_"
      }
    },
    {
      "cell_type": "code",
      "source": [
        "irs_agi_map.to_sql(name='irs_agi_map',con=con)"
      ],
      "metadata": {
        "id": "OtbFEPdMoUgD"
      },
      "execution_count": null,
      "outputs": []
    },
    {
      "cell_type": "code",
      "source": [
        "check = pd.read_sql(\"SELECT * FROM irs_agi_map LIMIT 3\", con=con)\n",
        "check"
      ],
      "metadata": {
        "id": "lWwpQ3YToUif"
      },
      "execution_count": null,
      "outputs": []
    },
    {
      "cell_type": "code",
      "source": [
        "irs_nyc_tax_returns.to_sql(name='irs_nyc_tax_returns',con=con)"
      ],
      "metadata": {
        "id": "1NybK9MSoUlF"
      },
      "execution_count": null,
      "outputs": []
    },
    {
      "cell_type": "code",
      "source": [
        "check = pd.read_sql(\"SELECT * FROM irs_nyc_tax_returns LIMIT 3\", con=con)\n",
        "check"
      ],
      "metadata": {
        "id": "Id1SOoHYNmPW"
      },
      "execution_count": null,
      "outputs": []
    },
    {
      "cell_type": "code",
      "source": [
        "nyc_census_data.to_sql(name='nyc_census_data',con=con)"
      ],
      "metadata": {
        "id": "LRgy3sgtpgp6"
      },
      "execution_count": null,
      "outputs": []
    },
    {
      "cell_type": "code",
      "source": [
        "check = pd.read_sql(\"SELECT * FROM nyc_census_data LIMIT 3\", con=con)\n",
        "check"
      ],
      "metadata": {
        "id": "8zeNL-7iNrfY"
      },
      "execution_count": null,
      "outputs": []
    },
    {
      "cell_type": "code",
      "source": [
        "nyc_film_permits.to_sql(name='nyc_film_permits',con=con)"
      ],
      "metadata": {
        "id": "9cedwyzfpgv5"
      },
      "execution_count": null,
      "outputs": []
    },
    {
      "cell_type": "code",
      "source": [
        "check = pd.read_sql(\"SELECT * FROM nyc_film_permits LIMIT 3\", con=con)\n",
        "check"
      ],
      "metadata": {
        "id": "DRWL5-IpNu07"
      },
      "execution_count": null,
      "outputs": []
    },
    {
      "cell_type": "markdown",
      "metadata": {
        "id": "r7FjJ01vsxAU"
      },
      "source": [
        "---"
      ]
    },
    {
      "cell_type": "markdown",
      "source": [
        "# ⭕ **QUESTIONS?**"
      ],
      "metadata": {
        "id": "KVi6I4Z5sxAU"
      }
    },
    {
      "cell_type": "markdown",
      "metadata": {
        "id": "A4JfrYo9sxAU"
      },
      "source": [
        "---"
      ]
    },
    {
      "cell_type": "markdown",
      "metadata": {
        "id": "tBp7N-fglCAV"
      },
      "source": [
        "# SELECT and LIMIT"
      ]
    },
    {
      "cell_type": "code",
      "source": [
        "check = pd.read_sql(\"SELECT * FROM irs_agi_map LIMIT 3\", con=con)\n",
        "check"
      ],
      "metadata": {
        "id": "_wEr9eQ_pqzd"
      },
      "execution_count": null,
      "outputs": []
    },
    {
      "cell_type": "code",
      "source": [
        "check = pd.read_sql(\"SELECT * FROM irs_nyc_tax_returns LIMIT 15\", con=con)\n",
        "check"
      ],
      "metadata": {
        "id": "Y2L5atTdpt_Y"
      },
      "execution_count": null,
      "outputs": []
    },
    {
      "cell_type": "code",
      "source": [
        "check = pd.read_sql(\"SELECT state, zipcode FROM irs_nyc_tax_returns\", con=con)\n",
        "check"
      ],
      "metadata": {
        "id": "q5gc40sLpue1"
      },
      "execution_count": null,
      "outputs": []
    },
    {
      "cell_type": "code",
      "source": [
        "check = pd.read_sql(\"SELECT year, state, zipcode, return_count FROM irs_nyc_tax_returns LIMIT 5\", con=con)\n",
        "check"
      ],
      "metadata": {
        "id": "vN1q4tUJpu8H"
      },
      "execution_count": null,
      "outputs": []
    },
    {
      "cell_type": "markdown",
      "metadata": {
        "id": "FDrqZgFUsy_H"
      },
      "source": [
        "---"
      ]
    },
    {
      "cell_type": "markdown",
      "source": [
        "# ⭕ **QUESTIONS?**"
      ],
      "metadata": {
        "id": "YqBHQ4O9sy_I"
      }
    },
    {
      "cell_type": "markdown",
      "metadata": {
        "id": "_bU9QRDlsy_I"
      },
      "source": [
        "---"
      ]
    },
    {
      "cell_type": "markdown",
      "metadata": {
        "id": "egJx3PSflCAW"
      },
      "source": [
        "# AS\n",
        "\n",
        "Sometimes we want to rename a column to provide a more descriptive name in the results"
      ]
    },
    {
      "cell_type": "code",
      "source": [
        "check = pd.read_sql(\"SELECT year, state, zipcode, return_count as tax_returns FROM irs_nyc_tax_returns\", con=con)\n",
        "check"
      ],
      "metadata": {
        "id": "g1K66XlxpwjO"
      },
      "execution_count": null,
      "outputs": []
    },
    {
      "cell_type": "code",
      "source": [
        "check = pd.read_sql(\"SELECT year, state, return_count as 'tax returns' FROM irs_nyc_tax_returns LIMIT 5\", con=con)\n",
        "check"
      ],
      "metadata": {
        "id": "VIlHcUsEpxch"
      },
      "execution_count": null,
      "outputs": []
    },
    {
      "cell_type": "markdown",
      "metadata": {
        "id": "jrB5W_CflCAW"
      },
      "source": [
        "# ORDER BY \n",
        "\n",
        "Used to sort the result row based on attribute values"
      ]
    },
    {
      "cell_type": "code",
      "source": [
        "check = pd.read_sql(\"SELECT year, state, return_count as 'tax returns' FROM irs_nyc_tax_returns ORDER BY 'tax returns' ASC\", con=con)\n",
        "check"
      ],
      "metadata": {
        "id": "A5iDbt4VpyZa"
      },
      "execution_count": null,
      "outputs": []
    },
    {
      "cell_type": "code",
      "source": [
        "check = pd.read_sql(\"SELECT year, return_count as 'tax returns' FROM irs_nyc_tax_returns ORDER BY year DESC\", con=con)\n",
        "check"
      ],
      "metadata": {
        "id": "lUw7elzNOWbl"
      },
      "execution_count": null,
      "outputs": []
    },
    {
      "cell_type": "markdown",
      "metadata": {
        "id": "L0AB2ztus0lo"
      },
      "source": [
        "---"
      ]
    },
    {
      "cell_type": "markdown",
      "source": [
        "# ⭕ **QUESTIONS?**"
      ],
      "metadata": {
        "id": "T9dJc_ygs0lo"
      }
    },
    {
      "cell_type": "markdown",
      "metadata": {
        "id": "lORW5y9ds0lp"
      },
      "source": [
        "---"
      ]
    },
    {
      "cell_type": "markdown",
      "metadata": {
        "id": "Re5G-ZuclCAX"
      },
      "source": [
        "# WHERE\n",
        "\n",
        "Defines which rows will appear in the results.\n",
        "\n",
        "`attr = 'text'/number` means 'attribute is equal to' (either a text value or numerical value) <br>\n",
        "`attr != value` or `attr <> value` means 'attribute is *not equal to* value' <br>\n",
        "`attr > value` means 'attribute is greater than value' <br>\n",
        "`attr < value` means 'attribute is less than value' <br>\n",
        "`attr >= value` means 'attribute is greater than or equal to value' <br>\n",
        "`attr <= value` means 'attribute is less than or equal to value' <br>\n",
        "`attr IN (x1,x2,x3,...)` means 'attribute value is either x1, x2, or x2, or ...' <br> \n",
        "`attr NOT IN (x1,x2,x3,...)` means 'attribute value is not x1, nor x2, nor x3,...' <br>\n",
        "`condition1 AND condition2` means 'both conditions should hold' <br>\n",
        "`condition1 OR condition1` means 'at least one of the conditions should hold' <br>\n"
      ]
    },
    {
      "cell_type": "code",
      "source": [
        "check = pd.read_sql(\"SELECT * FROM irs_nyc_tax_returns WHERE (zipcode == 10001)\", con=con)\n",
        "check"
      ],
      "metadata": {
        "id": "mUpU8E5fp08K"
      },
      "execution_count": null,
      "outputs": []
    },
    {
      "cell_type": "code",
      "source": [
        "check = pd.read_sql(\"SELECT * FROM irs_nyc_tax_returns WHERE (zipcode == 10001 AND return_count > 4000) OR (agi_map_id = 2 AND year = 14)\", con=con)\n",
        "check"
      ],
      "metadata": {
        "id": "f2LW6g8ap2RX"
      },
      "execution_count": null,
      "outputs": []
    },
    {
      "cell_type": "code",
      "source": [
        "check = pd.read_sql(\"SELECT * FROM irs_nyc_tax_returns WHERE (zipcode == 10128 AND year == 2012)\", con=con)\n",
        "check"
      ],
      "metadata": {
        "id": "rCWSl-abp2vG"
      },
      "execution_count": null,
      "outputs": []
    },
    {
      "cell_type": "code",
      "source": [
        "check = pd.read_sql(\"SELECT * FROM irs_nyc_tax_returns WHERE zipcode NOT IN (10001,10002,10128)\", con=con)\n",
        "check"
      ],
      "metadata": {
        "id": "PYYXC4Lvp3OA"
      },
      "execution_count": null,
      "outputs": []
    },
    {
      "cell_type": "code",
      "source": [
        "check = pd.read_sql(\"SELECT * FROM irs_nyc_tax_returns WHERE (zipcode == 10128 AND year == 2012) ORDER BY agi_map_id DESC;\", con=con)\n",
        "check"
      ],
      "metadata": {
        "id": "ur0jqMkOp3v-"
      },
      "execution_count": null,
      "outputs": []
    },
    {
      "cell_type": "markdown",
      "metadata": {
        "id": "duhWolZ7lCAY"
      },
      "source": [
        "# DISTINCT\n",
        "\n",
        "Used to eliminate duplicates in results"
      ]
    },
    {
      "cell_type": "code",
      "source": [
        "check = pd.read_sql(\"SELECT DISTINCT year FROM irs_nyc_tax_returns\", con=con)\n",
        "check"
      ],
      "metadata": {
        "id": "GX-UxXO7p4eI"
      },
      "execution_count": null,
      "outputs": []
    },
    {
      "cell_type": "code",
      "source": [
        "check = pd.read_sql(\"SELECT DISTINCT year, zipcode as 'zip code' FROM irs_nyc_tax_returns\", con=con)\n",
        "check"
      ],
      "metadata": {
        "id": "CfVOFAcNp42_"
      },
      "execution_count": null,
      "outputs": []
    },
    {
      "cell_type": "markdown",
      "metadata": {
        "id": "-s--a-PglCAY"
      },
      "source": [
        "# Other Operators\n",
        "\n",
        "`IS NULL` returns rows that have null values for a specified attribute <br>\n",
        "`IS NOT NULL` returns rows that do not have null values for a specified attribute <br>\n",
        "`BETWEEN` returns something like, 'between *this* value and *that* value'\n"
      ]
    },
    {
      "cell_type": "markdown",
      "metadata": {
        "id": "oj_cgiAMaAcB"
      },
      "source": [
        "---"
      ]
    },
    {
      "cell_type": "markdown",
      "source": [
        "# ⭕ **QUESTIONS?**"
      ],
      "metadata": {
        "id": "Mcd0z-tHaAcB"
      }
    },
    {
      "cell_type": "markdown",
      "metadata": {
        "id": "n9j7fmXYaAcB"
      },
      "source": [
        "---"
      ]
    }
  ],
  "metadata": {
    "kernelspec": {
      "display_name": "Python 3",
      "language": "python",
      "name": "python3"
    },
    "language_info": {
      "codemirror_mode": {
        "name": "ipython",
        "version": 3
      },
      "file_extension": ".py",
      "mimetype": "text/x-python",
      "name": "python",
      "nbconvert_exporter": "python",
      "pygments_lexer": "ipython3",
      "version": "3.7.3"
    },
    "colab": {
      "name": "Class9_Solved.ipynb",
      "provenance": []
    }
  },
  "nbformat": 4,
  "nbformat_minor": 0
}