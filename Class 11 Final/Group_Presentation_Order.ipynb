{
  "cells": [
    {
      "cell_type": "code",
      "execution_count": null,
      "metadata": {
        "id": "zxd2I7GKKWPE"
      },
      "outputs": [],
      "source": [
        "import random\n",
        "\n",
        "groups_list = [\"Group1\",\"Group2\",\"Group3\",\"Group4\",\"Group5\",\"Group6\",\"Group7\",\"Group 8\",\"Group 9\",\"Group 10\",\"Group 11\",\"Group 12\"]\n",
        "\n",
        "random.shuffle(groups_list)\n",
        "\n",
        "print(groups_list)"
      ]
    }
  ],
  "metadata": {
    "kernelspec": {
      "display_name": "Python 3",
      "language": "python",
      "name": "python3"
    },
    "language_info": {
      "codemirror_mode": {
        "name": "ipython",
        "version": 3
      },
      "file_extension": ".py",
      "mimetype": "text/x-python",
      "name": "python",
      "nbconvert_exporter": "python",
      "pygments_lexer": "ipython3",
      "version": "3.7.3"
    },
    "colab": {
      "name": "Group_Presentation_Order.ipynb",
      "provenance": []
    }
  },
  "nbformat": 4,
  "nbformat_minor": 0
}