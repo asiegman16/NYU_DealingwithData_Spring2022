{
  "cells": [
    {
      "cell_type": "markdown",
      "metadata": {
        "id": "AtZnyx88DjLs"
      },
      "source": [
        "# Dealing with Data Spring 2020 – Class 2"
      ]
    },
    {
      "cell_type": "markdown",
      "metadata": {
        "id": "MunNljAFDjL0"
      },
      "source": [
        "---"
      ]
    },
    {
      "cell_type": "markdown",
      "metadata": {
        "id": "Yk-nJlhsDjL1"
      },
      "source": [
        "# Variables\n"
      ]
    },
    {
      "cell_type": "markdown",
      "metadata": {
        "id": "iehIFZkHDjL1"
      },
      "source": [
        "Last class we calculated a meal tip. Let's do that again, this time, with a 100 USD bill, sales tax  of 8.875%, and a pre-tax tip of 20%:"
      ]
    },
    {
      "cell_type": "code",
      "execution_count": null,
      "metadata": {
        "id": "g2d-TriPDjL1"
      },
      "outputs": [],
      "source": [
        ""
      ]
    },
    {
      "cell_type": "markdown",
      "metadata": {
        "id": "VqJcVb3KDjL2"
      },
      "source": [
        "But what if, instead of 100 USD, the cost of the meal is $75? "
      ]
    },
    {
      "cell_type": "code",
      "execution_count": null,
      "metadata": {
        "id": "FbQIyBdsDjL2"
      },
      "outputs": [],
      "source": [
        ""
      ]
    },
    {
      "cell_type": "markdown",
      "metadata": {
        "id": "Tjme5cRBDjL2"
      },
      "source": [
        "Notice we need to make updates multiple places. Fortunately, we can use a `variable` to assign values. \n",
        "\n",
        "Let's use variables for the cost of the food, the tax, and the tip:"
      ]
    },
    {
      "cell_type": "code",
      "execution_count": null,
      "metadata": {
        "id": "E-BeHroKDjL3"
      },
      "outputs": [],
      "source": [
        ""
      ]
    },
    {
      "cell_type": "markdown",
      "metadata": {
        "id": "Uy06siIeGRZM"
      },
      "source": [
        "---"
      ]
    },
    {
      "cell_type": "markdown",
      "source": [
        "# ⭕ **QUESTIONS?**"
      ],
      "metadata": {
        "id": "4GZojYnLW3O4"
      }
    },
    {
      "cell_type": "markdown",
      "metadata": {
        "id": "Bv9DsLKxUy5i"
      },
      "source": [
        "---"
      ]
    },
    {
      "cell_type": "markdown",
      "metadata": {
        "id": "wZ16C8vyDjL3"
      },
      "source": [
        "# Variable names\n",
        "\n",
        "In Python, a variable can be named almost anything (kind of – more on that later). \n",
        "\n",
        "Variables are declared by stating the variable name and assigning to it using the \"=\" operator. At any time, you can reassign a value to a variable.\n",
        "\n",
        "Some rules for naming variables:\n",
        "\n",
        "* they can be one word only\n",
        "* they can contain both letters and numbers, but **cannot** start with a number \n",
        "* the underscore character `_` can appear in a name. _It is often used in variables names with multiple words, such as `my_name`_\n",
        "* they can also start with an underscore character `_`, but we generally avoid doing this unless we are writing library code for others to use"
      ]
    },
    {
      "cell_type": "markdown",
      "metadata": {
        "id": "BKICJvR6DjL4"
      },
      "source": [
        "---"
      ]
    },
    {
      "cell_type": "markdown",
      "metadata": {
        "id": "9lpP99XuDjL4"
      },
      "source": [
        "# Updating Variable Values"
      ]
    },
    {
      "cell_type": "markdown",
      "metadata": {
        "id": "1i_JEsueDjL4"
      },
      "source": [
        "Let's revisit our meal cost calculator:"
      ]
    },
    {
      "cell_type": "code",
      "execution_count": null,
      "metadata": {
        "id": "tVfJXiFKDjL4"
      },
      "outputs": [],
      "source": [
        ""
      ]
    },
    {
      "cell_type": "markdown",
      "metadata": {
        "id": "VCrFQRTYDjL5"
      },
      "source": [
        "Now let's update the cost of the food:"
      ]
    },
    {
      "cell_type": "code",
      "execution_count": null,
      "metadata": {
        "id": "IXMwanwvDjL5"
      },
      "outputs": [],
      "source": [
        ""
      ]
    },
    {
      "cell_type": "markdown",
      "metadata": {
        "id": "JHQGxDsqDjL5"
      },
      "source": [
        "And let's see the cost of the meal:"
      ]
    },
    {
      "cell_type": "code",
      "execution_count": null,
      "metadata": {
        "id": "MGBveujaDjL5"
      },
      "outputs": [],
      "source": [
        ""
      ]
    },
    {
      "cell_type": "markdown",
      "metadata": {
        "id": "L4F9vtnDDjL5"
      },
      "source": [
        "Note that the value of the `cost` variable remained the same. \n",
        "\n",
        "Unlike using formulas with cells in Excel, it was not automatically updated when we updated the `food` variable.\n",
        "\n",
        "To update the `cost` variable, we need to execute again the calculation:"
      ]
    },
    {
      "cell_type": "code",
      "execution_count": null,
      "metadata": {
        "id": "0KxXQ5lXDjL6"
      },
      "outputs": [],
      "source": [
        ""
      ]
    },
    {
      "cell_type": "markdown",
      "metadata": {
        "id": "-0RKZQHEDjL6"
      },
      "source": [
        "Notice that the value of `food` persisted from the prior cell. "
      ]
    },
    {
      "cell_type": "markdown",
      "metadata": {
        "id": "Uei6hJMDKJOd"
      },
      "source": [
        "---"
      ]
    },
    {
      "cell_type": "markdown",
      "source": [
        "# ⭕ **QUESTIONS?**"
      ],
      "metadata": {
        "id": "oI6QlrcqKJOe"
      }
    },
    {
      "cell_type": "markdown",
      "metadata": {
        "id": "wHspM3NOKJOe"
      },
      "source": [
        "---"
      ]
    },
    {
      "cell_type": "markdown",
      "metadata": {
        "id": "9tFEa8_wDjL6"
      },
      "source": [
        "# Example: Using and Updating Variables\n",
        "\n",
        "Upon taking this class, imagine you are recruited in a new hot startup. They offer you a starting salary of 150K USD, a promised 25\\% bonus, and an equity package currently worth 400K USD, vesting over a period of 4 years. \n",
        "\n",
        "You want to examine the true value of this package, so you write the following program:"
      ]
    },
    {
      "cell_type": "code",
      "execution_count": null,
      "metadata": {
        "id": "3hs90AqnDjL6"
      },
      "outputs": [],
      "source": [
        ""
      ]
    },
    {
      "cell_type": "markdown",
      "metadata": {
        "id": "QNBmPEA1DjL7"
      },
      "source": [
        "Now, we'll write the same program but will do the calculation in three steps. Notice that we have to update the `yearly_value` each stage."
      ]
    },
    {
      "cell_type": "code",
      "execution_count": null,
      "metadata": {
        "id": "h_h27njfDjL7"
      },
      "outputs": [],
      "source": [
        ""
      ]
    },
    {
      "cell_type": "markdown",
      "metadata": {
        "id": "QTaPOdd1DjL7"
      },
      "source": [
        "As expected, the outcome is the same as before.\n",
        "\n",
        "Let's see one more variation of the same program, but now we will introduce the `+=` operator. The command `x += y` means  _\"add the value of variable `y` to the variable `x`\"_."
      ]
    },
    {
      "cell_type": "code",
      "execution_count": null,
      "metadata": {
        "id": "gnoBsDc5DjL7"
      },
      "outputs": [],
      "source": [
        ""
      ]
    },
    {
      "cell_type": "markdown",
      "metadata": {
        "id": "eA-2Z-qeDjL8"
      },
      "source": [
        "---"
      ]
    },
    {
      "cell_type": "markdown",
      "metadata": {
        "id": "KaI6NNFLDjL8"
      },
      "source": [
        "# Exercise 1\n",
        "\n",
        "Imagine you not only want to know the value with the current company valuation (\\$400K equity) but also want to see what would happen if your equity is worth nothing at the end. \n",
        "\n",
        "Furthermore, what happens if the company does really well, and grows by a factor of 10x. \n",
        "\n",
        "Write the code for the two scenarios below:"
      ]
    },
    {
      "cell_type": "markdown",
      "metadata": {
        "id": "mNxLV2hcDjL8"
      },
      "source": [
        "# Solution "
      ]
    },
    {
      "cell_type": "code",
      "execution_count": null,
      "metadata": {
        "id": "ewPYjD0MDjL8"
      },
      "outputs": [],
      "source": [
        ""
      ]
    },
    {
      "cell_type": "markdown",
      "metadata": {
        "id": "INKwOuylDjL8"
      },
      "source": [
        "---"
      ]
    },
    {
      "cell_type": "markdown",
      "metadata": {
        "id": "5DNkuD2YDjL9"
      },
      "source": [
        "# Selecting Good Variable Names\n",
        "\n",
        "Notice the importance of selecting good variable names, to make the program readable. \n",
        "\n",
        "The program below is identical to the one above, but with less explanatory names for the variables. Instead, we have  comments to document the code."
      ]
    },
    {
      "cell_type": "code",
      "execution_count": null,
      "metadata": {
        "id": "77JAchUmDjL9"
      },
      "outputs": [],
      "source": [
        ""
      ]
    },
    {
      "cell_type": "markdown",
      "metadata": {
        "id": "myIlaKyyDjL9"
      },
      "source": [
        "Now, let's take the comments away. The program will run in exactly the same manner; comments are purely for humans to read, not for the computer. Still, notice how cryptic the program becomes."
      ]
    },
    {
      "cell_type": "code",
      "execution_count": null,
      "metadata": {
        "id": "AkM3J5wSDjL9"
      },
      "outputs": [],
      "source": [
        ""
      ]
    },
    {
      "cell_type": "markdown",
      "metadata": {
        "id": "uldE78HRDjL9"
      },
      "source": [
        "And here is the same program again, but with really bad selection of variable names. (You may find it artificial, but this is an example of variable names in a real student project submitted a few years ago.)"
      ]
    },
    {
      "cell_type": "code",
      "execution_count": null,
      "metadata": {
        "id": "r78rX3eMDjL-"
      },
      "outputs": [],
      "source": [
        ""
      ]
    },
    {
      "cell_type": "markdown",
      "metadata": {
        "id": "9xyEIFR_DjL-"
      },
      "source": [
        "Remember, the most frequent other person that will read your code is your future self. Treat your future self nicely!"
      ]
    },
    {
      "cell_type": "markdown",
      "metadata": {
        "id": "3ts0CrQHDjL-"
      },
      "source": [
        "# Improper Variable Names, Reserved Keywords, and Dangerous Choices for Variable Names"
      ]
    },
    {
      "cell_type": "markdown",
      "metadata": {
        "id": "odd-_C8ODjL-"
      },
      "source": [
        "If you give a variable an illegal name, you will get a syntax error:"
      ]
    },
    {
      "cell_type": "code",
      "execution_count": null,
      "metadata": {
        "id": "x3hkiUBqDjL-"
      },
      "outputs": [],
      "source": [
        ""
      ]
    },
    {
      "cell_type": "markdown",
      "metadata": {
        "id": "szD7bcfvDjL_"
      },
      "source": [
        "# Reserved keywords"
      ]
    },
    {
      "cell_type": "markdown",
      "metadata": {
        "id": "xLzio4zdDjL_"
      },
      "source": [
        "Python3 has 33 \"reserved keywords\", which are listed below and are also [available in the Python manual](https://docs.python.org/3/reference/lexical_analysis.html#keywords). It a very common mistake for beginners to use some of the reserved keywords below as their variable names, so please try to be vigilant about such mistakes. The editor will help you, as reserved keywords are often colored differently."
      ]
    },
    {
      "cell_type": "raw",
      "metadata": {
        "id": "6t4MPDQfDjL_"
      },
      "source": [
        "* False\n",
        "* class\n",
        "* finally\n",
        "* is\n",
        "* return\n",
        "* None\n",
        "* True\n",
        "* and\n",
        "* as\n",
        "* assert\n",
        "* break\n",
        "* continue\n",
        "* def\n",
        "* del\n",
        "* elif\n",
        "* else\n",
        "* except\n",
        "* for\n",
        "* from\n",
        "* global\n",
        "* if\n",
        "* import \n",
        "* in \n",
        "* lambda\n",
        "* nonlocal\n",
        "* not\n",
        "* or \n",
        "* pass\n",
        "* raise\n",
        "* try\n",
        "* while\n",
        "* with \n",
        "* yield"
      ]
    },
    {
      "cell_type": "markdown",
      "metadata": {
        "id": "OOUdG3RJDjL_"
      },
      "source": [
        "Notice that the code below will not run because \"`raise`\" is a reserved keyword"
      ]
    },
    {
      "cell_type": "code",
      "execution_count": null,
      "metadata": {
        "id": "F2ZqQsH7DjL_"
      },
      "outputs": [],
      "source": [
        ""
      ]
    },
    {
      "cell_type": "markdown",
      "metadata": {
        "id": "mWWYxXNMDjL_"
      },
      "source": [
        "# Key points to remember\n",
        "\n",
        "* We use variables to store values.\n",
        "\n",
        "* We can use variables to make our calculations readable and easier to update.\n",
        "\n",
        "* Variable values persist between cells. Variable values keep the value from the last _executed_ cell that updated them. (Remember that you can execute cells in any order.)\n",
        "\n",
        "* Using good variable names makes our programs easier to read and understand.\n",
        "\n",
        "* Variable names contain letters, numbers, and underscores; variable names cannot start with numbers.\n",
        "\n",
        "* There are a few _reserved keywords_ that cannot be used. It is also a good idea  not to use common function names as variables (eg., `print`, `min`, `max`, etc.; they are all function and are colored green in the editor)\n",
        "\n",
        "\n",
        "\n"
      ]
    },
    {
      "cell_type": "markdown",
      "metadata": {
        "id": "xqnd8SbELSEs"
      },
      "source": [
        "---"
      ]
    },
    {
      "cell_type": "markdown",
      "source": [
        "# ⭕ **QUESTIONS?**"
      ],
      "metadata": {
        "id": "2Ixq6Y3hLSEs"
      }
    },
    {
      "cell_type": "markdown",
      "metadata": {
        "id": "rRewkmURLSEs"
      },
      "source": [
        "---"
      ]
    },
    {
      "cell_type": "markdown",
      "metadata": {
        "heading_collapsed": true,
        "id": "GHlycImgDjMA"
      },
      "source": [
        "# Exercise 2"
      ]
    },
    {
      "cell_type": "markdown",
      "metadata": {
        "hidden": true,
        "id": "m06CLzbBDjMA"
      },
      "source": [
        "Repeat the exercise from earlier on, about the daily return of a stock, but use variables instead of the raw numbers. \n",
        "\n",
        "You can initialize the variables to use \\$550 for the closing price of the stock on Monday, and then use \\$560 as the closing price on Tuesday. \n",
        "\n",
        "Then, try to change these numbers and see the results. (Hint: notice what would happen if you use the name `return` for the variable.) "
      ]
    },
    {
      "cell_type": "code",
      "execution_count": null,
      "metadata": {
        "hidden": true,
        "id": "ucceEEy_DjMA"
      },
      "outputs": [],
      "source": [
        ""
      ]
    },
    {
      "cell_type": "markdown",
      "metadata": {
        "heading_collapsed": true,
        "hidden": true,
        "solution2": "hidden",
        "solution2_first": true,
        "id": "U7wjjPmyDjMA"
      },
      "source": [
        "# Solution"
      ]
    },
    {
      "cell_type": "code",
      "execution_count": null,
      "metadata": {
        "hidden": true,
        "solution2": "hidden",
        "id": "pFeQzy3EDjMA"
      },
      "outputs": [],
      "source": [
        ""
      ]
    },
    {
      "cell_type": "markdown",
      "metadata": {
        "id": "W66vDQ9-DjMB"
      },
      "source": [
        "---"
      ]
    },
    {
      "cell_type": "markdown",
      "metadata": {
        "heading_collapsed": true,
        "id": "_ytlqv0mDjMB"
      },
      "source": [
        "# Exercise 3\n",
        "\n"
      ]
    },
    {
      "cell_type": "markdown",
      "metadata": {
        "hidden": true,
        "id": "W3ePzPuPDjMB"
      },
      "source": [
        "Write a Python program to convert centimeters to feet and inches. Remember that one foot is 30.48 centimeters, and one inch is 2.54 centimeters."
      ]
    },
    {
      "cell_type": "code",
      "execution_count": null,
      "metadata": {
        "hidden": true,
        "solution2": "hidden",
        "id": "81VQHEUjDjMB"
      },
      "outputs": [],
      "source": [
        ""
      ]
    },
    {
      "cell_type": "markdown",
      "metadata": {
        "hidden": true,
        "solution2": "hidden",
        "solution2_first": true,
        "id": "1UF0UoGvDjMB"
      },
      "source": [
        "# Solution"
      ]
    },
    {
      "cell_type": "code",
      "execution_count": null,
      "metadata": {
        "hidden": true,
        "solution2": "hidden",
        "id": "vnQIzS5ADjMC"
      },
      "outputs": [],
      "source": [
        ""
      ]
    },
    {
      "cell_type": "markdown",
      "metadata": {
        "id": "lBNbzzrcDjMC"
      },
      "source": [
        "---"
      ]
    },
    {
      "cell_type": "markdown",
      "metadata": {
        "heading_collapsed": true,
        "id": "z80kNVA1DjMC"
      },
      "source": [
        "# Exercise 4"
      ]
    },
    {
      "cell_type": "markdown",
      "metadata": {
        "hidden": true,
        "id": "6CAS0tMkDjMC"
      },
      "source": [
        "Imagine we want to compute the \"[wind chill index](https://en.wikipedia.org/wiki/Wind_chill)\" as described by Wikipedia\n",
        "\n",
        "$T_\\mathrm{wc}=35.74+0.6215  *  T_\\mathrm{a}-35.75 * v^{0.16}+0.4275 * T_\\mathrm{a} * v^{0.16}$\n",
        "\n",
        "where $T_\\mathrm{wc}$  is the wind chill index, based on the Fahrenheit scale; $T_\\mathrm{a}$ is the air temperature in degrees Fahrenheit, and $v$ is the wind speed in miles per hour. (Note: Windchill temperature is defined only for temperatures at or below 50 °F and wind speeds above 3.0 miles per hour.)\n",
        "\n",
        "Right now, it is 32 degrees Farenheit outside and the wind is blowing at 5mph. "
      ]
    },
    {
      "cell_type": "code",
      "execution_count": null,
      "metadata": {
        "hidden": true,
        "id": "N0g9KZsQDjMC"
      },
      "outputs": [],
      "source": [
        ""
      ]
    },
    {
      "cell_type": "markdown",
      "metadata": {
        "hidden": true,
        "solution2": "hidden",
        "solution2_first": true,
        "id": "MlYELtHADjMC"
      },
      "source": [
        "# Solution"
      ]
    },
    {
      "cell_type": "code",
      "execution_count": null,
      "metadata": {
        "hidden": true,
        "solution2": "hidden",
        "id": "IiYW9vn4DjMC"
      },
      "outputs": [],
      "source": [
        ""
      ]
    },
    {
      "cell_type": "markdown",
      "metadata": {
        "id": "vLXKpjoFDjMD"
      },
      "source": [
        "---"
      ]
    },
    {
      "cell_type": "markdown",
      "metadata": {
        "heading_collapsed": true,
        "id": "CXWO0gsoDjMD"
      },
      "source": [
        "# Exercise 5"
      ]
    },
    {
      "cell_type": "markdown",
      "metadata": {
        "hidden": true,
        "id": "1jYe3__DDjMD"
      },
      "source": [
        "Imagine you have a loan with a given principal amount $p$, to be repaid over a period of $n$ years. At the end of each year, you  get charged an interest of $r$ for the total amount that you owe. Each year you pay an installment equal to $1/n$-th of the initial principal, plus interest on the *remaining* principal. \n",
        "\n",
        "Assume that the principal is \\\\$10K, theinterest rate of 3%, and repayment is over 10 years.\n",
        "\n",
        "Write code that computes how much you owe at the end of year 1. Then, write code for calculating your payment at the end of year 2."
      ]
    },
    {
      "cell_type": "code",
      "execution_count": null,
      "metadata": {
        "hidden": true,
        "id": "uiG8JYLQDjMD"
      },
      "outputs": [],
      "source": [
        ""
      ]
    },
    {
      "cell_type": "markdown",
      "metadata": {
        "hidden": true,
        "solution2": "hidden",
        "solution2_first": true,
        "id": "9CbAzYK4DjMD"
      },
      "source": [
        "# Solution"
      ]
    },
    {
      "cell_type": "code",
      "execution_count": null,
      "metadata": {
        "hidden": true,
        "solution2": "hidden",
        "id": "LJWENG1hDjMD"
      },
      "outputs": [],
      "source": [
        ""
      ]
    },
    {
      "cell_type": "markdown",
      "metadata": {
        "id": "cQSFXwqsLuHP"
      },
      "source": [
        "---"
      ]
    },
    {
      "cell_type": "markdown",
      "source": [
        "# ⭕ **QUESTIONS?**"
      ],
      "metadata": {
        "id": "zVDekWIALuHP"
      }
    },
    {
      "cell_type": "markdown",
      "metadata": {
        "id": "D4A2OH_WLuHP"
      },
      "source": [
        "---"
      ]
    },
    {
      "cell_type": "markdown",
      "metadata": {
        "id": "hijG_JEIDjMD"
      },
      "source": [
        "# Casing, Indexing and Slicing: Changing and accessing  parts of the string\n",
        "\n",
        "**Note: The concepts of indexing and slicing are general. We will encounter them in many other contexts, beyond strings.**"
      ]
    },
    {
      "cell_type": "markdown",
      "metadata": {
        "id": "7pfQf4GeDjME"
      },
      "source": [
        "# Capitalization\n",
        "\n",
        "Now let's see how we can change the capitalization of the text. This will also be our first, informal, introduction to a new type of function. \n",
        "\n",
        "* `str.upper()`: returns an uppercase version of a string\n",
        "* `str.lower()`: returns a lowercase version of a string"
      ]
    },
    {
      "cell_type": "code",
      "execution_count": null,
      "metadata": {
        "id": "eTdFCvsTDjME"
      },
      "outputs": [],
      "source": [
        "news = \"\"\"According to a Wall Street Journal investigation, the site today offers a steady stream of clothing from \n",
        "dozens of Bangladeshi factories that most leading retailers have said are too dangerous to allow into their supply \n",
        "chains.\"\"\""
      ]
    },
    {
      "cell_type": "code",
      "execution_count": null,
      "metadata": {
        "id": "FsRglAImDjME"
      },
      "outputs": [],
      "source": [
        ""
      ]
    },
    {
      "cell_type": "markdown",
      "metadata": {
        "id": "FDECxO4EDjME"
      },
      "source": [
        "# Small Deviation\n",
        "\n",
        "The `.lower()` is a function that applies only to string variables. \n",
        "\n",
        "Notice the different way that we apply the function, compared to, say, the `len(news)` above. \n",
        "\n",
        "In this case, we have a string variable (`news`), then we have a dot (`.`), and then we put the name of the function: (`lower()`). Notice that we have the two parentheses at the end, which indicate that the function does not have any arguments, except for the `news` variable. \n",
        "\n",
        "Notice that if we omit the parentheses, we will get a strange result:"
      ]
    },
    {
      "cell_type": "code",
      "execution_count": null,
      "metadata": {
        "id": "sqcKJ_EBDjME"
      },
      "outputs": [],
      "source": [
        ""
      ]
    },
    {
      "cell_type": "markdown",
      "metadata": {
        "id": "KlvA5_sHMFJ1"
      },
      "source": [
        "---"
      ]
    },
    {
      "cell_type": "markdown",
      "source": [
        "# ⭕ **QUESTIONS?**"
      ],
      "metadata": {
        "id": "Ty5ArqStMFJ1"
      }
    },
    {
      "cell_type": "markdown",
      "metadata": {
        "id": "S-D4jgouMFJ2"
      },
      "source": [
        "---"
      ]
    },
    {
      "cell_type": "markdown",
      "metadata": {
        "id": "lvknxwkyDjMF"
      },
      "source": [
        "# Indexing\n",
        "\n",
        "Strings can be indexed (subscripted), with the first character having index 0."
      ]
    },
    {
      "cell_type": "code",
      "execution_count": null,
      "metadata": {
        "id": "oBoNEWJFDjMF"
      },
      "outputs": [],
      "source": [
        ""
      ]
    },
    {
      "cell_type": "markdown",
      "metadata": {
        "id": "emgCYCxDDjMF"
      },
      "source": [
        "# Negative indexing\n",
        "\n",
        "Indices may also be negative numbers, to start counting from the right at -1:"
      ]
    },
    {
      "cell_type": "code",
      "execution_count": null,
      "metadata": {
        "id": "05qcDu-tDjMF"
      },
      "outputs": [],
      "source": [
        ""
      ]
    },
    {
      "cell_type": "code",
      "execution_count": null,
      "metadata": {
        "id": "uEZb3biNDjMG"
      },
      "outputs": [],
      "source": [
        "##### Illustration of indexing and negative indexing\n",
        "\n",
        "#               | P| y| t| h| o| n|\n",
        "#Index          | 0| 1| 2| 3| 4| 5|\n",
        "#Negative Index |-6|-5|-4|-3|-2|-1|"
      ]
    },
    {
      "cell_type": "markdown",
      "metadata": {
        "id": "1Dr9VT7zDjMG"
      },
      "source": [
        "# Slicing\n",
        "\n",
        "In addition to indexing, slicing is also supported. While indexing is used to obtain individual characters, slicing allows you to obtain a substring:"
      ]
    },
    {
      "cell_type": "code",
      "execution_count": null,
      "metadata": {
        "id": "h0zJ_8VCDjMG"
      },
      "outputs": [],
      "source": [
        ""
      ]
    },
    {
      "cell_type": "markdown",
      "metadata": {
        "id": "WwhVVOiKMO8b"
      },
      "source": [
        "---"
      ]
    },
    {
      "cell_type": "markdown",
      "source": [
        "# ⭕ **QUESTIONS?**"
      ],
      "metadata": {
        "id": "JfsGdnZxMO8b"
      }
    },
    {
      "cell_type": "markdown",
      "metadata": {
        "id": "nNTkRQNgMO8c"
      },
      "source": [
        "---"
      ]
    },
    {
      "cell_type": "markdown",
      "metadata": {
        "id": "ViSuXyzBDjMH"
      },
      "source": [
        "# Exercise 6\n",
        "\n",
        "* Assign the string 'Dealing with Data' to a Python variable. \n",
        "* Print the word 'Dealing' by using the indexing/slicing approach.\n",
        "* Print the word 'Data' by using the negative indexing/slicing approach."
      ]
    },
    {
      "cell_type": "markdown",
      "metadata": {
        "id": "-_d5c3u2DjMH"
      },
      "source": [
        "# Solution"
      ]
    },
    {
      "cell_type": "code",
      "execution_count": null,
      "metadata": {
        "id": "ufsQnKO-DjMH"
      },
      "outputs": [],
      "source": [
        ""
      ]
    },
    {
      "cell_type": "markdown",
      "metadata": {
        "id": "N_A2raiDDjMH"
      },
      "source": [
        "---"
      ]
    },
    {
      "cell_type": "markdown",
      "metadata": {
        "id": "aUcSuw_3DjMH"
      },
      "source": [
        "# String Comparisons\n",
        "\n",
        "We will examine now the concept of comparisons among strings and introduce a few comparison operators. \n",
        "\n",
        "# Equality comparison\n",
        "\n",
        "Let's first examine how we can check if two strings are identical. For this comparison, we need the equality operator `==`."
      ]
    },
    {
      "cell_type": "code",
      "execution_count": null,
      "metadata": {
        "id": "4eVAHagLDjMI"
      },
      "outputs": [],
      "source": [
        ""
      ]
    },
    {
      "cell_type": "markdown",
      "metadata": {
        "id": "49bCcMrtDjMI"
      },
      "source": [
        "Notice that **capitalization matters** when comparsing strings in Python. If we want to make the comparison case-insensitive we typically first convert both sides of the equality to the same case:"
      ]
    },
    {
      "cell_type": "code",
      "execution_count": null,
      "metadata": {
        "id": "0_Yg2RRMDjMI"
      },
      "outputs": [],
      "source": [
        ""
      ]
    },
    {
      "cell_type": "markdown",
      "metadata": {
        "id": "wuCWXJhKDjMI"
      },
      "source": [
        "The opposite operator for equality is the inequality operator: `!=`. For example:"
      ]
    },
    {
      "cell_type": "code",
      "execution_count": null,
      "metadata": {
        "id": "pxe1karZDjMI"
      },
      "outputs": [],
      "source": [
        ""
      ]
    },
    {
      "cell_type": "markdown",
      "metadata": {
        "id": "ekGlN5kBDjMI"
      },
      "source": [
        "# Ordering Strings\n",
        "\n",
        "String also allow for inequality comparisons. When we compare strings, the string that is \"smaller\" is the one that is coming first in the dictionary. Let's see an example: "
      ]
    },
    {
      "cell_type": "code",
      "execution_count": null,
      "metadata": {
        "id": "CVjEiAZxDjMI"
      },
      "outputs": [],
      "source": [
        ""
      ]
    },
    {
      "cell_type": "markdown",
      "metadata": {
        "id": "flh5TwIcDjMJ"
      },
      "source": [
        "Notice though the following, where the capitalization of `Bill` changes:"
      ]
    },
    {
      "cell_type": "code",
      "execution_count": null,
      "metadata": {
        "id": "HqInoXgrDjMJ"
      },
      "outputs": [],
      "source": [
        ""
      ]
    },
    {
      "cell_type": "markdown",
      "metadata": {
        "id": "_I5iHKkiDjMJ"
      },
      "source": [
        "What causes this is the fact that the order is not simply the order in which we would encounter words in the dictionary. Technically, strings are ordered based on the order of the characters in the ASCII (or Unicode) table."
      ]
    },
    {
      "cell_type": "markdown",
      "metadata": {
        "id": "Ut02JXrEDjMJ"
      },
      "source": [
        "For example, if we have the list of strings below, and we try to sort them, look what happens:"
      ]
    },
    {
      "cell_type": "code",
      "execution_count": null,
      "metadata": {
        "id": "HGIfo2lmDjMJ"
      },
      "outputs": [],
      "source": [
        ""
      ]
    },
    {
      "cell_type": "markdown",
      "metadata": {
        "id": "FV2XHwpHM1nb"
      },
      "source": [
        "---"
      ]
    },
    {
      "cell_type": "markdown",
      "source": [
        "# ⭕ **QUESTIONS?**"
      ],
      "metadata": {
        "id": "tvJuGi-ZM1nb"
      }
    },
    {
      "cell_type": "markdown",
      "metadata": {
        "id": "9dMveCh0M1nb"
      },
      "source": [
        "---"
      ]
    },
    {
      "cell_type": "markdown",
      "metadata": {
        "id": "Ve0HhtonDjMJ"
      },
      "source": [
        "# Finding text within string variables\n",
        "\n",
        "####  `in` operator\n",
        "\n",
        "\n",
        "+ The `in` operator, `needle in haystack`: reports if the string `needle` appears in the string `haystack`\n"
      ]
    },
    {
      "cell_type": "markdown",
      "metadata": {
        "id": "yI7nuofIDjMK"
      },
      "source": [
        "For example, string \"New York\" appears within \"New York University\", so the following operator returns `True`:"
      ]
    },
    {
      "cell_type": "code",
      "execution_count": null,
      "metadata": {
        "id": "J-Hvd_PwDjMK"
      },
      "outputs": [],
      "source": [
        ""
      ]
    },
    {
      "cell_type": "markdown",
      "metadata": {
        "id": "YbeRWxe0DjMK"
      },
      "source": [
        "But, \"New York University\" is not in \"New York\" "
      ]
    },
    {
      "cell_type": "code",
      "execution_count": null,
      "metadata": {
        "id": "TbozzXHIDjMK"
      },
      "outputs": [],
      "source": [
        ""
      ]
    },
    {
      "cell_type": "markdown",
      "metadata": {
        "id": "GxdMH40HDjMK"
      },
      "source": [
        "# `find` function\n",
        "\n",
        "* The `find` function, `haystack.find(needle)`: searches `haystack` for `needle`, prints the position of the first occurrence, indexed from 0; returns -1 if not found.\n",
        "\n",
        "For example:"
      ]
    },
    {
      "cell_type": "code",
      "execution_count": null,
      "metadata": {
        "id": "SPVQY6cjDjMK"
      },
      "outputs": [],
      "source": [
        ""
      ]
    },
    {
      "cell_type": "markdown",
      "metadata": {
        "id": "5F5axUiADjMK"
      },
      "source": [
        "If we are looking to find additional appearances of the string, then we can add a second parameter in the `find` function, specifying that we are only interested in matches after the position specificed by the parameter."
      ]
    },
    {
      "cell_type": "code",
      "execution_count": null,
      "metadata": {
        "id": "N0yriDcaDjML"
      },
      "outputs": [],
      "source": [
        ""
      ]
    },
    {
      "cell_type": "markdown",
      "metadata": {
        "id": "s395wMRKDjML"
      },
      "source": [
        "---"
      ]
    },
    {
      "cell_type": "markdown",
      "metadata": {
        "id": "vElbe1YvDjML"
      },
      "source": [
        "# Exercise 7\n",
        "\n",
        "Consider the string `billgates@microsoft.com`. \n",
        "\n",
        "Write code that finds the username of the email address and the domain of the email address. You will need to use the .find() command, and also use your knowledge of indexing and slicing for this exercise. \n",
        "\n",
        "Hint: You will need to search for the `@` character using find, and then use the result to get the parts of the string before and after the `@` character. (Do not worry if this seems tedious, this is mainly for practice; later on, we will see how to do this in an easier way.)\n"
      ]
    },
    {
      "cell_type": "markdown",
      "metadata": {
        "id": "pmpUyA9YDjML"
      },
      "source": [
        "# Solution"
      ]
    },
    {
      "cell_type": "code",
      "execution_count": null,
      "metadata": {
        "id": "2OmhUH2TDjML"
      },
      "outputs": [],
      "source": [
        ""
      ]
    },
    {
      "cell_type": "markdown",
      "metadata": {
        "id": "u3fAb4iHDjML"
      },
      "source": [
        "---"
      ]
    },
    {
      "cell_type": "markdown",
      "metadata": {
        "id": "htQ8GQCqDjML"
      },
      "source": [
        "# `count` function\n",
        "\n",
        "+ `str_1.count(str_2)`: counts the number of occurrences of one string in another."
      ]
    },
    {
      "cell_type": "code",
      "execution_count": null,
      "metadata": {
        "id": "VXFAiHAmDjML"
      },
      "outputs": [],
      "source": [
        ""
      ]
    },
    {
      "cell_type": "markdown",
      "metadata": {
        "id": "-xlgZIbVDjMM"
      },
      "source": [
        "Of course, notice that if capitalization is different, the matches will not \"count\"."
      ]
    },
    {
      "cell_type": "code",
      "execution_count": null,
      "metadata": {
        "id": "a1vjqo98DjMM"
      },
      "outputs": [],
      "source": [
        ""
      ]
    },
    {
      "cell_type": "markdown",
      "metadata": {
        "id": "nzRihNeTDjMM"
      },
      "source": [
        "---"
      ]
    },
    {
      "cell_type": "markdown",
      "metadata": {
        "id": "F-zRRzUGDjMM"
      },
      "source": [
        "# Exercise 8\n",
        "\n",
        "Consider the news article from [NYT](https://www.nytimes.com/2022/02/15/sports/olympics/alex-hall-nick-goepper-gold-silver-slopestyle-skiing.html?), which is given below, and stored in the string variable `article`.\n",
        "\n",
        "* Count how many times the word `Hall` appears in the article. .\n",
        "* Count how many times the word `Goepper` appears in the article. \n",
        "* Now sum up the occurences of `Hall` and `Goepper` and display the percentage of coverage for each of the two strings. (For example, if Hall appears 2 times and Goepper 3 times, then Hall is 40% and Goepper is 60%.)"
      ]
    },
    {
      "cell_type": "code",
      "source": [
        "article = \"\"\"\n",
        "Alex Hall let out a whoop when he landed his last trick on the slopestyle course, and that was before the judges awarded him with what would be the winning score. It was, he said later, the best run of his life.\n",
        "\n",
        "“Oh, I was stoked,” he said. “I couldn’t believe I just landed that.”\n",
        "\n",
        "Hall was one of three Americans looking to crowd the medal stand at the men’s freestyle skiing slopestyle event, hoping that a European-centric field would not disrupt those plans.\n",
        "\n",
        "Two of them did it: Hall won gold and Nick Goepper took silver on another sunny, below-zero day at Genting Snow Park. Jesper Tjader of Sweden won bronze.\n",
        "\n",
        "In a competition where only a skier’s best score counted, Hall set the standard early with a 90.01 score on the first of three runs. Everyone else spent the frigid morning trying to match it, but no one did. Goepper came closest, on his second run, scoring 86.48.\n",
        "\n",
        "“All right,” he said when the score popped up. “I’ll take it.”\n",
        "\n",
        "Each of the Americans in the final arrived with high hopes and a stirring story. Goepper, 27, was looking to complete a full rainbow of medals, having won a bronze in 2014 and a silver in 2018. He has battled alcohol abuse and depression, opening up about his struggles after his 2018 performance in Pyeongchang, South Korea.\n",
        "\n",
        "In an interview last month, Goepper said that he was glad that other Olympians seem increasingly willing to discuss their mental health.\n",
        "\n",
        "Colby Stevenson, 24, was in a near-fatal car accident in 2016, late at night on a rural road in Idaho. He spent days in a coma, but recovered to return to the global circuit and win major events. At these Olympics, he won a silver medal in big air and was a contender for another medal in slopestyle.\n",
        "\n",
        "Instead, he finished seventh, unable to cleanly land the run he imagined.\n",
        "\n",
        "“Gave it everything I had,” he said after his last chance.\n",
        "\n",
        "The day belonged to Hall. The 23-year-old was born in Alaska but grew up mostly in Switzerland, the son of professors at the University of Zurich. He did not have coaching until he was 16, when he was invited by the U.S. freeski team to train in Utah. For a time, he considered competing for Italy, where his mother is from.\n",
        "\n",
        "That background, free from the constraints of coaching and youth competitions, imbibed him with a bit of a free spirit.\n",
        "\n",
        "He was 16th in slopestyle at the 2018 Pyeongchang Winter Olympics, just as his career was taking off. He won a World Cup event that year and the X Games in 2019. He was third at last year’s world championships.\n",
        "\n",
        "He is tall, well over six feet, but stands out on the slopes mostly for his originality.\n",
        "\n",
        "“You’ll see him doing a whole bunch of taps and nose butters and creative ways to utilize the course,” U.S. freeski coach Dave Euler said of Hall in December. “He’s a very creative course user.”\n",
        "\n",
        "The Olympic contest was the final showing for the slopestyle course, a standout venue — but a temporary one, made of snow — designed to look like a section of the nearby Great Wall. Its combination of rails, obstacles and jumps created a plethora of possibilities, but vexed some of the world’s best snowboarders and freeskiers. Hall and Goepper loved it.\n",
        "\n",
        "“As soon as you standardize this sport, you’re going to kill it,” Goepper said. “So if you can leave the creativity and the artistry up to us, that is going to keep this sport fresh.”\n",
        "\n",
        "It is why Hall was deemed the worthiest of Olympic champions. He has won big contests with dizzying spins, a ceaseless spin-to-win trend in both freeskiing and snowboarding that worries purists.\n",
        "\n",
        "But on Wednesday, Hall brought a bag of technical tricks, hoping the judges would reward him for originality rather than rotations.\n",
        "\n",
        "His last jump was one that he had landed only a couple of times before, even though it is really only a 900-degree rotation — half of what many other tricks are these days. As Hall described it, he spun one way in the air, stopped and spun the other way before landing.\n",
        "\n",
        "That led to the whoop.\n",
        "\n",
        "“I’ve always told myself, if I’m not having fun doing it, then there’s really no reason to do it,” Hall said. “So I might as well do what brings me all this joy.”\n",
        "\n",
        "His smile was concealed by a mask, a hallmark of an Olympics held during a pandemic. But his eyes lit up below his ice-frosted eyebrows. He wore an American flag over his shoulders, and soon, a gold medal around his neck.\n",
        "\n",
        "\n",
        "\"\"\""
      ],
      "metadata": {
        "id": "yn2c0yVuN98T"
      },
      "execution_count": null,
      "outputs": []
    },
    {
      "cell_type": "markdown",
      "metadata": {
        "id": "bNGurnNVDjMM"
      },
      "source": [
        "# Solution"
      ]
    },
    {
      "cell_type": "code",
      "execution_count": null,
      "metadata": {
        "id": "m7S8UDWKDjMO"
      },
      "outputs": [],
      "source": [
        ""
      ]
    },
    {
      "cell_type": "markdown",
      "metadata": {
        "id": "JjClqOjFNJ3K"
      },
      "source": [
        "---"
      ]
    },
    {
      "cell_type": "markdown",
      "source": [
        "# ⭕ **QUESTIONS?**"
      ],
      "metadata": {
        "id": "-qCjTqE0NJ3K"
      }
    },
    {
      "cell_type": "markdown",
      "metadata": {
        "id": "M5AyqlyqNJ3K"
      },
      "source": [
        "---"
      ]
    },
    {
      "cell_type": "markdown",
      "metadata": {
        "id": "d2sloU4-DjMP"
      },
      "source": [
        "# `startswith` and `endswith` functions"
      ]
    },
    {
      "cell_type": "markdown",
      "metadata": {
        "id": "5uf_nScqDjMP"
      },
      "source": [
        "Finally, we can also check if a particular string starts or ends with a another substring\n",
        "\n",
        "+ `haystack.startswith(needle)`: does a the haystack string start with the needle string?\n",
        "+ `haystack.endswith(needle)`: does a the haystack string end with the needle string?\n"
      ]
    },
    {
      "cell_type": "code",
      "execution_count": null,
      "metadata": {
        "id": "hdGTEe8IDjMP"
      },
      "outputs": [],
      "source": [
        ""
      ]
    },
    {
      "cell_type": "markdown",
      "metadata": {
        "id": "n8ghoqilDjMP"
      },
      "source": [
        "# Special characters\n",
        "\n",
        "When we use strings, you will notice that we often want to use some \"_special characters_\". These special characters consist of the backslash character (`\\`) followed by another character.\n",
        "\n",
        "**Tab character** `\\t`: For example, if we want to create an output of multiple columns, with each columns being separated with a tab from each other, we can use the tab character, which is represented as `\\t`. "
      ]
    },
    {
      "cell_type": "code",
      "execution_count": null,
      "metadata": {
        "id": "BvCt3ipZDjMP"
      },
      "outputs": [],
      "source": [
        ""
      ]
    },
    {
      "cell_type": "markdown",
      "metadata": {
        "id": "3CZLWawoDjMP"
      },
      "source": [
        "**New line character** `\\n`: This is a special character that we use to represent a new line."
      ]
    },
    {
      "cell_type": "code",
      "execution_count": null,
      "metadata": {
        "id": "XM0Ii_m3DjMQ"
      },
      "outputs": [],
      "source": [
        ""
      ]
    },
    {
      "cell_type": "markdown",
      "metadata": {
        "id": "FUW0cw9BDjMQ"
      },
      "source": [
        "**Backslash character** `\\\\`: In general, backslash (`\\`) is used to introduce special characters. If we want to type the backslash character itself, we do it by typing backslash twice in a row: `\\\\`."
      ]
    },
    {
      "cell_type": "code",
      "execution_count": null,
      "metadata": {
        "id": "sxiEKoNuDjMQ"
      },
      "outputs": [],
      "source": [
        ""
      ]
    },
    {
      "cell_type": "markdown",
      "metadata": {
        "id": "vvJ4EupADjMQ"
      },
      "source": [
        "**Quotes**: "
      ]
    },
    {
      "cell_type": "code",
      "execution_count": null,
      "metadata": {
        "id": "Mi77FozrDjMQ"
      },
      "outputs": [],
      "source": [
        ""
      ]
    },
    {
      "cell_type": "markdown",
      "metadata": {
        "id": "MxSqwRPTNXEV"
      },
      "source": [
        "---"
      ]
    },
    {
      "cell_type": "markdown",
      "source": [
        "# ⭕ **QUESTIONS?**"
      ],
      "metadata": {
        "id": "fA8PAipMNXEV"
      }
    },
    {
      "cell_type": "markdown",
      "metadata": {
        "id": "tOXJBa6dNXEV"
      },
      "source": [
        "---"
      ]
    },
    {
      "cell_type": "markdown",
      "metadata": {
        "id": "3nsI5KS_DjMQ"
      },
      "source": [
        "# Splitting Strings: `split` and `join`\n",
        "\n",
        "Since we talked about special characters, let’s talk now about splitting strings, using the `split()` function.\n",
        "\n",
        "\n",
        "+ `longstring.split(separator)`: split the first string (longstring) at every occurrence of the second string (separator) Outputs a list (see below).\n",
        "+ `connector.join(list)`:  join is the \"reverse\" of split, and joins all  the elements of the list, using the `connector` string in front."
      ]
    },
    {
      "cell_type": "code",
      "execution_count": null,
      "metadata": {
        "id": "fxfgxRnMDjMR"
      },
      "outputs": [],
      "source": [
        ""
      ]
    },
    {
      "cell_type": "markdown",
      "metadata": {
        "id": "nx-sP7ATDjMR"
      },
      "source": [
        "Or let's take the example from above:"
      ]
    },
    {
      "cell_type": "code",
      "execution_count": null,
      "metadata": {
        "id": "VpxIg5uQDjMR"
      },
      "outputs": [],
      "source": [
        ""
      ]
    },
    {
      "cell_type": "markdown",
      "metadata": {
        "id": "G1m7b4KrDjMR"
      },
      "source": [
        "Notice that when we split a string and the delimeter character\n",
        "does not appear, then we get back the string itself, but converted\n",
        "into a list with a single element. (We will talk about lists in a future class)"
      ]
    },
    {
      "cell_type": "code",
      "execution_count": null,
      "metadata": {
        "id": "ycKvcPoNDjMR"
      },
      "outputs": [],
      "source": [
        ""
      ]
    },
    {
      "cell_type": "markdown",
      "metadata": {
        "id": "Z6EJbTMdDjMR"
      },
      "source": [
        "  Join is the \"reverse\" of split, and joins all\n",
        " the elements of the list, using the \"string\" in front.\n",
        " The command below joins the elements of the `line` variable using the \n",
        " characters `###` as the connecting element."
      ]
    },
    {
      "cell_type": "code",
      "execution_count": null,
      "metadata": {
        "id": "lwYyM4b4DjMR"
      },
      "outputs": [],
      "source": [
        ""
      ]
    },
    {
      "cell_type": "markdown",
      "metadata": {
        "id": "gbgHkt_5DjMR"
      },
      "source": [
        "---"
      ]
    },
    {
      "cell_type": "markdown",
      "metadata": {
        "id": "Jl6gWDjzDjMS"
      },
      "source": [
        "# Exercise 9 \n",
        "\n",
        "Consider the string `billgates@microsoft.com.`\n",
        "\n",
        "Write code that finds the username of the email address and the domain of the email address, using the `split()` command."
      ]
    },
    {
      "cell_type": "markdown",
      "metadata": {
        "id": "QZMSkEz5DjMS"
      },
      "source": [
        "# Solution"
      ]
    },
    {
      "cell_type": "code",
      "execution_count": null,
      "metadata": {
        "id": "P4F7woCtDjMS"
      },
      "outputs": [],
      "source": [
        ""
      ]
    },
    {
      "cell_type": "markdown",
      "metadata": {
        "id": "-VtamHNODjMS"
      },
      "source": [
        "---"
      ]
    },
    {
      "cell_type": "markdown",
      "metadata": {
        "id": "yNnV6zhwDjMS"
      },
      "source": [
        "# Booleans\n",
        "\n",
        "Booleans represent the truth or success of a statement, and are commonly used for branching and checking status in code.\n",
        "\n",
        "They can take two values: `True` or `False`."
      ]
    },
    {
      "cell_type": "code",
      "execution_count": null,
      "metadata": {
        "id": "V4boI9zoDjMS"
      },
      "outputs": [],
      "source": [
        ""
      ]
    },
    {
      "cell_type": "markdown",
      "metadata": {
        "id": "_gdSnpljDjMS"
      },
      "source": [
        "If you remember from our strings session, we could execute a command that checks in a string appears within another. For example:\n"
      ]
    },
    {
      "cell_type": "code",
      "execution_count": null,
      "metadata": {
        "id": "jYOQXKXsDjMT"
      },
      "outputs": [],
      "source": [
        ""
      ]
    },
    {
      "cell_type": "markdown",
      "metadata": {
        "id": "1sGA7tAoDjMT"
      },
      "source": [
        "# Boolean Operations:\n",
        "\n",
        "Frequently, one wants to combine or modify boolean values. Python has several operations for just this purpose:\n",
        "\n",
        "+ `not a`: returns the opposite value of `a`.\n",
        "+ `a and b`: returns true if and only if both `a` and `b` are true.\n",
        "+ `a or b`: returns true either `a` or `b` are true, or both.\n",
        "\n",
        "Like mathematical expressions, boolean expressions can be nested using parentheses. "
      ]
    },
    {
      "cell_type": "code",
      "execution_count": null,
      "metadata": {
        "id": "m-bDlqG3DjMT"
      },
      "outputs": [],
      "source": [
        ""
      ]
    },
    {
      "cell_type": "markdown",
      "metadata": {
        "id": "pKGFO7h2DjMT"
      },
      "source": [
        "Consider the outcomes of the following examples"
      ]
    },
    {
      "cell_type": "code",
      "execution_count": null,
      "metadata": {
        "id": "ZtzdQon6DjMT"
      },
      "outputs": [],
      "source": [
        ""
      ]
    },
    {
      "cell_type": "markdown",
      "metadata": {
        "id": "_9hcITl4Niy7"
      },
      "source": [
        "---"
      ]
    },
    {
      "cell_type": "markdown",
      "source": [
        "# ⭕ **QUESTIONS?**"
      ],
      "metadata": {
        "id": "ClILq8uDNiy7"
      }
    },
    {
      "cell_type": "markdown",
      "metadata": {
        "id": "UdkPQxXfNiy7"
      },
      "source": [
        "---"
      ]
    },
    {
      "cell_type": "markdown",
      "metadata": {
        "id": "7CdvPNy8DjMU"
      },
      "source": [
        "# Control Structures: if statements\n",
        "\n",
        "Traversing over data and making decisions based upon data are a common aspect of every programming language, known as control flow. Python provides a rich control flow, with a lot of conveniences for the power users. Here, we're just going to talk about the basics.\n",
        "\n",
        "A common theme throughout this discussion of control structures is the notion of a \"block of code.\" Blocks of code are **demarcated by a specific level of indentation**, typically separated from the surrounding code by some control structure elements, immediately preceeded by a colon, `:`. We'll see examples below. "
      ]
    },
    {
      "cell_type": "markdown",
      "metadata": {
        "id": "Rb8sag0vDjMU"
      },
      "source": [
        "# if Statements:\n",
        "\n",
        "If statements are perhaps the most widely used of all control structures. An if statement consists of a code block and an argument. The if statement evaluates the boolean value of it's argument, executing the code block if that argument is true. "
      ]
    },
    {
      "cell_type": "code",
      "execution_count": null,
      "metadata": {
        "id": "fufT7LZrDjMU"
      },
      "outputs": [],
      "source": [
        ""
      ]
    },
    {
      "cell_type": "markdown",
      "metadata": {
        "id": "ZdmgfpR2DjMV"
      },
      "source": [
        "And here is an `if` statement paired with an `else`."
      ]
    },
    {
      "cell_type": "code",
      "execution_count": null,
      "metadata": {
        "id": "3KKYGUGCDjMV"
      },
      "outputs": [],
      "source": [
        "text = \"The day belonged to Hall. The 23-year-old was born in Alaska but grew up mostly in Switzerland, the son of professors at the University of Zurich. He did not have coaching until he was 16, when he was invited by the U.S. freeski team to train in Utah. For a time, he considered competing for Italy, where his mother is from.\"\n",
        "\n"
      ]
    },
    {
      "cell_type": "code",
      "execution_count": null,
      "metadata": {
        "id": "zWWhHYkLDjMV"
      },
      "outputs": [],
      "source": [
        "text = \"The day belonged to Hall. The 23-year-old was born in Alaska but grew up mostly in Switzerland, the son of professors at the University of Zurich. He did not have coaching until he was 16, when he was invited by the U.S. freeski team to train in Utah. For a time, he considered competing for Italy, where his mother is from.\""
      ]
    },
    {
      "cell_type": "markdown",
      "metadata": {
        "id": "CrQE8q7_DjMV"
      },
      "source": [
        "Each argument in the above if statements is a boolean expression. Often you want to have alternatives, blocks of code that get evaluated in the event that the argument to an if statement is false. This is where **`elif`** (else if) and **`else`** come in. \n",
        "\n",
        "An **`elif`** is evaluated if all preceding `if` or `elif` arguments have evaluated to false. The `else` statement is the last resort, assigning the code that gets executed if no `if` or `elif` above it is true. These statements are optional, and can be added to an if statement in any order, with at most one code block being evaluated. An `else` will always have it's code be executed, if nothing above it is true."
      ]
    },
    {
      "cell_type": "code",
      "execution_count": null,
      "metadata": {
        "id": "f8EOkMStDjMV"
      },
      "outputs": [],
      "source": [
        ""
      ]
    },
    {
      "cell_type": "markdown",
      "metadata": {
        "id": "cDsuu93rDjMV"
      },
      "source": [
        "---"
      ]
    },
    {
      "cell_type": "markdown",
      "metadata": {
        "id": "SGJHCnB_DjMV"
      },
      "source": [
        "# Exercise 10\n",
        "\n",
        "You need to be 21 years old and above to drink alcohol. Write a conditional expression that checks the age, and prints out whether the person is allowed to drink alcohol."
      ]
    },
    {
      "cell_type": "markdown",
      "metadata": {
        "id": "wVG1N2bADjMV"
      },
      "source": [
        "# Solution"
      ]
    },
    {
      "cell_type": "code",
      "execution_count": null,
      "metadata": {
        "id": "OUQtikMRDjMV"
      },
      "outputs": [],
      "source": [
        ""
      ]
    },
    {
      "cell_type": "markdown",
      "metadata": {
        "id": "rzyfALOmDjMW"
      },
      "source": [
        "---"
      ]
    },
    {
      "cell_type": "markdown",
      "metadata": {
        "id": "CAldPkdjDjMW"
      },
      "source": [
        "---"
      ]
    },
    {
      "cell_type": "markdown",
      "metadata": {
        "id": "iibiqnjmDjMW"
      },
      "source": [
        "# A Hint for Your Homework\n",
        "\n",
        "If you would like to request input from a user, you can simply use `input()`. For instance..."
      ]
    },
    {
      "cell_type": "code",
      "execution_count": null,
      "metadata": {
        "id": "_n8F1eCTDjMW"
      },
      "outputs": [],
      "source": [
        ""
      ]
    },
    {
      "cell_type": "markdown",
      "metadata": {
        "id": "g9Vqy2BfDjMW"
      },
      "source": [
        "---"
      ]
    }
  ],
  "metadata": {
    "kernelspec": {
      "display_name": "Python 3",
      "language": "python",
      "name": "python3"
    },
    "language_info": {
      "codemirror_mode": {
        "name": "ipython",
        "version": 3
      },
      "file_extension": ".py",
      "mimetype": "text/x-python",
      "name": "python",
      "nbconvert_exporter": "python",
      "pygments_lexer": "ipython3",
      "version": "3.7.3"
    },
    "colab": {
      "name": "Class2_unsolved.ipynb",
      "provenance": []
    }
  },
  "nbformat": 4,
  "nbformat_minor": 0
}