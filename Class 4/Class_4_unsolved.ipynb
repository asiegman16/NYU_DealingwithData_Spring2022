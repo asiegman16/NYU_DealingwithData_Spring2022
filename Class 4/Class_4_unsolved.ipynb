{
  "cells": [
    {
      "cell_type": "markdown",
      "metadata": {
        "id": "rltwiEDKqWz3"
      },
      "source": [
        "# Dealing with Data Spring 2020 – Class 4"
      ]
    },
    {
      "cell_type": "markdown",
      "metadata": {
        "id": "UUZjHQK1qW0A"
      },
      "source": [
        "---"
      ]
    },
    {
      "cell_type": "markdown",
      "metadata": {
        "id": "XWk9LXl3qW0B"
      },
      "source": [
        "# Iterations and 'While' statements\n",
        "\n",
        "We've spent some time going into detail about some of the data types and structures available in python. It's now time to talk about how to navigate through some of this data, and use data to make decisions. \n",
        "\n",
        "Traversing over data and making decisions based upon data are a common aspect of every programming language. To understand how to do this, we will study the concept of _iteration_. \n",
        "\n",
        "Iterations allow us to execute the same task multiple times, and is a key programming concept."
      ]
    },
    {
      "cell_type": "code",
      "execution_count": null,
      "metadata": {
        "id": "P2rkpyUuqW0B"
      },
      "outputs": [],
      "source": [
        ""
      ]
    },
    {
      "cell_type": "markdown",
      "metadata": {
        "id": "WBsf4Rl9qW0C"
      },
      "source": [
        "# 'While' statements"
      ]
    },
    {
      "cell_type": "markdown",
      "metadata": {
        "id": "YNfm3S1tqW0C"
      },
      "source": [
        "The `while` statement provides a general way for creating iterative code execution. \n",
        "\n",
        "As in the case of the `if` statement, the `while` statement uses a boolean expression that controls the flow of execution. \n",
        "\n",
        "The difference is that, when we use the `if` statement, the nested code in executed only once; when we use the `while` statement, the nested code keeps executing, as long as the boolean expression is `True`.\n",
        "\n",
        "For example, the following example counts until `var` becomes larger than 5"
      ]
    },
    {
      "cell_type": "code",
      "execution_count": null,
      "metadata": {
        "id": "ZpOnob4mqW0C"
      },
      "outputs": [],
      "source": [
        ""
      ]
    },
    {
      "cell_type": "markdown",
      "metadata": {
        "id": "r_gccySHqW0D"
      },
      "source": [
        "Above, we: \n",
        "\n",
        "1. Evaluate the condition, yielding `False` or `True`.\n",
        "2. If the condition is `False`, exit the `while` statement and continue execution at the next statement that is after the body of the while.\n",
        "3. If the condition is `True`, execute each of the statements in the body and then go back to step 1.\n",
        "\n",
        "The body consists of all of the statements below the header with the same indentation.\n",
        "\n",
        "\n",
        "\n",
        "This type of flow is called a **loop** because the third step loops back around to the top. Notice that if the condition is `False` the first time through the loop, the statements inside the loop are never executed."
      ]
    },
    {
      "cell_type": "markdown",
      "metadata": {
        "id": "WAGs2LvlqW0D"
      },
      "source": [
        "# Example: Tea Cooling"
      ]
    },
    {
      "cell_type": "markdown",
      "metadata": {
        "id": "ZSfRAMcmqW0D"
      },
      "source": [
        "Consider the following example: \n",
        "\n",
        "Your tea starts at 115 degrees Fahrenheit. You want it at 110 degrees, and you know that a chip of ice lowers the temperature one degree every second. \n",
        "\n",
        "You test the temperature each second, and also print out the temperature before reducing the temperature. In Python you could write and run the code below:"
      ]
    },
    {
      "cell_type": "code",
      "execution_count": null,
      "metadata": {
        "id": "T3xvcFMqqW0E"
      },
      "outputs": [],
      "source": [
        ""
      ]
    },
    {
      "cell_type": "markdown",
      "metadata": {
        "id": "Uy06siIeGRZM"
      },
      "source": [
        "---"
      ]
    },
    {
      "cell_type": "markdown",
      "source": [
        "# ⭕ **QUESTIONS?**"
      ],
      "metadata": {
        "id": "4GZojYnLW3O4"
      }
    },
    {
      "cell_type": "markdown",
      "metadata": {
        "id": "Bv9DsLKxUy5i"
      },
      "source": [
        "---"
      ]
    },
    {
      "cell_type": "markdown",
      "metadata": {
        "id": "Z71GuZS5qW0E"
      },
      "source": [
        "## Finite and Infinite Loops"
      ]
    },
    {
      "cell_type": "markdown",
      "metadata": {
        "id": "0G3RGHK6qW0E"
      },
      "source": [
        "Notice that the body of the loop should change the value of one or more variables so that eventually the condition becomes `False` and the loop terminates. If the condition never becomes False, the loop will repeat forever. Such type of a loop is called an **infinite loop**. \n",
        "\n",
        "In Colab, if you're stuck in an infinite loop, you can stop it by clicking on the stp button in the top-left of the cell."
      ]
    },
    {
      "cell_type": "markdown",
      "metadata": {
        "id": "llLRjjerqW0F"
      },
      "source": [
        "---"
      ]
    },
    {
      "cell_type": "markdown",
      "metadata": {
        "id": "2V03zNRnqW0F"
      },
      "source": [
        "# Exercise 1:"
      ]
    },
    {
      "cell_type": "markdown",
      "metadata": {
        "id": "rZsVzbrKqW0F"
      },
      "source": [
        "\n",
        "\n",
        "The following code contains an infinite loop. \n",
        "\n",
        "```python \n",
        "n = 10\n",
        "answer = 1\n",
        "while n > 0:\n",
        "    answer = answer + n\n",
        "    n = n + 1\n",
        "print(answer)\n",
        "```\n",
        "\n",
        "Which is the best explanation for why the loop does not terminate?"
      ]
    },
    {
      "cell_type": "markdown",
      "metadata": {
        "id": "aN9wEFMuqW0F"
      },
      "source": [
        "# Solution"
      ]
    },
    {
      "cell_type": "markdown",
      "metadata": {
        "id": "DpB7M3I8qW0G"
      },
      "source": [
        "`answer` starts at 1 and is incremented by `n` each time, so it will always be positive"
      ]
    },
    {
      "cell_type": "markdown",
      "metadata": {
        "id": "USKuDlP2qW0G"
      },
      "source": [
        "---"
      ]
    },
    {
      "cell_type": "markdown",
      "metadata": {
        "id": "hT9qu1SqqW0G"
      },
      "source": [
        "# `Break` and `Continue`\n",
        "\n",
        "\n",
        "\n"
      ]
    },
    {
      "cell_type": "markdown",
      "metadata": {
        "id": "40oLypUhqW0G"
      },
      "source": [
        "Let's discuss now two commands, `break` and `continue`, that allow us to control better the execution of code within a loop.\n",
        "\n",
        "These two statements are used to modify iteration of loops. `break` is used to *exit immediately* the *inner most _loop_* in which it appears. In contrast, `continue` stops the code executing within the loop and goes on to the *next iteration of the same loop*.\n"
      ]
    },
    {
      "cell_type": "markdown",
      "metadata": {
        "id": "r-8FW8pFqW0H"
      },
      "source": [
        "For example, consider our example with the bank account. The loop will keep running for ever, if you never withdraw more money than what you have. \n",
        "\n",
        "To avoid this infinite loop, we can add an extra check in the code, checking if the year is above a certain limit, and stop execution of the loop at that point."
      ]
    },
    {
      "cell_type": "code",
      "execution_count": null,
      "metadata": {
        "id": "SgrncpjrqW0H"
      },
      "outputs": [],
      "source": [
        ""
      ]
    },
    {
      "cell_type": "markdown",
      "metadata": {
        "id": "jjVKiBblqW0H"
      },
      "source": [
        "Here is another example, this time with the `continue` command. In the example below, we modify our \"tea cooling\" example to print the temperature only when temperature is exactly divisible by 5. If not, we use the `continue` command to skip executing the rest of the loop."
      ]
    },
    {
      "cell_type": "code",
      "execution_count": null,
      "metadata": {
        "id": "494R7MG_qW0H"
      },
      "outputs": [],
      "source": [
        ""
      ]
    },
    {
      "cell_type": "markdown",
      "metadata": {
        "id": "8g4qAGHst0Ia"
      },
      "source": [
        "---"
      ]
    },
    {
      "cell_type": "markdown",
      "source": [
        "# ⭕ **QUESTIONS?**"
      ],
      "metadata": {
        "id": "JZJDCemSt0Ia"
      }
    },
    {
      "cell_type": "markdown",
      "metadata": {
        "id": "z0BcoFWFt0Ii"
      },
      "source": [
        "---"
      ]
    },
    {
      "cell_type": "markdown",
      "metadata": {
        "id": "sWMW11MrqW0I"
      },
      "source": [
        "# Exercise 2"
      ]
    },
    {
      "cell_type": "markdown",
      "metadata": {
        "id": "pj5bAXD_qW0I"
      },
      "source": [
        "Write a program that receives user input for three pieces of information:\n",
        "\n",
        "* a starting balance, \n",
        "* a target balance, \n",
        "* and an interest rate (entered as 0.05 for 5%, for example)\n",
        "\n",
        "The program should then output the number of years required for the starting balance to have grown larger than the target balance. While this can be computed mathematically, we want for this exercise to use a while loop to figure out the answer. \n",
        "\n",
        "The answer should just be a line stating something like: \"To grow an initial investment of \\$1000 to  \\$2000 at 5.0% will require `XX` years\".\n",
        "\n",
        "_Hint: You will need a variable to store the number of years that passed. You will also need a variable to hold the current balance in the account, as it grows over the years._"
      ]
    },
    {
      "cell_type": "code",
      "execution_count": null,
      "metadata": {
        "id": "8KbOwavoqW0I"
      },
      "outputs": [],
      "source": [
        "starting = 1000\n",
        "target = 2000\n",
        "interest = 0.05\n",
        "\n",
        "# your code here"
      ]
    },
    {
      "cell_type": "markdown",
      "metadata": {
        "solution2": "hidden",
        "solution2_first": true,
        "id": "sNVVjhTaqW0J"
      },
      "source": [
        "# Solution"
      ]
    },
    {
      "cell_type": "code",
      "execution_count": null,
      "metadata": {
        "solution2": "hidden",
        "id": "N27JnI-0qW0J"
      },
      "outputs": [],
      "source": [
        ""
      ]
    },
    {
      "cell_type": "markdown",
      "metadata": {
        "id": "4UonZcOUw9hv"
      },
      "source": [
        "---"
      ]
    },
    {
      "cell_type": "markdown",
      "source": [
        "# ⭕ **QUESTIONS?**"
      ],
      "metadata": {
        "id": "FeOSet7zw9hv"
      }
    },
    {
      "cell_type": "markdown",
      "metadata": {
        "id": "n3OO5R7Lw9h3"
      },
      "source": [
        "---"
      ]
    },
    {
      "cell_type": "markdown",
      "metadata": {
        "id": "mq8OS1AQqW0K"
      },
      "source": [
        "# For Loops\n"
      ]
    },
    {
      "cell_type": "markdown",
      "metadata": {
        "id": "FaA3PisGqW0K"
      },
      "source": [
        "* similar to `while`, `for` empowers us to execute the same code block several times\n",
        "* unlike `while`, `for` does not use a conditional, rather it uses an **iterator** that has a start/end <br>\n",
        "<br>\n",
        "* Syntax\n",
        "```python\n",
        "for iteration_variable in iterator:\n",
        "       execute_code_block\n",
        "```"
      ]
    },
    {
      "cell_type": "markdown",
      "metadata": {
        "id": "t-bMaoWwqW0K"
      },
      "source": [
        "For example, imagine we want to remind students of an assignment deadline:"
      ]
    },
    {
      "cell_type": "code",
      "execution_count": null,
      "metadata": {
        "id": "e96V7DYoqW0K"
      },
      "outputs": [],
      "source": [
        ""
      ]
    },
    {
      "cell_type": "markdown",
      "metadata": {
        "id": "qw_CNUcCqW0L"
      },
      "source": [
        "* The `name` variable is called the **loop variable** or **iteration variable** \n",
        "* The `name` variable **changes** with each iteration of the loop. \n",
        "* The `name` variable iteratively takes the value of each of the six values in the `students` list.\n",
        "* Each loop iteration, Python checks to see if more items can be processed. \n",
        "    * If none left we've reached the **terminating condition of the loop** and the loop ends.\n",
        "        * The program execution continues at the next statement after the loop's code block.\n",
        "     * If items are left, the loop variable now points to the next item in the list."
      ]
    },
    {
      "cell_type": "markdown",
      "metadata": {
        "id": "h0N2GFPbqW0L"
      },
      "source": [
        "---"
      ]
    },
    {
      "cell_type": "markdown",
      "metadata": {
        "id": "Dr8FsO5MqW0L"
      },
      "source": [
        "# Exercise 3"
      ]
    },
    {
      "cell_type": "markdown",
      "metadata": {
        "id": "c9OlfdfRqW0L"
      },
      "source": [
        "\n",
        "Write a program that uses a for loop to print\n",
        "\n",
        "* `One of the months of the year is January`\n",
        "* `One of the months of the year is February`\n",
        "* `One of the months of the year is March`\n",
        "* etc ..."
      ]
    },
    {
      "cell_type": "code",
      "execution_count": null,
      "metadata": {
        "id": "jNfx7M1PqW0L"
      },
      "outputs": [],
      "source": [
        "months = ['January', 'February', 'March', 'April', 'May', 'June', \n",
        "          'July', 'August', 'September', 'October', 'November', 'December']\n",
        "\n",
        "# your code here"
      ]
    },
    {
      "cell_type": "markdown",
      "metadata": {
        "id": "Vv2H9B42qW0L"
      },
      "source": [
        "# Solution"
      ]
    },
    {
      "cell_type": "code",
      "execution_count": null,
      "metadata": {
        "id": "9VOQk6nXqW0M"
      },
      "outputs": [],
      "source": [
        ""
      ]
    },
    {
      "cell_type": "markdown",
      "metadata": {
        "id": "hvynq_mOqW0M"
      },
      "source": [
        "---"
      ]
    },
    {
      "cell_type": "markdown",
      "metadata": {
        "id": "7pqT1dJgqW0M"
      },
      "source": [
        "# Exercise 4"
      ]
    },
    {
      "cell_type": "markdown",
      "metadata": {
        "id": "GyWblKa2qW0M"
      },
      "source": [
        "Assume you have a list of numbers `12, 10, 32, 3, 66, 17, 42, 99, 20`\n",
        "\n",
        "* Write a loop that prints each of the numbers on a new line.\n",
        "* Write a loop that prints each number and its square on a new line."
      ]
    },
    {
      "cell_type": "code",
      "execution_count": null,
      "metadata": {
        "id": "mi62YwY-qW0M"
      },
      "outputs": [],
      "source": [
        "numbers = [12, 10, 32, 3, 66, 17, 42, 99, 20]\n",
        "\n",
        "# your code here"
      ]
    },
    {
      "cell_type": "markdown",
      "metadata": {
        "id": "NaVHSSaiqW0M"
      },
      "source": [
        "# Solution"
      ]
    },
    {
      "cell_type": "code",
      "execution_count": null,
      "metadata": {
        "id": "V4teQbuDqW0M"
      },
      "outputs": [],
      "source": [
        ""
      ]
    },
    {
      "cell_type": "markdown",
      "metadata": {
        "id": "JnmMI3fexWvD"
      },
      "source": [
        "---"
      ]
    },
    {
      "cell_type": "markdown",
      "source": [
        "# ⭕ **QUESTIONS?**"
      ],
      "metadata": {
        "id": "9KjGDkvMxWvD"
      }
    },
    {
      "cell_type": "markdown",
      "metadata": {
        "id": "855gkUM6xWvL"
      },
      "source": [
        "---"
      ]
    },
    {
      "cell_type": "markdown",
      "metadata": {
        "id": "SHrSq0syqW0N"
      },
      "source": [
        "# Ranges of Integers\n",
        "\n"
      ]
    },
    {
      "cell_type": "markdown",
      "metadata": {
        "id": "qPUIonqDqW0N"
      },
      "source": [
        "* A common pattern in programming is to use `for` to iterate through a range of integers\n",
        "\n",
        "* `range` is a a convenient Python function for this purpose that generates a list of numbers <br>\n",
        "<br>\n",
        "* Syntax\n",
        "```python\n",
        "range(end_integer_exclusive)\n",
        "range(start_integer,end_integer_exclusive)\n",
        "range(start_integer,end_integer_exclusive,step_value)\n",
        "```"
      ]
    },
    {
      "cell_type": "code",
      "execution_count": null,
      "metadata": {
        "id": "TgQG8s2IqW0N"
      },
      "outputs": [],
      "source": [
        ""
      ]
    },
    {
      "cell_type": "markdown",
      "source": [
        "# List Comprehension"
      ],
      "metadata": {
        "id": "DNT2sxkkyDR5"
      }
    },
    {
      "cell_type": "markdown",
      "source": [
        "Occassionally, you may think you're seeing a for loop written like this: \n",
        "\n",
        "```python\n",
        "\n",
        "[i for i in my_list] \n",
        "\n",
        "```\n",
        "\n",
        "instead of \n",
        "\n",
        "```python\n",
        "\n",
        "for i in my_list\n",
        "  print(i)\n",
        "\n",
        "```"
      ],
      "metadata": {
        "id": "khWWjfbUyJyk"
      }
    },
    {
      "cell_type": "markdown",
      "source": [
        "For instance, you may think the following is printing out your values as it would a for loop>"
      ],
      "metadata": {
        "id": "fraxUgMsyVY_"
      }
    },
    {
      "cell_type": "code",
      "source": [
        ""
      ],
      "metadata": {
        "id": "m-uf4ilTyuHC"
      },
      "execution_count": null,
      "outputs": []
    },
    {
      "cell_type": "markdown",
      "source": [
        "In reality, this formatting is a list comprehension, and it is returning a new list. \n",
        "\n",
        "For example, a use case may be: "
      ],
      "metadata": {
        "id": "exlfVTbAy6E6"
      }
    },
    {
      "cell_type": "code",
      "source": [
        ""
      ],
      "metadata": {
        "id": "Dl8iqpVUy_NU"
      },
      "execution_count": null,
      "outputs": []
    },
    {
      "cell_type": "markdown",
      "metadata": {
        "id": "0cVVD_TzzBj1"
      },
      "source": [
        "---"
      ]
    },
    {
      "cell_type": "markdown",
      "source": [
        "# ⭕ **QUESTIONS?**"
      ],
      "metadata": {
        "id": "j0_ddKd7zBj1"
      }
    },
    {
      "cell_type": "markdown",
      "metadata": {
        "id": "Yx0sycU9zBj9"
      },
      "source": [
        "---"
      ]
    },
    {
      "cell_type": "markdown",
      "metadata": {
        "id": "P8lQr4JpqW0N"
      },
      "source": [
        "# Warning"
      ]
    },
    {
      "cell_type": "markdown",
      "metadata": {
        "id": "YN7cOqudqW0O"
      },
      "source": [
        "You might be inclined to write code like this: "
      ]
    },
    {
      "cell_type": "code",
      "execution_count": null,
      "metadata": {
        "id": "MyovmqWzqW0O"
      },
      "outputs": [],
      "source": [
        ""
      ]
    },
    {
      "cell_type": "markdown",
      "metadata": {
        "id": "w5eGSlvLqW0O"
      },
      "source": [
        "...instead of...\n"
      ]
    },
    {
      "cell_type": "code",
      "execution_count": null,
      "metadata": {
        "id": "bQflPRckqW0O"
      },
      "outputs": [],
      "source": [
        ""
      ]
    },
    {
      "cell_type": "markdown",
      "metadata": {
        "id": "QaV2okseqW0O"
      },
      "source": [
        "When in Python, take advantage of Pythonic style. It's easier to read and maintain!\n"
      ]
    },
    {
      "cell_type": "markdown",
      "metadata": {
        "id": "TGXMsYjpxfqp"
      },
      "source": [
        "---"
      ]
    },
    {
      "cell_type": "markdown",
      "source": [
        "# ⭕ **QUESTIONS?**"
      ],
      "metadata": {
        "id": "cRvVaku4xfqp"
      }
    },
    {
      "cell_type": "markdown",
      "metadata": {
        "id": "XPhaFkOGxfqp"
      },
      "source": [
        "---"
      ]
    },
    {
      "cell_type": "markdown",
      "metadata": {
        "id": "88u62VCCqW0O"
      },
      "source": [
        "# Iterating Through Lists, Sets, and Dictionaries"
      ]
    },
    {
      "cell_type": "markdown",
      "metadata": {
        "id": "RCZeiGGyqW0P"
      },
      "source": [
        "The process of iterating through sets and tuples is pretty much identical to the one for lists. Let's see a few examples."
      ]
    },
    {
      "cell_type": "code",
      "execution_count": null,
      "metadata": {
        "id": "wn846AwPqW0P"
      },
      "outputs": [],
      "source": [
        ""
      ]
    },
    {
      "cell_type": "markdown",
      "metadata": {
        "id": "kp3XTWxcqW0P"
      },
      "source": [
        "# Iterating over dictionaries\n",
        "\n",
        "With dictionaries, iteration can happen through keys, values, or both.  "
      ]
    },
    {
      "cell_type": "code",
      "execution_count": null,
      "metadata": {
        "id": "QBGq6ZuaqW0P"
      },
      "outputs": [],
      "source": [
        "phones = {\n",
        "    \n",
        "    \"Panos\": \"212-998-0803\",\n",
        "    \"Maria\": \"656-233-5555\",\n",
        "    \"John\": \"693-232-5776\",\n",
        "    \"Jake\": \"415-794-3423\"\n",
        "}"
      ]
    },
    {
      "cell_type": "markdown",
      "metadata": {
        "id": "s0gdvyIoqW0P"
      },
      "source": [
        "# Iterating over keys\n",
        "\n",
        "By default, when we iterate over a dictionary, we are iterating over the keys."
      ]
    },
    {
      "cell_type": "code",
      "execution_count": null,
      "metadata": {
        "id": "1iOrl0fgqW0Q"
      },
      "outputs": [],
      "source": [
        ""
      ]
    },
    {
      "cell_type": "markdown",
      "metadata": {
        "id": "OL2hvpAjqW0Q"
      },
      "source": [
        "# Iterating over values\n",
        "\n",
        "It is also possible to iterate over the values for the dictionary:"
      ]
    },
    {
      "cell_type": "code",
      "execution_count": null,
      "metadata": {
        "id": "X7suTXSkqW0Q"
      },
      "outputs": [],
      "source": [
        ""
      ]
    },
    {
      "cell_type": "markdown",
      "metadata": {
        "id": "n2zLuMEcqW0Q"
      },
      "source": [
        "# Iterating over key-value pairs\n",
        "\n",
        "We use `dict.items()` to return an iterator of the dictionary's key-value pairs as tuples"
      ]
    },
    {
      "cell_type": "code",
      "execution_count": null,
      "metadata": {
        "id": "fn5QKBtiqW0Q"
      },
      "outputs": [],
      "source": [
        ""
      ]
    },
    {
      "cell_type": "markdown",
      "metadata": {
        "id": "N8ovhVM2x-eL"
      },
      "source": [
        "---"
      ]
    },
    {
      "cell_type": "markdown",
      "source": [
        "# ⭕ **QUESTIONS?**"
      ],
      "metadata": {
        "id": "TkfGBKXrx-eL"
      }
    },
    {
      "cell_type": "markdown",
      "metadata": {
        "id": "Ft0zwONZx-eT"
      },
      "source": [
        "---"
      ]
    },
    {
      "cell_type": "markdown",
      "metadata": {
        "id": "r2YGtIsJqW0R"
      },
      "source": [
        "# Exercise 5"
      ]
    },
    {
      "cell_type": "markdown",
      "metadata": {
        "id": "fKUIEWWeqW0R"
      },
      "source": [
        "You are given the composite data structure below:"
      ]
    },
    {
      "cell_type": "code",
      "execution_count": null,
      "metadata": {
        "id": "pw0p3go2qW0R"
      },
      "outputs": [],
      "source": [
        "data = {\n",
        "        \"Foster\": {\n",
        "            \"Job\": \"Professor\", \n",
        "            \"YOB\": 1965, \n",
        "            \"Children\": [\"Hannah\"],\n",
        "            \"Awards\": [\"Best Teacher 2014\", \"Best Researcher 2015\"],\n",
        "            \"Salary\": 120000\n",
        "        }, \n",
        "        \"Joe\": {\n",
        "            \"Job\": \"Data Scientist\", \n",
        "            \"YOB\": 1981,\n",
        "            \"Salary\": 200000\n",
        "        },\n",
        "        \"Maria\": { \n",
        "            \"Job\": \"Software Engineer\", \n",
        "            \"YOB\": 1993, \n",
        "            \"Children\": [],\n",
        "            \"Awards\": [\"Dean's List 2013\", \"Valedictorian 2011\", \"First place in Math Olympiad 2010\"]\n",
        "        }, \n",
        "        \"Panos\": { \n",
        "            \"Job\": \"Professor\", \n",
        "            \"YOB\": 1976, \n",
        "            \"Children\": [\"Gregory\", \"Anna\"]\n",
        "        },\n",
        "    }"
      ]
    },
    {
      "cell_type": "markdown",
      "metadata": {
        "id": "8ldlpgObqW0R"
      },
      "source": [
        "# Question 1:\n",
        "\n",
        "* Print the names of the people from the dictionary below, by iterating through the keys\n"
      ]
    },
    {
      "cell_type": "code",
      "execution_count": null,
      "metadata": {
        "id": "S19VI3cDqW0R"
      },
      "outputs": [],
      "source": [
        "# print the names of people in the data\n",
        "\n"
      ]
    },
    {
      "cell_type": "markdown",
      "metadata": {
        "id": "hX0DyT6qqW0R"
      },
      "source": [
        "# Question 2:\n",
        "\n",
        "* Print the age of each person, by iterating through the keys, and then looking up the \"YOB\" entry.\n"
      ]
    },
    {
      "cell_type": "code",
      "execution_count": null,
      "metadata": {
        "id": "L4HgvxPBqW0S"
      },
      "outputs": [],
      "source": [
        "# print the names and age\n",
        "\n"
      ]
    },
    {
      "cell_type": "markdown",
      "metadata": {
        "id": "PImzaHykqW0S"
      },
      "source": [
        "# Question 3:\n",
        "\n",
        "* Print the names of people born after 1980"
      ]
    },
    {
      "cell_type": "code",
      "execution_count": null,
      "metadata": {
        "id": "j42TiQ6IqW0S"
      },
      "outputs": [],
      "source": [
        "# print the names of people born after 1980\n",
        "\n"
      ]
    },
    {
      "cell_type": "markdown",
      "metadata": {
        "id": "epTq9ktZqW0S"
      },
      "source": [
        "# Question 4:\n",
        "\n",
        "* Print the number of children for each person. You need to check if the \"Children\" list exists in the dictionary."
      ]
    },
    {
      "cell_type": "code",
      "execution_count": null,
      "metadata": {
        "id": "UTgEebNwqW0S"
      },
      "outputs": [],
      "source": [
        "# print the number of children for each person\n",
        "\n"
      ]
    },
    {
      "cell_type": "markdown",
      "metadata": {
        "id": "IPa_aWH30a2m"
      },
      "source": [
        "---"
      ]
    },
    {
      "cell_type": "markdown",
      "source": [
        "# ⭕ **QUESTIONS?**"
      ],
      "metadata": {
        "id": "uKA5kL1s0a2m"
      }
    },
    {
      "cell_type": "markdown",
      "metadata": {
        "id": "f9KsrzLb0a2n"
      },
      "source": [
        "---"
      ]
    },
    {
      "cell_type": "markdown",
      "metadata": {
        "id": "PV4F2NhMqW0T"
      },
      "source": [
        "# Common Loop Patterns: Finding an Element in the List"
      ]
    },
    {
      "cell_type": "markdown",
      "metadata": {
        "id": "VEpZxT3LqW0T"
      },
      "source": [
        "We have the list of NBA teams, and we want to find the team that plays in _Brooklyn_. We will start by creating a `looking_for` variable for storing the value of `Brooklyn`.\n",
        "\n",
        "Then we will use the loop to to through the list of teams, to find whether any of the team names contains the `looking_for` string. "
      ]
    },
    {
      "cell_type": "code",
      "execution_count": null,
      "metadata": {
        "id": "rPZaHtfZqW0T"
      },
      "outputs": [],
      "source": [
        "nba_teams = [\n",
        "    \"Atlanta Hawks\", \"Boston Celtics\", \"Brooklyn Nets\", \"Charlotte Hornets\",\n",
        "    \"Chicago Bulls\", \"Cleveland Cavaliers\", \"Dallas Mavericks\",\n",
        "    \"Denver Nuggets\", \"Detroit Pistons\", \"Golden State Warriors\",\n",
        "    \"Houston Rockets\", \"Indiana Pacers\", \"LA Clippers\", \"Los Angeles Lakers\",\n",
        "    \"Memphis Grizzlies\", \"Miami Heat\", \"Milwaukee Bucks\",\n",
        "    \"Minnesota Timberwolves\", \"New Orleans Pelicans\", \"New York Knicks\",\n",
        "    \"Oklahoma City Thunder\", \"Orlando Magic\", \"Philadelphia 76ers\",\n",
        "    \"Phoenix Suns\", \"Portland Trail Blazers\", \"Sacramento Kings\",\n",
        "    \"San Antonio Spurs\", \"Toronto Raptors\", \"Utah Jazz\", \"Washington Wizards\"\n",
        "]\n",
        "\n"
      ]
    },
    {
      "cell_type": "markdown",
      "metadata": {
        "id": "FRB5R23sqW0T"
      },
      "source": [
        "# Creating a new list"
      ]
    },
    {
      "cell_type": "markdown",
      "metadata": {
        "id": "b8OHvDKJqW0T"
      },
      "source": [
        "This time, instead of just printing out the results, we will store the franchise names in a new list, and then print each on a new line."
      ]
    },
    {
      "cell_type": "code",
      "execution_count": null,
      "metadata": {
        "id": "vWrTGAG6qW0T"
      },
      "outputs": [],
      "source": [
        "nba_teams = [\n",
        "    \"Atlanta Hawks\", \"Boston Celtics\", \"Brooklyn Nets\", \"Charlotte Hornets\",\n",
        "    \"Chicago Bulls\", \"Cleveland Cavaliers\", \"Dallas Mavericks\",\n",
        "    \"Denver Nuggets\", \"Detroit Pistons\", \"Golden State Warriors\",\n",
        "    \"Houston Rockets\", \"Indiana Pacers\", \"LA Clippers\", \"Los Angeles Lakers\",\n",
        "    \"Memphis Grizzlies\", \"Miami Heat\", \"Milwaukee Bucks\",\n",
        "    \"Minnesota Timberwolves\", \"New Orleans Pelicans\", \"New York Knicks\",\n",
        "    \"Oklahoma City Thunder\", \"Orlando Magic\", \"Philadelphia 76ers\",\n",
        "    \"Phoenix Suns\", \"Portland Trail Blazers\", \"Sacramento Kings\",\n",
        "    \"San Antonio Spurs\", \"Toronto Raptors\", \"Utah Jazz\", \"Washington Wizards\"\n",
        "]\n",
        "\n"
      ]
    },
    {
      "cell_type": "markdown",
      "metadata": {
        "id": "gA3S71zb1DpJ"
      },
      "source": [
        "---"
      ]
    },
    {
      "cell_type": "markdown",
      "source": [
        "# ⭕ **QUESTIONS?**"
      ],
      "metadata": {
        "id": "5Hzs-MoH1DpJ"
      }
    },
    {
      "cell_type": "markdown",
      "metadata": {
        "id": "joUQBTbv1DpR"
      },
      "source": [
        "---"
      ]
    },
    {
      "cell_type": "markdown",
      "metadata": {
        "id": "qv6E2i3XqW0U"
      },
      "source": [
        "# Functions"
      ]
    },
    {
      "cell_type": "markdown",
      "metadata": {
        "id": "fdgukL6_qW0U"
      },
      "source": [
        "In programming, functions assign a name to a block of code, and allow us to execute a more complex set of instructions, without having to replicate the code and the corresponding logic over and over.\n",
        "\n"
      ]
    },
    {
      "cell_type": "markdown",
      "metadata": {
        "id": "SwGAbvywqW0U"
      },
      "source": [
        "Python provides a set of functions that already built-in. You are already familiar with some functions:"
      ]
    },
    {
      "cell_type": "markdown",
      "metadata": {
        "id": "5fLPrGd8qW0U"
      },
      "source": [
        "# `len`, `sum`, `max`, and `min`"
      ]
    },
    {
      "cell_type": "markdown",
      "metadata": {
        "id": "hMPL9iBBqW0U"
      },
      "source": [
        "You have already encountered `len`, `sum`, `max`, and `min`."
      ]
    },
    {
      "cell_type": "code",
      "execution_count": null,
      "metadata": {
        "id": "NWT2f6WmqW0U"
      },
      "outputs": [],
      "source": [
        "numbers = [3, 41, 12, 9, 74, 15]"
      ]
    },
    {
      "cell_type": "markdown",
      "metadata": {
        "id": "VuMfeZ4RqW0V"
      },
      "source": [
        "Note that every function has **input** and **output**. In all the examples above, the input is a list of numbers (`numbers`).\n",
        "\n",
        "What is the output?\n",
        "* For `len()`, the output is a number corresponding to the length of the list.\n",
        "* For `max()` the output is a number corresponding to the maximum element of the list.\n",
        "* For `min()` the output is a number corresponding to the minimum element of the list.\n",
        "* For `sum()` the output is a number corresponding to the sum of all the elements in the list.\n",
        "\n"
      ]
    },
    {
      "cell_type": "markdown",
      "metadata": {
        "id": "DMffu5ciqW0V"
      },
      "source": [
        "The concept of input and output is very important: In a sense this is what a function does: Takes as input one or more values, and returns back an output. What happens inside the function is something that we do not need to worry about; we can treat the function as a black box."
      ]
    },
    {
      "cell_type": "markdown",
      "metadata": {
        "id": "H18T1UiIqW0V"
      },
      "source": [
        "# `round`\n",
        "\n",
        "At its simplest form, rounds gets one input: a number. It returns an integer as the output, which is the integer closest to the input number (aka \"rounded\" number)"
      ]
    },
    {
      "cell_type": "code",
      "execution_count": null,
      "metadata": {
        "id": "VVYdPm1pqW0V"
      },
      "outputs": [],
      "source": [
        ""
      ]
    },
    {
      "cell_type": "markdown",
      "metadata": {
        "id": "6GM4R5u8qW0V"
      },
      "source": [
        "The `round()` function can also take two inputs. The first input is the number, and the second input is the number of decimal digits that we want to keep. "
      ]
    },
    {
      "cell_type": "markdown",
      "metadata": {
        "id": "832CZHURqW0W"
      },
      "source": [
        "# `sorted`"
      ]
    },
    {
      "cell_type": "markdown",
      "metadata": {
        "id": "E4cs87uaqW0W"
      },
      "source": [
        "Consider now the `sorted` function. This function takes as **input** as list, and returns as **output** the sorted version of the list. "
      ]
    },
    {
      "cell_type": "code",
      "execution_count": null,
      "metadata": {
        "id": "qtjLpMybqW0W"
      },
      "outputs": [],
      "source": [
        "numbers = [3, 41, 12, 9, 74, 15]"
      ]
    },
    {
      "cell_type": "code",
      "execution_count": null,
      "metadata": {
        "id": "GDhyCj6zqW0X"
      },
      "outputs": [],
      "source": [
        ""
      ]
    },
    {
      "cell_type": "markdown",
      "metadata": {
        "id": "OGWapEi_qW0X"
      },
      "source": [
        "Notice that the function is not limited to retuning just a number. It may return *a list* of numbers. (In fact, it may return a string, or pretty much anything.)\n",
        "\n",
        "Notice also that we do not need to know *how* the function goes from input to output. We put as input an unsorted list, and get back a sorted one. We do not know what sorting technique was used. We only get back the result. This abstraction allow us to write more readable programs, by writing code at a higher level, without having to replicate all the details."
      ]
    },
    {
      "cell_type": "markdown",
      "metadata": {
        "id": "25DipFkGqW0X"
      },
      "source": [
        "---"
      ]
    },
    {
      "cell_type": "markdown",
      "metadata": {
        "id": "rRTYL35IqW0X"
      },
      "source": [
        "# Functions from Libraries"
      ]
    },
    {
      "cell_type": "markdown",
      "metadata": {
        "id": "tF14T9mdqW0X"
      },
      "source": [
        "We can also add more functions by `import`-ing libraries. The Python 3 standard library list is here: https://docs.python.org/3/library/\n",
        "\n",
        "Python developers worldwide have developed many popular libraries, available at the Python Package Index: https://pypi.org/"
      ]
    },
    {
      "cell_type": "markdown",
      "metadata": {
        "id": "k0D8ahBiqW0Z"
      },
      "source": [
        "# `math` functions\n",
        "\n"
      ]
    },
    {
      "cell_type": "markdown",
      "metadata": {
        "id": "ToYugGgXqW0Z"
      },
      "source": [
        " A common example is the `math` library."
      ]
    },
    {
      "cell_type": "code",
      "execution_count": null,
      "metadata": {
        "id": "Vg2IgskwqW0Z"
      },
      "outputs": [],
      "source": [
        ""
      ]
    },
    {
      "cell_type": "markdown",
      "metadata": {
        "id": "yM8DdFiMqW0Z"
      },
      "source": [
        "As we mentioned before, this function has an input (`x`) and an output (`y`), which is the square root of x. Again, we do not care how the square root is calculated, we only get back the outcome."
      ]
    },
    {
      "cell_type": "markdown",
      "metadata": {
        "id": "wRBega7PqW0a"
      },
      "source": [
        "Here is another example, where we use the `math.gcd` function to find the _greatest common divisor_ of two numbers, `x` and `y`. (This is the largest number that divides exactly both `x` and `y`.) \n",
        "\n",
        "In this case, the function gets as input two numbers, x and y, and returns an integer as a result. And again, we do not need to know _how_ the function is computing the greatest common divisor, we just get back the result."
      ]
    },
    {
      "cell_type": "code",
      "execution_count": null,
      "metadata": {
        "id": "xyv2rJ31qW0a"
      },
      "outputs": [],
      "source": [
        ""
      ]
    },
    {
      "cell_type": "markdown",
      "metadata": {
        "id": "PJ6l8TzN1eaf"
      },
      "source": [
        "---"
      ]
    },
    {
      "cell_type": "markdown",
      "source": [
        "# ⭕ **QUESTIONS?**"
      ],
      "metadata": {
        "id": "PvFCgPS-1eaf"
      }
    },
    {
      "cell_type": "markdown",
      "metadata": {
        "id": "gk4Mc_5q1ean"
      },
      "source": [
        "---"
      ]
    },
    {
      "cell_type": "markdown",
      "metadata": {
        "id": "2XXJ6s4HqW0b"
      },
      "source": [
        "# `random` functions"
      ]
    },
    {
      "cell_type": "markdown",
      "metadata": {
        "id": "2JsAxOZsqW0b"
      },
      "source": [
        "Another commonly used library is the `random` library that returns random numbers."
      ]
    },
    {
      "cell_type": "code",
      "execution_count": null,
      "metadata": {
        "id": "cyIQ6LEpqW0b"
      },
      "outputs": [],
      "source": [
        ""
      ]
    },
    {
      "cell_type": "markdown",
      "metadata": {
        "id": "9S5X0B0pqW0b"
      },
      "source": [
        "For example, the function `random.random()` will return back a random value from 0 to 1, which will be different every time."
      ]
    },
    {
      "cell_type": "code",
      "execution_count": null,
      "metadata": {
        "id": "WAn_wKIpqW0c"
      },
      "outputs": [],
      "source": [
        ""
      ]
    },
    {
      "cell_type": "markdown",
      "metadata": {
        "id": "og9vJkHsqW0c"
      },
      "source": [
        "So, `random.random()` is a type of function that gets *zero*  inputs, and returns back an integer as the output."
      ]
    },
    {
      "cell_type": "markdown",
      "metadata": {
        "id": "yhLHGWmHqW0c"
      },
      "source": [
        "Here is another function `random.choice(t)` that accepts as input a list of values, and picks one of them at random."
      ]
    },
    {
      "cell_type": "code",
      "execution_count": null,
      "metadata": {
        "id": "uww9erESqW0c"
      },
      "outputs": [],
      "source": [
        ""
      ]
    },
    {
      "cell_type": "markdown",
      "metadata": {
        "id": "3IMR69V0qW0c"
      },
      "source": [
        "---"
      ]
    },
    {
      "cell_type": "markdown",
      "metadata": {
        "id": "QN2kDxaSqW0d"
      },
      "source": [
        "# Exercise 6\n",
        "\n",
        "* Create a list of 8 random integer numbers. (Hint: You can multiply `random.random()` by 100, and then use `round()` to get numbers between 0 and 100.)"
      ]
    },
    {
      "cell_type": "code",
      "execution_count": null,
      "metadata": {
        "id": "7joIL6lwqW0d"
      },
      "outputs": [],
      "source": [
        "# your code here"
      ]
    },
    {
      "cell_type": "markdown",
      "metadata": {
        "solution2": "hidden",
        "solution2_first": true,
        "id": "f3wxraguqW0d"
      },
      "source": [
        "# Solution"
      ]
    },
    {
      "cell_type": "code",
      "execution_count": null,
      "metadata": {
        "solution2": "hidden",
        "id": "SwzXilBkqW0d"
      },
      "outputs": [],
      "source": [
        ""
      ]
    },
    {
      "cell_type": "markdown",
      "metadata": {
        "id": "kAk3JGenqW0d"
      },
      "source": [
        "---"
      ]
    },
    {
      "cell_type": "markdown",
      "metadata": {
        "id": "6rTPuG2lqW0d"
      },
      "source": [
        "# User-Defined Functions"
      ]
    },
    {
      "cell_type": "markdown",
      "metadata": {
        "id": "GtjP4Bo1qW0e"
      },
      "source": [
        "We will now learn how to write our own functions. Why?\n",
        "\n",
        "Because as programs become more complex, they start involving more and more steps. At some point, the code becomes very long, and it becomes difficult to understand what is going on. It is the equivalent of having a book without chapters, sections, or any form of structure. In fact, long code that is not using functions is often called \"spaghetti code\", because it is long and messy.\n",
        "\n",
        "So, once you start writing your code using functions, your program will start reading like a sequence of high-level steps, making your code much more readable. There are many other advantages, but at first, you will notice readability as the first key benefit.\n",
        "\n"
      ]
    },
    {
      "cell_type": "markdown",
      "metadata": {
        "id": "AZ_eq_BEqW0e"
      },
      "source": [
        "# Creating User Defined Functions\n"
      ]
    },
    {
      "cell_type": "markdown",
      "metadata": {
        "id": "GrGa3ZheqW0e"
      },
      "source": [
        "To define a function in Python, we need the following:\n",
        "* Function definition in Python start with the `def` keyword\n",
        "* After `def` we put the name of the function\n",
        "* After the name of the function we put an opening parenthesis,  and\n",
        "* Inside the parentheses the names of zero or more input variables, separated by commas, followed by a closing parethesis, and\n",
        "* After the closing parentheses we have a colon `:`\n",
        "* Then we put a block of code with the actions for the function.\n",
        "* At the end of the function code, we have a `return` statement, followed by the output of the function"
      ]
    },
    {
      "cell_type": "markdown",
      "metadata": {
        "id": "BUq3He0CqW0e"
      },
      "source": [
        "Let's see a few examples"
      ]
    },
    {
      "cell_type": "markdown",
      "metadata": {
        "id": "nnjJ0MUOqW0e"
      },
      "source": [
        "# Example 1: Square a number"
      ]
    },
    {
      "cell_type": "markdown",
      "metadata": {
        "id": "-b2HyQhGqW0f"
      },
      "source": [
        "We want to write a function that takes as input a number $x$ and returns back its square $x^2$. We will call the function `square`. So we write:"
      ]
    },
    {
      "cell_type": "code",
      "execution_count": null,
      "metadata": {
        "id": "H1V4yWkYqW0f"
      },
      "outputs": [],
      "source": [
        ""
      ]
    },
    {
      "cell_type": "markdown",
      "metadata": {
        "id": "Qvtbzl8UqW0f"
      },
      "source": [
        "So, let's dissect the example above:\n",
        "\n",
        "* We start with the `def` keyword\n",
        "* After def we put the name of the function `square`\n",
        "* After the name of the function, `square` we have a pair of parentheses, with one input variable `x` inside\n",
        "* After the closing parentheses we have a colon `:`\n",
        "* Then we have our code that computes the square of x (`result = x*x`)\n",
        "* And at the end of the function code, we have a `return` statement that returns back the `result`"
      ]
    },
    {
      "cell_type": "markdown",
      "metadata": {
        "id": "cHc2Tc3oqW0f"
      },
      "source": [
        "Notice that nothing happens once you execute the cell above. To use the function, you need to call it. For example:"
      ]
    },
    {
      "cell_type": "code",
      "execution_count": null,
      "metadata": {
        "id": "0LDhIkAoqW0g"
      },
      "outputs": [],
      "source": [
        ""
      ]
    },
    {
      "cell_type": "markdown",
      "metadata": {
        "id": "yl82c67NqW0g"
      },
      "source": [
        "_Note: If you try to execute the cell that use the function `square` but you have not executed the cell that contains the function definition, then you will get an error. In order to use a function, you first need to define it, and execute the corresponding code._"
      ]
    },
    {
      "cell_type": "code",
      "execution_count": null,
      "metadata": {
        "id": "cLVGdfxAqW0g"
      },
      "outputs": [],
      "source": [
        ""
      ]
    },
    {
      "cell_type": "markdown",
      "metadata": {
        "id": "FHGAqQ8PqW0g"
      },
      "source": [
        "# Exception Handling\n",
        "* Programs are sticklers - they follow the rules\n",
        "* But that means, they're rigid\n",
        "* Exception handling enables you to build agility into your functions and programs\n",
        "* Python provides the `try` and `except` statements for exception handling\n",
        "* Put your \"sensitive\" code in the `try` block\n",
        "    * Python will \"test run\" that block - if it works without errors - GREAT!\n",
        "    * Otherwise, if there are errors, Python will run the code in the `except` block\n",
        "* Syntax:\n",
        "```python\n",
        "    try:\n",
        "        code_block\n",
        "    except:\n",
        "        alternate_code_block\n",
        "```"
      ]
    },
    {
      "cell_type": "code",
      "execution_count": null,
      "metadata": {
        "id": "a1ucej5uqW0g"
      },
      "outputs": [],
      "source": [
        ""
      ]
    },
    {
      "cell_type": "markdown",
      "metadata": {
        "id": "jdgRAYt12An2"
      },
      "source": [
        "---"
      ]
    },
    {
      "cell_type": "markdown",
      "source": [
        "# ⭕ **QUESTIONS?**"
      ],
      "metadata": {
        "id": "7n33Xuo02An2"
      }
    },
    {
      "cell_type": "markdown",
      "metadata": {
        "id": "ImzuqHsf2An2"
      },
      "source": [
        "---"
      ]
    },
    {
      "cell_type": "markdown",
      "metadata": {
        "id": "pSKli604qW0g"
      },
      "source": [
        "## Example 2: From pounds to kilograms"
      ]
    },
    {
      "cell_type": "markdown",
      "metadata": {
        "id": "xi2BORUnqW0h"
      },
      "source": [
        "We want to write a function that converts weight from pounds to kilograms. The conversion is 1 pound = 0.453592 Kilograms.\n",
        "\n",
        "For example: Weight of 155 lbs is 70.30676 Kg"
      ]
    },
    {
      "cell_type": "markdown",
      "metadata": {
        "id": "J-mxdlirqW0h"
      },
      "source": [
        "Let's see first how we would write this as straightforward code, without a function:"
      ]
    },
    {
      "cell_type": "code",
      "execution_count": null,
      "metadata": {
        "id": "27TJBrp6qW0h"
      },
      "outputs": [],
      "source": [
        ""
      ]
    },
    {
      "cell_type": "markdown",
      "metadata": {
        "id": "-OSEw0T_qW0h"
      },
      "source": [
        "And to avoid having a magic number, we may want to assign 0.453592 to a variable:"
      ]
    },
    {
      "cell_type": "code",
      "execution_count": null,
      "metadata": {
        "id": "U_Mxw5iQqW0i"
      },
      "outputs": [],
      "source": [
        ""
      ]
    },
    {
      "cell_type": "markdown",
      "metadata": {
        "id": "Fl09mXH7qW0i"
      },
      "source": [
        "Now, let's convert this into a function. We will call it `pounds_to_kg`.\n",
        "\n",
        "So lets see also what are the inputs and outputs: In this case it is simple, we have the weight in pounds as input, and we get as output the weight in kilograms."
      ]
    },
    {
      "cell_type": "code",
      "execution_count": null,
      "metadata": {
        "id": "VsWJgyHaqW0i"
      },
      "outputs": [],
      "source": [
        ""
      ]
    },
    {
      "cell_type": "markdown",
      "metadata": {
        "id": "STBqFyW1qW0i"
      },
      "source": [
        "And now that we have defined our function, we can use it:"
      ]
    },
    {
      "cell_type": "code",
      "execution_count": null,
      "metadata": {
        "id": "2YLs-iwBqW0i"
      },
      "outputs": [],
      "source": [
        ""
      ]
    },
    {
      "cell_type": "markdown",
      "metadata": {
        "id": "xSzVvhrQqW0i"
      },
      "source": [
        "Notice one thing: The `kg_in_lb = 0.453592` variable does not appear outside the function anymore. This is a simple example of abstraction: We do not need to care how the conversion happens, or what the calculation is anymore. We can simply use the function.\n",
        "\n",
        "Of course, in this example it is trivial, but as our code becomes more and more complex, hiding the details becomes more and more important"
      ]
    },
    {
      "cell_type": "markdown",
      "metadata": {
        "id": "guNxB29cqW0i"
      },
      "source": [
        "---"
      ]
    },
    {
      "cell_type": "markdown",
      "metadata": {
        "id": "VmApXN07qW0j"
      },
      "source": [
        "# Warning: Common mistake, `print` instead of `return`"
      ]
    },
    {
      "cell_type": "markdown",
      "metadata": {
        "id": "ICrBBGSrqW0j"
      },
      "source": [
        "Now, let's examine a common mistake. The code below takes the initial code, and fits it in a function."
      ]
    },
    {
      "cell_type": "code",
      "execution_count": null,
      "metadata": {
        "id": "a5ywIuyNqW0j"
      },
      "outputs": [],
      "source": [
        ""
      ]
    },
    {
      "cell_type": "markdown",
      "metadata": {
        "id": "0udFjkyaqW0j"
      },
      "source": [
        "What is the critical difference? The function above uses a `print` statement instead of a `return`. \n",
        "\n",
        "This is a very common mistake for beginners. It also takes a lot of time to overcome this, because the code \"works\", as we can see below."
      ]
    },
    {
      "cell_type": "code",
      "execution_count": null,
      "metadata": {
        "id": "ZxzEvcA-qW0j"
      },
      "outputs": [],
      "source": [
        ""
      ]
    },
    {
      "cell_type": "markdown",
      "metadata": {
        "id": "9jKPJAXJqW0j"
      },
      "source": [
        "However, see what happens if we change the code, and try to store the result of the function in a variable."
      ]
    },
    {
      "cell_type": "code",
      "execution_count": null,
      "metadata": {
        "id": "PYbhJCQmqW0k"
      },
      "outputs": [],
      "source": [
        ""
      ]
    },
    {
      "cell_type": "markdown",
      "metadata": {
        "id": "6PNdppMUqW0k"
      },
      "source": [
        "Notice that the variable `weight_kgs` has the valune `None`. This happened because the function did not generate any output. **Printing is NOT a function output**. Only the `return` keyword generate the output for the function."
      ]
    },
    {
      "cell_type": "markdown",
      "metadata": {
        "id": "iCQRWJxuqW0k"
      },
      "source": [
        "---"
      ]
    },
    {
      "cell_type": "markdown",
      "metadata": {
        "id": "R15Y5okTqW0k"
      },
      "source": [
        "# Example 3: Meal with tip and tax"
      ]
    },
    {
      "cell_type": "markdown",
      "metadata": {
        "id": "8vHcPwdwqW0k"
      },
      "source": [
        "Now let's revisit our example from the earlier sessions in the class: Compute the total cost of a meal. \n",
        "\n",
        "Suppose that we buy food for \\$30. We also need to pay the tax on top (which is 8.875\\% in NY), and put a tip, say 15\\%, on the pre-tax amount. The code for doing this calculation:"
      ]
    },
    {
      "cell_type": "code",
      "execution_count": null,
      "metadata": {
        "id": "MIglazxrqW0k"
      },
      "outputs": [],
      "source": [
        ""
      ]
    },
    {
      "cell_type": "markdown",
      "metadata": {
        "id": "VP53iu5PqW0k"
      },
      "source": [
        "Now let's define a function called `meal_cost`. What are the inputs and outputs in this case?\n",
        "\n",
        "* Inputs: food cost, tax, tip\n",
        "* Output: Total cost\n",
        "\n"
      ]
    },
    {
      "cell_type": "code",
      "execution_count": null,
      "metadata": {
        "id": "tF1QZLhHqW0l"
      },
      "outputs": [],
      "source": [
        ""
      ]
    },
    {
      "cell_type": "markdown",
      "metadata": {
        "id": "GzMUTEPBqW0m"
      },
      "source": [
        "Now, let's start making some changes. Say that we want to enter the tax as a percentage, and not as a small decimal. So we would like to have `tax = 8.875` instead of `tax = 8.875/100`. Similarly for the tip. We also want the cost to be rounded to two decimals"
      ]
    },
    {
      "cell_type": "code",
      "execution_count": null,
      "metadata": {
        "id": "6h3nvb8GqW0m"
      },
      "outputs": [],
      "source": [
        ""
      ]
    },
    {
      "cell_type": "markdown",
      "metadata": {
        "id": "RiXYKu4HqW0n"
      },
      "source": [
        "# Example 4: Get the length of a text in words"
      ]
    },
    {
      "cell_type": "markdown",
      "metadata": {
        "id": "sOMflsTMqW0n"
      },
      "source": [
        "We will now write a non-math oriented function. We want a function that takes as input a piece of text, and returns the number of words in it. What is the length of the article in words? For simplicity we assume that words are separated by spaces."
      ]
    },
    {
      "cell_type": "code",
      "execution_count": null,
      "metadata": {
        "id": "IooLt4fmqW0n"
      },
      "outputs": [],
      "source": [
        "article = \"\"\"One person was believed to be missing after an oil rig storage platform exploded Sunday night on Lake Pontchartrain, just north and west \n",
        "of New Orleans. Seven people were taken to hospitals after the explosion, and three of them remained in critical condition Monday morning, Mike Guillot, \n",
        "the director of emergency medical services at East Jefferson General Hospital, said at a news conference. The other four were released. Sheriff Joe \n",
        "Lopinto of Jefferson Parish said at the news conference, We are fairly confident there is an eighth person, adding that search efforts were continuing, \n",
        "and the Coast Guard had contacted the family of the person. No fatalities had been reported as of Monday morning. The blast occurred shortly after seven \n",
        "pm near St Charles Parish and the city of Kenner. The platform is in unincorporated Jefferson Parish. Officials are still investigating the cause of the \n",
        "explosion, but the City of Kenner said on its Facebook page that authorities on the scene report that cleaning chemicals ignited on the surface of the \n",
        "oil rig platform.\"\"\"\n",
        "\n",
        "print(article)"
      ]
    },
    {
      "cell_type": "code",
      "execution_count": null,
      "metadata": {
        "id": "S8ADqpFrqW0n"
      },
      "outputs": [],
      "source": [
        ""
      ]
    },
    {
      "cell_type": "markdown",
      "metadata": {
        "id": "VHPNrqWMqW0n"
      },
      "source": [
        "So, in this case, we have the input being the string variable that contains the text, and the output is a number."
      ]
    },
    {
      "cell_type": "code",
      "execution_count": null,
      "metadata": {
        "id": "mgJ7y11FqW0n"
      },
      "outputs": [],
      "source": [
        ""
      ]
    },
    {
      "cell_type": "markdown",
      "metadata": {
        "id": "ZTBsObvi2l1f"
      },
      "source": [
        "---"
      ]
    },
    {
      "cell_type": "markdown",
      "source": [
        "# ⭕ **QUESTIONS?**"
      ],
      "metadata": {
        "id": "XwClBnPA2l1g"
      }
    },
    {
      "cell_type": "markdown",
      "metadata": {
        "id": "srzfNGhf2l1n"
      },
      "source": [
        "---"
      ]
    },
    {
      "cell_type": "markdown",
      "metadata": {
        "id": "Xd85LNBXqW0o"
      },
      "source": [
        "# Exercise 7: Check if a number is within a range\n"
      ]
    },
    {
      "cell_type": "markdown",
      "metadata": {
        "id": "sNHer2BVqW0o"
      },
      "source": [
        "\n",
        "Write a function `in_range` that checks if a number `n` is within a given range `(a ... b)` (inclusive on both ends) and returns `True` or `False`. The function takes `n`, `a`, and `b` as parameters.\n",
        "\n"
      ]
    },
    {
      "cell_type": "code",
      "execution_count": null,
      "metadata": {
        "id": "TwuYVw7iqW0o"
      },
      "outputs": [],
      "source": [
        "# your code here"
      ]
    },
    {
      "cell_type": "markdown",
      "metadata": {
        "solution2": "shown",
        "solution2_first": true,
        "id": "u-igHFgOqW0o"
      },
      "source": [
        "# Solution"
      ]
    },
    {
      "cell_type": "code",
      "execution_count": null,
      "metadata": {
        "solution2": "shown",
        "id": "56I8CsiEqW0o"
      },
      "outputs": [],
      "source": [
        ""
      ]
    },
    {
      "cell_type": "markdown",
      "metadata": {
        "id": "1PSaatTiqW0p"
      },
      "source": [
        "---"
      ]
    },
    {
      "cell_type": "markdown",
      "metadata": {
        "id": "U8QAvuJ7qW0p"
      },
      "source": [
        "# Exercise 8: Remove duplicate entries from a list, and sort"
      ]
    },
    {
      "cell_type": "markdown",
      "metadata": {
        "id": "tdgv2IHXqW0p"
      },
      "source": [
        "Write a `dedup` function that takes as input a list and returns back another list, with only unique elements and sorted. For example, if the input is `[1,2,5,5,5,3,3,3,3,4,5]` the returned list should be `[1, 2, 3, 4, 5]`. If the input is `['New York', 'New York',  'Paris', 'London', 'Paris']` the returned list should be `['London', 'New York', 'Paris']`."
      ]
    },
    {
      "cell_type": "code",
      "execution_count": null,
      "metadata": {
        "id": "cCVhN8IoqW0p"
      },
      "outputs": [],
      "source": [
        "def dedup(input_list):\n",
        "    ... #your code here"
      ]
    },
    {
      "cell_type": "code",
      "execution_count": null,
      "metadata": {
        "id": "KL59gpbLqW0p"
      },
      "outputs": [],
      "source": [
        "# running the code below should return [1, 2, 3, 4, 5]\n",
        "\n",
        "in_list = [1,2,5,5,5,3,3,3,3,4,5]\n",
        "dedup(in_list)"
      ]
    },
    {
      "cell_type": "code",
      "execution_count": null,
      "metadata": {
        "id": "R8ohGG40qW0p"
      },
      "outputs": [],
      "source": [
        "# running the code below should return ['London', 'New York', 'Paris']\n",
        "\n",
        "in_list = ['New York', 'New York',  'Paris', 'London', 'Paris']\n",
        "dedup(in_list)"
      ]
    },
    {
      "cell_type": "markdown",
      "metadata": {
        "solution2": "shown",
        "solution2_first": true,
        "id": "VKYfifDlqW0p"
      },
      "source": [
        "# Solution"
      ]
    },
    {
      "cell_type": "code",
      "execution_count": null,
      "metadata": {
        "solution2": "shown",
        "id": "GhPKGmN9qW0q"
      },
      "outputs": [],
      "source": [
        ""
      ]
    },
    {
      "cell_type": "markdown",
      "metadata": {
        "id": "msYdU4J7qW0q"
      },
      "source": [
        "---"
      ]
    }
  ],
  "metadata": {
    "kernelspec": {
      "display_name": "Python 3",
      "language": "python",
      "name": "python3"
    },
    "language_info": {
      "codemirror_mode": {
        "name": "ipython",
        "version": 3
      },
      "file_extension": ".py",
      "mimetype": "text/x-python",
      "name": "python",
      "nbconvert_exporter": "python",
      "pygments_lexer": "ipython3",
      "version": "3.7.3"
    },
    "colab": {
      "name": "Class_4_unsolved.ipynb",
      "provenance": []
    }
  },
  "nbformat": 4,
  "nbformat_minor": 0
}