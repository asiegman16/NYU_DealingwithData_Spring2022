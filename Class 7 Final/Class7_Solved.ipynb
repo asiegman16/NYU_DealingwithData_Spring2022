{
  "cells": [
    {
      "cell_type": "markdown",
      "source": [
        "# Dealing with Data Spring 2022 – Class 7"
      ],
      "metadata": {
        "id": "OG6W9nqwq6qZ"
      }
    },
    {
      "cell_type": "markdown",
      "metadata": {
        "id": "FQe8_2nWq0_U"
      },
      "source": [
        "---"
      ]
    },
    {
      "cell_type": "markdown",
      "metadata": {
        "id": "lIFcJ66Pq0_T"
      },
      "source": [
        "## Introduction to Pandas and Matplotlib"
      ]
    },
    {
      "cell_type": "markdown",
      "source": [
        "Pandas is a library that allows us to do various data analytics activities on our data."
      ],
      "metadata": {
        "id": "dcKkXYU4rr8T"
      }
    },
    {
      "cell_type": "code",
      "execution_count": null,
      "metadata": {
        "id": "a0WHkLeFq0_V"
      },
      "outputs": [],
      "source": [
        "import pandas as pd # pandas = \"python data analysis library' (https://pandas.pydata.org/)\n",
        "import matplotlib  # 2D plotting library (https://matplotlib.org/)\n",
        "import matplotlib.pyplot as plt # a plotting module within matplotlib\n",
        "import seaborn as sns # statistical data visualization (https://seaborn.pydata.org/)"
      ]
    },
    {
      "cell_type": "markdown",
      "metadata": {
        "id": "jOlQvYthq0_X"
      },
      "source": [
        "Let's get started with Data Frames, a table structure of rows and columns used in Pandas.\n",
        "\n",
        "We begin by creating a new data frame using pd.DataFrame, passing through a list of dictionaries.\n"
      ]
    },
    {
      "cell_type": "code",
      "execution_count": null,
      "metadata": {
        "id": "W7PpgYO9q0_X"
      },
      "outputs": [],
      "source": [
        "df = pd.DataFrame([ \n",
        "    {\"First Name\": \"Alex\", \"Last Name\": \"Siegman\"}, \n",
        "    {\"First Name\": \"John\", \"Last Name\": \"Doe\"}\n",
        "])"
      ]
    },
    {
      "cell_type": "code",
      "execution_count": null,
      "metadata": {
        "id": "vlFmgDo3q0_X"
      },
      "outputs": [],
      "source": [
        "df"
      ]
    },
    {
      "cell_type": "markdown",
      "metadata": {
        "id": "s9uNZ3HOq0_X"
      },
      "source": [
        "Let's dig a bit deeper to understand what just happened"
      ]
    },
    {
      "cell_type": "code",
      "execution_count": null,
      "metadata": {
        "id": "RU1nxfk1q0_Y"
      },
      "outputs": [],
      "source": [
        "dictionary = {\"First Name\": \"Alex\", \"Last Name\": \"Siegman\"}\n",
        "               # <key>     <value>     <key>      <value>"
      ]
    },
    {
      "cell_type": "code",
      "execution_count": null,
      "metadata": {
        "id": "YoKUFX4dq0_Y"
      },
      "outputs": [],
      "source": [
        "dictionary['First Name']"
      ]
    },
    {
      "cell_type": "code",
      "execution_count": null,
      "metadata": {
        "id": "IkZxA6Scq0_Y"
      },
      "outputs": [],
      "source": [
        "dictionary['Last Name']"
      ]
    },
    {
      "cell_type": "code",
      "execution_count": null,
      "metadata": {
        "id": "G9QHKLbFq0_Z"
      },
      "outputs": [],
      "source": [
        "df"
      ]
    },
    {
      "cell_type": "code",
      "execution_count": null,
      "metadata": {
        "id": "oRmzbS4lq0_Z"
      },
      "outputs": [],
      "source": [
        "df['First Name'] # this is how we get what we need"
      ]
    },
    {
      "cell_type": "markdown",
      "metadata": {
        "id": "W_y5ISmaq0_Z"
      },
      "source": [
        "So that's all a data frame is, it's a table of rows and columns! "
      ]
    },
    {
      "cell_type": "markdown",
      "metadata": {
        "id": "2-PjnPOTZ2YG"
      },
      "source": [
        "---"
      ]
    },
    {
      "cell_type": "markdown",
      "source": [
        "# ⭕ **QUESTIONS?**"
      ],
      "metadata": {
        "id": "IwqUwZvmZ2YG"
      }
    },
    {
      "cell_type": "markdown",
      "metadata": {
        "id": "mTH3bX4EZ2YG"
      },
      "source": [
        "---"
      ]
    },
    {
      "cell_type": "markdown",
      "metadata": {
        "id": "vQkceuIjq0_a"
      },
      "source": [
        "Let's delve further into Pandas with a different data set. "
      ]
    },
    {
      "cell_type": "code",
      "execution_count": null,
      "metadata": {
        "id": "QOmbxp7cq0_a"
      },
      "outputs": [],
      "source": [
        "!rm -f restaurant.csv* # 'rm' = 'remove'\n",
        "                            # '-f' means 'force', aka, it will bypass permission checks\n",
        "                            # 'data/restaurant.csv*' means we want to remove any file in our data directory that ends with 'resturant.csv'\n",
        "                            # in total, this command removes any prior file, if it exists\n",
        "\n",
        "!curl 'https://data.cityofnewyork.us/api/views/43nn-pn8j/rows.csv?accessType=DOWNLOAD' -o restaurant.csv\n",
        "                            # 'curl' is a tool to transfer eata from or to a server\n",
        "                            # for more on 'curl' visit (https://curl.haxx.se/docs/manpage.html)\n",
        "\n",
        "# !gzip data/restaurant.csv # compress the file"
      ]
    },
    {
      "cell_type": "code",
      "execution_count": null,
      "metadata": {
        "id": "X9xhwkqdq0_b"
      },
      "outputs": [],
      "source": [
        "# changing the notebook settings to display more rows and columns by default\n",
        "\n",
        "pd.options.display.max_rows = 1000 \n",
        "pd.options.display.max_columns = 1000"
      ]
    },
    {
      "cell_type": "markdown",
      "metadata": {
        "id": "3c4UdBJbq0_a"
      },
      "source": [
        "Now that we have our data we can read in our csv using pd.read_csv."
      ]
    },
    {
      "cell_type": "code",
      "execution_count": null,
      "metadata": {
        "id": "6qZnuppKq0_b"
      },
      "outputs": [],
      "source": [
        "restaurants = pd.read_csv('./restaurant.csv', \n",
        "                         encoding = 'utf-8', # for more on UTF-8 check (https://www.w3schools.com/charsets/ref_html_utf8.asp)\n",
        "                         dtype = 'unicode', # we are telling Pandas to read our data as data type object 'Unicode' which will make it a string\n",
        "                         parse_dates = True, # parse our dates that are coming in as strings, as specified above\n",
        "                         infer_datetime_format = True, # we are asking Pandas to infer the format of the datetime strings in the column so as to increase parsing speed\n",
        "                         low_memory = False) # normally Pandas will try to automatically detrmine the dtype, which takes lots of memory"
      ]
    },
    {
      "cell_type": "markdown",
      "metadata": {
        "id": "YiFw5JCDq0_c"
      },
      "source": [
        "---"
      ]
    },
    {
      "cell_type": "markdown",
      "metadata": {
        "id": "N5yXF_2Iq0_d"
      },
      "source": [
        "Now that we have successfully read our CSV, let's look at some basics"
      ]
    },
    {
      "cell_type": "code",
      "execution_count": null,
      "metadata": {
        "id": "OiHxpjhDq0_d"
      },
      "outputs": [],
      "source": [
        "restaurants.describe() # descriptive statistics excluding NaN values"
      ]
    },
    {
      "cell_type": "markdown",
      "metadata": {
        "id": "dMongKqoq0_c"
      },
      "source": [
        "For column definitions let's check out [the documentation](https://data.cityofnewyork.us/api/views/43nn-pn8j)"
      ]
    },
    {
      "cell_type": "code",
      "execution_count": null,
      "metadata": {
        "id": "mFHKXpeJq0_d"
      },
      "outputs": [],
      "source": [
        "restaurants.info()"
      ]
    },
    {
      "cell_type": "code",
      "execution_count": null,
      "metadata": {
        "id": "5skWd7tbq0_c"
      },
      "outputs": [],
      "source": [
        "restaurants.head() # show us the first five rows of our data frame"
      ]
    },
    {
      "cell_type": "code",
      "execution_count": null,
      "metadata": {
        "id": "EyCdACaRq0_c"
      },
      "outputs": [],
      "source": [
        "restaurants.tail() # show us the last five rows of our data frame"
      ]
    },
    {
      "cell_type": "markdown",
      "metadata": {
        "id": "FmhnjU0UJ6H6"
      },
      "source": [
        "---"
      ]
    },
    {
      "cell_type": "markdown",
      "source": [
        "# ⭕ **QUESTIONS?**"
      ],
      "metadata": {
        "id": "270sPvHAJ6H6"
      }
    },
    {
      "cell_type": "markdown",
      "metadata": {
        "id": "PsbMCoB5J6H6"
      },
      "source": [
        "---"
      ]
    },
    {
      "cell_type": "markdown",
      "metadata": {
        "id": "aKzQiqMzq0_d"
      },
      "source": [
        "Note that above all of our data is stored as a non-null object, aka, a string.  But 'Score' is not a string, it's a numerical value. So let's work to alter that in our data frame."
      ]
    },
    {
      "cell_type": "code",
      "execution_count": null,
      "metadata": {
        "id": "YEUm0oQaq0_d"
      },
      "outputs": [],
      "source": [
        "restaurants[\"SCORE\"] = pd.to_numeric(restaurants[\"SCORE\"])\n",
        "# we are setting the value of our column equal to itself, but now with the caveat that we want it converted 'to numeric'\n",
        "\n",
        "restaurants.dtypes"
      ]
    },
    {
      "cell_type": "code",
      "execution_count": null,
      "metadata": {
        "id": "BTjG8A7_q0_e"
      },
      "outputs": [],
      "source": [
        "restaurants[\"SCORE\"].describe() # let's get some more info on our \"SCORE\" column..."
      ]
    },
    {
      "cell_type": "code",
      "execution_count": null,
      "metadata": {
        "id": "Hfn0kcdXq0_e"
      },
      "outputs": [],
      "source": [
        "restaurants[\"SCORE\"].hist() # histogram"
      ]
    },
    {
      "cell_type": "code",
      "execution_count": null,
      "metadata": {
        "id": "seMb7jwmq0_e"
      },
      "outputs": [],
      "source": [
        "restaurants[\"SCORE\"].hist(bins=50) # let's change the default number of bins"
      ]
    },
    {
      "cell_type": "markdown",
      "metadata": {
        "id": "40bDkkfctdU5"
      },
      "source": [
        "---"
      ]
    },
    {
      "cell_type": "markdown",
      "source": [
        "# ⭕ **QUESTIONS?**"
      ],
      "metadata": {
        "id": "phpn-KdltdU5"
      }
    },
    {
      "cell_type": "markdown",
      "metadata": {
        "id": "cgJ2RFTXtdU5"
      },
      "source": [
        "---"
      ]
    },
    {
      "cell_type": "markdown",
      "metadata": {
        "id": "B_TEq63Kq0_e"
      },
      "source": [
        "Let's take a moment to explore what else we can customize in our histogram."
      ]
    },
    {
      "cell_type": "code",
      "execution_count": null,
      "metadata": {
        "id": "sw1WZXTaq0_e"
      },
      "outputs": [],
      "source": [
        "restaurants[\"SCORE\"].hist(bins=50, # use 50 bins\n",
        "                      range=(0,50), # our x-axis will range from 0 to 50\n",
        "                      density=False, # show the raw count; to show normalized count use (density=True)\n",
        "                      figsize=(15,5), # control the size of the plot\n",
        "                      alpha = 0.8 # make plot 20% transparent\n",
        "                      )"
      ]
    },
    {
      "cell_type": "markdown",
      "metadata": {
        "id": "u048Fy__q0_e"
      },
      "source": [
        "We can also use KDE (kernel density estimation) to estimate a continuous function, instead of bucketized as above."
      ]
    },
    {
      "cell_type": "code",
      "execution_count": null,
      "metadata": {
        "id": "fgNzOujVq0_f"
      },
      "outputs": [],
      "source": [
        "restaurants[\"SCORE\"].plot(\n",
        "    kind = 'kde',\n",
        "    color = 'Black', \n",
        "    xlim = (0, 50),\n",
        "    figsize = (15, 5)\n",
        ")"
      ]
    },
    {
      "cell_type": "markdown",
      "metadata": {
        "id": "2HKBKtnutnRb"
      },
      "source": [
        "---"
      ]
    },
    {
      "cell_type": "markdown",
      "source": [
        "# ⭕ **QUESTIONS?**"
      ],
      "metadata": {
        "id": "tXbMG1xQtnRb"
      }
    },
    {
      "cell_type": "markdown",
      "metadata": {
        "id": "d3g-zbcEtnRb"
      },
      "source": [
        "---"
      ]
    },
    {
      "cell_type": "markdown",
      "metadata": {
        "id": "cZuJkqNTq0_f"
      },
      "source": [
        "Now let's do some work with dates."
      ]
    },
    {
      "cell_type": "code",
      "execution_count": null,
      "metadata": {
        "id": "cEMvaznKq0_f"
      },
      "outputs": [],
      "source": [
        "restaurants[\"GRADE DATE\"].head(10) # show us the first ten values of this column"
      ]
    },
    {
      "cell_type": "markdown",
      "metadata": {
        "id": "YMXnsZBaq0_f"
      },
      "source": [
        "Note that our dates are stored as strings, which doesn't really help us. So, we can convert all of our dates using the 'to_datetime' function, and format them as illustrated below."
      ]
    },
    {
      "cell_type": "code",
      "execution_count": null,
      "metadata": {
        "id": "KuQoBQJZq0_f"
      },
      "outputs": [],
      "source": [
        "# %m Month as a zero-padded decimal number\n",
        "# %d Day of month as a zero-padded decimal number\n",
        "# %y Year with century as a decimal number\n",
        "\n",
        "restaurants[\"GRADE DATE\"] = pd.to_datetime(restaurants[\"GRADE DATE\"], format=\"%m/%d/%Y\")\n",
        "restaurants[\"RECORD DATE\"] = pd.to_datetime(restaurants[\"RECORD DATE\"], format=\"%m/%d/%Y\")\n",
        "restaurants[\"INSPECTION DATE\"] = pd.to_datetime(restaurants[\"INSPECTION DATE\"], format=\"%m/%d/%Y\")"
      ]
    },
    {
      "cell_type": "code",
      "execution_count": null,
      "metadata": {
        "scrolled": true,
        "id": "2a_z8LUVq0_g"
      },
      "outputs": [],
      "source": [
        "restaurants.dtypes # let's check to make sure our code above worked..."
      ]
    },
    {
      "cell_type": "code",
      "execution_count": null,
      "metadata": {
        "id": "dZeyxtGzq0_g"
      },
      "outputs": [],
      "source": [
        "restaurants[[\"INSPECTION DATE\",\"GRADE DATE\",\"RECORD DATE\"]].describe()"
      ]
    },
    {
      "cell_type": "markdown",
      "source": [
        "You'll note we get this odd error when converting to datetime whereby if there isn't a date, it gets defaulted to 1900-01-01 00:00:00. Let's work to get rid of any rows that have that value for their inspection date."
      ],
      "metadata": {
        "id": "51sOaW2ru-Pf"
      }
    },
    {
      "cell_type": "code",
      "source": [
        "restaurants.drop(restaurants[restaurants['INSPECTION DATE']==\"1900-01-01 00:00:00\"].index,inplace=True)"
      ],
      "metadata": {
        "id": "bvNkNA55vFvO"
      },
      "execution_count": null,
      "outputs": []
    },
    {
      "cell_type": "code",
      "source": [
        "restaurants[[\"INSPECTION DATE\",\"GRADE DATE\",\"RECORD DATE\"]].describe()"
      ],
      "metadata": {
        "id": "meapkSDhvdoM"
      },
      "execution_count": null,
      "outputs": []
    },
    {
      "cell_type": "markdown",
      "metadata": {
        "id": "drezFiHLt753"
      },
      "source": [
        "---"
      ]
    },
    {
      "cell_type": "markdown",
      "source": [
        "# ⭕ **QUESTIONS?**"
      ],
      "metadata": {
        "id": "fXaBDr_8t754"
      }
    },
    {
      "cell_type": "markdown",
      "metadata": {
        "id": "ZntU_S51t754"
      },
      "source": [
        "---"
      ]
    },
    {
      "cell_type": "markdown",
      "metadata": {
        "id": "HrvWQLrEq0_g"
      },
      "source": [
        "# Exercise 1: Plot a histogram of our dates"
      ]
    },
    {
      "cell_type": "code",
      "execution_count": null,
      "metadata": {
        "id": "D4_o2O1Qq0_g"
      },
      "outputs": [],
      "source": [
        "# your code here"
      ]
    },
    {
      "cell_type": "markdown",
      "metadata": {
        "id": "ZUlM8A_Aq0_g"
      },
      "source": [
        "# Solution 1:"
      ]
    },
    {
      "cell_type": "code",
      "execution_count": null,
      "metadata": {
        "id": "V_GEiuvuq0_i"
      },
      "outputs": [],
      "source": [
        "restaurants[\"INSPECTION DATE\"].hist()"
      ]
    },
    {
      "cell_type": "markdown",
      "metadata": {
        "id": "U1CIWu-7q0_i"
      },
      "source": [
        "---"
      ]
    },
    {
      "cell_type": "markdown",
      "metadata": {
        "id": "p6Zy6TpNq0_i"
      },
      "source": [
        "# Exericse 2: Change the number of bins in our histogram"
      ]
    },
    {
      "cell_type": "code",
      "execution_count": null,
      "metadata": {
        "id": "x7oWRT4iq0_i"
      },
      "outputs": [],
      "source": [
        "# your code here"
      ]
    },
    {
      "cell_type": "markdown",
      "metadata": {
        "id": "xreD-7YQq0_i"
      },
      "source": [
        "# Solution 2: "
      ]
    },
    {
      "cell_type": "code",
      "execution_count": null,
      "metadata": {
        "id": "7Iu3DdQJq0_i"
      },
      "outputs": [],
      "source": [
        "restaurants[\"INSPECTION DATE\"].hist(bins=60)"
      ]
    },
    {
      "cell_type": "markdown",
      "metadata": {
        "id": "tudo4yAqq0_i"
      },
      "source": [
        "---"
      ]
    },
    {
      "cell_type": "markdown",
      "source": [
        "# ⭕ **QUESTIONS?**"
      ],
      "metadata": {
        "id": "0tdbcU4fuE4A"
      }
    },
    {
      "cell_type": "markdown",
      "metadata": {
        "id": "rN_HZoOouE4A"
      },
      "source": [
        "---"
      ]
    },
    {
      "cell_type": "markdown",
      "metadata": {
        "id": "b0hY7EuKq0_j"
      },
      "source": [
        "Now that we've worked with our dates, let's look at categorical values.\n",
        "\n",
        "Sometimes we need categorical values, when we have a variable that has an implicit order, for instance an 'ABC' grade (as we do in our restaurants data set)."
      ]
    },
    {
      "cell_type": "code",
      "execution_count": null,
      "metadata": {
        "scrolled": true,
        "id": "s2nkfWT_q0_j"
      },
      "outputs": [],
      "source": [
        "restaurants[\"BORO\"] =  pd.Categorical(restaurants[\"BORO\"], ordered=False) \n",
        "restaurants[\"GRADE\"] =  pd.Categorical(restaurants[\"GRADE\"], categories = ['A', 'B', 'C'], ordered=True)\n",
        "# 'ordered=True' means that we are saying there are three categories, and 'A' > 'B' > 'C', in that order\n",
        "restaurants[\"VIOLATION CODE\"] =  pd.Categorical(restaurants[\"VIOLATION CODE\"], ordered=False)\n",
        "restaurants[\"CRITICAL FLAG\"] =  pd.Categorical(restaurants[\"CRITICAL FLAG\"], ordered=False)\n",
        "restaurants[\"ACTION\"] =  pd.Categorical(restaurants[\"ACTION\"], ordered=False)\n",
        "restaurants[\"CUISINE DESCRIPTION\"] =  pd.Categorical(restaurants[\"CUISINE DESCRIPTION\"], ordered=False)\n",
        "\n",
        "restaurants.dtypes"
      ]
    },
    {
      "cell_type": "markdown",
      "metadata": {
        "id": "jUGN_7Geq0_k"
      },
      "source": [
        "# Let's delve into a particular column, 'CUISINE DESCRIPTION'"
      ]
    },
    {
      "cell_type": "code",
      "execution_count": null,
      "metadata": {
        "id": "Ja2cQZNvq0_k"
      },
      "outputs": [],
      "source": [
        "restaurants[\"CUISINE DESCRIPTION\"].value_counts()[:5] # give us the 'value_counts' of the first five columns"
      ]
    },
    {
      "cell_type": "code",
      "execution_count": null,
      "metadata": {
        "scrolled": true,
        "id": "9EC_e7vmq0_k"
      },
      "outputs": [],
      "source": [
        "restaurants[\"CUISINE DESCRIPTION\"].value_counts()[:5].plot(kind='bar')"
      ]
    },
    {
      "cell_type": "markdown",
      "metadata": {
        "id": "mxjMUcyDJ81r"
      },
      "source": [
        "---"
      ]
    },
    {
      "cell_type": "markdown",
      "source": [
        "# ⭕ **QUESTIONS?**"
      ],
      "metadata": {
        "id": "2LT2Fx-oJ81r"
      }
    },
    {
      "cell_type": "markdown",
      "metadata": {
        "id": "-kUjhPgtJ81r"
      },
      "source": [
        "---"
      ]
    },
    {
      "cell_type": "markdown",
      "metadata": {
        "id": "1Q9FZtOOq0_l"
      },
      "source": [
        "# Exercise 3: What are the 10 most common violation codes? "
      ]
    },
    {
      "cell_type": "code",
      "execution_count": null,
      "metadata": {
        "id": "KdXbqc5pq0_l"
      },
      "outputs": [],
      "source": [
        "# your code here"
      ]
    },
    {
      "cell_type": "markdown",
      "metadata": {
        "id": "pGxNSxcDq0_l"
      },
      "source": [
        "# Solution 3: "
      ]
    },
    {
      "cell_type": "code",
      "execution_count": null,
      "metadata": {
        "id": "XDeCQGgcq0_l"
      },
      "outputs": [],
      "source": [
        "violation_counts = restaurants[\"VIOLATION CODE\"].value_counts(); \n",
        "\n",
        "violation_counts[0:10]"
      ]
    },
    {
      "cell_type": "markdown",
      "metadata": {
        "id": "6PjudvxQq0_l"
      },
      "source": [
        "# Exercise 4: Plot the 10 most common violation codes as a bar chart"
      ]
    },
    {
      "cell_type": "code",
      "execution_count": null,
      "metadata": {
        "id": "rSdSOrB4q0_m"
      },
      "outputs": [],
      "source": [
        "# your code here"
      ]
    },
    {
      "cell_type": "markdown",
      "metadata": {
        "id": "ZIIo3z3kq0_m"
      },
      "source": [
        "# Solution 4: "
      ]
    },
    {
      "cell_type": "code",
      "execution_count": null,
      "metadata": {
        "id": "qgyUB331q0_m"
      },
      "outputs": [],
      "source": [
        "violation_counts[0:20].plot(kind='bar')"
      ]
    },
    {
      "cell_type": "markdown",
      "metadata": {
        "id": "P9oOY5bPq0_m"
      },
      "source": [
        "# Exercise 5: Plot the numer of inspections across each bourough"
      ]
    },
    {
      "cell_type": "code",
      "execution_count": null,
      "metadata": {
        "id": "m3k9fsXhq0_m"
      },
      "outputs": [],
      "source": [
        "# your code here"
      ]
    },
    {
      "cell_type": "markdown",
      "metadata": {
        "id": "JYfOx4lRq0_m"
      },
      "source": [
        "# Solution 5:"
      ]
    },
    {
      "cell_type": "code",
      "execution_count": null,
      "metadata": {
        "id": "7Acr_njyq0_n"
      },
      "outputs": [],
      "source": [
        "restaurants[\"BORO\"].value_counts().plot(kind='barh') # the 'h' makes it horizontal"
      ]
    },
    {
      "cell_type": "markdown",
      "metadata": {
        "id": "19IMPmoYJ_-K"
      },
      "source": [
        "---"
      ]
    },
    {
      "cell_type": "markdown",
      "source": [
        "# ⭕ **QUESTIONS?**"
      ],
      "metadata": {
        "id": "I8vn81gDJ_-L"
      }
    },
    {
      "cell_type": "markdown",
      "metadata": {
        "id": "fzDHKFbsJ_-L"
      },
      "source": [
        "---"
      ]
    },
    {
      "cell_type": "markdown",
      "metadata": {
        "id": "kOdFIZjaq0_n"
      },
      "source": [
        "# Imagine we want to get a subset of our data frame based on the columns we're interested in."
      ]
    },
    {
      "cell_type": "code",
      "execution_count": null,
      "metadata": {
        "id": "-dAJ6-krq0_n"
      },
      "outputs": [],
      "source": [
        "columns = [\"GRADE DATE\",\"VIOLATION CODE\",\"DBA\",\"SCORE\"] # create a list of the columns we're interested in \n",
        "restaurants[columns].head(10)"
      ]
    },
    {
      "cell_type": "markdown",
      "metadata": {
        "id": "ixjfvRvSq0_n"
      },
      "source": [
        "# What if instead we wanted to select the rows we're interested in? Well, to do that, we can generate a list of boolean (True or Fale) values, one for each row of our Data Frame, then use a list to see which rows to keep. \n",
        "\n",
        "# In this case, '04L' is the code for 'has mice'.\n"
      ]
    },
    {
      "cell_type": "code",
      "execution_count": null,
      "metadata": {
        "scrolled": true,
        "id": "SdTWS7L3q0_n"
      },
      "outputs": [],
      "source": [
        "mice = restaurants[\"VIOLATION CODE\"] == \"04L\"\n",
        "\n",
        "mice"
      ]
    },
    {
      "cell_type": "code",
      "execution_count": null,
      "metadata": {
        "id": "rlvMAUQWq0_n"
      },
      "outputs": [],
      "source": [
        "has_mice = restaurants[mice] # let's apply this new condition to our original df ('restaurants') and store the result \n",
        "                             # in a new data frame called 'has_mice'\n",
        "\n",
        "has_mice"
      ]
    },
    {
      "cell_type": "markdown",
      "metadata": {
        "id": "7tie-H6oq0_o"
      },
      "source": [
        "# Exercise 6: Which restaurants have the most mice complaints? "
      ]
    },
    {
      "cell_type": "code",
      "execution_count": null,
      "metadata": {
        "id": "Q0QI7K5Vq0_o"
      },
      "outputs": [],
      "source": [
        "# your code here"
      ]
    },
    {
      "cell_type": "markdown",
      "metadata": {
        "id": "CAkh44v5q0_o"
      },
      "source": [
        "# Solution 6: "
      ]
    },
    {
      "cell_type": "code",
      "execution_count": null,
      "metadata": {
        "id": "aEPxnhPvq0_o"
      },
      "outputs": [],
      "source": [
        "has_mice[\"DBA\"].value_counts()[:20] # \"DBA\" represents the name 'Doing Business As\" of the entity'"
      ]
    },
    {
      "cell_type": "markdown",
      "metadata": {
        "id": "BxpjID-Cq0_o"
      },
      "source": [
        "# Exercise 7: Let's pull up all of Subway's mice complaints"
      ]
    },
    {
      "cell_type": "code",
      "execution_count": null,
      "metadata": {
        "id": "4OIrpea1q0_o"
      },
      "outputs": [],
      "source": [
        "# your code here"
      ]
    },
    {
      "cell_type": "markdown",
      "metadata": {
        "id": "IT6QGB7Nq0_p"
      },
      "source": [
        "# Solution 7:"
      ]
    },
    {
      "cell_type": "code",
      "execution_count": null,
      "metadata": {
        "id": "m1v8J-6Iq0_p"
      },
      "outputs": [],
      "source": [
        "has_mice.loc[has_mice[\"DBA\"]==\"SUBWAY\"]"
      ]
    },
    {
      "cell_type": "markdown",
      "metadata": {
        "id": "UNOnYHQiKHnS"
      },
      "source": [
        "---"
      ]
    },
    {
      "cell_type": "markdown",
      "source": [
        "# ⭕ **QUESTIONS?**"
      ],
      "metadata": {
        "id": "Rqqxekk-KHnS"
      }
    },
    {
      "cell_type": "markdown",
      "metadata": {
        "id": "tzyMV02MKHnS"
      },
      "source": [
        "---"
      ]
    },
    {
      "cell_type": "markdown",
      "metadata": {
        "id": "rFkOKCP7q0_p"
      },
      "source": [
        "# Now let's do some work with Pivot Tables. First, let's count the number of restaurants inspected every day."
      ]
    },
    {
      "cell_type": "code",
      "execution_count": null,
      "metadata": {
        "id": "3xdvxbvnq0_p"
      },
      "outputs": [],
      "source": [
        "pivot = pd.pivot_table(\n",
        "    data=restaurants,\n",
        "    index = \"INSPECTION DATE\", # specifies rows\n",
        "    values = \"CAMIS\", # specifies content of cells\n",
        "    aggfunc = \"count\" # ask to count how many different CAMIS values we see\n",
        ")"
      ]
    },
    {
      "cell_type": "code",
      "execution_count": null,
      "metadata": {
        "scrolled": true,
        "id": "6qxYi4vVq0_p"
      },
      "outputs": [],
      "source": [
        "pivot"
      ]
    },
    {
      "cell_type": "code",
      "execution_count": null,
      "metadata": {
        "id": "clik4ODKq0_p"
      },
      "outputs": [],
      "source": [
        "pivot.plot() "
      ]
    },
    {
      "cell_type": "code",
      "execution_count": null,
      "metadata": {
        "id": "VsJVblKIq0_p"
      },
      "outputs": [],
      "source": [
        "pivot.head()"
      ]
    },
    {
      "cell_type": "code",
      "execution_count": null,
      "metadata": {
        "id": "a3C_aFOdq0_q"
      },
      "outputs": [],
      "source": [
        "pivot.plot(figsize=(10,5))"
      ]
    },
    {
      "cell_type": "code",
      "execution_count": null,
      "metadata": {
        "id": "s3767rmaq0_q"
      },
      "outputs": [],
      "source": [
        "pivot.tail(30).plot() # let's look at the last 30 days"
      ]
    },
    {
      "cell_type": "code",
      "execution_count": null,
      "metadata": {
        "id": "GmxglTl2q0_q"
      },
      "outputs": [],
      "source": [
        "pivot.resample('1W').mean().tail(10) # use resample command to change frequency from one to 7 days, then compute the \n",
        "                                     # mean for these days (aka, the sum of total inspections)\n"
      ]
    },
    {
      "cell_type": "code",
      "execution_count": null,
      "metadata": {
        "id": "uUi8QZs9q0_q"
      },
      "outputs": [],
      "source": [
        "pivot.resample('7D').mean().plot() # plot the number of inspections over 7 days"
      ]
    },
    {
      "cell_type": "markdown",
      "metadata": {
        "id": "dBBv5WKVq0_r"
      },
      "source": [
        "# Exercise 8: Plot the total number of inspections over 1 month"
      ]
    },
    {
      "cell_type": "code",
      "execution_count": null,
      "metadata": {
        "id": "Wx-sY3WHq0_r"
      },
      "outputs": [],
      "source": [
        "# your code here"
      ]
    },
    {
      "cell_type": "markdown",
      "metadata": {
        "id": "YJy3ZF9zq0_r"
      },
      "source": [
        "# Solution 8: "
      ]
    },
    {
      "cell_type": "code",
      "execution_count": null,
      "metadata": {
        "id": "QQK0HoEIq0_r"
      },
      "outputs": [],
      "source": [
        "pivot.resample('1M').sum().plot()"
      ]
    },
    {
      "cell_type": "markdown",
      "metadata": {
        "id": "8x4hHqUWKLcq"
      },
      "source": [
        "---"
      ]
    },
    {
      "cell_type": "markdown",
      "source": [
        "# ⭕ **QUESTIONS?**"
      ],
      "metadata": {
        "id": "mWdvqjg6KLcq"
      }
    },
    {
      "cell_type": "markdown",
      "metadata": {
        "id": "RrVnW9uXKLcq"
      },
      "source": [
        "---"
      ]
    },
    {
      "cell_type": "markdown",
      "metadata": {
        "id": "nJNfxEHuq0_r"
      },
      "source": [
        "# We can also add some basic titles to our plot."
      ]
    },
    {
      "cell_type": "code",
      "execution_count": null,
      "metadata": {
        "id": "5suPtkC9q0_r"
      },
      "outputs": [],
      "source": [
        "plot = pivot.resample('7D').mean().plot()\n",
        "plot.set_xlabel(\"Date of Inspection\")\n",
        "plot.set_ylabel(\"Average Number of Inspections (7-day average)\")\n",
        "plot.set_title(\"Analysis of Number of Inspections over Time\")"
      ]
    },
    {
      "cell_type": "markdown",
      "metadata": {
        "id": "YjLX5V3wq0_s"
      },
      "source": [
        "# Exercise 9: Create a pivot table where we break down the results by boro"
      ]
    },
    {
      "cell_type": "code",
      "execution_count": null,
      "metadata": {
        "id": "nQjpBaIgq0_s"
      },
      "outputs": [],
      "source": [
        "# your code here"
      ]
    },
    {
      "cell_type": "markdown",
      "metadata": {
        "id": "i147sMsMq0_s"
      },
      "source": [
        "# Solution 9: "
      ]
    },
    {
      "cell_type": "code",
      "execution_count": null,
      "metadata": {
        "id": "8awJA8Ynq0_s"
      },
      "outputs": [],
      "source": [
        "boro_pivot = pd.pivot_table(\n",
        "    data = restaurants, #\n",
        "    index = 'INSPECTION DATE', \n",
        "    columns = 'BORO', \n",
        "    values = 'CAMIS', \n",
        "    aggfunc = 'count'\n",
        ")\n",
        "\n",
        "boro_pivot.tail(10)"
      ]
    },
    {
      "cell_type": "markdown",
      "metadata": {
        "id": "yMknhWOAKXAV"
      },
      "source": [
        "---"
      ]
    },
    {
      "cell_type": "markdown",
      "source": [
        "# ⭕ **QUESTIONS?**"
      ],
      "metadata": {
        "id": "zQr51i3LKXAV"
      }
    },
    {
      "cell_type": "markdown",
      "metadata": {
        "id": "tG24qdMOKXAV"
      },
      "source": [
        "---"
      ]
    },
    {
      "cell_type": "markdown",
      "metadata": {
        "id": "AEePE0jqq0_s"
      },
      "source": [
        "# Let's now take some time to explore Matplotlib"
      ]
    },
    {
      "cell_type": "code",
      "execution_count": null,
      "metadata": {
        "id": "jhtmnBoYq0_t"
      },
      "outputs": [],
      "source": [
        "%matplotlib inline \n",
        "# the '%' is an example of a 'magic command' that allows us to make use of matplotlibs interactivity\n",
        "\n",
        "import matplotlib.pyplot as plt\n",
        "import numpy as np"
      ]
    },
    {
      "cell_type": "code",
      "execution_count": null,
      "metadata": {
        "id": "q6xwylBuq0_t"
      },
      "outputs": [],
      "source": [
        "np.random.normal(size=10)"
      ]
    },
    {
      "cell_type": "code",
      "execution_count": null,
      "metadata": {
        "id": "qn-TJPPNq0_t"
      },
      "outputs": [],
      "source": [
        "t = np.arange(0., 5., 0.1) # every sampled value between 0 and 5, at .2 intervals"
      ]
    },
    {
      "cell_type": "code",
      "execution_count": null,
      "metadata": {
        "id": "UKV-mbOMq0_t"
      },
      "outputs": [],
      "source": [
        "import math \n",
        "\n",
        "plt.plot(t, t, 'r--') # plot t as is with red dashes\n",
        "plt.plot(t, t**2, 'bs') # plot t**2 with blue squares\n",
        "plt.plot(t, t**1.5, 'g^') # plot t**1.5 with green triangles\n",
        "plt.plot(t, 2*np.sin(5*t), 'm-') # plot 2**sin(5*t) with magenta line\n",
        "plt.show()"
      ]
    },
    {
      "cell_type": "markdown",
      "metadata": {
        "id": "KpZEHz9sq0_t"
      },
      "source": [
        "# Note, there are lots of predefined styles available, too\n"
      ]
    },
    {
      "cell_type": "code",
      "execution_count": null,
      "metadata": {
        "id": "fyRWrMsTq0_v"
      },
      "outputs": [],
      "source": [
        "print(plt.style.available)"
      ]
    },
    {
      "cell_type": "code",
      "execution_count": null,
      "metadata": {
        "id": "8d-QcRo1q0_v"
      },
      "outputs": [],
      "source": [
        "xvalues = np.random.normal(size=1000) # an array of 1,000 floats\n",
        "yvalues = np.random.normal(size=1000) # an array of 1,000 floats\n",
        "\n",
        "plt.style.use(u'fivethirtyeight')\n",
        "plt.plot(xvalues, yvalues, 'ro')\n",
        "plt.xlabel(\"Style: fivethirtyeight\")\n",
        "plt.show()"
      ]
    },
    {
      "cell_type": "markdown",
      "metadata": {
        "id": "JWkHPdC4q0_v"
      },
      "source": [
        "# Let's break down all the possibilities with Matplotlib"
      ]
    },
    {
      "cell_type": "code",
      "execution_count": null,
      "metadata": {
        "id": "fHffYVyLq0_v"
      },
      "outputs": [],
      "source": [
        "fig = plt.figure(figsize=(10,6))\n",
        "\n",
        "# Create the first subfigure\n",
        "sub1 = fig.add_subplot(2,2,1)\n",
        "sub1.set_xlabel('some random numbers')\n",
        "sub1.set_ylabel('more random numbers')\n",
        "sub1.set_title(\"Random scatterplot\")\n",
        "sub1.plot(np.random.randn(1000), np.random.randn(1000), 'r.')\n",
        "\n",
        "# Create the second subfigure\n",
        "sub2 = fig.add_subplot(2,2,2)\n",
        "sub2.hist(np.random.normal(size=500), bins=15)\n",
        "sub2.set_xlabel('sample')\n",
        "sub2.set_ylabel('cumulative sum')\n",
        "sub2.set_title(\"Normal distrubution\")\n",
        "\n",
        "# Create the third subfigure\n",
        "numpoints = 100\n",
        "x = np.linspace(0, 10, num=numpoints)\n",
        "sub3 = fig.add_subplot(2,2,3)\n",
        "sub3.plot(x, np.sin(x) + x + np.random.randn(numpoints), \"r\")\n",
        "sub3.plot(x, np.sin(x) + 0.5 * x + np.random.randn(numpoints), \"g\")\n",
        "sub3.plot(x, np.sin(x) + 2 * x + np.random.randn(numpoints), \"b\")\n",
        "sub3.set_xlabel('x from 0 to 10')\n",
        "sub3.set_ylabel('function value')\n",
        "\n",
        "# Create the fourth subfigure\n",
        "sub4 = fig.add_subplot(2,2,4)\n",
        "x = np.random.randn(10000)\n",
        "y = np.random.randn(10000)\n",
        "sub4.hist2d(x,y,bins=100);\n",
        "sub4.set_xlabel('x axis title')\n",
        "sub4.set_ylabel('y axis title')\n",
        "\n",
        "plt.tight_layout()\n",
        "plt.savefig(\"normalvars.png\", dpi=150)"
      ]
    },
    {
      "cell_type": "markdown",
      "metadata": {
        "id": "IN9qCFksq0_v"
      },
      "source": [
        "# A bit more on what can be done..."
      ]
    },
    {
      "cell_type": "code",
      "execution_count": null,
      "metadata": {
        "id": "qUjmhj_-q0_v"
      },
      "outputs": [],
      "source": [
        "# We can split multiple series into subplots with a single argument\n",
        "\n",
        "variables = pd.DataFrame({'normal': np.random.normal(size=100), \n",
        "                       'gamma': np.random.gamma(1, size=100), \n",
        "                       'poisson': np.random.poisson(size=100)})\n",
        "\n",
        "variables.cumsum(0).plot(subplots=True,figsize=(10,6))"
      ]
    },
    {
      "cell_type": "code",
      "execution_count": null,
      "metadata": {
        "id": "QVZK6TsUq0_v"
      },
      "outputs": [],
      "source": [
        "# Or, have some series displayed on secondary y-axis\n",
        "\n",
        "variables.cumsum(0).plot(secondary_y='normal')"
      ]
    },
    {
      "cell_type": "code",
      "execution_count": null,
      "metadata": {
        "id": "hDyjj3-Bq0_w"
      },
      "outputs": [],
      "source": [
        "fig, axes = plt.subplots(nrows=1, ncols=3, figsize=(12, 4))\n",
        "for i,var in enumerate(['normal','gamma','poisson']):\n",
        "    variables[var].cumsum(0).plot(ax=axes[i], title=var)\n",
        "axes[0].set_ylabel('cumulative sum (normal)')\n",
        "axes[1].set_ylabel('cumulative sum (gamma)')\n",
        "axes[2].set_ylabel('cumulative sum (poisson)')"
      ]
    },
    {
      "cell_type": "markdown",
      "metadata": {
        "id": "HkP9-jEbq0_w"
      },
      "source": [
        "# Let's check out a new data set"
      ]
    },
    {
      "cell_type": "code",
      "execution_count": null,
      "metadata": {
        "id": "Elxb_cavq0_w"
      },
      "outputs": [],
      "source": [
        "titanic = pd.read_csv('./titanic.csv')\n",
        "titanic.head()"
      ]
    },
    {
      "cell_type": "code",
      "execution_count": null,
      "metadata": {
        "id": "XDUKAaGSq0_w"
      },
      "outputs": [],
      "source": [
        "titanic.groupby('Pclass').Survived.sum() # How many survivors are there based on passenger class? "
      ]
    },
    {
      "cell_type": "code",
      "execution_count": null,
      "metadata": {
        "id": "vpBb4Bn_q0_w"
      },
      "outputs": [],
      "source": [
        "titanic.groupby('Pclass').Survived.sum().plot(kind='bar')"
      ]
    },
    {
      "cell_type": "code",
      "execution_count": null,
      "metadata": {
        "id": "yPcw4wPKq0_w"
      },
      "outputs": [],
      "source": [
        "titanic.groupby(['Sex','Pclass']).Survived.mean()"
      ]
    },
    {
      "cell_type": "code",
      "execution_count": null,
      "metadata": {
        "id": "HCRqe9v3q0_w"
      },
      "outputs": [],
      "source": [
        "titanic.groupby(['Sex','Pclass']).Survived.mean().plot(kind='barh')"
      ]
    },
    {
      "cell_type": "code",
      "execution_count": null,
      "metadata": {
        "id": "c69EX5XTq0_x"
      },
      "outputs": [],
      "source": [
        "death_counts = pd.crosstab([titanic.Pclass, titanic.Sex], titanic.Survived.astype(bool))\n",
        "death_counts"
      ]
    },
    {
      "cell_type": "code",
      "execution_count": null,
      "metadata": {
        "id": "3izJAzhLq0_x"
      },
      "outputs": [],
      "source": [
        "death_counts.plot(kind='bar', stacked=True, color=['red','blue'], grid=True)"
      ]
    },
    {
      "cell_type": "code",
      "execution_count": null,
      "metadata": {
        "id": "vqnkqJNOq0_x"
      },
      "outputs": [],
      "source": [
        "death_counts.div(death_counts.sum(1).astype(float), axis=0).plot(kind='barh', stacked=True, color=['red','blue'])"
      ]
    },
    {
      "cell_type": "markdown",
      "metadata": {
        "id": "jgAwyi6tKdL4"
      },
      "source": [
        "---"
      ]
    },
    {
      "cell_type": "markdown",
      "source": [
        "# ⭕ **QUESTIONS?**"
      ],
      "metadata": {
        "id": "z0TnwwPLKdL5"
      }
    },
    {
      "cell_type": "markdown",
      "metadata": {
        "id": "VR_dG4-KKdL5"
      },
      "source": [
        "---"
      ]
    },
    {
      "cell_type": "markdown",
      "metadata": {
        "id": "0srrhtanq0_x"
      },
      "source": [
        "# Histograms"
      ]
    },
    {
      "cell_type": "code",
      "execution_count": null,
      "metadata": {
        "id": "enPxuOf_q0_y"
      },
      "outputs": [],
      "source": [
        "# How were fares distributed aboard the titanic? \n",
        "\n",
        "titanic[\"Fare\"].hist()"
      ]
    },
    {
      "cell_type": "markdown",
      "metadata": {
        "id": "zpCN97X5q0_y"
      },
      "source": [
        "# Exercise 11: How do we divide our histogram into 30 bins? "
      ]
    },
    {
      "cell_type": "code",
      "execution_count": null,
      "metadata": {
        "id": "dpwxFxMKq0_y"
      },
      "outputs": [],
      "source": [
        "# your code here"
      ]
    },
    {
      "cell_type": "markdown",
      "metadata": {
        "id": "RDDBBIoHq0_y"
      },
      "source": [
        "# Solution 11: "
      ]
    },
    {
      "cell_type": "code",
      "execution_count": null,
      "metadata": {
        "id": "H335rwviq0_y"
      },
      "outputs": [],
      "source": [
        "titanic[\"Fare\"].hist(bins=30)"
      ]
    },
    {
      "cell_type": "markdown",
      "metadata": {
        "id": "QLFTtAj0KiR0"
      },
      "source": [
        "---"
      ]
    },
    {
      "cell_type": "markdown",
      "source": [
        "# ⭕ **QUESTIONS?**"
      ],
      "metadata": {
        "id": "4tNHp1t-KiR1"
      }
    },
    {
      "cell_type": "markdown",
      "metadata": {
        "id": "AOJ4W3bUKiR1"
      },
      "source": [
        "---"
      ]
    },
    {
      "cell_type": "markdown",
      "metadata": {
        "id": "UkR7kbgSq0_y"
      },
      "source": [
        "# Density Plots\n",
        "\n",
        "## Rather than purely represent the underlying data, this is an _estimate_ of the underlying true distribution."
      ]
    },
    {
      "cell_type": "code",
      "execution_count": null,
      "metadata": {
        "id": "lC1mGuX6q0_z"
      },
      "outputs": [],
      "source": [
        "titanic[\"Fare\"].plot(kind='kde', xlim=(0,100), ylim=(0,0.05))"
      ]
    },
    {
      "cell_type": "code",
      "execution_count": null,
      "metadata": {
        "id": "TmBjEuPUq0_z"
      },
      "outputs": [],
      "source": [
        "titanic[\"Fare\"].plot(kind='kde', xlim=(0,600)) # notice what happens when we change our xlim"
      ]
    },
    {
      "cell_type": "markdown",
      "metadata": {
        "id": "G_CYyzRjq0_z"
      },
      "source": [
        "# Boxplots\n",
        "\n",
        "## Think of a boxplot as viewing the data 'from above'. "
      ]
    },
    {
      "cell_type": "code",
      "execution_count": null,
      "metadata": {
        "id": "vufQJxXkq0_z"
      },
      "outputs": [],
      "source": [
        "bp = titanic.boxplot(column='Age', by='Pclass', grid=False, figsize=(8,8))\n",
        "for i in [1,2,3]:\n",
        "    y = titanic.Age[titanic.Pclass==i].dropna()\n",
        "    x = np.random.normal(i, 0.04, size=len(y)) # Add some random \"jitter\" to the x-axis\n",
        "\n",
        "    plt.plot(x, y, 'r.', alpha=0.2)"
      ]
    },
    {
      "cell_type": "markdown",
      "metadata": {
        "id": "xoG3XDpuq0_0"
      },
      "source": [
        "# Scatterplots"
      ]
    },
    {
      "cell_type": "code",
      "execution_count": null,
      "metadata": {
        "id": "NrzkjJf_q0_0"
      },
      "outputs": [],
      "source": [
        "fig = titanic.plot(kind=\"scatter\", x='Age', y='Siblings/Spouses Aboard')"
      ]
    },
    {
      "cell_type": "code",
      "execution_count": null,
      "metadata": {
        "id": "6kjM_hWMq0_0"
      },
      "outputs": [],
      "source": [
        "fig = titanic.plot(kind=\"scatter\", x='Age', y='Siblings/Spouses Aboard',xlim=[0,100], ylim=[0,10],figsize=(5,5))"
      ]
    },
    {
      "cell_type": "markdown",
      "metadata": {
        "id": "6CPgT1X1q0_0"
      },
      "source": [
        "# We can even go so far as to assign variables to either the size or symbols of their colors"
      ]
    },
    {
      "cell_type": "code",
      "execution_count": null,
      "metadata": {
        "id": "6UYvl1IPq0_0"
      },
      "outputs": [],
      "source": [
        "fig = titanic.plot(kind='scatter', x='Age', y='Siblings/Spouses Aboard', xlim=[0,100], ylim=[0,10], \n",
        "                    figsize=(5,5), c=titanic['Siblings/Spouses Aboard'], s=60, cmap='hot')"
      ]
    },
    {
      "cell_type": "markdown",
      "metadata": {
        "id": "HZ0S713fq0_1"
      },
      "source": [
        "# Hexagonal Bin Plot\n",
        "\n",
        "## This is perfect for when you have a larger number of points to display. It's also useful if your data are too dense to plot each point individually in a scatter plot."
      ]
    },
    {
      "cell_type": "code",
      "execution_count": null,
      "metadata": {
        "id": "natf2Fwfq0_1"
      },
      "outputs": [],
      "source": [
        "df = pd.DataFrame( np.random.randn(10000, 2), columns=['a', 'b'])\n",
        "df['b'] = df['b'] + np.arange(10000)"
      ]
    },
    {
      "cell_type": "code",
      "execution_count": null,
      "metadata": {
        "id": "t4p0Xx9xq0_1"
      },
      "outputs": [],
      "source": [
        "df.plot(kind='scatter', x='a', y='b', figsize=(6,4), alpha=0.1)"
      ]
    },
    {
      "cell_type": "code",
      "execution_count": null,
      "metadata": {
        "id": "rxupF3J-q0_1"
      },
      "outputs": [],
      "source": [
        "df.plot(kind='hexbin', x='a', y='b', gridsize=40,figsize=(8,4))"
      ]
    },
    {
      "cell_type": "markdown",
      "metadata": {
        "id": "9uIniqSwKpRA"
      },
      "source": [
        "---"
      ]
    },
    {
      "cell_type": "markdown",
      "source": [
        "# ⭕ **QUESTIONS?**"
      ],
      "metadata": {
        "id": "EvKF7jroKpRB"
      }
    },
    {
      "cell_type": "markdown",
      "metadata": {
        "id": "5PHaUqe1KpRB"
      },
      "source": [
        "---"
      ]
    }
  ],
  "metadata": {
    "kernelspec": {
      "display_name": "Python 3",
      "language": "python",
      "name": "python3"
    },
    "language_info": {
      "codemirror_mode": {
        "name": "ipython",
        "version": 3
      },
      "file_extension": ".py",
      "mimetype": "text/x-python",
      "name": "python",
      "nbconvert_exporter": "python",
      "pygments_lexer": "ipython3",
      "version": "3.7.3"
    },
    "colab": {
      "name": "Class7_Solved.ipynb",
      "provenance": []
    }
  },
  "nbformat": 4,
  "nbformat_minor": 0
}