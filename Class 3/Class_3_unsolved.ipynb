{
  "cells": [
    {
      "cell_type": "markdown",
      "metadata": {
        "id": "7itkAQrF3UO4"
      },
      "source": [
        "# Dealing with Data Spring 2020 – Class 3"
      ]
    },
    {
      "cell_type": "markdown",
      "metadata": {
        "id": "Epdb80_F3UPA"
      },
      "source": [
        "---"
      ]
    },
    {
      "cell_type": "markdown",
      "metadata": {
        "id": "5XkccC-M3UPB"
      },
      "source": [
        "# If, Elif, Else Exercise, Cont'd"
      ]
    },
    {
      "cell_type": "markdown",
      "metadata": {
        "id": "r-OoOOIg3UPB"
      },
      "source": [
        "1. You need to be 21 years old and above to drink alcohol. Write a conditional expression that checks the age, and prints out whether the person is allowed to drink alcohol, and, if not, how many years until they can drink alcohol. <br>\n",
        "<br>\n",
        "2. You need to be 16 years old and above to drive. If you are above 16, you also need to have a driving license. Write a conditional expression that checks the age and prints out: (a) whether the person is too young to drive, (b) whether the person satisfies the age criteria but needs a driving license, or (c) the person can drive. <br>\n",
        "<br>\n",
        "3. You need to be above 18 and a US Citizen to be able to vote. You also need to be registered. Write the conditional expression that checks for these conditions and prints out whether the person can vote. If the person cannot vote, the code should print out the reason (below 18, or not a US citizen, or not registered, or a combination thereof). <br>\n",
        "<br>\n",
        "4. You qualify for US citizen if any of the following holds: (a) Your parents are US Citizens and you are under 18, (b) You have been born in the US. Write the conditional expression that checks if a person is eligible to become a US citizen. If the person is not eligible, the code should print out the reason.\n"
      ]
    },
    {
      "cell_type": "markdown",
      "metadata": {
        "id": "2vQN1PMk3UPB"
      },
      "source": [
        "# Solution(s)"
      ]
    },
    {
      "cell_type": "code",
      "execution_count": null,
      "metadata": {
        "id": "o8M00Cwi3UPB"
      },
      "outputs": [],
      "source": [
        "# prompt 1"
      ]
    },
    {
      "cell_type": "code",
      "execution_count": null,
      "metadata": {
        "id": "Rm_iXwMp3UPC"
      },
      "outputs": [],
      "source": [
        "# prompt 2"
      ]
    },
    {
      "cell_type": "code",
      "execution_count": null,
      "metadata": {
        "id": "RTT-Pxy73UPC"
      },
      "outputs": [],
      "source": [
        "# prompt 3"
      ]
    },
    {
      "cell_type": "code",
      "execution_count": null,
      "metadata": {
        "id": "S7Blkuvm3UPD"
      },
      "outputs": [],
      "source": [
        "# prompt 4"
      ]
    },
    {
      "cell_type": "markdown",
      "metadata": {
        "id": "Uy06siIeGRZM"
      },
      "source": [
        "---"
      ]
    },
    {
      "cell_type": "markdown",
      "source": [
        "# ⭕ **QUESTIONS?**"
      ],
      "metadata": {
        "id": "4GZojYnLW3O4"
      }
    },
    {
      "cell_type": "markdown",
      "metadata": {
        "id": "Bv9DsLKxUy5i"
      },
      "source": [
        "---"
      ]
    },
    {
      "cell_type": "markdown",
      "metadata": {
        "id": "faWUYved3UPD"
      },
      "source": [
        "# String Formatting"
      ]
    },
    {
      "cell_type": "markdown",
      "metadata": {
        "id": "0wOBz-bX3UPE"
      },
      "source": [
        "Often you'll want to embed variable information into strings, sometimes with special formatting constraints. One way to do that is using `.format()`"
      ]
    },
    {
      "cell_type": "code",
      "execution_count": null,
      "metadata": {
        "id": "qxNOJK_93UPE"
      },
      "outputs": [],
      "source": [
        ""
      ]
    },
    {
      "cell_type": "markdown",
      "metadata": {
        "id": "wUXrgBS03UPE"
      },
      "source": [
        "Or, you can make the parameter values variables:"
      ]
    },
    {
      "cell_type": "code",
      "execution_count": null,
      "metadata": {
        "id": "japQ8hSy3UPF"
      },
      "outputs": [],
      "source": [
        ""
      ]
    },
    {
      "cell_type": "markdown",
      "metadata": {
        "id": "LPLRDq5D7zx0"
      },
      "source": [
        "---"
      ]
    },
    {
      "cell_type": "markdown",
      "source": [
        "# ⭕ **QUESTIONS?**"
      ],
      "metadata": {
        "id": "p6aln3G-7zx1"
      }
    },
    {
      "cell_type": "markdown",
      "metadata": {
        "id": "Ao8CfZEP7zx9"
      },
      "source": [
        "---"
      ]
    },
    {
      "cell_type": "markdown",
      "metadata": {
        "id": "Z2W6IFXM3UPF"
      },
      "source": [
        "# Formatting Decimal Numbers"
      ]
    },
    {
      "cell_type": "code",
      "execution_count": null,
      "metadata": {
        "id": "xfAbOmF33UPG"
      },
      "outputs": [],
      "source": [
        ""
      ]
    },
    {
      "cell_type": "markdown",
      "metadata": {
        "id": "Uspsmuex70bS"
      },
      "source": [
        "---"
      ]
    },
    {
      "cell_type": "markdown",
      "source": [
        "# ⭕ **QUESTIONS?**"
      ],
      "metadata": {
        "id": "FaqsTMBE70bT"
      }
    },
    {
      "cell_type": "markdown",
      "metadata": {
        "id": "Bl6w3K3s70bT"
      },
      "source": [
        "---"
      ]
    },
    {
      "cell_type": "markdown",
      "metadata": {
        "id": "G567jSR13UPG"
      },
      "source": [
        "# Extra Options: Comma-Separated Thousands, Zero Padding"
      ]
    },
    {
      "cell_type": "code",
      "execution_count": null,
      "metadata": {
        "id": "2v6UEN7v3UPH"
      },
      "outputs": [],
      "source": [
        ""
      ]
    },
    {
      "cell_type": "markdown",
      "metadata": {
        "id": "x_Yy6fzX70-p"
      },
      "source": [
        "---"
      ]
    },
    {
      "cell_type": "markdown",
      "source": [
        "# ⭕ **QUESTIONS?**"
      ],
      "metadata": {
        "id": "75vXPt_I70-q"
      }
    },
    {
      "cell_type": "markdown",
      "metadata": {
        "id": "wJ_UOGdg70-q"
      },
      "source": [
        "---"
      ]
    },
    {
      "cell_type": "markdown",
      "metadata": {
        "id": "SODZpx4j3UPH"
      },
      "source": [
        "# Percentages "
      ]
    },
    {
      "cell_type": "code",
      "execution_count": null,
      "metadata": {
        "id": "Cnwk9dRd3UPH"
      },
      "outputs": [],
      "source": [
        ""
      ]
    },
    {
      "cell_type": "markdown",
      "metadata": {
        "id": "Rzn0uL1O72DM"
      },
      "source": [
        "---"
      ]
    },
    {
      "cell_type": "markdown",
      "source": [
        "# ⭕ **QUESTIONS?**"
      ],
      "metadata": {
        "id": "LFQsAPMw72DM"
      }
    },
    {
      "cell_type": "markdown",
      "metadata": {
        "id": "dgaPzkj872DN"
      },
      "source": [
        "---"
      ]
    },
    {
      "cell_type": "markdown",
      "metadata": {
        "id": "O1-1eIQs3UPI"
      },
      "source": [
        "# Complex Data Structures: Lists and Tuples\n",
        "\n",
        "\n",
        "We have covered in detail much of the basics of Python’s primitive data types: numeric types, strings, and booleans. \n",
        "We are now going to examine how these basic types can be composed together, in more complex structures. \n",
        "\n",
        "Let's begin with lists."
      ]
    },
    {
      "cell_type": "markdown",
      "metadata": {
        "heading_collapsed": true,
        "id": "Y6UsrbhN3UPI"
      },
      "source": [
        "# List Basics:"
      ]
    },
    {
      "cell_type": "markdown",
      "metadata": {
        "hidden": true,
        "id": "Ncu8mfAG3UPI"
      },
      "source": [
        "A list, sometimes called an array, or a vector, is an ordered collection of values. \n",
        "\n",
        "In Python, lists are specified by square brackets, `[ ]`, containing zero or more values, separated by commas. \n",
        "\n",
        "For example:"
      ]
    },
    {
      "cell_type": "code",
      "execution_count": null,
      "metadata": {
        "hidden": true,
        "id": "WKDo25DS3UPJ"
      },
      "outputs": [],
      "source": [
        ""
      ]
    },
    {
      "cell_type": "markdown",
      "metadata": {
        "hidden": true,
        "id": "G9ubCIk83UPJ"
      },
      "source": [
        "Lists are a very  common data structure, and are often generated as a result of other functions, for instance, the `split(\" \")` command for a string, will split a string on space, and then return a list of the smaller substrings."
      ]
    },
    {
      "cell_type": "code",
      "execution_count": null,
      "metadata": {
        "hidden": true,
        "id": "Q8osfvBT3UPJ"
      },
      "outputs": [],
      "source": [
        ""
      ]
    },
    {
      "cell_type": "markdown",
      "metadata": {
        "heading_collapsed": true,
        "hidden": true,
        "id": "3-Jm6_Xf3UPJ"
      },
      "source": [
        "# Accessing Parts of a List: Indexing and Slicing, Revisited\n"
      ]
    },
    {
      "cell_type": "markdown",
      "metadata": {
        "hidden": true,
        "id": "RbOAO8aS3UPJ"
      },
      "source": [
        "\n",
        "We can retrieve the value of a particular element of a list by writing in square brackets the location of the element. In Python, like most programming languages, list indices start at 0, that is, to get the first element in a list, request the element at index 0."
      ]
    },
    {
      "cell_type": "code",
      "execution_count": null,
      "metadata": {
        "hidden": true,
        "id": "Zb7VWSp13UPJ"
      },
      "outputs": [],
      "source": [
        ""
      ]
    },
    {
      "cell_type": "markdown",
      "metadata": {
        "hidden": true,
        "id": "MmrrgfLl3UPK"
      },
      "source": [
        "Negative indices can be used to traverse the list from the right."
      ]
    },
    {
      "cell_type": "code",
      "execution_count": null,
      "metadata": {
        "hidden": true,
        "id": "P27MGF8P3UPK"
      },
      "outputs": [],
      "source": [
        ""
      ]
    },
    {
      "cell_type": "markdown",
      "metadata": {
        "hidden": true,
        "id": "PwAQWxCe3UPK"
      },
      "source": [
        "If you remember the case with strings and accessing the individual characters, the concept is exactly the same. In fact, strings are treated in Python as lists of characters.\n",
        "\n",
        "This also means that the slicing operator works for accessing parts of the list as well:"
      ]
    },
    {
      "cell_type": "code",
      "execution_count": null,
      "metadata": {
        "hidden": true,
        "id": "4D-jqFDX3UPK"
      },
      "outputs": [],
      "source": [
        ""
      ]
    },
    {
      "cell_type": "markdown",
      "metadata": {
        "id": "0IEf2VEG8Drh"
      },
      "source": [
        "---"
      ]
    },
    {
      "cell_type": "markdown",
      "source": [
        "# ⭕ **QUESTIONS?**"
      ],
      "metadata": {
        "id": "oPKx4FtM8Dri"
      }
    },
    {
      "cell_type": "markdown",
      "metadata": {
        "id": "VODk2wsJ8Drp"
      },
      "source": [
        "---"
      ]
    },
    {
      "cell_type": "markdown",
      "metadata": {
        "heading_collapsed": true,
        "hidden": true,
        "id": "LZPD4mQq3UPK"
      },
      "source": [
        "# Exercise 2"
      ]
    },
    {
      "cell_type": "markdown",
      "metadata": {
        "hidden": true,
        "id": "Jbp5FHA53UPK"
      },
      "source": [
        "You are given a list of names as one big, multiline string. Each line contains one name."
      ]
    },
    {
      "cell_type": "code",
      "execution_count": null,
      "metadata": {
        "hidden": true,
        "id": "BOXPnRw23UPL"
      },
      "outputs": [],
      "source": [
        "names_string = '''Jacob Adams \n",
        "Emily Brown\n",
        "Michael Campbell\n",
        "Madison Davis\n",
        "Andrew Edwards\n",
        "Olivia Flores\n",
        "David Garcia\n",
        "Sophia Ingram\n",
        "Nathan Jones\n",
        "Natalie King'''"
      ]
    },
    {
      "cell_type": "markdown",
      "metadata": {
        "hidden": true,
        "id": "z7Oby5CV3UPL"
      },
      "source": [
        "* Use the `split` command, appropriately configured, to separate `names` into a list of names. \n",
        "* Extract the 3rd name from the list\n",
        "* Extract the second from the last name, using negative indexing\n",
        "* Retrieve the 6th to 8th names from the list (inclusive, we want a list of 3 names, 6th, 7th, and 8th)\n",
        "* Retrieve the last 3 names."
      ]
    },
    {
      "cell_type": "code",
      "execution_count": null,
      "metadata": {
        "code_folding": [],
        "hidden": true,
        "id": "dEWs2h6V3UPL"
      },
      "outputs": [],
      "source": [
        "# Your code here"
      ]
    },
    {
      "cell_type": "markdown",
      "metadata": {
        "heading_collapsed": true,
        "hidden": true,
        "solution2": "shown",
        "solution2_first": true,
        "id": "U2bRfd5A3UPL"
      },
      "source": [
        "# Solution"
      ]
    },
    {
      "cell_type": "code",
      "execution_count": null,
      "metadata": {
        "hidden": true,
        "solution2": "shown",
        "id": "4KEZHYka3UPL"
      },
      "outputs": [],
      "source": [
        ""
      ]
    },
    {
      "cell_type": "markdown",
      "metadata": {
        "id": "ojy0qZoR3UPM"
      },
      "source": [
        "---"
      ]
    },
    {
      "cell_type": "markdown",
      "metadata": {
        "heading_collapsed": true,
        "id": "noLLAZTK3UPM"
      },
      "source": [
        "# Functions that Apply to Lists\n"
      ]
    },
    {
      "cell_type": "markdown",
      "metadata": {
        "heading_collapsed": true,
        "hidden": true,
        "id": "p2ncSx6X3UPM"
      },
      "source": [
        "### Common Functions"
      ]
    },
    {
      "cell_type": "markdown",
      "metadata": {
        "hidden": true,
        "id": "nIuHT17Z3UPM"
      },
      "source": [
        "* `len`: The function `len(list)` returns the number of elements in a list.\n",
        "* `sorted`: The function `sorted(list)` Returns the list sorted\n",
        "* `max`: Returns the maximum element of a list\n",
        "* `min`: Returns the minimum element of a list\n",
        "* `sum`: The function `sum(list)` sums up all the (numeric) elements of a list\n"
      ]
    },
    {
      "cell_type": "code",
      "execution_count": null,
      "metadata": {
        "hidden": true,
        "id": "zAuQpafD3UPN"
      },
      "outputs": [],
      "source": [
        ""
      ]
    },
    {
      "cell_type": "markdown",
      "metadata": {
        "id": "KJnamg8N3UPN"
      },
      "source": [
        "---"
      ]
    },
    {
      "cell_type": "markdown",
      "metadata": {
        "heading_collapsed": true,
        "hidden": true,
        "id": "0gKgn4_Z3UPN"
      },
      "source": [
        "# Exercise 3"
      ]
    },
    {
      "cell_type": "markdown",
      "metadata": {
        "hidden": true,
        "id": "AS5xer-j3UPN"
      },
      "source": [
        "\n",
        "* Write code that computes the average value of a list of numbers, with formatting to two digits after the decmial.\n",
        "* Write code that computes the median value of a list of numbers (for simplicity, assume the list contains an odd number of items)"
      ]
    },
    {
      "cell_type": "code",
      "execution_count": null,
      "metadata": {
        "hidden": true,
        "id": "jXoP17Jk3UPN"
      },
      "outputs": [],
      "source": [
        ""
      ]
    },
    {
      "cell_type": "markdown",
      "metadata": {
        "heading_collapsed": true,
        "hidden": true,
        "solution2": "hidden",
        "solution2_first": true,
        "id": "QlPdUHYx3UPO"
      },
      "source": [
        "# Solution"
      ]
    },
    {
      "cell_type": "code",
      "execution_count": null,
      "metadata": {
        "hidden": true,
        "solution2": "hidden",
        "id": "QZwgPOuL3UPO"
      },
      "outputs": [],
      "source": [
        ""
      ]
    },
    {
      "cell_type": "markdown",
      "metadata": {
        "id": "hu8v_koi8wIO"
      },
      "source": [
        "---"
      ]
    },
    {
      "cell_type": "markdown",
      "source": [
        "# ⭕ **QUESTIONS?**"
      ],
      "metadata": {
        "id": "4uZ1bMZU8wIO"
      }
    },
    {
      "cell_type": "markdown",
      "metadata": {
        "id": "sA0XvHrl8wIW"
      },
      "source": [
        "---"
      ]
    },
    {
      "cell_type": "markdown",
      "metadata": {
        "heading_collapsed": true,
        "id": "CZpU4EqC3UPO"
      },
      "source": [
        "# Adding / Removing Elements To / From a List\n",
        "\n"
      ]
    },
    {
      "cell_type": "markdown",
      "metadata": {
        "heading_collapsed": true,
        "hidden": true,
        "id": "Yp0asyw33UPO"
      },
      "source": [
        "### Appending items at the end of a list"
      ]
    },
    {
      "cell_type": "markdown",
      "metadata": {
        "hidden": true,
        "id": "Qgok_BLI3UPO"
      },
      "source": [
        "+ `list.append(x)`: add an element ot the end of a list\n",
        "+ `list_1.extend(list_2)`: add all elements in the second list to the end of the first list. Alternatively, it is possible to use the `+` and concatenate two lists."
      ]
    },
    {
      "cell_type": "code",
      "execution_count": null,
      "metadata": {
        "hidden": true,
        "id": "nCn2PVZs3UPO"
      },
      "outputs": [],
      "source": [
        ""
      ]
    },
    {
      "cell_type": "markdown",
      "metadata": {
        "id": "AKaxnEj6-Sr5"
      },
      "source": [
        "---"
      ]
    },
    {
      "cell_type": "markdown",
      "source": [
        "# ⭕ **QUESTIONS?**"
      ],
      "metadata": {
        "id": "gyJOntNz-Sr6"
      }
    },
    {
      "cell_type": "markdown",
      "metadata": {
        "id": "HAEuinAy-SsA"
      },
      "source": [
        "---"
      ]
    },
    {
      "cell_type": "markdown",
      "metadata": {
        "heading_collapsed": true,
        "hidden": true,
        "id": "ifMGHEMj3UPP"
      },
      "source": [
        "# Exercise 4"
      ]
    },
    {
      "cell_type": "markdown",
      "metadata": {
        "hidden": true,
        "id": "YgPx_4gL3UPP"
      },
      "source": [
        "\n",
        "* Find out how many names we have in the list of names `names_list` that is the list that we created earlier, from the `names_string` multiline string.\n",
        "* Add the name `\"Mia Lopez\"` in the list of names\n",
        "* Add the list of names `[\"John Miller\", \"Jane Nelson\"]` in the list of names, using the `extend` command\n"
      ]
    },
    {
      "cell_type": "code",
      "execution_count": null,
      "metadata": {
        "hidden": true,
        "id": "_-s19bFK3UPP"
      },
      "outputs": [],
      "source": [
        ""
      ]
    },
    {
      "cell_type": "markdown",
      "metadata": {
        "heading_collapsed": true,
        "hidden": true,
        "solution2": "hidden",
        "solution2_first": true,
        "id": "0E_l4pcK3UPQ"
      },
      "source": [
        "# Solution"
      ]
    },
    {
      "cell_type": "code",
      "execution_count": null,
      "metadata": {
        "hidden": true,
        "solution2": "hidden",
        "id": "7IvQwesl3UPQ"
      },
      "outputs": [],
      "source": [
        ""
      ]
    },
    {
      "cell_type": "markdown",
      "metadata": {
        "id": "ls2H3_Ya3UPQ"
      },
      "source": [
        "---"
      ]
    },
    {
      "cell_type": "markdown",
      "metadata": {
        "heading_collapsed": true,
        "hidden": true,
        "id": "oAJmMNLr3UPQ"
      },
      "source": [
        "# Inserting and Removing Items in the List \n"
      ]
    },
    {
      "cell_type": "markdown",
      "metadata": {
        "hidden": true,
        "id": "C9cwjFZ63UPQ"
      },
      "source": [
        "\n",
        "* `list.insert(index, x)`: insert element x into the list at the specified index. Elements to the right of this index are shifted over\n",
        "* `list.pop(index)`: remove the element at the specified position\n"
      ]
    },
    {
      "cell_type": "code",
      "execution_count": null,
      "metadata": {
        "hidden": true,
        "id": "1wZKi_-q3UPQ"
      },
      "outputs": [],
      "source": [
        "names_list = [\n",
        "    \n",
        "    'Jacob Adams', 'Emily Brown', 'Michael Campbell', 'Madison Davis',\n",
        "    'Andrew Edwards', 'Olivia Flores', 'David Garcia', 'Sophia Ingram',\n",
        "    'Nathan Jones', 'Natalie King'\n",
        "    \n",
        "]"
      ]
    },
    {
      "cell_type": "code",
      "execution_count": null,
      "metadata": {
        "hidden": true,
        "id": "B725v8-r3UPR"
      },
      "outputs": [],
      "source": [
        ""
      ]
    },
    {
      "cell_type": "markdown",
      "metadata": {
        "id": "hkRwrAK9-4Kw"
      },
      "source": [
        "---"
      ]
    },
    {
      "cell_type": "markdown",
      "source": [
        "# ⭕ **QUESTIONS?**"
      ],
      "metadata": {
        "id": "ywbTc4xl-4Kw"
      }
    },
    {
      "cell_type": "markdown",
      "metadata": {
        "id": "-wExPfH3-4K3"
      },
      "source": [
        "---"
      ]
    },
    {
      "cell_type": "markdown",
      "metadata": {
        "heading_collapsed": true,
        "id": "IlqpDkWy3UPR"
      },
      "source": [
        "# Finding Items in Lists"
      ]
    },
    {
      "cell_type": "markdown",
      "metadata": {
        "heading_collapsed": true,
        "hidden": true,
        "id": "Y4ohzJxb3UPR"
      },
      "source": [
        "### Common functions"
      ]
    },
    {
      "cell_type": "markdown",
      "metadata": {
        "hidden": true,
        "id": "5ZQ800mT3UPR"
      },
      "source": [
        "* `x in list`: checks if `x` appears in the list \n",
        "* `list.index(x)`: looks through the list to find the specified element, returning it's position if it's found, else throws an error\n",
        "* `list.count(x)`: counts the number of occurrences of the input element"
      ]
    },
    {
      "cell_type": "code",
      "execution_count": null,
      "metadata": {
        "hidden": true,
        "id": "jtAf9G5l3UPS"
      },
      "outputs": [],
      "source": [
        ""
      ]
    },
    {
      "cell_type": "markdown",
      "metadata": {
        "id": "gTVivHFC3UPS"
      },
      "source": [
        "---"
      ]
    },
    {
      "cell_type": "markdown",
      "metadata": {
        "heading_collapsed": true,
        "hidden": true,
        "id": "6o-JGzEm3UPS"
      },
      "source": [
        "# Exercise 5\n"
      ]
    },
    {
      "cell_type": "markdown",
      "metadata": {
        "hidden": true,
        "id": "es_DMVeJ3UPS"
      },
      "source": [
        "\n",
        "* Find the name \"Josh\" in the list. In what position does the name appear?\n",
        "* Try to find a name that does not exist in the list. What do you get?\n",
        "\n",
        "Now let's practice the `if-else` command:\n",
        "\n",
        "* Define a variable `search` with the name that you want to search for.\n",
        "* Check if the name appears in the list\n",
        "    * If yes, then return the index number for its first apperance, and the number of times that you see the name in the list\n",
        "    * If not, print that the name does not appear in the list"
      ]
    },
    {
      "cell_type": "code",
      "execution_count": null,
      "metadata": {
        "hidden": true,
        "id": "7KwHzxs03UPT"
      },
      "outputs": [],
      "source": [
        "names = [\"Panos\", \"John\", \"Chris\", \"Josh\", \"Mary\", \"Anna\", \"John\"]"
      ]
    },
    {
      "cell_type": "code",
      "execution_count": null,
      "metadata": {
        "hidden": true,
        "id": "crJkHENw3UPT"
      },
      "outputs": [],
      "source": [
        ""
      ]
    },
    {
      "cell_type": "markdown",
      "metadata": {
        "heading_collapsed": true,
        "hidden": true,
        "solution2": "hidden",
        "solution2_first": true,
        "id": "us-6AmHI3UPT"
      },
      "source": [
        "# Solution"
      ]
    },
    {
      "cell_type": "code",
      "execution_count": null,
      "metadata": {
        "code_folding": [],
        "hidden": true,
        "solution2": "hidden",
        "id": "KluaNjJo3UPT"
      },
      "outputs": [],
      "source": [
        ""
      ]
    },
    {
      "cell_type": "markdown",
      "metadata": {
        "id": "JKX1X79g3UPT"
      },
      "source": [
        "---"
      ]
    },
    {
      "cell_type": "markdown",
      "metadata": {
        "heading_collapsed": true,
        "hidden": true,
        "id": "7ZwPG6YA3UPT"
      },
      "source": [
        "# Exercise 6\n",
        "\n"
      ]
    },
    {
      "cell_type": "markdown",
      "metadata": {
        "hidden": true,
        "id": "j4yYsEKV3UPT"
      },
      "source": [
        "Let's apply some of the things that we learned so far in the article below."
      ]
    },
    {
      "cell_type": "code",
      "execution_count": null,
      "metadata": {
        "hidden": true,
        "id": "bWPSO8ru3UPT"
      },
      "outputs": [],
      "source": [
        "washington_post = \"\"\"Russian officials vehemently defended the country s airstrikes in Syria on Thursday as blows to Islamic State militants even as evidence mounted suggesting that U S backed rebels and others were facing the brunt of Moscow s attacks \n",
        "And while Russian officials and diplomats rallied behind President Vladimir Putin the Kremlin s stance appeared further clouded by acknowledgments that the missions have already extended beyond solely the Islamic State \n",
        "In Paris the Russian ambassador to France Alexander Orlov said the Russian attacks also targeted an al Qaeda linked group Jabhat al Nusra or al Nusra Front \n",
        "Syrias ambassador to Russia Riad Haddad echoed that the joint hit list for Russia and the Syrian government included Jabhat al Nusra which is believed to have some coordination with the Islamic State but is still seen mostly as a rival \n",
        "We are confronting armed terrorist groups in Syria regardless of how they identify themselves whether it is Jabhat al Nusra the ISIL or others he said using one of the acronyms for the Islamic State \n",
        "They all are pursuing ISIL ends he added according to the Interfax news agency \n",
        "The ambassadors did not specifically mention any U S and Western backed rebel groups \n",
        "But the comment was certain to deepen suspicions by Washington and allies that Putin s short term aim is to give more breathing space to Syria s embattled President Bashar al Assad whose government is strongly supported by Moscow \n",
        "Syrian activists meanwhile ramped up their own claims that Moscow was hitting groups seeking to bring down Assad who has managed to hang on during more than four years of civil war \n",
        "Russia s expanding military intervention in Syria added urgency to separate efforts by Russia and U S officials to coordinate strategies against the Islamic State and avoid potential airspace missteps between the two powers so called deconfliction talks The Pentagon said the discussions will begin Thursday \n",
        "One monitoring group the Britain based Syrian Observatory for Human Rights said Russian airstrikes again struck strongholds of an American backed rebel group Tajamu Alezzah in central Hama province \n",
        "The actions quickly criticized by Washington add an unpredictable element to a multilayered war \n",
        "The observatory also reported that airstrikes hit the northwestern city Jisr al Shughour which is in the hands of rebel groups including al Nusra after battles last month to drive back Assad s forces \n",
        "Among the locations hit was a site near Kafr Nabl the northern Syrian town whose weekly protests against the government often featuring pithy slogans in English won it renown as a symbol of what began as a peaceful protest movement against the Assad regime The local council receives U S assistance and the rebel unit there has received support under a covert CIA program aimed at bolstering moderate rebels \n",
        "Raed Fares one of the leaders of the protest movement in Kafr Nabl said warplanes struck a Free Syrian Army checkpoint guarding Roman ruins on the outskirts of the town He said the explosion was bigger than anything local residents had seen in three years of airstrikes conducted by Syrian warplanes \n",
        "It made a fire six kilometers wide he told The Washington Post \n",
        "Other sites hit on the second day of Russian bombing included locations in the province of Hama The targets suggested the main intention of the strikes was to shore up government control over a corridor of territory linking the capital Damascus to the Assad family s coastal heartland where the Russians are operating out of an expanded air base \n",
        "Syrian rebels some of them U S backed had been making slow but steady gains in the area considered one of the government s biggest vulnerabilities There has been no Islamic State presence there since January when moderate rebels rose up against the extremists and forced them to retreat to eastern Syria \n",
        "In Washington Sen John McCain R Ariz told CNN he could absolutely confirm that airstrikes hit Western backed groups such as the Free Syrian Army and other factions armed and trained by the CIA \n",
        "We have communications with people there said McCain chairman of the Senate Armed Services Committee \n",
        "The accounts could not be independently assessed but the main focus of the Russian attacks appeared to be in areas not known to have strong Islamic State footholds \n",
        "In Moscow the reply was blunt \n",
        "Total rubbish Gennady Zyuganov a member of parliament and leader of Russia s Communist Party said of the U S accusations \n",
        "In televised remarks Thursday Putin called accusations that Russian airstrikes had killed civilians in Syria information attacks \n",
        "He also addressed concerns about an accidental military clash between Russian and U S led coalition forces saying that his intelligence and military agencies were establishing contacts with counterparts in the United States \n",
        "This work is ongoing and I hope that it will conclude with the creation of a regularly acting mechanism he said \n",
        "A spokesman for Russia s Defense Ministry Igor Konashenkov said Thursday that warplanes hit a dozen Islamic State sites in the past hours destroying targets including a command center and two arms depots \n",
        "The United States and Russia agree on the need to fight the Islamic State but not about what to do with the Syrian president The Syrian civil war which grew out of an uprising against Assad has killed more than people since March and sent millions of refugees fleeing to countries in the Middle East and Europe \n",
        "Accusing Russia of pouring gasoline on the fire Defense Secretary Ashton B Carter vowed that U S pilots would continue their year long bombing campaign against the Islamic State in Syria despite Moscow s warning that American planes should stay away from its operations \n",
        "I think what they re doing is going to backfire and is counterproductive Carter said on Wednesday \n",
        "Yet Russia s military flexing in Syria brought quick overtures from neighboring Iraq where the Islamic State also holds significant territory but the government is within Washington s fold \n",
        "Iraq s prime minister Haider al Abadi told France that he would welcome Russia joining the U S led airstrikes against Islamic State targets but there have been no specific discussions \n",
        "Joining the protests against the Russian airstrikes was Saudi Arabia a leading foe of Assad and one of Washington s top Middle East allies \n",
        "At the United Nations late Wednesday the Saudi ambassador Abdallah al Mouallimi demanded that the Russian air campaign stop immediately and accused Moscow of carrying out attacks in areas outside the control of the Islamic State \n",
        "In Iran Assad s main regional backer Foreign Ministry spokeswoman Marzieh Afkham called Russia s military role a step toward resolving the current crisis in Syria \"\"\""
      ]
    },
    {
      "cell_type": "markdown",
      "metadata": {
        "hidden": true,
        "id": "c7e9a2n53UPV"
      },
      "source": [
        "* What is the length of the document above in characters? In words? In paragraphs (we have one paragraph per line)? <br> <br>\n",
        "* What is the average length of a paragraph in words? <br> <br>\n",
        "* What is the average length of a word in characters? (Remember that the document contains spaces and newlines, that should not count as parts of a word)"
      ]
    },
    {
      "cell_type": "code",
      "execution_count": null,
      "metadata": {
        "hidden": true,
        "id": "RC_6MMm33UPW"
      },
      "outputs": [],
      "source": [
        ""
      ]
    },
    {
      "cell_type": "markdown",
      "metadata": {
        "heading_collapsed": true,
        "hidden": true,
        "solution2": "hidden",
        "solution2_first": true,
        "id": "zwJV0GVK3UPW"
      },
      "source": [
        "# Solution"
      ]
    },
    {
      "cell_type": "code",
      "execution_count": null,
      "metadata": {
        "hidden": true,
        "solution2": "hidden",
        "id": "zEwgMAmK3UPX"
      },
      "outputs": [],
      "source": [
        ""
      ]
    },
    {
      "cell_type": "markdown",
      "metadata": {
        "id": "eZIGl2173UPX"
      },
      "source": [
        "---"
      ]
    },
    {
      "cell_type": "markdown",
      "metadata": {
        "heading_collapsed": true,
        "id": "d3wfdTA83UPX"
      },
      "source": [
        "# Tuples\n",
        "\n"
      ]
    },
    {
      "cell_type": "markdown",
      "metadata": {
        "hidden": true,
        "id": "v2Tls3St3UPX"
      },
      "source": [
        "A tuple is similar to a list and consists of a number of values separated by commas. For instance:"
      ]
    },
    {
      "cell_type": "code",
      "execution_count": null,
      "metadata": {
        "hidden": true,
        "id": "DGLNxCFp3UPY"
      },
      "outputs": [],
      "source": [
        ""
      ]
    },
    {
      "cell_type": "markdown",
      "metadata": {
        "hidden": true,
        "id": "fgnI8pxm3UPY"
      },
      "source": [
        "The usual slicing and indexing operators still apply:"
      ]
    },
    {
      "cell_type": "code",
      "execution_count": null,
      "metadata": {
        "hidden": true,
        "id": "nd3zh81Q3UPY"
      },
      "outputs": [],
      "source": [
        ""
      ]
    },
    {
      "cell_type": "markdown",
      "metadata": {
        "hidden": true,
        "id": "PQy046gi3UPY"
      },
      "source": [
        "And similarly, we can use the `count` and `index` functions. "
      ]
    },
    {
      "cell_type": "code",
      "execution_count": null,
      "metadata": {
        "hidden": true,
        "id": "McET7DDk3UPY"
      },
      "outputs": [],
      "source": [
        ""
      ]
    },
    {
      "cell_type": "markdown",
      "metadata": {
        "hidden": true,
        "id": "ul3Xx9Co3UPY"
      },
      "source": [
        "However, a tuple but is *immutable*. This means that we cannot modify its contents. So the other operators that modify a list do not apply to a tuple."
      ]
    },
    {
      "cell_type": "markdown",
      "metadata": {
        "id": "0gHB_JlQ_uaD"
      },
      "source": [
        "---"
      ]
    },
    {
      "cell_type": "markdown",
      "source": [
        "# ⭕ **QUESTIONS?**"
      ],
      "metadata": {
        "id": "DJ-sDYBl_uaD"
      }
    },
    {
      "cell_type": "markdown",
      "metadata": {
        "id": "gUFRhcmp_uaL"
      },
      "source": [
        "---"
      ]
    },
    {
      "cell_type": "markdown",
      "metadata": {
        "id": "XN3jEV0l3UPY"
      },
      "source": [
        "# Complex Data Structures: Sets\n"
      ]
    },
    {
      "cell_type": "markdown",
      "metadata": {
        "id": "6kq1FMZd3UPZ"
      },
      "source": [
        "A set is a data structure where all elements are unique. While they are similar to lists, in sets there is **no order** among the items in a set, and sets do **not** support indexing. Sets are ideal for membership queries, i.e., checking if an items appears in the set or not."
      ]
    },
    {
      "cell_type": "markdown",
      "metadata": {
        "heading_collapsed": true,
        "id": "t_0zuu3D3UPZ"
      },
      "source": [
        "## Creating Sets"
      ]
    },
    {
      "cell_type": "markdown",
      "metadata": {
        "hidden": true,
        "id": "FdX1vZmx3UPZ"
      },
      "source": [
        "\n",
        "Sets are specified by curly braces, `{ }`, containing one or more comma separated values. To specify an empty list, you can use the alternative construct, `set()`."
      ]
    },
    {
      "cell_type": "code",
      "execution_count": null,
      "metadata": {
        "hidden": true,
        "id": "t1boOrjY3UPZ"
      },
      "outputs": [],
      "source": [
        ""
      ]
    },
    {
      "cell_type": "markdown",
      "metadata": {
        "hidden": true,
        "id": "QO7xCqJx3UPa"
      },
      "source": [
        "We can also create a set from a list:"
      ]
    },
    {
      "cell_type": "code",
      "execution_count": null,
      "metadata": {
        "hidden": true,
        "id": "1uqR3LHk3UPa"
      },
      "outputs": [],
      "source": [
        ""
      ]
    },
    {
      "cell_type": "markdown",
      "metadata": {
        "hidden": true,
        "id": "LW10dEwt3UPa"
      },
      "source": [
        "As expected, the set created from a list does not contain any duplicate elements."
      ]
    },
    {
      "cell_type": "code",
      "execution_count": null,
      "metadata": {
        "hidden": true,
        "id": "PSm7iAQS3UPa"
      },
      "outputs": [],
      "source": [
        ""
      ]
    },
    {
      "cell_type": "markdown",
      "metadata": {
        "hidden": true,
        "id": "UsYByBF63UPa"
      },
      "source": [
        "As seen above, we can use `len()` to get the number of elements in a list. Similarly, we can use the other functions `min()`, `max()`, `sum()`, `sorted()` etc., that we also used for lists."
      ]
    },
    {
      "cell_type": "markdown",
      "metadata": {
        "id": "2Wy07eg7_7Xx"
      },
      "source": [
        "---"
      ]
    },
    {
      "cell_type": "markdown",
      "source": [
        "# ⭕ **QUESTIONS?**"
      ],
      "metadata": {
        "id": "leNKDMAD_7Xx"
      }
    },
    {
      "cell_type": "markdown",
      "metadata": {
        "id": "NafllcvF_7X5"
      },
      "source": [
        "---"
      ]
    },
    {
      "cell_type": "markdown",
      "metadata": {
        "heading_collapsed": true,
        "hidden": true,
        "id": "yhKRA7QV3UPa"
      },
      "source": [
        "# Exercise 7"
      ]
    },
    {
      "cell_type": "markdown",
      "metadata": {
        "hidden": true,
        "id": "avWRIksG3UPa"
      },
      "source": [
        "What is the number of _distinct_ words in the `washington_post` variable?"
      ]
    },
    {
      "cell_type": "code",
      "execution_count": null,
      "metadata": {
        "hidden": true,
        "id": "FwRQcC093UPa"
      },
      "outputs": [],
      "source": [
        "washington_post = \"\"\"Russian officials vehemently defended the country s airstrikes in Syria on Thursday as blows to Islamic State militants even as evidence mounted suggesting that U S backed rebels and others were facing the brunt of Moscow s attacks \n",
        "And while Russian officials and diplomats rallied behind President Vladimir Putin the Kremlin s stance appeared further clouded by acknowledgments that the missions have already extended beyond solely the Islamic State \n",
        "In Paris the Russian ambassador to France Alexander Orlov said the Russian attacks also targeted an al Qaeda linked group Jabhat al Nusra or al Nusra Front \n",
        "Syrias ambassador to Russia Riad Haddad echoed that the joint hit list for Russia and the Syrian government included Jabhat al Nusra which is believed to have some coordination with the Islamic State but is still seen mostly as a rival \n",
        "We are confronting armed terrorist groups in Syria regardless of how they identify themselves whether it is Jabhat al Nusra the ISIL or others he said using one of the acronyms for the Islamic State \n",
        "They all are pursuing ISIL ends he added according to the Interfax news agency \n",
        "The ambassadors did not specifically mention any U S and Western backed rebel groups \n",
        "But the comment was certain to deepen suspicions by Washington and allies that Putin s short term aim is to give more breathing space to Syria s embattled President Bashar al Assad whose government is strongly supported by Moscow \n",
        "Syrian activists meanwhile ramped up their own claims that Moscow was hitting groups seeking to bring down Assad who has managed to hang on during more than four years of civil war \n",
        "Russia s expanding military intervention in Syria added urgency to separate efforts by Russia and U S officials to coordinate strategies against the Islamic State and avoid potential airspace missteps between the two powers so called deconfliction talks The Pentagon said the discussions will begin Thursday \n",
        "One monitoring group the Britain based Syrian Observatory for Human Rights said Russian airstrikes again struck strongholds of an American backed rebel group Tajamu Alezzah in central Hama province \n",
        "The actions quickly criticized by Washington add an unpredictable element to a multilayered war \n",
        "The observatory also reported that airstrikes hit the northwestern city Jisr al Shughour which is in the hands of rebel groups including al Nusra after battles last month to drive back Assad s forces \n",
        "Among the locations hit was a site near Kafr Nabl the northern Syrian town whose weekly protests against the government often featuring pithy slogans in English won it renown as a symbol of what began as a peaceful protest movement against the Assad regime The local council receives U S assistance and the rebel unit there has received support under a covert CIA program aimed at bolstering moderate rebels \n",
        "Raed Fares one of the leaders of the protest movement in Kafr Nabl said warplanes struck a Free Syrian Army checkpoint guarding Roman ruins on the outskirts of the town He said the explosion was bigger than anything local residents had seen in three years of airstrikes conducted by Syrian warplanes \n",
        "It made a fire six kilometers wide he told The Washington Post \n",
        "Other sites hit on the second day of Russian bombing included locations in the province of Hama The targets suggested the main intention of the strikes was to shore up government control over a corridor of territory linking the capital Damascus to the Assad family s coastal heartland where the Russians are operating out of an expanded air base \n",
        "Syrian rebels some of them U S backed had been making slow but steady gains in the area considered one of the government s biggest vulnerabilities There has been no Islamic State presence there since January when moderate rebels rose up against the extremists and forced them to retreat to eastern Syria \n",
        "In Washington Sen John McCain R Ariz told CNN he could absolutely confirm that airstrikes hit Western backed groups such as the Free Syrian Army and other factions armed and trained by the CIA \n",
        "We have communications with people there said McCain chairman of the Senate Armed Services Committee \n",
        "The accounts could not be independently assessed but the main focus of the Russian attacks appeared to be in areas not known to have strong Islamic State footholds \n",
        "In Moscow the reply was blunt \n",
        "Total rubbish Gennady Zyuganov a member of parliament and leader of Russia s Communist Party said of the U S accusations \n",
        "In televised remarks Thursday Putin called accusations that Russian airstrikes had killed civilians in Syria information attacks \n",
        "He also addressed concerns about an accidental military clash between Russian and U S led coalition forces saying that his intelligence and military agencies were establishing contacts with counterparts in the United States \n",
        "This work is ongoing and I hope that it will conclude with the creation of a regularly acting mechanism he said \n",
        "A spokesman for Russia s Defense Ministry Igor Konashenkov said Thursday that warplanes hit a dozen Islamic State sites in the past hours destroying targets including a command center and two arms depots \n",
        "The United States and Russia agree on the need to fight the Islamic State but not about what to do with the Syrian president The Syrian civil war which grew out of an uprising against Assad has killed more than people since March and sent millions of refugees fleeing to countries in the Middle East and Europe \n",
        "Accusing Russia of pouring gasoline on the fire Defense Secretary Ashton B Carter vowed that U S pilots would continue their year long bombing campaign against the Islamic State in Syria despite Moscow s warning that American planes should stay away from its operations \n",
        "I think what they re doing is going to backfire and is counterproductive Carter said on Wednesday \n",
        "Yet Russia s military flexing in Syria brought quick overtures from neighboring Iraq where the Islamic State also holds significant territory but the government is within Washington s fold \n",
        "Iraq s prime minister Haider al Abadi told France that he would welcome Russia joining the U S led airstrikes against Islamic State targets but there have been no specific discussions \n",
        "Joining the protests against the Russian airstrikes was Saudi Arabia a leading foe of Assad and one of Washington s top Middle East allies \n",
        "At the United Nations late Wednesday the Saudi ambassador Abdallah al Mouallimi demanded that the Russian air campaign stop immediately and accused Moscow of carrying out attacks in areas outside the control of the Islamic State \n",
        "In Iran Assad s main regional backer Foreign Ministry spokeswoman Marzieh Afkham called Russia s military role a step toward resolving the current crisis in Syria \"\"\""
      ]
    },
    {
      "cell_type": "code",
      "execution_count": null,
      "metadata": {
        "hidden": true,
        "id": "H_ST2wXE3UPb"
      },
      "outputs": [],
      "source": [
        ""
      ]
    },
    {
      "cell_type": "markdown",
      "metadata": {
        "heading_collapsed": true,
        "hidden": true,
        "solution2": "hidden",
        "solution2_first": true,
        "id": "T2zHpzOh3UPb"
      },
      "source": [
        "# Solution"
      ]
    },
    {
      "cell_type": "code",
      "execution_count": null,
      "metadata": {
        "hidden": true,
        "solution2": "hidden",
        "id": "371XBxA93UPc"
      },
      "outputs": [],
      "source": [
        ""
      ]
    },
    {
      "cell_type": "markdown",
      "metadata": {
        "id": "ufio1ZhTBp3k"
      },
      "source": [
        "---"
      ]
    },
    {
      "cell_type": "markdown",
      "source": [
        "# ⭕ **QUESTIONS?**"
      ],
      "metadata": {
        "id": "VnMUrpy9Bp3k"
      }
    },
    {
      "cell_type": "markdown",
      "metadata": {
        "id": "4pcDt_UoBp3s"
      },
      "source": [
        "---"
      ]
    },
    {
      "cell_type": "markdown",
      "metadata": {
        "heading_collapsed": true,
        "id": "vishP9Cb3UPc"
      },
      "source": [
        "# Checking for Membership in a Set"
      ]
    },
    {
      "cell_type": "markdown",
      "metadata": {
        "hidden": true,
        "id": "EWtPmQC43UPc"
      },
      "source": [
        "For sets, we can only check if an item appears within the set or not. We achieve this using the `in` operator:"
      ]
    },
    {
      "cell_type": "code",
      "execution_count": null,
      "metadata": {
        "hidden": true,
        "id": "h7bTNX1L3UPc"
      },
      "outputs": [],
      "source": [
        ""
      ]
    },
    {
      "cell_type": "markdown",
      "metadata": {
        "hidden": true,
        "id": "xd9JPe6-3UPd"
      },
      "source": [
        "We also have the `not in` operator, which behaves as expected:"
      ]
    },
    {
      "cell_type": "code",
      "execution_count": null,
      "metadata": {
        "hidden": true,
        "id": "Yx47mZ3m3UPd"
      },
      "outputs": [],
      "source": [
        ""
      ]
    },
    {
      "cell_type": "markdown",
      "metadata": {
        "heading_collapsed": true,
        "id": "Saukjd4d3UPd"
      },
      "source": [
        "# Set Operators: Add, Remove Elements"
      ]
    },
    {
      "cell_type": "markdown",
      "metadata": {
        "hidden": true,
        "id": "VaL1wg1s3UPd"
      },
      "source": [
        "To add and remove elements in a set, we use, respectively the `add` and `remove` commands:\n",
        "\n",
        "+ `set_a.add(x)`: add an element to a set\n",
        "+ `set_a.remove(x)`: remove an element from a set"
      ]
    },
    {
      "cell_type": "code",
      "execution_count": null,
      "metadata": {
        "hidden": true,
        "id": "_YXQxaXq3UPd"
      },
      "outputs": [],
      "source": [
        ""
      ]
    },
    {
      "cell_type": "markdown",
      "metadata": {
        "heading_collapsed": true,
        "id": "uHzHF-Cb3UPd"
      },
      "source": [
        "## Set Operators: Union, Intersection, Difference, Subset. Plus, Jaccard Similarity"
      ]
    },
    {
      "cell_type": "markdown",
      "metadata": {
        "hidden": true,
        "id": "HQ35AYUn3UPd"
      },
      "source": [
        "Sets also support operations that allow us to quickly compute the difference, intersection, and union of two sets. For example:\n",
        "\n",
        "+ `set_a - set_b`: elements in a but not in b. Equivalent to `set_a.difference(set_b)`\n",
        "+ `set_a | set_b`: elements in a or b. Equivalent to `set_a.union(set_b)`\n",
        "+ `set_a & set_b`: elements in both a and b. Equivalent to `set_a.intersection(set_b)`\n",
        "+ `set_a ^ set_b`: elements in a or b but not both. Equivalent to `set_a.symmetric_difference(set_b)` \n",
        "+ `set_a <= set_b`:\ttests whether every element in set_a is in set_b. Equivalent to `set_a.issubset(set_b)`"
      ]
    },
    {
      "cell_type": "markdown",
      "metadata": {
        "id": "9WXrxwlZ3UPe"
      },
      "source": [
        "---"
      ]
    },
    {
      "cell_type": "markdown",
      "metadata": {
        "heading_collapsed": true,
        "hidden": true,
        "id": "9oelgDUR3UPe"
      },
      "source": [
        "# Exercise 8"
      ]
    },
    {
      "cell_type": "markdown",
      "metadata": {
        "hidden": true,
        "id": "iwcVD52b3UPe"
      },
      "source": [
        "\n",
        "Try the above yourself using the `set_A` and `set_B` variables, and compute the difference, union, intersection, and symmetric difference, between the two sets."
      ]
    },
    {
      "cell_type": "code",
      "execution_count": null,
      "metadata": {
        "hidden": true,
        "id": "nFEPl2zt3UPe"
      },
      "outputs": [],
      "source": [
        "# your code here\n",
        "\n",
        "set_A = {1, 2, 3, 4, 5}\n",
        "set_B = {4, 5, 6, 7}\n",
        "\n",
        "print(\"Set A\", set_A)\n",
        "print(\"Set B\", set_B)\n",
        "print(\"Difference A-B\", {} )\n",
        "print(\"Union\", {})\n",
        "print(\"Intersection\", {})\n",
        "print(\"Symmetric Difference\", {})"
      ]
    },
    {
      "cell_type": "markdown",
      "metadata": {
        "heading_collapsed": true,
        "hidden": true,
        "solution2": "hidden",
        "solution2_first": true,
        "id": "2-1HN8RD3UPe"
      },
      "source": [
        "# Solution"
      ]
    },
    {
      "cell_type": "code",
      "execution_count": null,
      "metadata": {
        "hidden": true,
        "solution2": "hidden",
        "id": "OrKUdoMy3UPf"
      },
      "outputs": [],
      "source": [
        ""
      ]
    },
    {
      "cell_type": "markdown",
      "metadata": {
        "id": "1ti6ahji3UPf"
      },
      "source": [
        "---"
      ]
    },
    {
      "cell_type": "markdown",
      "metadata": {
        "heading_collapsed": true,
        "hidden": true,
        "id": "aY3dNlcl3UPf"
      },
      "source": [
        "# Exercise 9"
      ]
    },
    {
      "cell_type": "markdown",
      "metadata": {
        "hidden": true,
        "id": "YWDlWx7D3UPf"
      },
      "source": [
        "Now, lets try to use the [Jaccard index similarity](https://en.wikipedia.org/wiki/Jaccard_index) to compute the similarity of the two sets. The Jaccard coefficient is defined as the ratio of the size of the intersection of the two sets, divided by the size of the union of the two sets."
      ]
    },
    {
      "cell_type": "code",
      "execution_count": null,
      "metadata": {
        "hidden": true,
        "id": "UFGE1-CV3UPf"
      },
      "outputs": [],
      "source": [
        ""
      ]
    },
    {
      "cell_type": "markdown",
      "metadata": {
        "heading_collapsed": true,
        "hidden": true,
        "solution2": "hidden",
        "solution2_first": true,
        "id": "NM-hri2b3UPf"
      },
      "source": [
        "# Solution"
      ]
    },
    {
      "cell_type": "code",
      "execution_count": null,
      "metadata": {
        "hidden": true,
        "solution2": "hidden",
        "id": "kTu3c9Bt3UPg"
      },
      "outputs": [],
      "source": [
        ""
      ]
    },
    {
      "cell_type": "markdown",
      "metadata": {
        "id": "neOaT1BGCMek"
      },
      "source": [
        "---"
      ]
    },
    {
      "cell_type": "markdown",
      "source": [
        "# ⭕ **QUESTIONS?**"
      ],
      "metadata": {
        "id": "-3kjCT9XCMel"
      }
    },
    {
      "cell_type": "markdown",
      "metadata": {
        "id": "-mydjy1sCMel"
      },
      "source": [
        "---"
      ]
    },
    {
      "cell_type": "markdown",
      "metadata": {
        "heading_collapsed": true,
        "hidden": true,
        "id": "CABe6XjR3UPg"
      },
      "source": [
        "# Exercise 10"
      ]
    },
    {
      "cell_type": "markdown",
      "metadata": {
        "hidden": true,
        "id": "T9gPmF1c3UPg"
      },
      "source": [
        "Below we have two news articles discussing a security breach at Yahoo. We want to compute the similarity of these articles using the Jaccard similarity. (For the sake of simplicity, we have removed all punctuation from the text.)"
      ]
    },
    {
      "cell_type": "code",
      "execution_count": null,
      "metadata": {
        "hidden": true,
        "id": "jcQS19ub3UPg"
      },
      "outputs": [],
      "source": [
        "wsj = \"\"\"\n",
        "Yahoo Inc  disclosed a massive security breach by a  state sponsored actor  affecting at least 500 million users  potentially the largest such data breach on record and the latest hurdle for the beaten down internet company as it works through the sale of its core business \n",
        "Yahoo said certain user account information including names  email addresses  telephone numbers  dates of birth  hashed passwords and  in some cases  encrypted or unencrypted security questions and answers was stolen from the company s network in late 2014 by what it believes is a state sponsored actor \n",
        "Yahoo said it is notifying potentially affected users and has taken steps to secure their accounts by invalidating unencrypted security questions and answers so they can t be used to access an account and asking potentially affected users to change their passwords \n",
        "Yahoo recommended users who haven t changed their passwords since 2014 do so  It also encouraged users change their passwords as well as security questions and answers for any other accounts on which they use the same or similar information used for their Yahoo account \n",
        "The company  which is working with law enforcement  said the continuing investigation indicates that stolen information didn t include unprotected passwords  payment card data or bank account information \n",
        "With 500 million user accounts affected  this is the largest ever publicly disclosed data breach  according to Paul Stephens  director of policy and advocacy with Privacy Rights Clearing House  a not for profit group that compiles information on data breaches \n",
        "No evidence has been found to suggest the state sponsored actor is currently in Yahoo s network  and Yahoo didn t name the country it suspected was involved  In August  a hacker called  Peace  appeared in online forums  offering to sell 200 million of the company s usernames and passwords for about  1 900 in total  Peace had previously sold data taken from breaches at Myspace and LinkedIn Corp \n",
        "\"\"\"\n",
        "\n",
        "ust = \"\"\"\n",
        "SAN FRANCISCO   Information from at least 500 million Yahoo accounts was stolen from the company in 2014  and the  company said Thursday it believes that a state sponsored actor was behind the hack \n",
        "The information may have included names  email addresses  telephone numbers  dates of birth  and  in some cases  encrypted or unencrypted security questions and answers  Yahoo said \n",
        "Claims surfaced in early August that a hacker using the name  Peace  was trying to sell the usernames  passwords and dates of birth of Yahoo account users on the dark web   a black market of thousands of secret websites \n",
        "The FBI said it was aware of the matter  The compromise of public and private sector systems is something the agency takes very seriously and it said it will continue to investigate and hold accountable all who pose a threat in cyberspace  the agency said in an emailed statement \n",
        "Yahoo recommends that users who haven t changed their passwords since 2014 do so  The company said it was notifying potentially affected users and taking steps to secure their accounts  That included invalidating unencrypted security questions and answers and asking users to change their passwords \n",
        "The announcement comes as Yahoo looks to complete its  4 8  billion sale of its core Internet business to media giant Verizon Communications  which said it was notified of the Yahoo breach  within the last two days  \n",
        " We understand that Yahoo is conducting an active investigation of this matter  but we otherwise have limited information and understanding of the impact   Verizon said \n",
        "Given the unsettled nature of Yahoo s ownership just now   regulators should be concerned with who will take responsibility for the response to this compromise  It can be easy for the  right thing to do  to slip through the cracks in a multi billion dollar transition   said Tim Erlin  senior director of IT security and risk strategy at Tripwire  a computer security firm \n",
        "Yahoo Chief Executive Officer Marissa Mayer has pledged to stay on with the company through the close of the merger  which is being overseen by Verizon s Marni Walden and AOL CEO Tim Armstrong  Yahoo shares  YHOO  were flat Thursday  Verizon  VZ  shares were up 1  at  52 39 \n",
        "\"\"\""
      ]
    },
    {
      "cell_type": "code",
      "execution_count": null,
      "metadata": {
        "hidden": true,
        "id": "PqmApLZg3UPg"
      },
      "outputs": [],
      "source": [
        ""
      ]
    },
    {
      "cell_type": "markdown",
      "metadata": {
        "heading_collapsed": true,
        "hidden": true,
        "solution2": "hidden",
        "solution2_first": true,
        "id": "prlJgMr23UPh"
      },
      "source": [
        "# Solution"
      ]
    },
    {
      "cell_type": "code",
      "execution_count": null,
      "metadata": {
        "hidden": true,
        "solution2": "hidden",
        "id": "wNRcDhX83UPh"
      },
      "outputs": [],
      "source": [
        ""
      ]
    },
    {
      "cell_type": "markdown",
      "metadata": {
        "id": "Oz73D2URCZc9"
      },
      "source": [
        "---"
      ]
    },
    {
      "cell_type": "markdown",
      "source": [
        "# ⭕ **QUESTIONS?**"
      ],
      "metadata": {
        "id": "rffTecGdCZc9"
      }
    },
    {
      "cell_type": "markdown",
      "metadata": {
        "id": "U7UCdiYJCZc-"
      },
      "source": [
        "---"
      ]
    },
    {
      "cell_type": "markdown",
      "metadata": {
        "id": "JvfpeB3m3UPi"
      },
      "source": [
        "# Dictionaries"
      ]
    },
    {
      "cell_type": "markdown",
      "metadata": {
        "id": "70bYpmzp3UPi"
      },
      "source": [
        "Dictionaries are data structures containing key-value pairs. \n",
        "\n",
        "Dictionaries have a set of unique keys and are used to retrieve the value information associated with these keys. \n",
        "\n",
        "For instance, a dictionary might be used to store:\n",
        "* for each user (the key), that user's location (the value), or \n",
        "* for each product id (the key), the description associated with that product (the value). \n",
        "\n",
        "Dictionaries are very common and are frequently used and encountered in practice. "
      ]
    },
    {
      "cell_type": "markdown",
      "metadata": {
        "heading_collapsed": true,
        "id": "JJrztlIJ3UPi"
      },
      "source": [
        "## Creating Dictionaries"
      ]
    },
    {
      "cell_type": "markdown",
      "metadata": {
        "hidden": true,
        "id": "-UqqGynR3UPi"
      },
      "source": [
        "Dictionaries are specified by curly braces, `{ }`, containing zero or more comma-separated key-value pairs. In each key-value pair the keys and values are separated by a colon, `:`."
      ]
    },
    {
      "cell_type": "code",
      "execution_count": null,
      "metadata": {
        "hidden": true,
        "id": "f8zWtaRq3UPi"
      },
      "outputs": [],
      "source": [
        ""
      ]
    },
    {
      "cell_type": "markdown",
      "metadata": {
        "hidden": true,
        "id": "1MFXjjhw3UPi"
      },
      "source": [
        "Here is a more realistic dictionary. It contains three keys, \"Panos\", \"Maria\", and \"John\". Each of these keys has a value associated with it, which in the case below corresponds to a phone number."
      ]
    },
    {
      "cell_type": "code",
      "execution_count": null,
      "metadata": {
        "hidden": true,
        "id": "X6yF4hXx3UPi"
      },
      "outputs": [],
      "source": [
        ""
      ]
    },
    {
      "cell_type": "markdown",
      "metadata": {
        "hidden": true,
        "id": "U6Jt3ymQ3UPi"
      },
      "source": [
        "And here is another dictionary, with three keys, \"ip\", \"logitude\", and \"latitude\", which capture an IP address and its geolocation."
      ]
    },
    {
      "cell_type": "code",
      "execution_count": null,
      "metadata": {
        "hidden": true,
        "id": "ylo2XXaH3UPi"
      },
      "outputs": [],
      "source": [
        ""
      ]
    },
    {
      "cell_type": "markdown",
      "metadata": {
        "heading_collapsed": true,
        "id": "fBp9X1d43UPj"
      },
      "source": [
        "## Accessing Dictionary Elements"
      ]
    },
    {
      "cell_type": "markdown",
      "metadata": {
        "hidden": true,
        "id": "-6JdL1993UPj"
      },
      "source": [
        "To access elements in the dictionary we use the key in brackets, or the `get()` command, as follows:"
      ]
    },
    {
      "cell_type": "code",
      "execution_count": null,
      "metadata": {
        "hidden": true,
        "id": "So9uqSyi3UPj"
      },
      "outputs": [],
      "source": [
        ""
      ]
    },
    {
      "cell_type": "markdown",
      "metadata": {
        "id": "mM_rDGMoCs_m"
      },
      "source": [
        "---"
      ]
    },
    {
      "cell_type": "markdown",
      "source": [
        "# ⭕ **QUESTIONS?**"
      ],
      "metadata": {
        "id": "HHYhifK4Cs_m"
      }
    },
    {
      "cell_type": "markdown",
      "metadata": {
        "id": "FHozLxEuCs_u"
      },
      "source": [
        "---"
      ]
    },
    {
      "cell_type": "markdown",
      "metadata": {
        "hidden": true,
        "id": "0wh2aE6B3UPj"
      },
      "source": [
        "# Adding New Entries, Updating Existing Ones, Deleting Entries\n",
        "\n",
        "We can add an entry in the dictionary by assigning a value to a particular key. If the key already exists, the value assigned to that key gets updatd."
      ]
    },
    {
      "cell_type": "code",
      "execution_count": null,
      "metadata": {
        "hidden": true,
        "id": "O40Pcjkp3UPj"
      },
      "outputs": [],
      "source": [
        ""
      ]
    },
    {
      "cell_type": "markdown",
      "metadata": {
        "hidden": true,
        "id": "tuwjyuKV3UPj"
      },
      "source": [
        "If we want to remove a key `x` from the dictionary, the command `dict.pop(x)` removes the key `x` and its associated value from the dictionary"
      ]
    },
    {
      "cell_type": "code",
      "execution_count": null,
      "metadata": {
        "hidden": true,
        "id": "iAs6_hqB3UPj"
      },
      "outputs": [],
      "source": [
        ""
      ]
    },
    {
      "cell_type": "markdown",
      "metadata": {
        "id": "bMgWAT4aCyH7"
      },
      "source": [
        "---"
      ]
    },
    {
      "cell_type": "markdown",
      "source": [
        "# ⭕ **QUESTIONS?**"
      ],
      "metadata": {
        "id": "Q2eqENTGCyH8"
      }
    },
    {
      "cell_type": "markdown",
      "metadata": {
        "id": "NJv2y8WGCyH8"
      },
      "source": [
        "---"
      ]
    },
    {
      "cell_type": "markdown",
      "metadata": {
        "heading_collapsed": true,
        "id": "w6qb-Ufq3UPk"
      },
      "source": [
        "# Checking if a Key Appears in a Dictionary"
      ]
    },
    {
      "cell_type": "markdown",
      "metadata": {
        "hidden": true,
        "id": "nObCvdZh3UPk"
      },
      "source": [
        "Like the set, the easiest way to check if a particular **key** is in a dictionary is through the `in` keyword:"
      ]
    },
    {
      "cell_type": "code",
      "execution_count": null,
      "metadata": {
        "hidden": true,
        "id": "JoG8rnjH3UPk"
      },
      "outputs": [],
      "source": [
        ""
      ]
    },
    {
      "cell_type": "markdown",
      "metadata": {
        "hidden": true,
        "id": "4G4xgQhT3UPk"
      },
      "source": [
        "Notice that the `in` will not work if we try to find a value in the dictionary."
      ]
    },
    {
      "cell_type": "code",
      "execution_count": null,
      "metadata": {
        "hidden": true,
        "id": "4UsEXFi53UPk"
      },
      "outputs": [],
      "source": [
        ""
      ]
    },
    {
      "cell_type": "markdown",
      "metadata": {
        "heading_collapsed": true,
        "id": "UDUmY7c53UPk"
      },
      "source": [
        "# Accessing Keys and Values"
      ]
    },
    {
      "cell_type": "markdown",
      "metadata": {
        "hidden": true,
        "id": "xyu6qfL23UPk"
      },
      "source": [
        "Some common operations on dictionaries:\n",
        "\n",
        "+ `dict.keys()`: returns a list containing the keys of a dictionary\n",
        "+ `dict.values()`: returns a list containing the values in a dictionary"
      ]
    },
    {
      "cell_type": "code",
      "execution_count": null,
      "metadata": {
        "hidden": true,
        "id": "3b5K24f13UPk"
      },
      "outputs": [],
      "source": [
        ""
      ]
    },
    {
      "cell_type": "markdown",
      "metadata": {
        "id": "ulBX3ui8C69-"
      },
      "source": [
        "---"
      ]
    },
    {
      "cell_type": "markdown",
      "source": [
        "# ⭕ **QUESTIONS?**"
      ],
      "metadata": {
        "id": "xG6dlqSbC69-"
      }
    },
    {
      "cell_type": "markdown",
      "metadata": {
        "id": "Whe5WeqkC69_"
      },
      "source": [
        "---"
      ]
    },
    {
      "cell_type": "markdown",
      "metadata": {
        "heading_collapsed": true,
        "id": "zL84_Zk73UPl"
      },
      "source": [
        "# Exercise 11"
      ]
    },
    {
      "cell_type": "markdown",
      "metadata": {
        "hidden": true,
        "id": "soGPqL8D3UPl"
      },
      "source": [
        "* Find the common keys in `a_dict` and `b_dict`\n",
        "* Find the common values in `a_dict` and `b_dict` \n"
      ]
    },
    {
      "cell_type": "code",
      "execution_count": null,
      "metadata": {
        "hidden": true,
        "id": "ihI6TXGn3UPl"
      },
      "outputs": [],
      "source": [
        ""
      ]
    },
    {
      "cell_type": "markdown",
      "metadata": {
        "hidden": true,
        "solution2": "hidden",
        "solution2_first": true,
        "id": "_HvGeDt63UPl"
      },
      "source": [
        "# Solution"
      ]
    },
    {
      "cell_type": "code",
      "execution_count": null,
      "metadata": {
        "hidden": true,
        "solution2": "hidden",
        "id": "ooTkgSz-3UPl"
      },
      "outputs": [],
      "source": [
        ""
      ]
    },
    {
      "cell_type": "markdown",
      "metadata": {
        "id": "CngulFuZ3UPm"
      },
      "source": [
        "---"
      ]
    },
    {
      "cell_type": "markdown",
      "metadata": {
        "id": "VisSm6fn3UPm"
      },
      "source": [
        "# Combining (Nesting) Data Structures:"
      ]
    },
    {
      "cell_type": "markdown",
      "metadata": {
        "id": "07dMlxFj3UPm"
      },
      "source": [
        "So far, we have examined complex data structures (lists, sets, dictionaries) that contain \"scalar\" values (integers, strings, boolean, etc). \n",
        "\n",
        "In reality, we can store any type of value in these data structures.\n",
        "\n",
        "Consider the case of the following dictionary:\n"
      ]
    },
    {
      "cell_type": "code",
      "execution_count": null,
      "metadata": {
        "id": "hoLopaLv3UPm"
      },
      "outputs": [],
      "source": [
        ""
      ]
    },
    {
      "cell_type": "markdown",
      "metadata": {
        "id": "ZWT86THt3UPm"
      },
      "source": [
        "Let's say that we want to have more than one phone assigned to Panos. It is not possible to simply assign the value to a new number, as this will just replace the current phone. For example:"
      ]
    },
    {
      "cell_type": "code",
      "execution_count": null,
      "metadata": {
        "id": "cqe78J133UPm"
      },
      "outputs": [],
      "source": [
        ""
      ]
    },
    {
      "cell_type": "markdown",
      "metadata": {
        "id": "kcIB7PP_3UPm"
      },
      "source": [
        "You see that the phone number associated with `Panos` has the new phone (917-888-4455), and the old one (212-998-0803) has disappeared. So, how can we store multiple elements for the key `Panos`? Nested structures is the solution."
      ]
    },
    {
      "cell_type": "markdown",
      "metadata": {
        "id": "N_RiXBVl3UPm"
      },
      "source": [
        "# Creating Nested Data Structures"
      ]
    },
    {
      "cell_type": "markdown",
      "metadata": {
        "id": "y-TPrMCQ3UPm"
      },
      "source": [
        "What we can do instead is to have **a list** as value for the \"Panos\" key. So, for example, we can rewrite the dictionary as:"
      ]
    },
    {
      "cell_type": "code",
      "execution_count": null,
      "metadata": {
        "id": "pn0p5bMA3UPm"
      },
      "outputs": [],
      "source": [
        ""
      ]
    },
    {
      "cell_type": "markdown",
      "metadata": {
        "id": "BD7UwuJH3UPn"
      },
      "source": [
        "And if we check the value for Panos, you will see that we get back a list:"
      ]
    },
    {
      "cell_type": "code",
      "execution_count": null,
      "metadata": {
        "id": "yWZ3cuES3UPn"
      },
      "outputs": [],
      "source": [
        ""
      ]
    },
    {
      "cell_type": "markdown",
      "metadata": {
        "id": "pVdppMVz3UPn"
      },
      "source": [
        "And then we can add and remove phones for each person:"
      ]
    },
    {
      "cell_type": "code",
      "execution_count": null,
      "metadata": {
        "id": "krROA0AC3UPn"
      },
      "outputs": [],
      "source": [
        ""
      ]
    },
    {
      "cell_type": "markdown",
      "metadata": {
        "id": "kNoCDqCo3UPn"
      },
      "source": [
        "Alternatively, instead of having a list, we can use a *dictionary* as a value for each key. For example, we can use key values \"Work\", \"Cell\", \"Home\", etc for each phone, and have something like:"
      ]
    },
    {
      "cell_type": "code",
      "execution_count": null,
      "metadata": {
        "id": "DnMYKyOk3UPn"
      },
      "outputs": [],
      "source": [
        ""
      ]
    },
    {
      "cell_type": "markdown",
      "metadata": {
        "id": "-UbNsYwBDSvZ"
      },
      "source": [
        "---"
      ]
    },
    {
      "cell_type": "markdown",
      "source": [
        "# ⭕ **QUESTIONS?**"
      ],
      "metadata": {
        "id": "YKqycVu-DSvZ"
      }
    },
    {
      "cell_type": "markdown",
      "metadata": {
        "id": "1ctFL7RvDSvh"
      },
      "source": [
        "---"
      ]
    },
    {
      "cell_type": "markdown",
      "metadata": {
        "id": "kx5QeKA03UPn"
      },
      "source": [
        "# Accessing Data within Nested Structures\n",
        "\n"
      ]
    },
    {
      "cell_type": "markdown",
      "metadata": {
        "id": "4KBXPSu83UPn"
      },
      "source": [
        "To access the elements within complex structures, we combine bracket and indexing operators:"
      ]
    },
    {
      "cell_type": "code",
      "execution_count": null,
      "metadata": {
        "id": "6S5xmWYe3UPn"
      },
      "outputs": [],
      "source": [
        ""
      ]
    },
    {
      "cell_type": "markdown",
      "metadata": {
        "id": "j2rviIXb3UPn"
      },
      "source": [
        "So, to access the phones for \"Panos\" we write "
      ]
    },
    {
      "cell_type": "code",
      "execution_count": null,
      "metadata": {
        "id": "PecBXa_n3UPo"
      },
      "outputs": [],
      "source": [
        ""
      ]
    },
    {
      "cell_type": "markdown",
      "metadata": {
        "id": "cFk-L7hp3UPo"
      },
      "source": [
        "or"
      ]
    },
    {
      "cell_type": "code",
      "execution_count": null,
      "metadata": {
        "id": "We6lfW233UPo"
      },
      "outputs": [],
      "source": [
        ""
      ]
    },
    {
      "cell_type": "markdown",
      "metadata": {
        "id": "y9VCCLYk3UPo"
      },
      "source": [
        "Now, if we want to access the second phone on the returned list, we write:"
      ]
    },
    {
      "cell_type": "code",
      "execution_count": null,
      "metadata": {
        "id": "MBaHvjDt3UPo"
      },
      "outputs": [],
      "source": [
        ""
      ]
    },
    {
      "cell_type": "markdown",
      "metadata": {
        "id": "RT9y53c33UPo"
      },
      "source": [
        "Similarly, when we have a dictionary that contains dictionaries:"
      ]
    },
    {
      "cell_type": "code",
      "execution_count": null,
      "metadata": {
        "id": "YQSvid_d3UPo"
      },
      "outputs": [],
      "source": [
        ""
      ]
    },
    {
      "cell_type": "markdown",
      "metadata": {
        "id": "BPOzPTVu3UPo"
      },
      "source": [
        "---"
      ]
    },
    {
      "cell_type": "markdown",
      "metadata": {
        "id": "F4xckloa3UPo"
      },
      "source": [
        "# Exercise 12"
      ]
    },
    {
      "cell_type": "code",
      "execution_count": null,
      "metadata": {
        "id": "NJFdVA1m3UPp"
      },
      "outputs": [],
      "source": [
        "citibike_stations = [\n",
        "    {'station_id': 72,  'capacity': 39, 'coords': {'lon': -73.9939, 'lat': 40.7673}, 'name': 'W 52 St & 11 Ave',   },\n",
        "    {'station_id': 79,  'capacity': 33, 'coords': {'lon': -74.0067, 'lat': 40.7191}, 'name': 'Franklin St & W Broadway'},\n",
        "    {'station_id': 82,  'capacity': 27, 'coords': {'lon': -74.0002, 'lat': 40.7673}, 'name': 'St James Pl & Pearl St'},\n",
        "    {'station_id': 83,  'capacity': 62, 'coords': {'lon': -73.9763, 'lat': 40.6838}, 'name': 'Atlantic Ave & Fort Greene Pl'},\n",
        "    {'station_id': 116, 'capacity': 39, 'coords': {'lon': -74.0015, 'lat': 40.7418}, 'name': 'W 17 St & 8 Ave'}\n",
        "]"
      ]
    },
    {
      "cell_type": "markdown",
      "metadata": {
        "id": "vTA9f8WD3UPp"
      },
      "source": [
        "To access the name of the first station:"
      ]
    },
    {
      "cell_type": "code",
      "execution_count": null,
      "metadata": {
        "id": "y823tf383UPp"
      },
      "outputs": [],
      "source": [
        ""
      ]
    },
    {
      "cell_type": "markdown",
      "metadata": {
        "id": "Ez6yY4qd3UPp"
      },
      "source": [
        "Or to access the coordinates:"
      ]
    },
    {
      "cell_type": "code",
      "execution_count": null,
      "metadata": {
        "id": "GUguuLhV3UPp"
      },
      "outputs": [],
      "source": [
        ""
      ]
    },
    {
      "cell_type": "markdown",
      "metadata": {
        "id": "Aa5kTa4R3UPp"
      },
      "source": [
        "And if we want to access the latitude, from the coordinates:"
      ]
    },
    {
      "cell_type": "code",
      "execution_count": null,
      "metadata": {
        "id": "0x9hWIhh3UPp"
      },
      "outputs": [],
      "source": [
        ""
      ]
    },
    {
      "cell_type": "markdown",
      "metadata": {
        "id": "siW3BUN8DY0g"
      },
      "source": [
        "---"
      ]
    },
    {
      "cell_type": "markdown",
      "source": [
        "# ⭕ **QUESTIONS?**"
      ],
      "metadata": {
        "id": "nlvaX_-4DY0g"
      }
    },
    {
      "cell_type": "markdown",
      "metadata": {
        "id": "XMUzwFHPDY0g"
      },
      "source": [
        "---"
      ]
    },
    {
      "cell_type": "markdown",
      "metadata": {
        "id": "KZjkl1l_3UPp"
      },
      "source": [
        "# Exercise 14"
      ]
    },
    {
      "cell_type": "markdown",
      "metadata": {
        "id": "hlhUwz693UPq"
      },
      "source": [
        "You are given the following data structure.\n",
        "\n",
        "```python\n",
        "data = {\n",
        "    \"Panos\": {\n",
        "        \"Job\":\"Professor\", \n",
        "        \"YOB\": \"1976\", \n",
        "        \"Children\": [\"Gregory\", \"Anna\"]\n",
        "    }, \n",
        "    \"Joe\": {\n",
        "        \"Job\":\"Data Scientist\", \n",
        "        \"YOB\": \"1981\"\n",
        "    }\n",
        "}\n",
        "```\n",
        "\n",
        "You need to write code that\n",
        "\n",
        "* Prints the job of Joe\n",
        "* Prints the year of birth of Panos; prints the age of Panos\n",
        "* Prints the children of Panos\n",
        "* Prints the second child of Panos\n",
        "* Prints the number of people _entries_ in the data. (Notice that it is much harder to find all the people in the data, eg the children)\n",
        "* Checks if Maria is in the data\n",
        "* Checks if Anna is in the data\n",
        "* Checks if Panos has children. \n",
        "* Checks if Joe has children. How can you handle the lack of the corresponding key? Would your code work when the list of children is empty, instead of missing?"
      ]
    },
    {
      "cell_type": "code",
      "execution_count": null,
      "metadata": {
        "id": "QJzo-NEJ3UPq"
      },
      "outputs": [],
      "source": [
        ""
      ]
    },
    {
      "cell_type": "markdown",
      "metadata": {
        "solution2": "shown",
        "solution2_first": true,
        "id": "SWEScggw3UPq"
      },
      "source": [
        "# Solution"
      ]
    },
    {
      "cell_type": "code",
      "execution_count": null,
      "metadata": {
        "solution2": "shown",
        "id": "G24HGvAj3UPr"
      },
      "outputs": [],
      "source": [
        ""
      ]
    },
    {
      "cell_type": "markdown",
      "metadata": {
        "id": "1sCs-sgIDecJ"
      },
      "source": [
        "---"
      ]
    },
    {
      "cell_type": "markdown",
      "source": [
        "# ⭕ **QUESTIONS?**"
      ],
      "metadata": {
        "id": "nfNhIDfUDecJ"
      }
    },
    {
      "cell_type": "markdown",
      "metadata": {
        "id": "CvSUlNR4DecJ"
      },
      "source": [
        "---"
      ]
    },
    {
      "cell_type": "markdown",
      "metadata": {
        "id": "1z_qzLde3UPr"
      },
      "source": [
        "# Idealized Method for Building a Data Application"
      ]
    },
    {
      "cell_type": "markdown",
      "metadata": {
        "id": "7UU7Yco93UPr"
      },
      "source": [
        "## Step 1) GET (Python) \n",
        "\n",
        "> Collect (GET) your raw data. \n",
        "\n",
        "## Step 2) CLEAN (Python) \n",
        "\n",
        "> Clean your raw data. \n",
        "\n",
        "## Step 3) TRANSFORM (SQL) \n",
        "\n",
        "> Turn your cleaned, raw data into structured data. \n",
        "\n",
        "## Step 4) ACTIVATE (SQL/Python) \n",
        "\n",
        "> Your data application. "
      ]
    },
    {
      "cell_type": "markdown",
      "metadata": {
        "id": "9SIz3HKN3UPr"
      },
      "source": [
        "<img src=\"attachment:Class3Image3.png\" width=600/>"
      ]
    },
    {
      "cell_type": "markdown",
      "metadata": {
        "id": "JL8KGElK3UPr"
      },
      "source": [
        "# Building a Data App: ACTIVATE\n",
        "\n",
        "1. Who is your data application's end user? \n",
        "2. What is the decision they need to make / analyze? \n",
        "- What data do they need to assist in this decision problem? \n",
        "3. How does your data application help the user's decision problem? \n",
        "- What data application type do tey need? \n",
        "- What style of data presentation do tey need? \n",
        "\n",
        "#### Note that 1 and 2 should be part of your class presentation to explain your data application's business context."
      ]
    },
    {
      "cell_type": "markdown",
      "metadata": {
        "id": "H_GgIA5K3UPs"
      },
      "source": [
        "# Basic Data Application Types\n",
        "\n",
        "- DESCRIPTIVE: Data that describes actual objects and/or (near) past events to inform business decisions. \n",
        "> E.g. Yahoo's Finance market reports for a stock or your bank statement\n",
        "- PREDICTIVE: Data that predicts the potential change in future objects and/or potential range of future events as outcomes from the possible set of specific, different business conditions and/or decisions. (Uses descriptive data as inputs into its data science models). \n",
        "> E.g. Your marketing agency's look-ahead of customer research based on different ad campaign spend levels across various channels (email, digital, TV)\n",
        "- PRESCRIPTIVE: Data that prescribes the optimal business decision based on predicted outcomes. (Uses predictive and descriptive data as inputs into its data science models). \n",
        "> E.g. Amazon's 'Frequently Bought Together' recommendation carousel or your 401K's calculator that predicts a specific future saving based on your current save rate\n",
        "\n",
        "#### Note that this class will equip you with the skills to create DESCRIPTIVE data apps"
      ]
    },
    {
      "cell_type": "markdown",
      "metadata": {
        "id": "X2SQC86e3UPs"
      },
      "source": [
        "There are multiple ways to display data, and the best way to know which way to use is to understand your user and the problem that they are looking to solve, then work backwards: \n",
        "\n",
        "#### Transform\n",
        "1. What data is needed to create the data application (dimensions/grains, facts/metrics)?\n",
        "2. Does the data need to be mapped/combined together (e.g., Combine two datasets together based on date?) \n",
        "3. Do you need to create new, calculated data points from the input data (e.g., Divide total clicks by total page views to calculate click-through rate)? \n",
        "\n",
        "#### Clean\n",
        "4. What data fields must be cleaned/prepped/fixed to ensure quality data is available for metrics calculations? \n",
        "5. What data fields must be cleaned/prepped/fixed to ensure quality data is available for mapping datasets?\n",
        "\n",
        "#### Get\n",
        "6. What trustable data fields and/or data sets do you need to create the data application? \n",
        "7. What form do the datasets need to take to enable cleaning, transforming, and activation? \n",
        "8. Where can you get that data? "
      ]
    },
    {
      "cell_type": "markdown",
      "metadata": {
        "id": "lIei9Dzx3UPs"
      },
      "source": [
        "---"
      ]
    },
    {
      "cell_type": "markdown",
      "metadata": {
        "id": "UYVa5m6I3UPs"
      },
      "source": [
        "# Group Project Method\n",
        "\n",
        "1. Start with \"GET\" – find out which public data sources interest you (if you are using your company's data, see me)\n",
        "2. Then, kick off the idezlied method"
      ]
    },
    {
      "cell_type": "markdown",
      "metadata": {
        "id": "vAuH5OWB3UPs"
      },
      "source": [
        "# Milestones\n",
        "\n",
        "Class 6 > Select your public dataset(s) and define the data app <br> \n",
        "Class 7 > Kickoff design and coding for your data app's get, clean, and transform stages <br>\n",
        "Class 8 > Kickoff design and coding for your data app's activate stage <br>\n",
        "Class 9 > Finish coding for your data pipeline and app <br>\n",
        "Class 10 > Test run your data app and its pipeline <br>\n",
        "Class 12 > Group presentations "
      ]
    },
    {
      "cell_type": "markdown",
      "metadata": {
        "id": "wBe7Vo9yDmyg"
      },
      "source": [
        "---"
      ]
    },
    {
      "cell_type": "markdown",
      "source": [
        "# ⭕ **QUESTIONS?**"
      ],
      "metadata": {
        "id": "1tp7KSLUDmyh"
      }
    },
    {
      "cell_type": "markdown",
      "metadata": {
        "id": "B65mtUcGDmyh"
      },
      "source": [
        "---"
      ]
    }
  ],
  "metadata": {
    "kernelspec": {
      "display_name": "Python 3",
      "language": "python",
      "name": "python3"
    },
    "language_info": {
      "codemirror_mode": {
        "name": "ipython",
        "version": 3
      },
      "file_extension": ".py",
      "mimetype": "text/x-python",
      "name": "python",
      "nbconvert_exporter": "python",
      "pygments_lexer": "ipython3",
      "version": "3.7.3"
    },
    "colab": {
      "name": "Class_3_unsolved.ipynb",
      "provenance": []
    }
  },
  "nbformat": 4,
  "nbformat_minor": 0
}